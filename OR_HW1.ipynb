{
 "cells": [
  {
   "attachments": {},
   "cell_type": "markdown",
   "metadata": {},
   "source": [
    "#### Packages"
   ]
  },
  {
   "cell_type": "code",
   "execution_count": 1015,
   "metadata": {},
   "outputs": [],
   "source": [
    "from gurobipy import *\n",
    "import pandas as pd\n",
    "import numpy as np\n",
    "import grblogtools as glt"
   ]
  },
  {
   "attachments": {},
   "cell_type": "markdown",
   "metadata": {},
   "source": [
    "#### Read Data"
   ]
  },
  {
   "cell_type": "code",
   "execution_count": 1016,
   "metadata": {},
   "outputs": [],
   "source": [
    "store_info = pd.read_excel('OR_hw01_data.xlsx', 'Store')\n",
    "stores = range(len(store_info['Store ID']))\n",
    "expected_daily_demand = store_info['Expected Daily Demand (unit)']\n",
    "store_xcoord = store_info['x-coordinate (km)']\n",
    "store_ycoord = store_info['y-coordinate (km)']\n",
    "\n",
    "dc_info = pd.read_excel('OR_hw01_data.xlsx', 'DC')\n",
    "dcs = range(len(dc_info['Location ID']))\n",
    "maintenance_costs = dc_info['Maintenance Cost ($/unit)']\n",
    "construction_costs = dc_info['Construction Cost ($)']\n",
    "dc_xcoord = dc_info['x-coordinate (km)']\n",
    "dc_ycoord = dc_info['y-coordinate (km)']\n",
    "dc_maxscale = dc_info['Maximum Scale (unit)']\n",
    "\n",
    "S = 1 # replenishment cost"
   ]
  },
  {
   "attachments": {},
   "cell_type": "markdown",
   "metadata": {},
   "source": [
    "#### Model 1(a): min TC (Multiple sourcing)"
   ]
  },
  {
   "cell_type": "code",
   "execution_count": 1017,
   "metadata": {},
   "outputs": [],
   "source": [
    "eg1a = Model(\"eg1a\")\n",
    "\n",
    "#-------- Add variables as a list ---------#\n",
    "# vj = 1 if a DC is built at loc j\n",
    "v = []\n",
    "for j in dcs:\n",
    "    v.append(eg1a.addVar(lb=0, vtype = GRB.BINARY, name = \"v\" + str(j+1)))\n",
    "\n",
    "# rij = the amount of products replenished by DCj to store i\n",
    "r = []\n",
    "for i in stores:\n",
    "    r.append([])\n",
    "    for j in dcs:\n",
    "        r[i].append(eg1a.addVar(lb = 0, vtype = GRB.INTEGER, name = \"r\" + str(i+1) + str(j+1)))\n",
    "        \n",
    "# Manhattan distancebetween store i and DCj on x-axis\n",
    "wx = []\n",
    "for i in stores:\n",
    "    wx.append([])\n",
    "    for j in dcs:\n",
    "        wx[i].append(eg1a.addVar(lb = 0, vtype = GRB.INTEGER, name = \"wx\" + str(i+1) + str(j+1)))\n",
    "# Manhattan distancebetween store i and DCj on y-axis\n",
    "wy = []\n",
    "for i in stores:\n",
    "    wy.append([])\n",
    "    for j in dcs:\n",
    "        wy[i].append(eg1a.addVar(lb = 0, vtype = GRB.INTEGER, name = \"wy\" + str(i+1) + str(j+1)))"
   ]
  },
  {
   "attachments": {},
   "cell_type": "markdown",
   "metadata": {},
   "source": [
    "##### Objective Fucntion"
   ]
  },
  {
   "cell_type": "code",
   "execution_count": 1018,
   "metadata": {},
   "outputs": [],
   "source": [
    "eg1a.setObjective(\n",
    "    quicksum(v[j] * construction_costs[j] for j in dcs) \\\n",
    "    + quicksum(maintenance_costs[j] * quicksum(r[i][j] for i in stores) for j in dcs) \\\n",
    "    + quicksum(quicksum(S * r[i][j] * (wx[i][j] + wy[i][j]) for j in dcs) for i in stores)\\\n",
    "    ,GRB.MINIMIZE\n",
    ")"
   ]
  },
  {
   "attachments": {},
   "cell_type": "markdown",
   "metadata": {},
   "source": [
    "##### Constraints"
   ]
  },
  {
   "cell_type": "code",
   "execution_count": 1019,
   "metadata": {},
   "outputs": [
    {
     "data": {
      "text/plain": [
       "{(0, 0): <gurobi.Constr *Awaiting Model Update*>,\n",
       " (0, 1): <gurobi.Constr *Awaiting Model Update*>,\n",
       " (0, 2): <gurobi.Constr *Awaiting Model Update*>,\n",
       " (0, 3): <gurobi.Constr *Awaiting Model Update*>,\n",
       " (0, 4): <gurobi.Constr *Awaiting Model Update*>,\n",
       " (0, 5): <gurobi.Constr *Awaiting Model Update*>,\n",
       " (0, 6): <gurobi.Constr *Awaiting Model Update*>,\n",
       " (0, 7): <gurobi.Constr *Awaiting Model Update*>,\n",
       " (0, 8): <gurobi.Constr *Awaiting Model Update*>,\n",
       " (0, 9): <gurobi.Constr *Awaiting Model Update*>,\n",
       " (0, 10): <gurobi.Constr *Awaiting Model Update*>,\n",
       " (0, 11): <gurobi.Constr *Awaiting Model Update*>,\n",
       " (0, 12): <gurobi.Constr *Awaiting Model Update*>,\n",
       " (0, 13): <gurobi.Constr *Awaiting Model Update*>,\n",
       " (0, 14): <gurobi.Constr *Awaiting Model Update*>,\n",
       " (0, 15): <gurobi.Constr *Awaiting Model Update*>,\n",
       " (0, 16): <gurobi.Constr *Awaiting Model Update*>,\n",
       " (0, 17): <gurobi.Constr *Awaiting Model Update*>,\n",
       " (0, 18): <gurobi.Constr *Awaiting Model Update*>,\n",
       " (0, 19): <gurobi.Constr *Awaiting Model Update*>,\n",
       " (0, 20): <gurobi.Constr *Awaiting Model Update*>,\n",
       " (0, 21): <gurobi.Constr *Awaiting Model Update*>,\n",
       " (0, 22): <gurobi.Constr *Awaiting Model Update*>,\n",
       " (0, 23): <gurobi.Constr *Awaiting Model Update*>,\n",
       " (0, 24): <gurobi.Constr *Awaiting Model Update*>,\n",
       " (0, 25): <gurobi.Constr *Awaiting Model Update*>,\n",
       " (0, 26): <gurobi.Constr *Awaiting Model Update*>,\n",
       " (0, 27): <gurobi.Constr *Awaiting Model Update*>,\n",
       " (0, 28): <gurobi.Constr *Awaiting Model Update*>,\n",
       " (0, 29): <gurobi.Constr *Awaiting Model Update*>,\n",
       " (0, 30): <gurobi.Constr *Awaiting Model Update*>,\n",
       " (0, 31): <gurobi.Constr *Awaiting Model Update*>,\n",
       " (0, 32): <gurobi.Constr *Awaiting Model Update*>,\n",
       " (0, 33): <gurobi.Constr *Awaiting Model Update*>,\n",
       " (0, 34): <gurobi.Constr *Awaiting Model Update*>,\n",
       " (0, 35): <gurobi.Constr *Awaiting Model Update*>,\n",
       " (0, 36): <gurobi.Constr *Awaiting Model Update*>,\n",
       " (0, 37): <gurobi.Constr *Awaiting Model Update*>,\n",
       " (0, 38): <gurobi.Constr *Awaiting Model Update*>,\n",
       " (0, 39): <gurobi.Constr *Awaiting Model Update*>,\n",
       " (0, 40): <gurobi.Constr *Awaiting Model Update*>,\n",
       " (0, 41): <gurobi.Constr *Awaiting Model Update*>,\n",
       " (0, 42): <gurobi.Constr *Awaiting Model Update*>,\n",
       " (0, 43): <gurobi.Constr *Awaiting Model Update*>,\n",
       " (0, 44): <gurobi.Constr *Awaiting Model Update*>,\n",
       " (0, 45): <gurobi.Constr *Awaiting Model Update*>,\n",
       " (0, 46): <gurobi.Constr *Awaiting Model Update*>,\n",
       " (0, 47): <gurobi.Constr *Awaiting Model Update*>,\n",
       " (0, 48): <gurobi.Constr *Awaiting Model Update*>,\n",
       " (0, 49): <gurobi.Constr *Awaiting Model Update*>,\n",
       " (0, 50): <gurobi.Constr *Awaiting Model Update*>,\n",
       " (0, 51): <gurobi.Constr *Awaiting Model Update*>,\n",
       " (0, 52): <gurobi.Constr *Awaiting Model Update*>,\n",
       " (0, 53): <gurobi.Constr *Awaiting Model Update*>,\n",
       " (0, 54): <gurobi.Constr *Awaiting Model Update*>,\n",
       " (0, 55): <gurobi.Constr *Awaiting Model Update*>,\n",
       " (0, 56): <gurobi.Constr *Awaiting Model Update*>,\n",
       " (0, 57): <gurobi.Constr *Awaiting Model Update*>,\n",
       " (0, 58): <gurobi.Constr *Awaiting Model Update*>,\n",
       " (0, 59): <gurobi.Constr *Awaiting Model Update*>,\n",
       " (0, 60): <gurobi.Constr *Awaiting Model Update*>,\n",
       " (0, 61): <gurobi.Constr *Awaiting Model Update*>,\n",
       " (0, 62): <gurobi.Constr *Awaiting Model Update*>,\n",
       " (0, 63): <gurobi.Constr *Awaiting Model Update*>,\n",
       " (0, 64): <gurobi.Constr *Awaiting Model Update*>,\n",
       " (0, 65): <gurobi.Constr *Awaiting Model Update*>,\n",
       " (0, 66): <gurobi.Constr *Awaiting Model Update*>,\n",
       " (0, 67): <gurobi.Constr *Awaiting Model Update*>,\n",
       " (0, 68): <gurobi.Constr *Awaiting Model Update*>,\n",
       " (0, 69): <gurobi.Constr *Awaiting Model Update*>,\n",
       " (0, 70): <gurobi.Constr *Awaiting Model Update*>,\n",
       " (0, 71): <gurobi.Constr *Awaiting Model Update*>,\n",
       " (0, 72): <gurobi.Constr *Awaiting Model Update*>,\n",
       " (0, 73): <gurobi.Constr *Awaiting Model Update*>,\n",
       " (0, 74): <gurobi.Constr *Awaiting Model Update*>,\n",
       " (0, 75): <gurobi.Constr *Awaiting Model Update*>,\n",
       " (0, 76): <gurobi.Constr *Awaiting Model Update*>,\n",
       " (0, 77): <gurobi.Constr *Awaiting Model Update*>,\n",
       " (0, 78): <gurobi.Constr *Awaiting Model Update*>,\n",
       " (0, 79): <gurobi.Constr *Awaiting Model Update*>,\n",
       " (0, 80): <gurobi.Constr *Awaiting Model Update*>,\n",
       " (0, 81): <gurobi.Constr *Awaiting Model Update*>,\n",
       " (0, 82): <gurobi.Constr *Awaiting Model Update*>,\n",
       " (0, 83): <gurobi.Constr *Awaiting Model Update*>,\n",
       " (0, 84): <gurobi.Constr *Awaiting Model Update*>,\n",
       " (0, 85): <gurobi.Constr *Awaiting Model Update*>,\n",
       " (0, 86): <gurobi.Constr *Awaiting Model Update*>,\n",
       " (0, 87): <gurobi.Constr *Awaiting Model Update*>,\n",
       " (0, 88): <gurobi.Constr *Awaiting Model Update*>,\n",
       " (0, 89): <gurobi.Constr *Awaiting Model Update*>,\n",
       " (0, 90): <gurobi.Constr *Awaiting Model Update*>,\n",
       " (0, 91): <gurobi.Constr *Awaiting Model Update*>,\n",
       " (0, 92): <gurobi.Constr *Awaiting Model Update*>,\n",
       " (0, 93): <gurobi.Constr *Awaiting Model Update*>,\n",
       " (0, 94): <gurobi.Constr *Awaiting Model Update*>,\n",
       " (0, 95): <gurobi.Constr *Awaiting Model Update*>,\n",
       " (0, 96): <gurobi.Constr *Awaiting Model Update*>,\n",
       " (0, 97): <gurobi.Constr *Awaiting Model Update*>,\n",
       " (0, 98): <gurobi.Constr *Awaiting Model Update*>,\n",
       " (0, 99): <gurobi.Constr *Awaiting Model Update*>,\n",
       " (1, 0): <gurobi.Constr *Awaiting Model Update*>,\n",
       " (1, 1): <gurobi.Constr *Awaiting Model Update*>,\n",
       " (1, 2): <gurobi.Constr *Awaiting Model Update*>,\n",
       " (1, 3): <gurobi.Constr *Awaiting Model Update*>,\n",
       " (1, 4): <gurobi.Constr *Awaiting Model Update*>,\n",
       " (1, 5): <gurobi.Constr *Awaiting Model Update*>,\n",
       " (1, 6): <gurobi.Constr *Awaiting Model Update*>,\n",
       " (1, 7): <gurobi.Constr *Awaiting Model Update*>,\n",
       " (1, 8): <gurobi.Constr *Awaiting Model Update*>,\n",
       " (1, 9): <gurobi.Constr *Awaiting Model Update*>,\n",
       " (1, 10): <gurobi.Constr *Awaiting Model Update*>,\n",
       " (1, 11): <gurobi.Constr *Awaiting Model Update*>,\n",
       " (1, 12): <gurobi.Constr *Awaiting Model Update*>,\n",
       " (1, 13): <gurobi.Constr *Awaiting Model Update*>,\n",
       " (1, 14): <gurobi.Constr *Awaiting Model Update*>,\n",
       " (1, 15): <gurobi.Constr *Awaiting Model Update*>,\n",
       " (1, 16): <gurobi.Constr *Awaiting Model Update*>,\n",
       " (1, 17): <gurobi.Constr *Awaiting Model Update*>,\n",
       " (1, 18): <gurobi.Constr *Awaiting Model Update*>,\n",
       " (1, 19): <gurobi.Constr *Awaiting Model Update*>,\n",
       " (1, 20): <gurobi.Constr *Awaiting Model Update*>,\n",
       " (1, 21): <gurobi.Constr *Awaiting Model Update*>,\n",
       " (1, 22): <gurobi.Constr *Awaiting Model Update*>,\n",
       " (1, 23): <gurobi.Constr *Awaiting Model Update*>,\n",
       " (1, 24): <gurobi.Constr *Awaiting Model Update*>,\n",
       " (1, 25): <gurobi.Constr *Awaiting Model Update*>,\n",
       " (1, 26): <gurobi.Constr *Awaiting Model Update*>,\n",
       " (1, 27): <gurobi.Constr *Awaiting Model Update*>,\n",
       " (1, 28): <gurobi.Constr *Awaiting Model Update*>,\n",
       " (1, 29): <gurobi.Constr *Awaiting Model Update*>,\n",
       " (1, 30): <gurobi.Constr *Awaiting Model Update*>,\n",
       " (1, 31): <gurobi.Constr *Awaiting Model Update*>,\n",
       " (1, 32): <gurobi.Constr *Awaiting Model Update*>,\n",
       " (1, 33): <gurobi.Constr *Awaiting Model Update*>,\n",
       " (1, 34): <gurobi.Constr *Awaiting Model Update*>,\n",
       " (1, 35): <gurobi.Constr *Awaiting Model Update*>,\n",
       " (1, 36): <gurobi.Constr *Awaiting Model Update*>,\n",
       " (1, 37): <gurobi.Constr *Awaiting Model Update*>,\n",
       " (1, 38): <gurobi.Constr *Awaiting Model Update*>,\n",
       " (1, 39): <gurobi.Constr *Awaiting Model Update*>,\n",
       " (1, 40): <gurobi.Constr *Awaiting Model Update*>,\n",
       " (1, 41): <gurobi.Constr *Awaiting Model Update*>,\n",
       " (1, 42): <gurobi.Constr *Awaiting Model Update*>,\n",
       " (1, 43): <gurobi.Constr *Awaiting Model Update*>,\n",
       " (1, 44): <gurobi.Constr *Awaiting Model Update*>,\n",
       " (1, 45): <gurobi.Constr *Awaiting Model Update*>,\n",
       " (1, 46): <gurobi.Constr *Awaiting Model Update*>,\n",
       " (1, 47): <gurobi.Constr *Awaiting Model Update*>,\n",
       " (1, 48): <gurobi.Constr *Awaiting Model Update*>,\n",
       " (1, 49): <gurobi.Constr *Awaiting Model Update*>,\n",
       " (1, 50): <gurobi.Constr *Awaiting Model Update*>,\n",
       " (1, 51): <gurobi.Constr *Awaiting Model Update*>,\n",
       " (1, 52): <gurobi.Constr *Awaiting Model Update*>,\n",
       " (1, 53): <gurobi.Constr *Awaiting Model Update*>,\n",
       " (1, 54): <gurobi.Constr *Awaiting Model Update*>,\n",
       " (1, 55): <gurobi.Constr *Awaiting Model Update*>,\n",
       " (1, 56): <gurobi.Constr *Awaiting Model Update*>,\n",
       " (1, 57): <gurobi.Constr *Awaiting Model Update*>,\n",
       " (1, 58): <gurobi.Constr *Awaiting Model Update*>,\n",
       " (1, 59): <gurobi.Constr *Awaiting Model Update*>,\n",
       " (1, 60): <gurobi.Constr *Awaiting Model Update*>,\n",
       " (1, 61): <gurobi.Constr *Awaiting Model Update*>,\n",
       " (1, 62): <gurobi.Constr *Awaiting Model Update*>,\n",
       " (1, 63): <gurobi.Constr *Awaiting Model Update*>,\n",
       " (1, 64): <gurobi.Constr *Awaiting Model Update*>,\n",
       " (1, 65): <gurobi.Constr *Awaiting Model Update*>,\n",
       " (1, 66): <gurobi.Constr *Awaiting Model Update*>,\n",
       " (1, 67): <gurobi.Constr *Awaiting Model Update*>,\n",
       " (1, 68): <gurobi.Constr *Awaiting Model Update*>,\n",
       " (1, 69): <gurobi.Constr *Awaiting Model Update*>,\n",
       " (1, 70): <gurobi.Constr *Awaiting Model Update*>,\n",
       " (1, 71): <gurobi.Constr *Awaiting Model Update*>,\n",
       " (1, 72): <gurobi.Constr *Awaiting Model Update*>,\n",
       " (1, 73): <gurobi.Constr *Awaiting Model Update*>,\n",
       " (1, 74): <gurobi.Constr *Awaiting Model Update*>,\n",
       " (1, 75): <gurobi.Constr *Awaiting Model Update*>,\n",
       " (1, 76): <gurobi.Constr *Awaiting Model Update*>,\n",
       " (1, 77): <gurobi.Constr *Awaiting Model Update*>,\n",
       " (1, 78): <gurobi.Constr *Awaiting Model Update*>,\n",
       " (1, 79): <gurobi.Constr *Awaiting Model Update*>,\n",
       " (1, 80): <gurobi.Constr *Awaiting Model Update*>,\n",
       " (1, 81): <gurobi.Constr *Awaiting Model Update*>,\n",
       " (1, 82): <gurobi.Constr *Awaiting Model Update*>,\n",
       " (1, 83): <gurobi.Constr *Awaiting Model Update*>,\n",
       " (1, 84): <gurobi.Constr *Awaiting Model Update*>,\n",
       " (1, 85): <gurobi.Constr *Awaiting Model Update*>,\n",
       " (1, 86): <gurobi.Constr *Awaiting Model Update*>,\n",
       " (1, 87): <gurobi.Constr *Awaiting Model Update*>,\n",
       " (1, 88): <gurobi.Constr *Awaiting Model Update*>,\n",
       " (1, 89): <gurobi.Constr *Awaiting Model Update*>,\n",
       " (1, 90): <gurobi.Constr *Awaiting Model Update*>,\n",
       " (1, 91): <gurobi.Constr *Awaiting Model Update*>,\n",
       " (1, 92): <gurobi.Constr *Awaiting Model Update*>,\n",
       " (1, 93): <gurobi.Constr *Awaiting Model Update*>,\n",
       " (1, 94): <gurobi.Constr *Awaiting Model Update*>,\n",
       " (1, 95): <gurobi.Constr *Awaiting Model Update*>,\n",
       " (1, 96): <gurobi.Constr *Awaiting Model Update*>,\n",
       " (1, 97): <gurobi.Constr *Awaiting Model Update*>,\n",
       " (1, 98): <gurobi.Constr *Awaiting Model Update*>,\n",
       " (1, 99): <gurobi.Constr *Awaiting Model Update*>,\n",
       " (2, 0): <gurobi.Constr *Awaiting Model Update*>,\n",
       " (2, 1): <gurobi.Constr *Awaiting Model Update*>,\n",
       " (2, 2): <gurobi.Constr *Awaiting Model Update*>,\n",
       " (2, 3): <gurobi.Constr *Awaiting Model Update*>,\n",
       " (2, 4): <gurobi.Constr *Awaiting Model Update*>,\n",
       " (2, 5): <gurobi.Constr *Awaiting Model Update*>,\n",
       " (2, 6): <gurobi.Constr *Awaiting Model Update*>,\n",
       " (2, 7): <gurobi.Constr *Awaiting Model Update*>,\n",
       " (2, 8): <gurobi.Constr *Awaiting Model Update*>,\n",
       " (2, 9): <gurobi.Constr *Awaiting Model Update*>,\n",
       " (2, 10): <gurobi.Constr *Awaiting Model Update*>,\n",
       " (2, 11): <gurobi.Constr *Awaiting Model Update*>,\n",
       " (2, 12): <gurobi.Constr *Awaiting Model Update*>,\n",
       " (2, 13): <gurobi.Constr *Awaiting Model Update*>,\n",
       " (2, 14): <gurobi.Constr *Awaiting Model Update*>,\n",
       " (2, 15): <gurobi.Constr *Awaiting Model Update*>,\n",
       " (2, 16): <gurobi.Constr *Awaiting Model Update*>,\n",
       " (2, 17): <gurobi.Constr *Awaiting Model Update*>,\n",
       " (2, 18): <gurobi.Constr *Awaiting Model Update*>,\n",
       " (2, 19): <gurobi.Constr *Awaiting Model Update*>,\n",
       " (2, 20): <gurobi.Constr *Awaiting Model Update*>,\n",
       " (2, 21): <gurobi.Constr *Awaiting Model Update*>,\n",
       " (2, 22): <gurobi.Constr *Awaiting Model Update*>,\n",
       " (2, 23): <gurobi.Constr *Awaiting Model Update*>,\n",
       " (2, 24): <gurobi.Constr *Awaiting Model Update*>,\n",
       " (2, 25): <gurobi.Constr *Awaiting Model Update*>,\n",
       " (2, 26): <gurobi.Constr *Awaiting Model Update*>,\n",
       " (2, 27): <gurobi.Constr *Awaiting Model Update*>,\n",
       " (2, 28): <gurobi.Constr *Awaiting Model Update*>,\n",
       " (2, 29): <gurobi.Constr *Awaiting Model Update*>,\n",
       " (2, 30): <gurobi.Constr *Awaiting Model Update*>,\n",
       " (2, 31): <gurobi.Constr *Awaiting Model Update*>,\n",
       " (2, 32): <gurobi.Constr *Awaiting Model Update*>,\n",
       " (2, 33): <gurobi.Constr *Awaiting Model Update*>,\n",
       " (2, 34): <gurobi.Constr *Awaiting Model Update*>,\n",
       " (2, 35): <gurobi.Constr *Awaiting Model Update*>,\n",
       " (2, 36): <gurobi.Constr *Awaiting Model Update*>,\n",
       " (2, 37): <gurobi.Constr *Awaiting Model Update*>,\n",
       " (2, 38): <gurobi.Constr *Awaiting Model Update*>,\n",
       " (2, 39): <gurobi.Constr *Awaiting Model Update*>,\n",
       " (2, 40): <gurobi.Constr *Awaiting Model Update*>,\n",
       " (2, 41): <gurobi.Constr *Awaiting Model Update*>,\n",
       " (2, 42): <gurobi.Constr *Awaiting Model Update*>,\n",
       " (2, 43): <gurobi.Constr *Awaiting Model Update*>,\n",
       " (2, 44): <gurobi.Constr *Awaiting Model Update*>,\n",
       " (2, 45): <gurobi.Constr *Awaiting Model Update*>,\n",
       " (2, 46): <gurobi.Constr *Awaiting Model Update*>,\n",
       " (2, 47): <gurobi.Constr *Awaiting Model Update*>,\n",
       " (2, 48): <gurobi.Constr *Awaiting Model Update*>,\n",
       " (2, 49): <gurobi.Constr *Awaiting Model Update*>,\n",
       " (2, 50): <gurobi.Constr *Awaiting Model Update*>,\n",
       " (2, 51): <gurobi.Constr *Awaiting Model Update*>,\n",
       " (2, 52): <gurobi.Constr *Awaiting Model Update*>,\n",
       " (2, 53): <gurobi.Constr *Awaiting Model Update*>,\n",
       " (2, 54): <gurobi.Constr *Awaiting Model Update*>,\n",
       " (2, 55): <gurobi.Constr *Awaiting Model Update*>,\n",
       " (2, 56): <gurobi.Constr *Awaiting Model Update*>,\n",
       " (2, 57): <gurobi.Constr *Awaiting Model Update*>,\n",
       " (2, 58): <gurobi.Constr *Awaiting Model Update*>,\n",
       " (2, 59): <gurobi.Constr *Awaiting Model Update*>,\n",
       " (2, 60): <gurobi.Constr *Awaiting Model Update*>,\n",
       " (2, 61): <gurobi.Constr *Awaiting Model Update*>,\n",
       " (2, 62): <gurobi.Constr *Awaiting Model Update*>,\n",
       " (2, 63): <gurobi.Constr *Awaiting Model Update*>,\n",
       " (2, 64): <gurobi.Constr *Awaiting Model Update*>,\n",
       " (2, 65): <gurobi.Constr *Awaiting Model Update*>,\n",
       " (2, 66): <gurobi.Constr *Awaiting Model Update*>,\n",
       " (2, 67): <gurobi.Constr *Awaiting Model Update*>,\n",
       " (2, 68): <gurobi.Constr *Awaiting Model Update*>,\n",
       " (2, 69): <gurobi.Constr *Awaiting Model Update*>,\n",
       " (2, 70): <gurobi.Constr *Awaiting Model Update*>,\n",
       " (2, 71): <gurobi.Constr *Awaiting Model Update*>,\n",
       " (2, 72): <gurobi.Constr *Awaiting Model Update*>,\n",
       " (2, 73): <gurobi.Constr *Awaiting Model Update*>,\n",
       " (2, 74): <gurobi.Constr *Awaiting Model Update*>,\n",
       " (2, 75): <gurobi.Constr *Awaiting Model Update*>,\n",
       " (2, 76): <gurobi.Constr *Awaiting Model Update*>,\n",
       " (2, 77): <gurobi.Constr *Awaiting Model Update*>,\n",
       " (2, 78): <gurobi.Constr *Awaiting Model Update*>,\n",
       " (2, 79): <gurobi.Constr *Awaiting Model Update*>,\n",
       " (2, 80): <gurobi.Constr *Awaiting Model Update*>,\n",
       " (2, 81): <gurobi.Constr *Awaiting Model Update*>,\n",
       " (2, 82): <gurobi.Constr *Awaiting Model Update*>,\n",
       " (2, 83): <gurobi.Constr *Awaiting Model Update*>,\n",
       " (2, 84): <gurobi.Constr *Awaiting Model Update*>,\n",
       " (2, 85): <gurobi.Constr *Awaiting Model Update*>,\n",
       " (2, 86): <gurobi.Constr *Awaiting Model Update*>,\n",
       " (2, 87): <gurobi.Constr *Awaiting Model Update*>,\n",
       " (2, 88): <gurobi.Constr *Awaiting Model Update*>,\n",
       " (2, 89): <gurobi.Constr *Awaiting Model Update*>,\n",
       " (2, 90): <gurobi.Constr *Awaiting Model Update*>,\n",
       " (2, 91): <gurobi.Constr *Awaiting Model Update*>,\n",
       " (2, 92): <gurobi.Constr *Awaiting Model Update*>,\n",
       " (2, 93): <gurobi.Constr *Awaiting Model Update*>,\n",
       " (2, 94): <gurobi.Constr *Awaiting Model Update*>,\n",
       " (2, 95): <gurobi.Constr *Awaiting Model Update*>,\n",
       " (2, 96): <gurobi.Constr *Awaiting Model Update*>,\n",
       " (2, 97): <gurobi.Constr *Awaiting Model Update*>,\n",
       " (2, 98): <gurobi.Constr *Awaiting Model Update*>,\n",
       " (2, 99): <gurobi.Constr *Awaiting Model Update*>,\n",
       " (3, 0): <gurobi.Constr *Awaiting Model Update*>,\n",
       " (3, 1): <gurobi.Constr *Awaiting Model Update*>,\n",
       " (3, 2): <gurobi.Constr *Awaiting Model Update*>,\n",
       " (3, 3): <gurobi.Constr *Awaiting Model Update*>,\n",
       " (3, 4): <gurobi.Constr *Awaiting Model Update*>,\n",
       " (3, 5): <gurobi.Constr *Awaiting Model Update*>,\n",
       " (3, 6): <gurobi.Constr *Awaiting Model Update*>,\n",
       " (3, 7): <gurobi.Constr *Awaiting Model Update*>,\n",
       " (3, 8): <gurobi.Constr *Awaiting Model Update*>,\n",
       " (3, 9): <gurobi.Constr *Awaiting Model Update*>,\n",
       " (3, 10): <gurobi.Constr *Awaiting Model Update*>,\n",
       " (3, 11): <gurobi.Constr *Awaiting Model Update*>,\n",
       " (3, 12): <gurobi.Constr *Awaiting Model Update*>,\n",
       " (3, 13): <gurobi.Constr *Awaiting Model Update*>,\n",
       " (3, 14): <gurobi.Constr *Awaiting Model Update*>,\n",
       " (3, 15): <gurobi.Constr *Awaiting Model Update*>,\n",
       " (3, 16): <gurobi.Constr *Awaiting Model Update*>,\n",
       " (3, 17): <gurobi.Constr *Awaiting Model Update*>,\n",
       " (3, 18): <gurobi.Constr *Awaiting Model Update*>,\n",
       " (3, 19): <gurobi.Constr *Awaiting Model Update*>,\n",
       " (3, 20): <gurobi.Constr *Awaiting Model Update*>,\n",
       " (3, 21): <gurobi.Constr *Awaiting Model Update*>,\n",
       " (3, 22): <gurobi.Constr *Awaiting Model Update*>,\n",
       " (3, 23): <gurobi.Constr *Awaiting Model Update*>,\n",
       " (3, 24): <gurobi.Constr *Awaiting Model Update*>,\n",
       " (3, 25): <gurobi.Constr *Awaiting Model Update*>,\n",
       " (3, 26): <gurobi.Constr *Awaiting Model Update*>,\n",
       " (3, 27): <gurobi.Constr *Awaiting Model Update*>,\n",
       " (3, 28): <gurobi.Constr *Awaiting Model Update*>,\n",
       " (3, 29): <gurobi.Constr *Awaiting Model Update*>,\n",
       " (3, 30): <gurobi.Constr *Awaiting Model Update*>,\n",
       " (3, 31): <gurobi.Constr *Awaiting Model Update*>,\n",
       " (3, 32): <gurobi.Constr *Awaiting Model Update*>,\n",
       " (3, 33): <gurobi.Constr *Awaiting Model Update*>,\n",
       " (3, 34): <gurobi.Constr *Awaiting Model Update*>,\n",
       " (3, 35): <gurobi.Constr *Awaiting Model Update*>,\n",
       " (3, 36): <gurobi.Constr *Awaiting Model Update*>,\n",
       " (3, 37): <gurobi.Constr *Awaiting Model Update*>,\n",
       " (3, 38): <gurobi.Constr *Awaiting Model Update*>,\n",
       " (3, 39): <gurobi.Constr *Awaiting Model Update*>,\n",
       " (3, 40): <gurobi.Constr *Awaiting Model Update*>,\n",
       " (3, 41): <gurobi.Constr *Awaiting Model Update*>,\n",
       " (3, 42): <gurobi.Constr *Awaiting Model Update*>,\n",
       " (3, 43): <gurobi.Constr *Awaiting Model Update*>,\n",
       " (3, 44): <gurobi.Constr *Awaiting Model Update*>,\n",
       " (3, 45): <gurobi.Constr *Awaiting Model Update*>,\n",
       " (3, 46): <gurobi.Constr *Awaiting Model Update*>,\n",
       " (3, 47): <gurobi.Constr *Awaiting Model Update*>,\n",
       " (3, 48): <gurobi.Constr *Awaiting Model Update*>,\n",
       " (3, 49): <gurobi.Constr *Awaiting Model Update*>,\n",
       " (3, 50): <gurobi.Constr *Awaiting Model Update*>,\n",
       " (3, 51): <gurobi.Constr *Awaiting Model Update*>,\n",
       " (3, 52): <gurobi.Constr *Awaiting Model Update*>,\n",
       " (3, 53): <gurobi.Constr *Awaiting Model Update*>,\n",
       " (3, 54): <gurobi.Constr *Awaiting Model Update*>,\n",
       " (3, 55): <gurobi.Constr *Awaiting Model Update*>,\n",
       " (3, 56): <gurobi.Constr *Awaiting Model Update*>,\n",
       " (3, 57): <gurobi.Constr *Awaiting Model Update*>,\n",
       " (3, 58): <gurobi.Constr *Awaiting Model Update*>,\n",
       " (3, 59): <gurobi.Constr *Awaiting Model Update*>,\n",
       " (3, 60): <gurobi.Constr *Awaiting Model Update*>,\n",
       " (3, 61): <gurobi.Constr *Awaiting Model Update*>,\n",
       " (3, 62): <gurobi.Constr *Awaiting Model Update*>,\n",
       " (3, 63): <gurobi.Constr *Awaiting Model Update*>,\n",
       " (3, 64): <gurobi.Constr *Awaiting Model Update*>,\n",
       " (3, 65): <gurobi.Constr *Awaiting Model Update*>,\n",
       " (3, 66): <gurobi.Constr *Awaiting Model Update*>,\n",
       " (3, 67): <gurobi.Constr *Awaiting Model Update*>,\n",
       " (3, 68): <gurobi.Constr *Awaiting Model Update*>,\n",
       " (3, 69): <gurobi.Constr *Awaiting Model Update*>,\n",
       " (3, 70): <gurobi.Constr *Awaiting Model Update*>,\n",
       " (3, 71): <gurobi.Constr *Awaiting Model Update*>,\n",
       " (3, 72): <gurobi.Constr *Awaiting Model Update*>,\n",
       " (3, 73): <gurobi.Constr *Awaiting Model Update*>,\n",
       " (3, 74): <gurobi.Constr *Awaiting Model Update*>,\n",
       " (3, 75): <gurobi.Constr *Awaiting Model Update*>,\n",
       " (3, 76): <gurobi.Constr *Awaiting Model Update*>,\n",
       " (3, 77): <gurobi.Constr *Awaiting Model Update*>,\n",
       " (3, 78): <gurobi.Constr *Awaiting Model Update*>,\n",
       " (3, 79): <gurobi.Constr *Awaiting Model Update*>,\n",
       " (3, 80): <gurobi.Constr *Awaiting Model Update*>,\n",
       " (3, 81): <gurobi.Constr *Awaiting Model Update*>,\n",
       " (3, 82): <gurobi.Constr *Awaiting Model Update*>,\n",
       " (3, 83): <gurobi.Constr *Awaiting Model Update*>,\n",
       " (3, 84): <gurobi.Constr *Awaiting Model Update*>,\n",
       " (3, 85): <gurobi.Constr *Awaiting Model Update*>,\n",
       " (3, 86): <gurobi.Constr *Awaiting Model Update*>,\n",
       " (3, 87): <gurobi.Constr *Awaiting Model Update*>,\n",
       " (3, 88): <gurobi.Constr *Awaiting Model Update*>,\n",
       " (3, 89): <gurobi.Constr *Awaiting Model Update*>,\n",
       " (3, 90): <gurobi.Constr *Awaiting Model Update*>,\n",
       " (3, 91): <gurobi.Constr *Awaiting Model Update*>,\n",
       " (3, 92): <gurobi.Constr *Awaiting Model Update*>,\n",
       " (3, 93): <gurobi.Constr *Awaiting Model Update*>,\n",
       " (3, 94): <gurobi.Constr *Awaiting Model Update*>,\n",
       " (3, 95): <gurobi.Constr *Awaiting Model Update*>,\n",
       " (3, 96): <gurobi.Constr *Awaiting Model Update*>,\n",
       " (3, 97): <gurobi.Constr *Awaiting Model Update*>,\n",
       " (3, 98): <gurobi.Constr *Awaiting Model Update*>,\n",
       " (3, 99): <gurobi.Constr *Awaiting Model Update*>,\n",
       " (4, 0): <gurobi.Constr *Awaiting Model Update*>,\n",
       " (4, 1): <gurobi.Constr *Awaiting Model Update*>,\n",
       " (4, 2): <gurobi.Constr *Awaiting Model Update*>,\n",
       " (4, 3): <gurobi.Constr *Awaiting Model Update*>,\n",
       " (4, 4): <gurobi.Constr *Awaiting Model Update*>,\n",
       " (4, 5): <gurobi.Constr *Awaiting Model Update*>,\n",
       " (4, 6): <gurobi.Constr *Awaiting Model Update*>,\n",
       " (4, 7): <gurobi.Constr *Awaiting Model Update*>,\n",
       " (4, 8): <gurobi.Constr *Awaiting Model Update*>,\n",
       " (4, 9): <gurobi.Constr *Awaiting Model Update*>,\n",
       " (4, 10): <gurobi.Constr *Awaiting Model Update*>,\n",
       " (4, 11): <gurobi.Constr *Awaiting Model Update*>,\n",
       " (4, 12): <gurobi.Constr *Awaiting Model Update*>,\n",
       " (4, 13): <gurobi.Constr *Awaiting Model Update*>,\n",
       " (4, 14): <gurobi.Constr *Awaiting Model Update*>,\n",
       " (4, 15): <gurobi.Constr *Awaiting Model Update*>,\n",
       " (4, 16): <gurobi.Constr *Awaiting Model Update*>,\n",
       " (4, 17): <gurobi.Constr *Awaiting Model Update*>,\n",
       " (4, 18): <gurobi.Constr *Awaiting Model Update*>,\n",
       " (4, 19): <gurobi.Constr *Awaiting Model Update*>,\n",
       " (4, 20): <gurobi.Constr *Awaiting Model Update*>,\n",
       " (4, 21): <gurobi.Constr *Awaiting Model Update*>,\n",
       " (4, 22): <gurobi.Constr *Awaiting Model Update*>,\n",
       " (4, 23): <gurobi.Constr *Awaiting Model Update*>,\n",
       " (4, 24): <gurobi.Constr *Awaiting Model Update*>,\n",
       " (4, 25): <gurobi.Constr *Awaiting Model Update*>,\n",
       " (4, 26): <gurobi.Constr *Awaiting Model Update*>,\n",
       " (4, 27): <gurobi.Constr *Awaiting Model Update*>,\n",
       " (4, 28): <gurobi.Constr *Awaiting Model Update*>,\n",
       " (4, 29): <gurobi.Constr *Awaiting Model Update*>,\n",
       " (4, 30): <gurobi.Constr *Awaiting Model Update*>,\n",
       " (4, 31): <gurobi.Constr *Awaiting Model Update*>,\n",
       " (4, 32): <gurobi.Constr *Awaiting Model Update*>,\n",
       " (4, 33): <gurobi.Constr *Awaiting Model Update*>,\n",
       " (4, 34): <gurobi.Constr *Awaiting Model Update*>,\n",
       " (4, 35): <gurobi.Constr *Awaiting Model Update*>,\n",
       " (4, 36): <gurobi.Constr *Awaiting Model Update*>,\n",
       " (4, 37): <gurobi.Constr *Awaiting Model Update*>,\n",
       " (4, 38): <gurobi.Constr *Awaiting Model Update*>,\n",
       " (4, 39): <gurobi.Constr *Awaiting Model Update*>,\n",
       " (4, 40): <gurobi.Constr *Awaiting Model Update*>,\n",
       " (4, 41): <gurobi.Constr *Awaiting Model Update*>,\n",
       " (4, 42): <gurobi.Constr *Awaiting Model Update*>,\n",
       " (4, 43): <gurobi.Constr *Awaiting Model Update*>,\n",
       " (4, 44): <gurobi.Constr *Awaiting Model Update*>,\n",
       " (4, 45): <gurobi.Constr *Awaiting Model Update*>,\n",
       " (4, 46): <gurobi.Constr *Awaiting Model Update*>,\n",
       " (4, 47): <gurobi.Constr *Awaiting Model Update*>,\n",
       " (4, 48): <gurobi.Constr *Awaiting Model Update*>,\n",
       " (4, 49): <gurobi.Constr *Awaiting Model Update*>,\n",
       " (4, 50): <gurobi.Constr *Awaiting Model Update*>,\n",
       " (4, 51): <gurobi.Constr *Awaiting Model Update*>,\n",
       " (4, 52): <gurobi.Constr *Awaiting Model Update*>,\n",
       " (4, 53): <gurobi.Constr *Awaiting Model Update*>,\n",
       " (4, 54): <gurobi.Constr *Awaiting Model Update*>,\n",
       " (4, 55): <gurobi.Constr *Awaiting Model Update*>,\n",
       " (4, 56): <gurobi.Constr *Awaiting Model Update*>,\n",
       " (4, 57): <gurobi.Constr *Awaiting Model Update*>,\n",
       " (4, 58): <gurobi.Constr *Awaiting Model Update*>,\n",
       " (4, 59): <gurobi.Constr *Awaiting Model Update*>,\n",
       " (4, 60): <gurobi.Constr *Awaiting Model Update*>,\n",
       " (4, 61): <gurobi.Constr *Awaiting Model Update*>,\n",
       " (4, 62): <gurobi.Constr *Awaiting Model Update*>,\n",
       " (4, 63): <gurobi.Constr *Awaiting Model Update*>,\n",
       " (4, 64): <gurobi.Constr *Awaiting Model Update*>,\n",
       " (4, 65): <gurobi.Constr *Awaiting Model Update*>,\n",
       " (4, 66): <gurobi.Constr *Awaiting Model Update*>,\n",
       " (4, 67): <gurobi.Constr *Awaiting Model Update*>,\n",
       " (4, 68): <gurobi.Constr *Awaiting Model Update*>,\n",
       " (4, 69): <gurobi.Constr *Awaiting Model Update*>,\n",
       " (4, 70): <gurobi.Constr *Awaiting Model Update*>,\n",
       " (4, 71): <gurobi.Constr *Awaiting Model Update*>,\n",
       " (4, 72): <gurobi.Constr *Awaiting Model Update*>,\n",
       " (4, 73): <gurobi.Constr *Awaiting Model Update*>,\n",
       " (4, 74): <gurobi.Constr *Awaiting Model Update*>,\n",
       " (4, 75): <gurobi.Constr *Awaiting Model Update*>,\n",
       " (4, 76): <gurobi.Constr *Awaiting Model Update*>,\n",
       " (4, 77): <gurobi.Constr *Awaiting Model Update*>,\n",
       " (4, 78): <gurobi.Constr *Awaiting Model Update*>,\n",
       " (4, 79): <gurobi.Constr *Awaiting Model Update*>,\n",
       " (4, 80): <gurobi.Constr *Awaiting Model Update*>,\n",
       " (4, 81): <gurobi.Constr *Awaiting Model Update*>,\n",
       " (4, 82): <gurobi.Constr *Awaiting Model Update*>,\n",
       " (4, 83): <gurobi.Constr *Awaiting Model Update*>,\n",
       " (4, 84): <gurobi.Constr *Awaiting Model Update*>,\n",
       " (4, 85): <gurobi.Constr *Awaiting Model Update*>,\n",
       " (4, 86): <gurobi.Constr *Awaiting Model Update*>,\n",
       " (4, 87): <gurobi.Constr *Awaiting Model Update*>,\n",
       " (4, 88): <gurobi.Constr *Awaiting Model Update*>,\n",
       " (4, 89): <gurobi.Constr *Awaiting Model Update*>,\n",
       " (4, 90): <gurobi.Constr *Awaiting Model Update*>,\n",
       " (4, 91): <gurobi.Constr *Awaiting Model Update*>,\n",
       " (4, 92): <gurobi.Constr *Awaiting Model Update*>,\n",
       " (4, 93): <gurobi.Constr *Awaiting Model Update*>,\n",
       " (4, 94): <gurobi.Constr *Awaiting Model Update*>,\n",
       " (4, 95): <gurobi.Constr *Awaiting Model Update*>,\n",
       " (4, 96): <gurobi.Constr *Awaiting Model Update*>,\n",
       " (4, 97): <gurobi.Constr *Awaiting Model Update*>,\n",
       " (4, 98): <gurobi.Constr *Awaiting Model Update*>,\n",
       " (4, 99): <gurobi.Constr *Awaiting Model Update*>,\n",
       " (5, 0): <gurobi.Constr *Awaiting Model Update*>,\n",
       " (5, 1): <gurobi.Constr *Awaiting Model Update*>,\n",
       " (5, 2): <gurobi.Constr *Awaiting Model Update*>,\n",
       " (5, 3): <gurobi.Constr *Awaiting Model Update*>,\n",
       " (5, 4): <gurobi.Constr *Awaiting Model Update*>,\n",
       " (5, 5): <gurobi.Constr *Awaiting Model Update*>,\n",
       " (5, 6): <gurobi.Constr *Awaiting Model Update*>,\n",
       " (5, 7): <gurobi.Constr *Awaiting Model Update*>,\n",
       " (5, 8): <gurobi.Constr *Awaiting Model Update*>,\n",
       " (5, 9): <gurobi.Constr *Awaiting Model Update*>,\n",
       " (5, 10): <gurobi.Constr *Awaiting Model Update*>,\n",
       " (5, 11): <gurobi.Constr *Awaiting Model Update*>,\n",
       " (5, 12): <gurobi.Constr *Awaiting Model Update*>,\n",
       " (5, 13): <gurobi.Constr *Awaiting Model Update*>,\n",
       " (5, 14): <gurobi.Constr *Awaiting Model Update*>,\n",
       " (5, 15): <gurobi.Constr *Awaiting Model Update*>,\n",
       " (5, 16): <gurobi.Constr *Awaiting Model Update*>,\n",
       " (5, 17): <gurobi.Constr *Awaiting Model Update*>,\n",
       " (5, 18): <gurobi.Constr *Awaiting Model Update*>,\n",
       " (5, 19): <gurobi.Constr *Awaiting Model Update*>,\n",
       " (5, 20): <gurobi.Constr *Awaiting Model Update*>,\n",
       " (5, 21): <gurobi.Constr *Awaiting Model Update*>,\n",
       " (5, 22): <gurobi.Constr *Awaiting Model Update*>,\n",
       " (5, 23): <gurobi.Constr *Awaiting Model Update*>,\n",
       " (5, 24): <gurobi.Constr *Awaiting Model Update*>,\n",
       " (5, 25): <gurobi.Constr *Awaiting Model Update*>,\n",
       " (5, 26): <gurobi.Constr *Awaiting Model Update*>,\n",
       " (5, 27): <gurobi.Constr *Awaiting Model Update*>,\n",
       " (5, 28): <gurobi.Constr *Awaiting Model Update*>,\n",
       " (5, 29): <gurobi.Constr *Awaiting Model Update*>,\n",
       " (5, 30): <gurobi.Constr *Awaiting Model Update*>,\n",
       " (5, 31): <gurobi.Constr *Awaiting Model Update*>,\n",
       " (5, 32): <gurobi.Constr *Awaiting Model Update*>,\n",
       " (5, 33): <gurobi.Constr *Awaiting Model Update*>,\n",
       " (5, 34): <gurobi.Constr *Awaiting Model Update*>,\n",
       " (5, 35): <gurobi.Constr *Awaiting Model Update*>,\n",
       " (5, 36): <gurobi.Constr *Awaiting Model Update*>,\n",
       " (5, 37): <gurobi.Constr *Awaiting Model Update*>,\n",
       " (5, 38): <gurobi.Constr *Awaiting Model Update*>,\n",
       " (5, 39): <gurobi.Constr *Awaiting Model Update*>,\n",
       " (5, 40): <gurobi.Constr *Awaiting Model Update*>,\n",
       " (5, 41): <gurobi.Constr *Awaiting Model Update*>,\n",
       " (5, 42): <gurobi.Constr *Awaiting Model Update*>,\n",
       " (5, 43): <gurobi.Constr *Awaiting Model Update*>,\n",
       " (5, 44): <gurobi.Constr *Awaiting Model Update*>,\n",
       " (5, 45): <gurobi.Constr *Awaiting Model Update*>,\n",
       " (5, 46): <gurobi.Constr *Awaiting Model Update*>,\n",
       " (5, 47): <gurobi.Constr *Awaiting Model Update*>,\n",
       " (5, 48): <gurobi.Constr *Awaiting Model Update*>,\n",
       " (5, 49): <gurobi.Constr *Awaiting Model Update*>,\n",
       " (5, 50): <gurobi.Constr *Awaiting Model Update*>,\n",
       " (5, 51): <gurobi.Constr *Awaiting Model Update*>,\n",
       " (5, 52): <gurobi.Constr *Awaiting Model Update*>,\n",
       " (5, 53): <gurobi.Constr *Awaiting Model Update*>,\n",
       " (5, 54): <gurobi.Constr *Awaiting Model Update*>,\n",
       " (5, 55): <gurobi.Constr *Awaiting Model Update*>,\n",
       " (5, 56): <gurobi.Constr *Awaiting Model Update*>,\n",
       " (5, 57): <gurobi.Constr *Awaiting Model Update*>,\n",
       " (5, 58): <gurobi.Constr *Awaiting Model Update*>,\n",
       " (5, 59): <gurobi.Constr *Awaiting Model Update*>,\n",
       " (5, 60): <gurobi.Constr *Awaiting Model Update*>,\n",
       " (5, 61): <gurobi.Constr *Awaiting Model Update*>,\n",
       " (5, 62): <gurobi.Constr *Awaiting Model Update*>,\n",
       " (5, 63): <gurobi.Constr *Awaiting Model Update*>,\n",
       " (5, 64): <gurobi.Constr *Awaiting Model Update*>,\n",
       " (5, 65): <gurobi.Constr *Awaiting Model Update*>,\n",
       " (5, 66): <gurobi.Constr *Awaiting Model Update*>,\n",
       " (5, 67): <gurobi.Constr *Awaiting Model Update*>,\n",
       " (5, 68): <gurobi.Constr *Awaiting Model Update*>,\n",
       " (5, 69): <gurobi.Constr *Awaiting Model Update*>,\n",
       " (5, 70): <gurobi.Constr *Awaiting Model Update*>,\n",
       " (5, 71): <gurobi.Constr *Awaiting Model Update*>,\n",
       " (5, 72): <gurobi.Constr *Awaiting Model Update*>,\n",
       " (5, 73): <gurobi.Constr *Awaiting Model Update*>,\n",
       " (5, 74): <gurobi.Constr *Awaiting Model Update*>,\n",
       " (5, 75): <gurobi.Constr *Awaiting Model Update*>,\n",
       " (5, 76): <gurobi.Constr *Awaiting Model Update*>,\n",
       " (5, 77): <gurobi.Constr *Awaiting Model Update*>,\n",
       " (5, 78): <gurobi.Constr *Awaiting Model Update*>,\n",
       " (5, 79): <gurobi.Constr *Awaiting Model Update*>,\n",
       " (5, 80): <gurobi.Constr *Awaiting Model Update*>,\n",
       " (5, 81): <gurobi.Constr *Awaiting Model Update*>,\n",
       " (5, 82): <gurobi.Constr *Awaiting Model Update*>,\n",
       " (5, 83): <gurobi.Constr *Awaiting Model Update*>,\n",
       " (5, 84): <gurobi.Constr *Awaiting Model Update*>,\n",
       " (5, 85): <gurobi.Constr *Awaiting Model Update*>,\n",
       " (5, 86): <gurobi.Constr *Awaiting Model Update*>,\n",
       " (5, 87): <gurobi.Constr *Awaiting Model Update*>,\n",
       " (5, 88): <gurobi.Constr *Awaiting Model Update*>,\n",
       " (5, 89): <gurobi.Constr *Awaiting Model Update*>,\n",
       " (5, 90): <gurobi.Constr *Awaiting Model Update*>,\n",
       " (5, 91): <gurobi.Constr *Awaiting Model Update*>,\n",
       " (5, 92): <gurobi.Constr *Awaiting Model Update*>,\n",
       " (5, 93): <gurobi.Constr *Awaiting Model Update*>,\n",
       " (5, 94): <gurobi.Constr *Awaiting Model Update*>,\n",
       " (5, 95): <gurobi.Constr *Awaiting Model Update*>,\n",
       " (5, 96): <gurobi.Constr *Awaiting Model Update*>,\n",
       " (5, 97): <gurobi.Constr *Awaiting Model Update*>,\n",
       " (5, 98): <gurobi.Constr *Awaiting Model Update*>,\n",
       " (5, 99): <gurobi.Constr *Awaiting Model Update*>,\n",
       " (6, 0): <gurobi.Constr *Awaiting Model Update*>,\n",
       " (6, 1): <gurobi.Constr *Awaiting Model Update*>,\n",
       " (6, 2): <gurobi.Constr *Awaiting Model Update*>,\n",
       " (6, 3): <gurobi.Constr *Awaiting Model Update*>,\n",
       " (6, 4): <gurobi.Constr *Awaiting Model Update*>,\n",
       " (6, 5): <gurobi.Constr *Awaiting Model Update*>,\n",
       " (6, 6): <gurobi.Constr *Awaiting Model Update*>,\n",
       " (6, 7): <gurobi.Constr *Awaiting Model Update*>,\n",
       " (6, 8): <gurobi.Constr *Awaiting Model Update*>,\n",
       " (6, 9): <gurobi.Constr *Awaiting Model Update*>,\n",
       " (6, 10): <gurobi.Constr *Awaiting Model Update*>,\n",
       " (6, 11): <gurobi.Constr *Awaiting Model Update*>,\n",
       " (6, 12): <gurobi.Constr *Awaiting Model Update*>,\n",
       " (6, 13): <gurobi.Constr *Awaiting Model Update*>,\n",
       " (6, 14): <gurobi.Constr *Awaiting Model Update*>,\n",
       " (6, 15): <gurobi.Constr *Awaiting Model Update*>,\n",
       " (6, 16): <gurobi.Constr *Awaiting Model Update*>,\n",
       " (6, 17): <gurobi.Constr *Awaiting Model Update*>,\n",
       " (6, 18): <gurobi.Constr *Awaiting Model Update*>,\n",
       " (6, 19): <gurobi.Constr *Awaiting Model Update*>,\n",
       " (6, 20): <gurobi.Constr *Awaiting Model Update*>,\n",
       " (6, 21): <gurobi.Constr *Awaiting Model Update*>,\n",
       " (6, 22): <gurobi.Constr *Awaiting Model Update*>,\n",
       " (6, 23): <gurobi.Constr *Awaiting Model Update*>,\n",
       " (6, 24): <gurobi.Constr *Awaiting Model Update*>,\n",
       " (6, 25): <gurobi.Constr *Awaiting Model Update*>,\n",
       " (6, 26): <gurobi.Constr *Awaiting Model Update*>,\n",
       " (6, 27): <gurobi.Constr *Awaiting Model Update*>,\n",
       " (6, 28): <gurobi.Constr *Awaiting Model Update*>,\n",
       " (6, 29): <gurobi.Constr *Awaiting Model Update*>,\n",
       " (6, 30): <gurobi.Constr *Awaiting Model Update*>,\n",
       " (6, 31): <gurobi.Constr *Awaiting Model Update*>,\n",
       " (6, 32): <gurobi.Constr *Awaiting Model Update*>,\n",
       " (6, 33): <gurobi.Constr *Awaiting Model Update*>,\n",
       " (6, 34): <gurobi.Constr *Awaiting Model Update*>,\n",
       " (6, 35): <gurobi.Constr *Awaiting Model Update*>,\n",
       " (6, 36): <gurobi.Constr *Awaiting Model Update*>,\n",
       " (6, 37): <gurobi.Constr *Awaiting Model Update*>,\n",
       " (6, 38): <gurobi.Constr *Awaiting Model Update*>,\n",
       " (6, 39): <gurobi.Constr *Awaiting Model Update*>,\n",
       " (6, 40): <gurobi.Constr *Awaiting Model Update*>,\n",
       " (6, 41): <gurobi.Constr *Awaiting Model Update*>,\n",
       " (6, 42): <gurobi.Constr *Awaiting Model Update*>,\n",
       " (6, 43): <gurobi.Constr *Awaiting Model Update*>,\n",
       " (6, 44): <gurobi.Constr *Awaiting Model Update*>,\n",
       " (6, 45): <gurobi.Constr *Awaiting Model Update*>,\n",
       " (6, 46): <gurobi.Constr *Awaiting Model Update*>,\n",
       " (6, 47): <gurobi.Constr *Awaiting Model Update*>,\n",
       " (6, 48): <gurobi.Constr *Awaiting Model Update*>,\n",
       " (6, 49): <gurobi.Constr *Awaiting Model Update*>,\n",
       " (6, 50): <gurobi.Constr *Awaiting Model Update*>,\n",
       " (6, 51): <gurobi.Constr *Awaiting Model Update*>,\n",
       " (6, 52): <gurobi.Constr *Awaiting Model Update*>,\n",
       " (6, 53): <gurobi.Constr *Awaiting Model Update*>,\n",
       " (6, 54): <gurobi.Constr *Awaiting Model Update*>,\n",
       " (6, 55): <gurobi.Constr *Awaiting Model Update*>,\n",
       " (6, 56): <gurobi.Constr *Awaiting Model Update*>,\n",
       " (6, 57): <gurobi.Constr *Awaiting Model Update*>,\n",
       " (6, 58): <gurobi.Constr *Awaiting Model Update*>,\n",
       " (6, 59): <gurobi.Constr *Awaiting Model Update*>,\n",
       " (6, 60): <gurobi.Constr *Awaiting Model Update*>,\n",
       " (6, 61): <gurobi.Constr *Awaiting Model Update*>,\n",
       " (6, 62): <gurobi.Constr *Awaiting Model Update*>,\n",
       " (6, 63): <gurobi.Constr *Awaiting Model Update*>,\n",
       " (6, 64): <gurobi.Constr *Awaiting Model Update*>,\n",
       " (6, 65): <gurobi.Constr *Awaiting Model Update*>,\n",
       " (6, 66): <gurobi.Constr *Awaiting Model Update*>,\n",
       " (6, 67): <gurobi.Constr *Awaiting Model Update*>,\n",
       " (6, 68): <gurobi.Constr *Awaiting Model Update*>,\n",
       " (6, 69): <gurobi.Constr *Awaiting Model Update*>,\n",
       " (6, 70): <gurobi.Constr *Awaiting Model Update*>,\n",
       " (6, 71): <gurobi.Constr *Awaiting Model Update*>,\n",
       " (6, 72): <gurobi.Constr *Awaiting Model Update*>,\n",
       " (6, 73): <gurobi.Constr *Awaiting Model Update*>,\n",
       " (6, 74): <gurobi.Constr *Awaiting Model Update*>,\n",
       " (6, 75): <gurobi.Constr *Awaiting Model Update*>,\n",
       " (6, 76): <gurobi.Constr *Awaiting Model Update*>,\n",
       " (6, 77): <gurobi.Constr *Awaiting Model Update*>,\n",
       " (6, 78): <gurobi.Constr *Awaiting Model Update*>,\n",
       " (6, 79): <gurobi.Constr *Awaiting Model Update*>,\n",
       " (6, 80): <gurobi.Constr *Awaiting Model Update*>,\n",
       " (6, 81): <gurobi.Constr *Awaiting Model Update*>,\n",
       " (6, 82): <gurobi.Constr *Awaiting Model Update*>,\n",
       " (6, 83): <gurobi.Constr *Awaiting Model Update*>,\n",
       " (6, 84): <gurobi.Constr *Awaiting Model Update*>,\n",
       " (6, 85): <gurobi.Constr *Awaiting Model Update*>,\n",
       " (6, 86): <gurobi.Constr *Awaiting Model Update*>,\n",
       " (6, 87): <gurobi.Constr *Awaiting Model Update*>,\n",
       " (6, 88): <gurobi.Constr *Awaiting Model Update*>,\n",
       " (6, 89): <gurobi.Constr *Awaiting Model Update*>,\n",
       " (6, 90): <gurobi.Constr *Awaiting Model Update*>,\n",
       " (6, 91): <gurobi.Constr *Awaiting Model Update*>,\n",
       " (6, 92): <gurobi.Constr *Awaiting Model Update*>,\n",
       " (6, 93): <gurobi.Constr *Awaiting Model Update*>,\n",
       " (6, 94): <gurobi.Constr *Awaiting Model Update*>,\n",
       " (6, 95): <gurobi.Constr *Awaiting Model Update*>,\n",
       " (6, 96): <gurobi.Constr *Awaiting Model Update*>,\n",
       " (6, 97): <gurobi.Constr *Awaiting Model Update*>,\n",
       " (6, 98): <gurobi.Constr *Awaiting Model Update*>,\n",
       " (6, 99): <gurobi.Constr *Awaiting Model Update*>,\n",
       " (7, 0): <gurobi.Constr *Awaiting Model Update*>,\n",
       " (7, 1): <gurobi.Constr *Awaiting Model Update*>,\n",
       " (7, 2): <gurobi.Constr *Awaiting Model Update*>,\n",
       " (7, 3): <gurobi.Constr *Awaiting Model Update*>,\n",
       " (7, 4): <gurobi.Constr *Awaiting Model Update*>,\n",
       " (7, 5): <gurobi.Constr *Awaiting Model Update*>,\n",
       " (7, 6): <gurobi.Constr *Awaiting Model Update*>,\n",
       " (7, 7): <gurobi.Constr *Awaiting Model Update*>,\n",
       " (7, 8): <gurobi.Constr *Awaiting Model Update*>,\n",
       " (7, 9): <gurobi.Constr *Awaiting Model Update*>,\n",
       " (7, 10): <gurobi.Constr *Awaiting Model Update*>,\n",
       " (7, 11): <gurobi.Constr *Awaiting Model Update*>,\n",
       " (7, 12): <gurobi.Constr *Awaiting Model Update*>,\n",
       " (7, 13): <gurobi.Constr *Awaiting Model Update*>,\n",
       " (7, 14): <gurobi.Constr *Awaiting Model Update*>,\n",
       " (7, 15): <gurobi.Constr *Awaiting Model Update*>,\n",
       " (7, 16): <gurobi.Constr *Awaiting Model Update*>,\n",
       " (7, 17): <gurobi.Constr *Awaiting Model Update*>,\n",
       " (7, 18): <gurobi.Constr *Awaiting Model Update*>,\n",
       " (7, 19): <gurobi.Constr *Awaiting Model Update*>,\n",
       " (7, 20): <gurobi.Constr *Awaiting Model Update*>,\n",
       " (7, 21): <gurobi.Constr *Awaiting Model Update*>,\n",
       " (7, 22): <gurobi.Constr *Awaiting Model Update*>,\n",
       " (7, 23): <gurobi.Constr *Awaiting Model Update*>,\n",
       " (7, 24): <gurobi.Constr *Awaiting Model Update*>,\n",
       " (7, 25): <gurobi.Constr *Awaiting Model Update*>,\n",
       " (7, 26): <gurobi.Constr *Awaiting Model Update*>,\n",
       " (7, 27): <gurobi.Constr *Awaiting Model Update*>,\n",
       " (7, 28): <gurobi.Constr *Awaiting Model Update*>,\n",
       " (7, 29): <gurobi.Constr *Awaiting Model Update*>,\n",
       " (7, 30): <gurobi.Constr *Awaiting Model Update*>,\n",
       " (7, 31): <gurobi.Constr *Awaiting Model Update*>,\n",
       " (7, 32): <gurobi.Constr *Awaiting Model Update*>,\n",
       " (7, 33): <gurobi.Constr *Awaiting Model Update*>,\n",
       " (7, 34): <gurobi.Constr *Awaiting Model Update*>,\n",
       " (7, 35): <gurobi.Constr *Awaiting Model Update*>,\n",
       " (7, 36): <gurobi.Constr *Awaiting Model Update*>,\n",
       " (7, 37): <gurobi.Constr *Awaiting Model Update*>,\n",
       " (7, 38): <gurobi.Constr *Awaiting Model Update*>,\n",
       " (7, 39): <gurobi.Constr *Awaiting Model Update*>,\n",
       " (7, 40): <gurobi.Constr *Awaiting Model Update*>,\n",
       " (7, 41): <gurobi.Constr *Awaiting Model Update*>,\n",
       " (7, 42): <gurobi.Constr *Awaiting Model Update*>,\n",
       " (7, 43): <gurobi.Constr *Awaiting Model Update*>,\n",
       " (7, 44): <gurobi.Constr *Awaiting Model Update*>,\n",
       " (7, 45): <gurobi.Constr *Awaiting Model Update*>,\n",
       " (7, 46): <gurobi.Constr *Awaiting Model Update*>,\n",
       " (7, 47): <gurobi.Constr *Awaiting Model Update*>,\n",
       " (7, 48): <gurobi.Constr *Awaiting Model Update*>,\n",
       " (7, 49): <gurobi.Constr *Awaiting Model Update*>,\n",
       " (7, 50): <gurobi.Constr *Awaiting Model Update*>,\n",
       " (7, 51): <gurobi.Constr *Awaiting Model Update*>,\n",
       " (7, 52): <gurobi.Constr *Awaiting Model Update*>,\n",
       " (7, 53): <gurobi.Constr *Awaiting Model Update*>,\n",
       " (7, 54): <gurobi.Constr *Awaiting Model Update*>,\n",
       " (7, 55): <gurobi.Constr *Awaiting Model Update*>,\n",
       " (7, 56): <gurobi.Constr *Awaiting Model Update*>,\n",
       " (7, 57): <gurobi.Constr *Awaiting Model Update*>,\n",
       " (7, 58): <gurobi.Constr *Awaiting Model Update*>,\n",
       " (7, 59): <gurobi.Constr *Awaiting Model Update*>,\n",
       " (7, 60): <gurobi.Constr *Awaiting Model Update*>,\n",
       " (7, 61): <gurobi.Constr *Awaiting Model Update*>,\n",
       " (7, 62): <gurobi.Constr *Awaiting Model Update*>,\n",
       " (7, 63): <gurobi.Constr *Awaiting Model Update*>,\n",
       " (7, 64): <gurobi.Constr *Awaiting Model Update*>,\n",
       " (7, 65): <gurobi.Constr *Awaiting Model Update*>,\n",
       " (7, 66): <gurobi.Constr *Awaiting Model Update*>,\n",
       " (7, 67): <gurobi.Constr *Awaiting Model Update*>,\n",
       " (7, 68): <gurobi.Constr *Awaiting Model Update*>,\n",
       " (7, 69): <gurobi.Constr *Awaiting Model Update*>,\n",
       " (7, 70): <gurobi.Constr *Awaiting Model Update*>,\n",
       " (7, 71): <gurobi.Constr *Awaiting Model Update*>,\n",
       " (7, 72): <gurobi.Constr *Awaiting Model Update*>,\n",
       " (7, 73): <gurobi.Constr *Awaiting Model Update*>,\n",
       " (7, 74): <gurobi.Constr *Awaiting Model Update*>,\n",
       " (7, 75): <gurobi.Constr *Awaiting Model Update*>,\n",
       " (7, 76): <gurobi.Constr *Awaiting Model Update*>,\n",
       " (7, 77): <gurobi.Constr *Awaiting Model Update*>,\n",
       " (7, 78): <gurobi.Constr *Awaiting Model Update*>,\n",
       " (7, 79): <gurobi.Constr *Awaiting Model Update*>,\n",
       " (7, 80): <gurobi.Constr *Awaiting Model Update*>,\n",
       " (7, 81): <gurobi.Constr *Awaiting Model Update*>,\n",
       " (7, 82): <gurobi.Constr *Awaiting Model Update*>,\n",
       " (7, 83): <gurobi.Constr *Awaiting Model Update*>,\n",
       " (7, 84): <gurobi.Constr *Awaiting Model Update*>,\n",
       " (7, 85): <gurobi.Constr *Awaiting Model Update*>,\n",
       " (7, 86): <gurobi.Constr *Awaiting Model Update*>,\n",
       " (7, 87): <gurobi.Constr *Awaiting Model Update*>,\n",
       " (7, 88): <gurobi.Constr *Awaiting Model Update*>,\n",
       " (7, 89): <gurobi.Constr *Awaiting Model Update*>,\n",
       " (7, 90): <gurobi.Constr *Awaiting Model Update*>,\n",
       " (7, 91): <gurobi.Constr *Awaiting Model Update*>,\n",
       " (7, 92): <gurobi.Constr *Awaiting Model Update*>,\n",
       " (7, 93): <gurobi.Constr *Awaiting Model Update*>,\n",
       " (7, 94): <gurobi.Constr *Awaiting Model Update*>,\n",
       " (7, 95): <gurobi.Constr *Awaiting Model Update*>,\n",
       " (7, 96): <gurobi.Constr *Awaiting Model Update*>,\n",
       " (7, 97): <gurobi.Constr *Awaiting Model Update*>,\n",
       " (7, 98): <gurobi.Constr *Awaiting Model Update*>,\n",
       " (7, 99): <gurobi.Constr *Awaiting Model Update*>,\n",
       " (8, 0): <gurobi.Constr *Awaiting Model Update*>,\n",
       " (8, 1): <gurobi.Constr *Awaiting Model Update*>,\n",
       " (8, 2): <gurobi.Constr *Awaiting Model Update*>,\n",
       " (8, 3): <gurobi.Constr *Awaiting Model Update*>,\n",
       " (8, 4): <gurobi.Constr *Awaiting Model Update*>,\n",
       " (8, 5): <gurobi.Constr *Awaiting Model Update*>,\n",
       " (8, 6): <gurobi.Constr *Awaiting Model Update*>,\n",
       " (8, 7): <gurobi.Constr *Awaiting Model Update*>,\n",
       " (8, 8): <gurobi.Constr *Awaiting Model Update*>,\n",
       " (8, 9): <gurobi.Constr *Awaiting Model Update*>,\n",
       " (8, 10): <gurobi.Constr *Awaiting Model Update*>,\n",
       " (8, 11): <gurobi.Constr *Awaiting Model Update*>,\n",
       " (8, 12): <gurobi.Constr *Awaiting Model Update*>,\n",
       " (8, 13): <gurobi.Constr *Awaiting Model Update*>,\n",
       " (8, 14): <gurobi.Constr *Awaiting Model Update*>,\n",
       " (8, 15): <gurobi.Constr *Awaiting Model Update*>,\n",
       " (8, 16): <gurobi.Constr *Awaiting Model Update*>,\n",
       " (8, 17): <gurobi.Constr *Awaiting Model Update*>,\n",
       " (8, 18): <gurobi.Constr *Awaiting Model Update*>,\n",
       " (8, 19): <gurobi.Constr *Awaiting Model Update*>,\n",
       " (8, 20): <gurobi.Constr *Awaiting Model Update*>,\n",
       " (8, 21): <gurobi.Constr *Awaiting Model Update*>,\n",
       " (8, 22): <gurobi.Constr *Awaiting Model Update*>,\n",
       " (8, 23): <gurobi.Constr *Awaiting Model Update*>,\n",
       " (8, 24): <gurobi.Constr *Awaiting Model Update*>,\n",
       " (8, 25): <gurobi.Constr *Awaiting Model Update*>,\n",
       " (8, 26): <gurobi.Constr *Awaiting Model Update*>,\n",
       " (8, 27): <gurobi.Constr *Awaiting Model Update*>,\n",
       " (8, 28): <gurobi.Constr *Awaiting Model Update*>,\n",
       " (8, 29): <gurobi.Constr *Awaiting Model Update*>,\n",
       " (8, 30): <gurobi.Constr *Awaiting Model Update*>,\n",
       " (8, 31): <gurobi.Constr *Awaiting Model Update*>,\n",
       " (8, 32): <gurobi.Constr *Awaiting Model Update*>,\n",
       " (8, 33): <gurobi.Constr *Awaiting Model Update*>,\n",
       " (8, 34): <gurobi.Constr *Awaiting Model Update*>,\n",
       " (8, 35): <gurobi.Constr *Awaiting Model Update*>,\n",
       " (8, 36): <gurobi.Constr *Awaiting Model Update*>,\n",
       " (8, 37): <gurobi.Constr *Awaiting Model Update*>,\n",
       " (8, 38): <gurobi.Constr *Awaiting Model Update*>,\n",
       " (8, 39): <gurobi.Constr *Awaiting Model Update*>,\n",
       " (8, 40): <gurobi.Constr *Awaiting Model Update*>,\n",
       " (8, 41): <gurobi.Constr *Awaiting Model Update*>,\n",
       " (8, 42): <gurobi.Constr *Awaiting Model Update*>,\n",
       " (8, 43): <gurobi.Constr *Awaiting Model Update*>,\n",
       " (8, 44): <gurobi.Constr *Awaiting Model Update*>,\n",
       " (8, 45): <gurobi.Constr *Awaiting Model Update*>,\n",
       " (8, 46): <gurobi.Constr *Awaiting Model Update*>,\n",
       " (8, 47): <gurobi.Constr *Awaiting Model Update*>,\n",
       " (8, 48): <gurobi.Constr *Awaiting Model Update*>,\n",
       " (8, 49): <gurobi.Constr *Awaiting Model Update*>,\n",
       " (8, 50): <gurobi.Constr *Awaiting Model Update*>,\n",
       " (8, 51): <gurobi.Constr *Awaiting Model Update*>,\n",
       " (8, 52): <gurobi.Constr *Awaiting Model Update*>,\n",
       " (8, 53): <gurobi.Constr *Awaiting Model Update*>,\n",
       " (8, 54): <gurobi.Constr *Awaiting Model Update*>,\n",
       " (8, 55): <gurobi.Constr *Awaiting Model Update*>,\n",
       " (8, 56): <gurobi.Constr *Awaiting Model Update*>,\n",
       " (8, 57): <gurobi.Constr *Awaiting Model Update*>,\n",
       " (8, 58): <gurobi.Constr *Awaiting Model Update*>,\n",
       " (8, 59): <gurobi.Constr *Awaiting Model Update*>,\n",
       " (8, 60): <gurobi.Constr *Awaiting Model Update*>,\n",
       " (8, 61): <gurobi.Constr *Awaiting Model Update*>,\n",
       " (8, 62): <gurobi.Constr *Awaiting Model Update*>,\n",
       " (8, 63): <gurobi.Constr *Awaiting Model Update*>,\n",
       " (8, 64): <gurobi.Constr *Awaiting Model Update*>,\n",
       " (8, 65): <gurobi.Constr *Awaiting Model Update*>,\n",
       " (8, 66): <gurobi.Constr *Awaiting Model Update*>,\n",
       " (8, 67): <gurobi.Constr *Awaiting Model Update*>,\n",
       " (8, 68): <gurobi.Constr *Awaiting Model Update*>,\n",
       " (8, 69): <gurobi.Constr *Awaiting Model Update*>,\n",
       " (8, 70): <gurobi.Constr *Awaiting Model Update*>,\n",
       " (8, 71): <gurobi.Constr *Awaiting Model Update*>,\n",
       " (8, 72): <gurobi.Constr *Awaiting Model Update*>,\n",
       " (8, 73): <gurobi.Constr *Awaiting Model Update*>,\n",
       " (8, 74): <gurobi.Constr *Awaiting Model Update*>,\n",
       " (8, 75): <gurobi.Constr *Awaiting Model Update*>,\n",
       " (8, 76): <gurobi.Constr *Awaiting Model Update*>,\n",
       " (8, 77): <gurobi.Constr *Awaiting Model Update*>,\n",
       " (8, 78): <gurobi.Constr *Awaiting Model Update*>,\n",
       " (8, 79): <gurobi.Constr *Awaiting Model Update*>,\n",
       " (8, 80): <gurobi.Constr *Awaiting Model Update*>,\n",
       " (8, 81): <gurobi.Constr *Awaiting Model Update*>,\n",
       " (8, 82): <gurobi.Constr *Awaiting Model Update*>,\n",
       " (8, 83): <gurobi.Constr *Awaiting Model Update*>,\n",
       " (8, 84): <gurobi.Constr *Awaiting Model Update*>,\n",
       " (8, 85): <gurobi.Constr *Awaiting Model Update*>,\n",
       " (8, 86): <gurobi.Constr *Awaiting Model Update*>,\n",
       " (8, 87): <gurobi.Constr *Awaiting Model Update*>,\n",
       " (8, 88): <gurobi.Constr *Awaiting Model Update*>,\n",
       " (8, 89): <gurobi.Constr *Awaiting Model Update*>,\n",
       " (8, 90): <gurobi.Constr *Awaiting Model Update*>,\n",
       " (8, 91): <gurobi.Constr *Awaiting Model Update*>,\n",
       " (8, 92): <gurobi.Constr *Awaiting Model Update*>,\n",
       " (8, 93): <gurobi.Constr *Awaiting Model Update*>,\n",
       " (8, 94): <gurobi.Constr *Awaiting Model Update*>,\n",
       " (8, 95): <gurobi.Constr *Awaiting Model Update*>,\n",
       " (8, 96): <gurobi.Constr *Awaiting Model Update*>,\n",
       " (8, 97): <gurobi.Constr *Awaiting Model Update*>,\n",
       " (8, 98): <gurobi.Constr *Awaiting Model Update*>,\n",
       " (8, 99): <gurobi.Constr *Awaiting Model Update*>,\n",
       " (9, 0): <gurobi.Constr *Awaiting Model Update*>,\n",
       " (9, 1): <gurobi.Constr *Awaiting Model Update*>,\n",
       " (9, 2): <gurobi.Constr *Awaiting Model Update*>,\n",
       " (9, 3): <gurobi.Constr *Awaiting Model Update*>,\n",
       " (9, 4): <gurobi.Constr *Awaiting Model Update*>,\n",
       " (9, 5): <gurobi.Constr *Awaiting Model Update*>,\n",
       " (9, 6): <gurobi.Constr *Awaiting Model Update*>,\n",
       " (9, 7): <gurobi.Constr *Awaiting Model Update*>,\n",
       " (9, 8): <gurobi.Constr *Awaiting Model Update*>,\n",
       " (9, 9): <gurobi.Constr *Awaiting Model Update*>,\n",
       " (9, 10): <gurobi.Constr *Awaiting Model Update*>,\n",
       " (9, 11): <gurobi.Constr *Awaiting Model Update*>,\n",
       " (9, 12): <gurobi.Constr *Awaiting Model Update*>,\n",
       " (9, 13): <gurobi.Constr *Awaiting Model Update*>,\n",
       " (9, 14): <gurobi.Constr *Awaiting Model Update*>,\n",
       " (9, 15): <gurobi.Constr *Awaiting Model Update*>,\n",
       " (9, 16): <gurobi.Constr *Awaiting Model Update*>,\n",
       " (9, 17): <gurobi.Constr *Awaiting Model Update*>,\n",
       " (9, 18): <gurobi.Constr *Awaiting Model Update*>,\n",
       " (9, 19): <gurobi.Constr *Awaiting Model Update*>,\n",
       " (9, 20): <gurobi.Constr *Awaiting Model Update*>,\n",
       " (9, 21): <gurobi.Constr *Awaiting Model Update*>,\n",
       " (9, 22): <gurobi.Constr *Awaiting Model Update*>,\n",
       " (9, 23): <gurobi.Constr *Awaiting Model Update*>,\n",
       " (9, 24): <gurobi.Constr *Awaiting Model Update*>,\n",
       " (9, 25): <gurobi.Constr *Awaiting Model Update*>,\n",
       " (9, 26): <gurobi.Constr *Awaiting Model Update*>,\n",
       " (9, 27): <gurobi.Constr *Awaiting Model Update*>,\n",
       " (9, 28): <gurobi.Constr *Awaiting Model Update*>,\n",
       " (9, 29): <gurobi.Constr *Awaiting Model Update*>,\n",
       " (9, 30): <gurobi.Constr *Awaiting Model Update*>,\n",
       " (9, 31): <gurobi.Constr *Awaiting Model Update*>,\n",
       " (9, 32): <gurobi.Constr *Awaiting Model Update*>,\n",
       " (9, 33): <gurobi.Constr *Awaiting Model Update*>,\n",
       " (9, 34): <gurobi.Constr *Awaiting Model Update*>,\n",
       " (9, 35): <gurobi.Constr *Awaiting Model Update*>,\n",
       " (9, 36): <gurobi.Constr *Awaiting Model Update*>,\n",
       " (9, 37): <gurobi.Constr *Awaiting Model Update*>,\n",
       " (9, 38): <gurobi.Constr *Awaiting Model Update*>,\n",
       " (9, 39): <gurobi.Constr *Awaiting Model Update*>,\n",
       " (9, 40): <gurobi.Constr *Awaiting Model Update*>,\n",
       " (9, 41): <gurobi.Constr *Awaiting Model Update*>,\n",
       " (9, 42): <gurobi.Constr *Awaiting Model Update*>,\n",
       " (9, 43): <gurobi.Constr *Awaiting Model Update*>,\n",
       " (9, 44): <gurobi.Constr *Awaiting Model Update*>,\n",
       " (9, 45): <gurobi.Constr *Awaiting Model Update*>,\n",
       " (9, 46): <gurobi.Constr *Awaiting Model Update*>,\n",
       " (9, 47): <gurobi.Constr *Awaiting Model Update*>,\n",
       " (9, 48): <gurobi.Constr *Awaiting Model Update*>,\n",
       " (9, 49): <gurobi.Constr *Awaiting Model Update*>,\n",
       " (9, 50): <gurobi.Constr *Awaiting Model Update*>,\n",
       " (9, 51): <gurobi.Constr *Awaiting Model Update*>,\n",
       " (9, 52): <gurobi.Constr *Awaiting Model Update*>,\n",
       " (9, 53): <gurobi.Constr *Awaiting Model Update*>,\n",
       " (9, 54): <gurobi.Constr *Awaiting Model Update*>,\n",
       " (9, 55): <gurobi.Constr *Awaiting Model Update*>,\n",
       " (9, 56): <gurobi.Constr *Awaiting Model Update*>,\n",
       " (9, 57): <gurobi.Constr *Awaiting Model Update*>,\n",
       " (9, 58): <gurobi.Constr *Awaiting Model Update*>,\n",
       " (9, 59): <gurobi.Constr *Awaiting Model Update*>,\n",
       " (9, 60): <gurobi.Constr *Awaiting Model Update*>,\n",
       " (9, 61): <gurobi.Constr *Awaiting Model Update*>,\n",
       " (9, 62): <gurobi.Constr *Awaiting Model Update*>,\n",
       " (9, 63): <gurobi.Constr *Awaiting Model Update*>,\n",
       " (9, 64): <gurobi.Constr *Awaiting Model Update*>,\n",
       " (9, 65): <gurobi.Constr *Awaiting Model Update*>,\n",
       " (9, 66): <gurobi.Constr *Awaiting Model Update*>,\n",
       " (9, 67): <gurobi.Constr *Awaiting Model Update*>,\n",
       " (9, 68): <gurobi.Constr *Awaiting Model Update*>,\n",
       " (9, 69): <gurobi.Constr *Awaiting Model Update*>,\n",
       " (9, 70): <gurobi.Constr *Awaiting Model Update*>,\n",
       " (9, 71): <gurobi.Constr *Awaiting Model Update*>,\n",
       " (9, 72): <gurobi.Constr *Awaiting Model Update*>,\n",
       " (9, 73): <gurobi.Constr *Awaiting Model Update*>,\n",
       " (9, 74): <gurobi.Constr *Awaiting Model Update*>,\n",
       " (9, 75): <gurobi.Constr *Awaiting Model Update*>,\n",
       " (9, 76): <gurobi.Constr *Awaiting Model Update*>,\n",
       " (9, 77): <gurobi.Constr *Awaiting Model Update*>,\n",
       " (9, 78): <gurobi.Constr *Awaiting Model Update*>,\n",
       " (9, 79): <gurobi.Constr *Awaiting Model Update*>,\n",
       " (9, 80): <gurobi.Constr *Awaiting Model Update*>,\n",
       " (9, 81): <gurobi.Constr *Awaiting Model Update*>,\n",
       " (9, 82): <gurobi.Constr *Awaiting Model Update*>,\n",
       " (9, 83): <gurobi.Constr *Awaiting Model Update*>,\n",
       " (9, 84): <gurobi.Constr *Awaiting Model Update*>,\n",
       " (9, 85): <gurobi.Constr *Awaiting Model Update*>,\n",
       " (9, 86): <gurobi.Constr *Awaiting Model Update*>,\n",
       " (9, 87): <gurobi.Constr *Awaiting Model Update*>,\n",
       " (9, 88): <gurobi.Constr *Awaiting Model Update*>,\n",
       " (9, 89): <gurobi.Constr *Awaiting Model Update*>,\n",
       " (9, 90): <gurobi.Constr *Awaiting Model Update*>,\n",
       " (9, 91): <gurobi.Constr *Awaiting Model Update*>,\n",
       " (9, 92): <gurobi.Constr *Awaiting Model Update*>,\n",
       " (9, 93): <gurobi.Constr *Awaiting Model Update*>,\n",
       " (9, 94): <gurobi.Constr *Awaiting Model Update*>,\n",
       " (9, 95): <gurobi.Constr *Awaiting Model Update*>,\n",
       " (9, 96): <gurobi.Constr *Awaiting Model Update*>,\n",
       " (9, 97): <gurobi.Constr *Awaiting Model Update*>,\n",
       " (9, 98): <gurobi.Constr *Awaiting Model Update*>,\n",
       " (9, 99): <gurobi.Constr *Awaiting Model Update*>}"
      ]
     },
     "execution_count": 1019,
     "metadata": {},
     "output_type": "execute_result"
    }
   ],
   "source": [
    "eg1a.addConstrs((quicksum(r[i][j] for j in dcs) == expected_daily_demand[i] for i in stores), \"demand_fulfillment\")\n",
    "eg1a.addConstrs((quicksum(r[i][j] for i in stores) <= dc_maxscale[j] for j in dcs), \"dcCapacity\")\n",
    "eg1a.addConstrs((quicksum(r[i][j] for i in stores) <= v[j] * 20000 for j in dcs), \"replenishment amount exists when vj=1\")\n",
    "eg1a.addConstrs((wx[i][j] >= dc_xcoord[j] - store_xcoord[i] for i in stores for j in dcs), \"dis(dc-store), x-axis\")\n",
    "eg1a.addConstrs((wx[i][j] >= store_xcoord[i] - dc_xcoord[j] for j in dcs for i in stores), \"dis(store-dc), x-axis\")\n",
    "eg1a.addConstrs((wy[i][j] >= dc_ycoord[j] - store_ycoord[i] for i in stores for j in dcs), \"dis(dc-store), y-axis\")\n",
    "eg1a.addConstrs((wy[i][j] >= store_ycoord[i] - dc_ycoord[j] for j in dcs for i in stores), \"dis(store-dc), y-axis\")"
   ]
  },
  {
   "attachments": {},
   "cell_type": "markdown",
   "metadata": {},
   "source": [
    "##### Optimize"
   ]
  },
  {
   "cell_type": "code",
   "execution_count": 1020,
   "metadata": {},
   "outputs": [],
   "source": [
    "eg1a.optimize()"
   ]
  },
  {
   "cell_type": "code",
   "execution_count": 1021,
   "metadata": {},
   "outputs": [
    {
     "name": "stdout",
     "output_type": "stream",
     "text": [
      "1(a) Results | Multiple sourcing: \n",
      "v1 = 1.0\n",
      "v2 = 1.0\n",
      "v3 = 1.0\n",
      "v4 = 1.0\n",
      "v5 = 1.0\n",
      "v6 = 1.0\n",
      "v7 = 1.0\n",
      "v8 = -0.0\n",
      "v9 = 1.0\n",
      "v10 = 1.0\n",
      "DC1 \t-0.0 \t154.0 \t-0.0 \t-0.0 \t-0.0 \t-0.0 \t-0.0 \t-0.0 \t-0.0 \t144.0 \t-0.0 \t-0.0 \t-0.0 \t-0.0 \t-0.0 \t130.0 \t-0.0 \t-0.0 \t-0.0 \t-0.0 \t-0.0 \t132.0 \t0.0 \t-0.0 \t-0.0 \t-0.0 \t-0.0 \t-0.0 \t-0.0 \t-0.0 \t114.0 \t-0.0 \t107.0 \t-0.0 \t184.0 \t-0.0 \t-0.0 \t-0.0 \t-0.0 \t-0.0 \t-0.0 \t-0.0 \t-0.0 \t-0.0 \t-0.0 \t-0.0 \t-0.0 \t0.0 \t-0.0 \t-0.0 \t-0.0 \t-0.0 \t-0.0 \t0.0 \t137.0 \t-0.0 \t-0.0 \t149.0 \t-0.0 \t-0.0 \t-0.0 \t-0.0 \t154.0 \t131.0 \t178.0 \t152.0 \t-0.0 \t-0.0 \t-0.0 \t-0.0 \t0.0 \t-0.0 \t152.0 \t-0.0 \t-0.0 \t-0.0 \t-0.0 \t122.0 \t-0.0 \t189.0 \t109.0 \t-0.0 \t-0.0 \t-0.0 \t-0.0 \t77.0 \t-0.0 \t-0.0 \t-0.0 \t-0.0 \t-0.0 \t191.0 \t-0.0 \t-0.0 \t178.0 \t-0.0 \t122.0 \t-0.0 \t-0.0 \t118.0 \t\n",
      "DC2 \t-0.0 \t-0.0 \t-0.0 \t-0.0 \t-0.0 \t-0.0 \t-0.0 \t-0.0 \t-0.0 \t-0.0 \t-0.0 \t-0.0 \t-0.0 \t-0.0 \t-0.0 \t-0.0 \t-0.0 \t-0.0 \t-0.0 \t-0.0 \t-0.0 \t-0.0 \t-0.0 \t-0.0 \t-0.0 \t-0.0 \t-0.0 \t-0.0 \t-0.0 \t200.0 \t-0.0 \t-0.0 \t0.0 \t-0.0 \t-0.0 \t-0.0 \t-0.0 \t-0.0 \t-0.0 \t-0.0 \t-0.0 \t-0.0 \t-0.0 \t-0.0 \t-0.0 \t-0.0 \t-0.0 \t132.0 \t-0.0 \t-0.0 \t-0.0 \t-0.0 \t-0.0 \t-0.0 \t-0.0 \t-0.0 \t-0.0 \t-0.0 \t-0.0 \t166.0 \t-0.0 \t-0.0 \t-0.0 \t-0.0 \t-0.0 \t-0.0 \t-0.0 \t195.0 \t-0.0 \t-0.0 \t-0.0 \t-0.0 \t-0.0 \t-0.0 \t-0.0 \t-0.0 \t-0.0 \t-0.0 \t186.0 \t-0.0 \t-0.0 \t-0.0 \t132.0 \t-0.0 \t-0.0 \t104.0 \t-0.0 \t-0.0 \t-0.0 \t-0.0 \t125.0 \t-0.0 \t-0.0 \t-0.0 \t-0.0 \t-0.0 \t-0.0 \t-0.0 \t-0.0 \t-0.0 \t\n",
      "DC3 \t-0.0 \t-0.0 \t-0.0 \t138.0 \t128.0 \t-0.0 \t-0.0 \t-0.0 \t-0.0 \t-0.0 \t-0.0 \t-0.0 \t-0.0 \t-0.0 \t-0.0 \t-0.0 \t-0.0 \t-0.0 \t-0.0 \t-0.0 \t-0.0 \t-0.0 \t-0.0 \t-0.0 \t-0.0 \t-0.0 \t-0.0 \t-0.0 \t-0.0 \t-0.0 \t-0.0 \t-0.0 \t-0.0 \t132.0 \t-0.0 \t-0.0 \t-0.0 \t-0.0 \t-0.0 \t-0.0 \t171.0 \t-0.0 \t-0.0 \t-0.0 \t-0.0 \t-0.0 \t-0.0 \t-0.0 \t-0.0 \t-0.0 \t-0.0 \t-0.0 \t-0.0 \t-0.0 \t-0.0 \t-0.0 \t-0.0 \t-0.0 \t-0.0 \t-0.0 \t-0.0 \t-0.0 \t-0.0 \t-0.0 \t-0.0 \t-0.0 \t112.0 \t-0.0 \t-0.0 \t-0.0 \t-0.0 \t-0.0 \t-0.0 \t-0.0 \t-0.0 \t-0.0 \t-0.0 \t-0.0 \t-0.0 \t-0.0 \t-0.0 \t-0.0 \t-0.0 \t-0.0 \t126.0 \t-0.0 \t-0.0 \t-0.0 \t-0.0 \t-0.0 \t-0.0 \t-0.0 \t103.0 \t-0.0 \t-0.0 \t-0.0 \t-0.0 \t-0.0 \t-0.0 \t-0.0 \t\n",
      "DC4 \t-0.0 \t-0.0 \t-0.0 \t-0.0 \t-0.0 \t-0.0 \t-0.0 \t-0.0 \t-0.0 \t-0.0 \t-0.0 \t-0.0 \t-0.0 \t140.0 \t-0.0 \t-0.0 \t-0.0 \t-0.0 \t-0.0 \t24.0 \t-0.0 \t-0.0 \t-0.0 \t-0.0 \t-0.0 \t-0.0 \t-0.0 \t-0.0 \t140.0 \t-0.0 \t-0.0 \t164.0 \t-0.0 \t-0.0 \t-0.0 \t178.0 \t-0.0 \t-0.0 \t-0.0 \t-0.0 \t-0.0 \t135.0 \t154.0 \t-0.0 \t-0.0 \t-0.0 \t-0.0 \t-0.0 \t-0.0 \t150.0 \t-0.0 \t-0.0 \t-0.0 \t-0.0 \t34.0 \t-0.0 \t-0.0 \t-0.0 \t-0.0 \t-0.0 \t-0.0 \t-0.0 \t-0.0 \t-0.0 \t-0.0 \t-0.0 \t-0.0 \t-0.0 \t187.0 \t-0.0 \t-0.0 \t-0.0 \t-0.0 \t-0.0 \t31.0 \t-0.0 \t-0.0 \t-0.0 \t-0.0 \t-0.0 \t-0.0 \t-0.0 \t-0.0 \t-0.0 \t-0.0 \t-0.0 \t-0.0 \t161.0 \t-0.0 \t-0.0 \t-0.0 \t-0.0 \t-0.0 \t-0.0 \t-0.0 \t-0.0 \t-0.0 \t-0.0 \t-0.0 \t-0.0 \t\n",
      "DC5 \t-0.0 \t-0.0 \t-0.0 \t-0.0 \t-0.0 \t-0.0 \t-0.0 \t-0.0 \t-0.0 \t-0.0 \t-0.0 \t-0.0 \t-0.0 \t-0.0 \t-0.0 \t-0.0 \t-0.0 \t-0.0 \t-0.0 \t-0.0 \t-0.0 \t-0.0 \t160.0 \t-0.0 \t-0.0 \t-0.0 \t-0.0 \t-0.0 \t-0.0 \t-0.0 \t-0.0 \t-0.0 \t-0.0 \t-0.0 \t-0.0 \t-0.0 \t159.0 \t-0.0 \t-0.0 \t-0.0 \t-0.0 \t-0.0 \t-0.0 \t-0.0 \t-0.0 \t-0.0 \t-0.0 \t-0.0 \t-0.0 \t-0.0 \t-0.0 \t-0.0 \t-0.0 \t120.0 \t-0.0 \t-0.0 \t-0.0 \t35.0 \t159.0 \t-0.0 \t-0.0 \t-0.0 \t-0.0 \t-0.0 \t-0.0 \t-0.0 \t-0.0 \t-0.0 \t-0.0 \t157.0 \t133.0 \t150.0 \t-0.0 \t-0.0 \t-0.0 \t117.0 \t-0.0 \t-0.0 \t-0.0 \t-0.0 \t-0.0 \t-0.0 \t-0.0 \t-0.0 \t-0.0 \t-0.0 \t-0.0 \t-0.0 \t-0.0 \t-0.0 \t-0.0 \t-0.0 \t-0.0 \t-0.0 \t-0.0 \t-0.0 \t-0.0 \t199.0 \t-0.0 \t-0.0 \t\n",
      "DC6 \t165.0 \t0.0 \t115.0 \t-0.0 \t-0.0 \t-0.0 \t-0.0 \t191.0 \t-0.0 \t-0.0 \t-0.0 \t-0.0 \t-0.0 \t-0.0 \t-0.0 \t-0.0 \t0.0 \t-0.0 \t109.0 \t-0.0 \t-0.0 \t-0.0 \t-0.0 \t-0.0 \t177.0 \t-0.0 \t185.0 \t114.0 \t-0.0 \t-0.0 \t-0.0 \t-0.0 \t-0.0 \t-0.0 \t-0.0 \t-0.0 \t-0.0 \t198.0 \t-0.0 \t-0.0 \t0.0 \t-0.0 \t-0.0 \t106.0 \t164.0 \t135.0 \t-0.0 \t-0.0 \t-0.0 \t-0.0 \t103.0 \t-0.0 \t143.0 \t-0.0 \t-0.0 \t-0.0 \t192.0 \t-0.0 \t-0.0 \t-0.0 \t188.0 \t-0.0 \t-0.0 \t-0.0 \t-0.0 \t-0.0 \t-0.0 \t-0.0 \t-0.0 \t-0.0 \t-0.0 \t-0.0 \t-0.0 \t-0.0 \t-0.0 \t-0.0 \t-0.0 \t-0.0 \t-0.0 \t-0.0 \t-0.0 \t131.0 \t-0.0 \t-0.0 \t72.0 \t-0.0 \t-0.0 \t-0.0 \t-0.0 \t-0.0 \t-0.0 \t-0.0 \t-0.0 \t104.0 \t-0.0 \t-0.0 \t-0.0 \t-0.0 \t-0.0 \t-0.0 \t\n",
      "DC7 \t-0.0 \t-0.0 \t-0.0 \t-0.0 \t-0.0 \t183.0 \t-0.0 \t-0.0 \t-0.0 \t-0.0 \t200.0 \t-0.0 \t-0.0 \t-0.0 \t-0.0 \t-0.0 \t-0.0 \t113.0 \t-0.0 \t-0.0 \t-0.0 \t-0.0 \t-0.0 \t175.0 \t-0.0 \t-0.0 \t-0.0 \t-0.0 \t-0.0 \t-0.0 \t-0.0 \t-0.0 \t-0.0 \t-0.0 \t-0.0 \t-0.0 \t-0.0 \t-0.0 \t-0.0 \t-0.0 \t-0.0 \t-0.0 \t-0.0 \t-0.0 \t-0.0 \t-0.0 \t143.0 \t-0.0 \t-0.0 \t-0.0 \t-0.0 \t-0.0 \t-0.0 \t-0.0 \t-0.0 \t-0.0 \t-0.0 \t-0.0 \t-0.0 \t-0.0 \t-0.0 \t-0.0 \t-0.0 \t-0.0 \t-0.0 \t-0.0 \t-0.0 \t-0.0 \t-0.0 \t-0.0 \t-0.0 \t-0.0 \t-0.0 \t-0.0 \t138.0 \t-0.0 \t-0.0 \t-0.0 \t-0.0 \t-0.0 \t-0.0 \t-0.0 \t-0.0 \t-0.0 \t-0.0 \t-0.0 \t-0.0 \t-0.0 \t-0.0 \t139.0 \t-0.0 \t-0.0 \t-0.0 \t-0.0 \t-0.0 \t-0.0 \t-0.0 \t-0.0 \t127.0 \t-0.0 \t\n",
      "DC8 \t-0.0 \t-0.0 \t-0.0 \t-0.0 \t-0.0 \t-0.0 \t-0.0 \t-0.0 \t-0.0 \t-0.0 \t-0.0 \t-0.0 \t-0.0 \t-0.0 \t-0.0 \t-0.0 \t-0.0 \t-0.0 \t-0.0 \t-0.0 \t-0.0 \t-0.0 \t-0.0 \t-0.0 \t-0.0 \t-0.0 \t-0.0 \t-0.0 \t-0.0 \t-0.0 \t-0.0 \t-0.0 \t-0.0 \t-0.0 \t-0.0 \t-0.0 \t-0.0 \t-0.0 \t-0.0 \t-0.0 \t-0.0 \t-0.0 \t-0.0 \t-0.0 \t-0.0 \t-0.0 \t-0.0 \t-0.0 \t-0.0 \t-0.0 \t-0.0 \t-0.0 \t-0.0 \t-0.0 \t-0.0 \t-0.0 \t-0.0 \t-0.0 \t-0.0 \t-0.0 \t-0.0 \t-0.0 \t-0.0 \t-0.0 \t-0.0 \t-0.0 \t-0.0 \t-0.0 \t-0.0 \t-0.0 \t-0.0 \t-0.0 \t-0.0 \t-0.0 \t0.0 \t-0.0 \t-0.0 \t-0.0 \t-0.0 \t-0.0 \t-0.0 \t-0.0 \t-0.0 \t-0.0 \t-0.0 \t-0.0 \t-0.0 \t-0.0 \t-0.0 \t-0.0 \t-0.0 \t-0.0 \t-0.0 \t-0.0 \t-0.0 \t-0.0 \t-0.0 \t-0.0 \t0.0 \t-0.0 \t\n",
      "DC9 \t-0.0 \t-0.0 \t-0.0 \t-0.0 \t-0.0 \t-0.0 \t-0.0 \t-0.0 \t129.0 \t-0.0 \t-0.0 \t-0.0 \t-0.0 \t-0.0 \t142.0 \t-0.0 \t-0.0 \t-0.0 \t-0.0 \t92.0 \t-0.0 \t-0.0 \t-0.0 \t-0.0 \t-0.0 \t183.0 \t-0.0 \t-0.0 \t-0.0 \t-0.0 \t-0.0 \t0.0 \t-0.0 \t-0.0 \t-0.0 \t-0.0 \t-0.0 \t-0.0 \t-0.0 \t-0.0 \t-0.0 \t-0.0 \t-0.0 \t60.0 \t-0.0 \t0.0 \t-0.0 \t-0.0 \t108.0 \t-0.0 \t-0.0 \t190.0 \t-0.0 \t-0.0 \t-0.0 \t-0.0 \t-0.0 \t-0.0 \t-0.0 \t-0.0 \t-0.0 \t123.0 \t-0.0 \t-0.0 \t-0.0 \t-0.0 \t-0.0 \t-0.0 \t-0.0 \t-0.0 \t-0.0 \t-0.0 \t-0.0 \t123.0 \t-0.0 \t-0.0 \t-0.0 \t-0.0 \t-0.0 \t-0.0 \t-0.0 \t-0.0 \t-0.0 \t-0.0 \t-0.0 \t-0.0 \t159.0 \t-0.0 \t170.0 \t-0.0 \t-0.0 \t-0.0 \t-0.0 \t-0.0 \t-0.0 \t127.0 \t-0.0 \t-0.0 \t-0.0 \t-0.0 \t\n",
      "DC10 \t-0.0 \t-0.0 \t-0.0 \t-0.0 \t-0.0 \t-0.0 \t178.0 \t-0.0 \t-0.0 \t-0.0 \t-0.0 \t135.0 \t161.0 \t-0.0 \t-0.0 \t-0.0 \t187.0 \t-0.0 \t-0.0 \t-0.0 \t130.0 \t-0.0 \t-0.0 \t-0.0 \t-0.0 \t-0.0 \t-0.0 \t-0.0 \t-0.0 \t-0.0 \t-0.0 \t-0.0 \t-0.0 \t-0.0 \t-0.0 \t-0.0 \t-0.0 \t-0.0 \t150.0 \t174.0 \t-0.0 \t-0.0 \t-0.0 \t-0.0 \t-0.0 \t-0.0 \t-0.0 \t-0.0 \t-0.0 \t-0.0 \t-0.0 \t0.0 \t-0.0 \t-0.0 \t-0.0 \t162.0 \t-0.0 \t-0.0 \t-0.0 \t-0.0 \t-0.0 \t-0.0 \t-0.0 \t-0.0 \t-0.0 \t-0.0 \t-0.0 \t-0.0 \t-0.0 \t-0.0 \t-0.0 \t-0.0 \t-0.0 \t69.0 \t-0.0 \t-0.0 \t132.0 \t-0.0 \t-0.0 \t-0.0 \t-0.0 \t-0.0 \t-0.0 \t106.0 \t-0.0 \t-0.0 \t-0.0 \t-0.0 \t-0.0 \t-0.0 \t-0.0 \t-0.0 \t-0.0 \t-0.0 \t-0.0 \t-0.0 \t-0.0 \t-0.0 \t-0.0 \t-0.0 \t\n",
      "DC's scale: \n",
      "DC1 \t3124\n",
      "DC2 \t1240\n",
      "DC3 \t910\n",
      "DC4 \t1498\n",
      "DC5 \t1389\n",
      "DC6 \t2592\n",
      "DC7 \t1218\n",
      "DC8 \t0\n",
      "DC9 \t1606\n",
      "DC10 \t1584\n",
      "z* =  486706.0\n"
     ]
    }
   ],
   "source": [
    "print(\"1(a) Results | Multiple sourcing: \")\n",
    "\n",
    "for j in dcs:\n",
    "    print(v[j].varName, '=', v[j].x)\n",
    "\n",
    "for j in dcs:\n",
    "    print(\"DC\" + str(j+1), \"\\t\", end=\"\")\n",
    "    for i in stores:\n",
    "        if len(str(r[i][j].x)) < 11:\n",
    "            print(r[i][j].x, \"\\t\", end=\"\")\n",
    "        else:\n",
    "            print(r[i][j].x, \"\", end=\"\")\n",
    "    print(\"\")\n",
    "\n",
    "print(\"DC's scale: \")\n",
    "for j in dcs:\n",
    "    count = 0\n",
    "    print(\"DC\" + str(j+1), \"\\t\", end=\"\")\n",
    "    for i in stores:\n",
    "        count += int(r[i][j].x)\n",
    "    print(count)\n",
    "\n",
    "print(\"z* = \", eg1a.ObjVal)"
   ]
  },
  {
   "attachments": {},
   "cell_type": "markdown",
   "metadata": {},
   "source": [
    "#### Model 1(b): min TC (Single sourcing)"
   ]
  },
  {
   "cell_type": "code",
   "execution_count": 1022,
   "metadata": {},
   "outputs": [],
   "source": [
    "eg1b = Model(\"eg1b\")\n",
    "eg1b.Params.LogFile = \"eg1b.log\" \n",
    "results = glt.parse(\"eg1b*.log\")\n",
    "summary = results.summary()\n",
    "nodelog_progress = results.progress(\"nodelog\")\n",
    "\n",
    "\n",
    "#-------- Add variables as a list ---------#\n",
    "# vj = 1 if a DC is built at loc j\n",
    "v = []\n",
    "for j in dcs:\n",
    "    v.append(eg1b.addVar(lb=0, vtype = GRB.BINARY, name = \"v\" + str(j+1)))\n",
    "\n",
    "# rij = the amount of products replenished by DCj to store i\n",
    "r = []\n",
    "for i in stores:\n",
    "    r.append([])\n",
    "    for j in dcs:\n",
    "        r[i].append(eg1b.addVar(lb = 0, vtype = GRB.INTEGER, name = \"r\" + str(i+1) + str(j+1)))\n",
    "        \n",
    "# zij = 1 if products are replenished by DCj to store i (rij>0)\n",
    "z = []\n",
    "for i in stores:\n",
    "    z.append([])\n",
    "    for j in dcs:\n",
    "        z[i].append(eg1b.addVar(lb = 0, vtype = GRB.BINARY, name = \"z\" + str(i+1) + str(j+1)))\n",
    "\n",
    "# Manhattan distancebetween store i and DCj on x-axis\n",
    "wx = []\n",
    "for i in stores:\n",
    "    wx.append([])\n",
    "    for j in dcs:\n",
    "        wx[i].append(eg1b.addVar(lb = 0, vtype = GRB.INTEGER, name = \"wx\" + str(i+1) + str(j+1)))\n",
    "# Manhattan distancebetween store i and DCj on y-axis\n",
    "wy = []\n",
    "for i in stores:\n",
    "    wy.append([])\n",
    "    for j in dcs:\n",
    "        wy[i].append(eg1b.addVar(lb = 0, vtype = GRB.INTEGER, name = \"wy\" + str(i+1) + str(j+1)))"
   ]
  },
  {
   "attachments": {},
   "cell_type": "markdown",
   "metadata": {},
   "source": [
    "##### Objective Function"
   ]
  },
  {
   "cell_type": "code",
   "execution_count": 1023,
   "metadata": {},
   "outputs": [],
   "source": [
    "eg1b.setObjective(\n",
    "    quicksum(v[j] * construction_costs[j] for j in dcs) \\\n",
    "    + quicksum(v[j] * maintenance_costs[j] * quicksum(r[i][j] for i in stores) for j in dcs) \\\n",
    "    + quicksum(quicksum(r[i][j] * (wx[i][j] + wy[i][j]) for i in stores) for j in dcs)\\\n",
    "    ,GRB.MINIMIZE\n",
    ")"
   ]
  },
  {
   "attachments": {},
   "cell_type": "markdown",
   "metadata": {},
   "source": [
    "##### Constraints"
   ]
  },
  {
   "cell_type": "code",
   "execution_count": 1024,
   "metadata": {},
   "outputs": [
    {
     "data": {
      "text/plain": [
       "{(0, 0): <gurobi.Constr *Awaiting Model Update*>,\n",
       " (0, 1): <gurobi.Constr *Awaiting Model Update*>,\n",
       " (0, 2): <gurobi.Constr *Awaiting Model Update*>,\n",
       " (0, 3): <gurobi.Constr *Awaiting Model Update*>,\n",
       " (0, 4): <gurobi.Constr *Awaiting Model Update*>,\n",
       " (0, 5): <gurobi.Constr *Awaiting Model Update*>,\n",
       " (0, 6): <gurobi.Constr *Awaiting Model Update*>,\n",
       " (0, 7): <gurobi.Constr *Awaiting Model Update*>,\n",
       " (0, 8): <gurobi.Constr *Awaiting Model Update*>,\n",
       " (0, 9): <gurobi.Constr *Awaiting Model Update*>,\n",
       " (0, 10): <gurobi.Constr *Awaiting Model Update*>,\n",
       " (0, 11): <gurobi.Constr *Awaiting Model Update*>,\n",
       " (0, 12): <gurobi.Constr *Awaiting Model Update*>,\n",
       " (0, 13): <gurobi.Constr *Awaiting Model Update*>,\n",
       " (0, 14): <gurobi.Constr *Awaiting Model Update*>,\n",
       " (0, 15): <gurobi.Constr *Awaiting Model Update*>,\n",
       " (0, 16): <gurobi.Constr *Awaiting Model Update*>,\n",
       " (0, 17): <gurobi.Constr *Awaiting Model Update*>,\n",
       " (0, 18): <gurobi.Constr *Awaiting Model Update*>,\n",
       " (0, 19): <gurobi.Constr *Awaiting Model Update*>,\n",
       " (0, 20): <gurobi.Constr *Awaiting Model Update*>,\n",
       " (0, 21): <gurobi.Constr *Awaiting Model Update*>,\n",
       " (0, 22): <gurobi.Constr *Awaiting Model Update*>,\n",
       " (0, 23): <gurobi.Constr *Awaiting Model Update*>,\n",
       " (0, 24): <gurobi.Constr *Awaiting Model Update*>,\n",
       " (0, 25): <gurobi.Constr *Awaiting Model Update*>,\n",
       " (0, 26): <gurobi.Constr *Awaiting Model Update*>,\n",
       " (0, 27): <gurobi.Constr *Awaiting Model Update*>,\n",
       " (0, 28): <gurobi.Constr *Awaiting Model Update*>,\n",
       " (0, 29): <gurobi.Constr *Awaiting Model Update*>,\n",
       " (0, 30): <gurobi.Constr *Awaiting Model Update*>,\n",
       " (0, 31): <gurobi.Constr *Awaiting Model Update*>,\n",
       " (0, 32): <gurobi.Constr *Awaiting Model Update*>,\n",
       " (0, 33): <gurobi.Constr *Awaiting Model Update*>,\n",
       " (0, 34): <gurobi.Constr *Awaiting Model Update*>,\n",
       " (0, 35): <gurobi.Constr *Awaiting Model Update*>,\n",
       " (0, 36): <gurobi.Constr *Awaiting Model Update*>,\n",
       " (0, 37): <gurobi.Constr *Awaiting Model Update*>,\n",
       " (0, 38): <gurobi.Constr *Awaiting Model Update*>,\n",
       " (0, 39): <gurobi.Constr *Awaiting Model Update*>,\n",
       " (0, 40): <gurobi.Constr *Awaiting Model Update*>,\n",
       " (0, 41): <gurobi.Constr *Awaiting Model Update*>,\n",
       " (0, 42): <gurobi.Constr *Awaiting Model Update*>,\n",
       " (0, 43): <gurobi.Constr *Awaiting Model Update*>,\n",
       " (0, 44): <gurobi.Constr *Awaiting Model Update*>,\n",
       " (0, 45): <gurobi.Constr *Awaiting Model Update*>,\n",
       " (0, 46): <gurobi.Constr *Awaiting Model Update*>,\n",
       " (0, 47): <gurobi.Constr *Awaiting Model Update*>,\n",
       " (0, 48): <gurobi.Constr *Awaiting Model Update*>,\n",
       " (0, 49): <gurobi.Constr *Awaiting Model Update*>,\n",
       " (0, 50): <gurobi.Constr *Awaiting Model Update*>,\n",
       " (0, 51): <gurobi.Constr *Awaiting Model Update*>,\n",
       " (0, 52): <gurobi.Constr *Awaiting Model Update*>,\n",
       " (0, 53): <gurobi.Constr *Awaiting Model Update*>,\n",
       " (0, 54): <gurobi.Constr *Awaiting Model Update*>,\n",
       " (0, 55): <gurobi.Constr *Awaiting Model Update*>,\n",
       " (0, 56): <gurobi.Constr *Awaiting Model Update*>,\n",
       " (0, 57): <gurobi.Constr *Awaiting Model Update*>,\n",
       " (0, 58): <gurobi.Constr *Awaiting Model Update*>,\n",
       " (0, 59): <gurobi.Constr *Awaiting Model Update*>,\n",
       " (0, 60): <gurobi.Constr *Awaiting Model Update*>,\n",
       " (0, 61): <gurobi.Constr *Awaiting Model Update*>,\n",
       " (0, 62): <gurobi.Constr *Awaiting Model Update*>,\n",
       " (0, 63): <gurobi.Constr *Awaiting Model Update*>,\n",
       " (0, 64): <gurobi.Constr *Awaiting Model Update*>,\n",
       " (0, 65): <gurobi.Constr *Awaiting Model Update*>,\n",
       " (0, 66): <gurobi.Constr *Awaiting Model Update*>,\n",
       " (0, 67): <gurobi.Constr *Awaiting Model Update*>,\n",
       " (0, 68): <gurobi.Constr *Awaiting Model Update*>,\n",
       " (0, 69): <gurobi.Constr *Awaiting Model Update*>,\n",
       " (0, 70): <gurobi.Constr *Awaiting Model Update*>,\n",
       " (0, 71): <gurobi.Constr *Awaiting Model Update*>,\n",
       " (0, 72): <gurobi.Constr *Awaiting Model Update*>,\n",
       " (0, 73): <gurobi.Constr *Awaiting Model Update*>,\n",
       " (0, 74): <gurobi.Constr *Awaiting Model Update*>,\n",
       " (0, 75): <gurobi.Constr *Awaiting Model Update*>,\n",
       " (0, 76): <gurobi.Constr *Awaiting Model Update*>,\n",
       " (0, 77): <gurobi.Constr *Awaiting Model Update*>,\n",
       " (0, 78): <gurobi.Constr *Awaiting Model Update*>,\n",
       " (0, 79): <gurobi.Constr *Awaiting Model Update*>,\n",
       " (0, 80): <gurobi.Constr *Awaiting Model Update*>,\n",
       " (0, 81): <gurobi.Constr *Awaiting Model Update*>,\n",
       " (0, 82): <gurobi.Constr *Awaiting Model Update*>,\n",
       " (0, 83): <gurobi.Constr *Awaiting Model Update*>,\n",
       " (0, 84): <gurobi.Constr *Awaiting Model Update*>,\n",
       " (0, 85): <gurobi.Constr *Awaiting Model Update*>,\n",
       " (0, 86): <gurobi.Constr *Awaiting Model Update*>,\n",
       " (0, 87): <gurobi.Constr *Awaiting Model Update*>,\n",
       " (0, 88): <gurobi.Constr *Awaiting Model Update*>,\n",
       " (0, 89): <gurobi.Constr *Awaiting Model Update*>,\n",
       " (0, 90): <gurobi.Constr *Awaiting Model Update*>,\n",
       " (0, 91): <gurobi.Constr *Awaiting Model Update*>,\n",
       " (0, 92): <gurobi.Constr *Awaiting Model Update*>,\n",
       " (0, 93): <gurobi.Constr *Awaiting Model Update*>,\n",
       " (0, 94): <gurobi.Constr *Awaiting Model Update*>,\n",
       " (0, 95): <gurobi.Constr *Awaiting Model Update*>,\n",
       " (0, 96): <gurobi.Constr *Awaiting Model Update*>,\n",
       " (0, 97): <gurobi.Constr *Awaiting Model Update*>,\n",
       " (0, 98): <gurobi.Constr *Awaiting Model Update*>,\n",
       " (0, 99): <gurobi.Constr *Awaiting Model Update*>,\n",
       " (1, 0): <gurobi.Constr *Awaiting Model Update*>,\n",
       " (1, 1): <gurobi.Constr *Awaiting Model Update*>,\n",
       " (1, 2): <gurobi.Constr *Awaiting Model Update*>,\n",
       " (1, 3): <gurobi.Constr *Awaiting Model Update*>,\n",
       " (1, 4): <gurobi.Constr *Awaiting Model Update*>,\n",
       " (1, 5): <gurobi.Constr *Awaiting Model Update*>,\n",
       " (1, 6): <gurobi.Constr *Awaiting Model Update*>,\n",
       " (1, 7): <gurobi.Constr *Awaiting Model Update*>,\n",
       " (1, 8): <gurobi.Constr *Awaiting Model Update*>,\n",
       " (1, 9): <gurobi.Constr *Awaiting Model Update*>,\n",
       " (1, 10): <gurobi.Constr *Awaiting Model Update*>,\n",
       " (1, 11): <gurobi.Constr *Awaiting Model Update*>,\n",
       " (1, 12): <gurobi.Constr *Awaiting Model Update*>,\n",
       " (1, 13): <gurobi.Constr *Awaiting Model Update*>,\n",
       " (1, 14): <gurobi.Constr *Awaiting Model Update*>,\n",
       " (1, 15): <gurobi.Constr *Awaiting Model Update*>,\n",
       " (1, 16): <gurobi.Constr *Awaiting Model Update*>,\n",
       " (1, 17): <gurobi.Constr *Awaiting Model Update*>,\n",
       " (1, 18): <gurobi.Constr *Awaiting Model Update*>,\n",
       " (1, 19): <gurobi.Constr *Awaiting Model Update*>,\n",
       " (1, 20): <gurobi.Constr *Awaiting Model Update*>,\n",
       " (1, 21): <gurobi.Constr *Awaiting Model Update*>,\n",
       " (1, 22): <gurobi.Constr *Awaiting Model Update*>,\n",
       " (1, 23): <gurobi.Constr *Awaiting Model Update*>,\n",
       " (1, 24): <gurobi.Constr *Awaiting Model Update*>,\n",
       " (1, 25): <gurobi.Constr *Awaiting Model Update*>,\n",
       " (1, 26): <gurobi.Constr *Awaiting Model Update*>,\n",
       " (1, 27): <gurobi.Constr *Awaiting Model Update*>,\n",
       " (1, 28): <gurobi.Constr *Awaiting Model Update*>,\n",
       " (1, 29): <gurobi.Constr *Awaiting Model Update*>,\n",
       " (1, 30): <gurobi.Constr *Awaiting Model Update*>,\n",
       " (1, 31): <gurobi.Constr *Awaiting Model Update*>,\n",
       " (1, 32): <gurobi.Constr *Awaiting Model Update*>,\n",
       " (1, 33): <gurobi.Constr *Awaiting Model Update*>,\n",
       " (1, 34): <gurobi.Constr *Awaiting Model Update*>,\n",
       " (1, 35): <gurobi.Constr *Awaiting Model Update*>,\n",
       " (1, 36): <gurobi.Constr *Awaiting Model Update*>,\n",
       " (1, 37): <gurobi.Constr *Awaiting Model Update*>,\n",
       " (1, 38): <gurobi.Constr *Awaiting Model Update*>,\n",
       " (1, 39): <gurobi.Constr *Awaiting Model Update*>,\n",
       " (1, 40): <gurobi.Constr *Awaiting Model Update*>,\n",
       " (1, 41): <gurobi.Constr *Awaiting Model Update*>,\n",
       " (1, 42): <gurobi.Constr *Awaiting Model Update*>,\n",
       " (1, 43): <gurobi.Constr *Awaiting Model Update*>,\n",
       " (1, 44): <gurobi.Constr *Awaiting Model Update*>,\n",
       " (1, 45): <gurobi.Constr *Awaiting Model Update*>,\n",
       " (1, 46): <gurobi.Constr *Awaiting Model Update*>,\n",
       " (1, 47): <gurobi.Constr *Awaiting Model Update*>,\n",
       " (1, 48): <gurobi.Constr *Awaiting Model Update*>,\n",
       " (1, 49): <gurobi.Constr *Awaiting Model Update*>,\n",
       " (1, 50): <gurobi.Constr *Awaiting Model Update*>,\n",
       " (1, 51): <gurobi.Constr *Awaiting Model Update*>,\n",
       " (1, 52): <gurobi.Constr *Awaiting Model Update*>,\n",
       " (1, 53): <gurobi.Constr *Awaiting Model Update*>,\n",
       " (1, 54): <gurobi.Constr *Awaiting Model Update*>,\n",
       " (1, 55): <gurobi.Constr *Awaiting Model Update*>,\n",
       " (1, 56): <gurobi.Constr *Awaiting Model Update*>,\n",
       " (1, 57): <gurobi.Constr *Awaiting Model Update*>,\n",
       " (1, 58): <gurobi.Constr *Awaiting Model Update*>,\n",
       " (1, 59): <gurobi.Constr *Awaiting Model Update*>,\n",
       " (1, 60): <gurobi.Constr *Awaiting Model Update*>,\n",
       " (1, 61): <gurobi.Constr *Awaiting Model Update*>,\n",
       " (1, 62): <gurobi.Constr *Awaiting Model Update*>,\n",
       " (1, 63): <gurobi.Constr *Awaiting Model Update*>,\n",
       " (1, 64): <gurobi.Constr *Awaiting Model Update*>,\n",
       " (1, 65): <gurobi.Constr *Awaiting Model Update*>,\n",
       " (1, 66): <gurobi.Constr *Awaiting Model Update*>,\n",
       " (1, 67): <gurobi.Constr *Awaiting Model Update*>,\n",
       " (1, 68): <gurobi.Constr *Awaiting Model Update*>,\n",
       " (1, 69): <gurobi.Constr *Awaiting Model Update*>,\n",
       " (1, 70): <gurobi.Constr *Awaiting Model Update*>,\n",
       " (1, 71): <gurobi.Constr *Awaiting Model Update*>,\n",
       " (1, 72): <gurobi.Constr *Awaiting Model Update*>,\n",
       " (1, 73): <gurobi.Constr *Awaiting Model Update*>,\n",
       " (1, 74): <gurobi.Constr *Awaiting Model Update*>,\n",
       " (1, 75): <gurobi.Constr *Awaiting Model Update*>,\n",
       " (1, 76): <gurobi.Constr *Awaiting Model Update*>,\n",
       " (1, 77): <gurobi.Constr *Awaiting Model Update*>,\n",
       " (1, 78): <gurobi.Constr *Awaiting Model Update*>,\n",
       " (1, 79): <gurobi.Constr *Awaiting Model Update*>,\n",
       " (1, 80): <gurobi.Constr *Awaiting Model Update*>,\n",
       " (1, 81): <gurobi.Constr *Awaiting Model Update*>,\n",
       " (1, 82): <gurobi.Constr *Awaiting Model Update*>,\n",
       " (1, 83): <gurobi.Constr *Awaiting Model Update*>,\n",
       " (1, 84): <gurobi.Constr *Awaiting Model Update*>,\n",
       " (1, 85): <gurobi.Constr *Awaiting Model Update*>,\n",
       " (1, 86): <gurobi.Constr *Awaiting Model Update*>,\n",
       " (1, 87): <gurobi.Constr *Awaiting Model Update*>,\n",
       " (1, 88): <gurobi.Constr *Awaiting Model Update*>,\n",
       " (1, 89): <gurobi.Constr *Awaiting Model Update*>,\n",
       " (1, 90): <gurobi.Constr *Awaiting Model Update*>,\n",
       " (1, 91): <gurobi.Constr *Awaiting Model Update*>,\n",
       " (1, 92): <gurobi.Constr *Awaiting Model Update*>,\n",
       " (1, 93): <gurobi.Constr *Awaiting Model Update*>,\n",
       " (1, 94): <gurobi.Constr *Awaiting Model Update*>,\n",
       " (1, 95): <gurobi.Constr *Awaiting Model Update*>,\n",
       " (1, 96): <gurobi.Constr *Awaiting Model Update*>,\n",
       " (1, 97): <gurobi.Constr *Awaiting Model Update*>,\n",
       " (1, 98): <gurobi.Constr *Awaiting Model Update*>,\n",
       " (1, 99): <gurobi.Constr *Awaiting Model Update*>,\n",
       " (2, 0): <gurobi.Constr *Awaiting Model Update*>,\n",
       " (2, 1): <gurobi.Constr *Awaiting Model Update*>,\n",
       " (2, 2): <gurobi.Constr *Awaiting Model Update*>,\n",
       " (2, 3): <gurobi.Constr *Awaiting Model Update*>,\n",
       " (2, 4): <gurobi.Constr *Awaiting Model Update*>,\n",
       " (2, 5): <gurobi.Constr *Awaiting Model Update*>,\n",
       " (2, 6): <gurobi.Constr *Awaiting Model Update*>,\n",
       " (2, 7): <gurobi.Constr *Awaiting Model Update*>,\n",
       " (2, 8): <gurobi.Constr *Awaiting Model Update*>,\n",
       " (2, 9): <gurobi.Constr *Awaiting Model Update*>,\n",
       " (2, 10): <gurobi.Constr *Awaiting Model Update*>,\n",
       " (2, 11): <gurobi.Constr *Awaiting Model Update*>,\n",
       " (2, 12): <gurobi.Constr *Awaiting Model Update*>,\n",
       " (2, 13): <gurobi.Constr *Awaiting Model Update*>,\n",
       " (2, 14): <gurobi.Constr *Awaiting Model Update*>,\n",
       " (2, 15): <gurobi.Constr *Awaiting Model Update*>,\n",
       " (2, 16): <gurobi.Constr *Awaiting Model Update*>,\n",
       " (2, 17): <gurobi.Constr *Awaiting Model Update*>,\n",
       " (2, 18): <gurobi.Constr *Awaiting Model Update*>,\n",
       " (2, 19): <gurobi.Constr *Awaiting Model Update*>,\n",
       " (2, 20): <gurobi.Constr *Awaiting Model Update*>,\n",
       " (2, 21): <gurobi.Constr *Awaiting Model Update*>,\n",
       " (2, 22): <gurobi.Constr *Awaiting Model Update*>,\n",
       " (2, 23): <gurobi.Constr *Awaiting Model Update*>,\n",
       " (2, 24): <gurobi.Constr *Awaiting Model Update*>,\n",
       " (2, 25): <gurobi.Constr *Awaiting Model Update*>,\n",
       " (2, 26): <gurobi.Constr *Awaiting Model Update*>,\n",
       " (2, 27): <gurobi.Constr *Awaiting Model Update*>,\n",
       " (2, 28): <gurobi.Constr *Awaiting Model Update*>,\n",
       " (2, 29): <gurobi.Constr *Awaiting Model Update*>,\n",
       " (2, 30): <gurobi.Constr *Awaiting Model Update*>,\n",
       " (2, 31): <gurobi.Constr *Awaiting Model Update*>,\n",
       " (2, 32): <gurobi.Constr *Awaiting Model Update*>,\n",
       " (2, 33): <gurobi.Constr *Awaiting Model Update*>,\n",
       " (2, 34): <gurobi.Constr *Awaiting Model Update*>,\n",
       " (2, 35): <gurobi.Constr *Awaiting Model Update*>,\n",
       " (2, 36): <gurobi.Constr *Awaiting Model Update*>,\n",
       " (2, 37): <gurobi.Constr *Awaiting Model Update*>,\n",
       " (2, 38): <gurobi.Constr *Awaiting Model Update*>,\n",
       " (2, 39): <gurobi.Constr *Awaiting Model Update*>,\n",
       " (2, 40): <gurobi.Constr *Awaiting Model Update*>,\n",
       " (2, 41): <gurobi.Constr *Awaiting Model Update*>,\n",
       " (2, 42): <gurobi.Constr *Awaiting Model Update*>,\n",
       " (2, 43): <gurobi.Constr *Awaiting Model Update*>,\n",
       " (2, 44): <gurobi.Constr *Awaiting Model Update*>,\n",
       " (2, 45): <gurobi.Constr *Awaiting Model Update*>,\n",
       " (2, 46): <gurobi.Constr *Awaiting Model Update*>,\n",
       " (2, 47): <gurobi.Constr *Awaiting Model Update*>,\n",
       " (2, 48): <gurobi.Constr *Awaiting Model Update*>,\n",
       " (2, 49): <gurobi.Constr *Awaiting Model Update*>,\n",
       " (2, 50): <gurobi.Constr *Awaiting Model Update*>,\n",
       " (2, 51): <gurobi.Constr *Awaiting Model Update*>,\n",
       " (2, 52): <gurobi.Constr *Awaiting Model Update*>,\n",
       " (2, 53): <gurobi.Constr *Awaiting Model Update*>,\n",
       " (2, 54): <gurobi.Constr *Awaiting Model Update*>,\n",
       " (2, 55): <gurobi.Constr *Awaiting Model Update*>,\n",
       " (2, 56): <gurobi.Constr *Awaiting Model Update*>,\n",
       " (2, 57): <gurobi.Constr *Awaiting Model Update*>,\n",
       " (2, 58): <gurobi.Constr *Awaiting Model Update*>,\n",
       " (2, 59): <gurobi.Constr *Awaiting Model Update*>,\n",
       " (2, 60): <gurobi.Constr *Awaiting Model Update*>,\n",
       " (2, 61): <gurobi.Constr *Awaiting Model Update*>,\n",
       " (2, 62): <gurobi.Constr *Awaiting Model Update*>,\n",
       " (2, 63): <gurobi.Constr *Awaiting Model Update*>,\n",
       " (2, 64): <gurobi.Constr *Awaiting Model Update*>,\n",
       " (2, 65): <gurobi.Constr *Awaiting Model Update*>,\n",
       " (2, 66): <gurobi.Constr *Awaiting Model Update*>,\n",
       " (2, 67): <gurobi.Constr *Awaiting Model Update*>,\n",
       " (2, 68): <gurobi.Constr *Awaiting Model Update*>,\n",
       " (2, 69): <gurobi.Constr *Awaiting Model Update*>,\n",
       " (2, 70): <gurobi.Constr *Awaiting Model Update*>,\n",
       " (2, 71): <gurobi.Constr *Awaiting Model Update*>,\n",
       " (2, 72): <gurobi.Constr *Awaiting Model Update*>,\n",
       " (2, 73): <gurobi.Constr *Awaiting Model Update*>,\n",
       " (2, 74): <gurobi.Constr *Awaiting Model Update*>,\n",
       " (2, 75): <gurobi.Constr *Awaiting Model Update*>,\n",
       " (2, 76): <gurobi.Constr *Awaiting Model Update*>,\n",
       " (2, 77): <gurobi.Constr *Awaiting Model Update*>,\n",
       " (2, 78): <gurobi.Constr *Awaiting Model Update*>,\n",
       " (2, 79): <gurobi.Constr *Awaiting Model Update*>,\n",
       " (2, 80): <gurobi.Constr *Awaiting Model Update*>,\n",
       " (2, 81): <gurobi.Constr *Awaiting Model Update*>,\n",
       " (2, 82): <gurobi.Constr *Awaiting Model Update*>,\n",
       " (2, 83): <gurobi.Constr *Awaiting Model Update*>,\n",
       " (2, 84): <gurobi.Constr *Awaiting Model Update*>,\n",
       " (2, 85): <gurobi.Constr *Awaiting Model Update*>,\n",
       " (2, 86): <gurobi.Constr *Awaiting Model Update*>,\n",
       " (2, 87): <gurobi.Constr *Awaiting Model Update*>,\n",
       " (2, 88): <gurobi.Constr *Awaiting Model Update*>,\n",
       " (2, 89): <gurobi.Constr *Awaiting Model Update*>,\n",
       " (2, 90): <gurobi.Constr *Awaiting Model Update*>,\n",
       " (2, 91): <gurobi.Constr *Awaiting Model Update*>,\n",
       " (2, 92): <gurobi.Constr *Awaiting Model Update*>,\n",
       " (2, 93): <gurobi.Constr *Awaiting Model Update*>,\n",
       " (2, 94): <gurobi.Constr *Awaiting Model Update*>,\n",
       " (2, 95): <gurobi.Constr *Awaiting Model Update*>,\n",
       " (2, 96): <gurobi.Constr *Awaiting Model Update*>,\n",
       " (2, 97): <gurobi.Constr *Awaiting Model Update*>,\n",
       " (2, 98): <gurobi.Constr *Awaiting Model Update*>,\n",
       " (2, 99): <gurobi.Constr *Awaiting Model Update*>,\n",
       " (3, 0): <gurobi.Constr *Awaiting Model Update*>,\n",
       " (3, 1): <gurobi.Constr *Awaiting Model Update*>,\n",
       " (3, 2): <gurobi.Constr *Awaiting Model Update*>,\n",
       " (3, 3): <gurobi.Constr *Awaiting Model Update*>,\n",
       " (3, 4): <gurobi.Constr *Awaiting Model Update*>,\n",
       " (3, 5): <gurobi.Constr *Awaiting Model Update*>,\n",
       " (3, 6): <gurobi.Constr *Awaiting Model Update*>,\n",
       " (3, 7): <gurobi.Constr *Awaiting Model Update*>,\n",
       " (3, 8): <gurobi.Constr *Awaiting Model Update*>,\n",
       " (3, 9): <gurobi.Constr *Awaiting Model Update*>,\n",
       " (3, 10): <gurobi.Constr *Awaiting Model Update*>,\n",
       " (3, 11): <gurobi.Constr *Awaiting Model Update*>,\n",
       " (3, 12): <gurobi.Constr *Awaiting Model Update*>,\n",
       " (3, 13): <gurobi.Constr *Awaiting Model Update*>,\n",
       " (3, 14): <gurobi.Constr *Awaiting Model Update*>,\n",
       " (3, 15): <gurobi.Constr *Awaiting Model Update*>,\n",
       " (3, 16): <gurobi.Constr *Awaiting Model Update*>,\n",
       " (3, 17): <gurobi.Constr *Awaiting Model Update*>,\n",
       " (3, 18): <gurobi.Constr *Awaiting Model Update*>,\n",
       " (3, 19): <gurobi.Constr *Awaiting Model Update*>,\n",
       " (3, 20): <gurobi.Constr *Awaiting Model Update*>,\n",
       " (3, 21): <gurobi.Constr *Awaiting Model Update*>,\n",
       " (3, 22): <gurobi.Constr *Awaiting Model Update*>,\n",
       " (3, 23): <gurobi.Constr *Awaiting Model Update*>,\n",
       " (3, 24): <gurobi.Constr *Awaiting Model Update*>,\n",
       " (3, 25): <gurobi.Constr *Awaiting Model Update*>,\n",
       " (3, 26): <gurobi.Constr *Awaiting Model Update*>,\n",
       " (3, 27): <gurobi.Constr *Awaiting Model Update*>,\n",
       " (3, 28): <gurobi.Constr *Awaiting Model Update*>,\n",
       " (3, 29): <gurobi.Constr *Awaiting Model Update*>,\n",
       " (3, 30): <gurobi.Constr *Awaiting Model Update*>,\n",
       " (3, 31): <gurobi.Constr *Awaiting Model Update*>,\n",
       " (3, 32): <gurobi.Constr *Awaiting Model Update*>,\n",
       " (3, 33): <gurobi.Constr *Awaiting Model Update*>,\n",
       " (3, 34): <gurobi.Constr *Awaiting Model Update*>,\n",
       " (3, 35): <gurobi.Constr *Awaiting Model Update*>,\n",
       " (3, 36): <gurobi.Constr *Awaiting Model Update*>,\n",
       " (3, 37): <gurobi.Constr *Awaiting Model Update*>,\n",
       " (3, 38): <gurobi.Constr *Awaiting Model Update*>,\n",
       " (3, 39): <gurobi.Constr *Awaiting Model Update*>,\n",
       " (3, 40): <gurobi.Constr *Awaiting Model Update*>,\n",
       " (3, 41): <gurobi.Constr *Awaiting Model Update*>,\n",
       " (3, 42): <gurobi.Constr *Awaiting Model Update*>,\n",
       " (3, 43): <gurobi.Constr *Awaiting Model Update*>,\n",
       " (3, 44): <gurobi.Constr *Awaiting Model Update*>,\n",
       " (3, 45): <gurobi.Constr *Awaiting Model Update*>,\n",
       " (3, 46): <gurobi.Constr *Awaiting Model Update*>,\n",
       " (3, 47): <gurobi.Constr *Awaiting Model Update*>,\n",
       " (3, 48): <gurobi.Constr *Awaiting Model Update*>,\n",
       " (3, 49): <gurobi.Constr *Awaiting Model Update*>,\n",
       " (3, 50): <gurobi.Constr *Awaiting Model Update*>,\n",
       " (3, 51): <gurobi.Constr *Awaiting Model Update*>,\n",
       " (3, 52): <gurobi.Constr *Awaiting Model Update*>,\n",
       " (3, 53): <gurobi.Constr *Awaiting Model Update*>,\n",
       " (3, 54): <gurobi.Constr *Awaiting Model Update*>,\n",
       " (3, 55): <gurobi.Constr *Awaiting Model Update*>,\n",
       " (3, 56): <gurobi.Constr *Awaiting Model Update*>,\n",
       " (3, 57): <gurobi.Constr *Awaiting Model Update*>,\n",
       " (3, 58): <gurobi.Constr *Awaiting Model Update*>,\n",
       " (3, 59): <gurobi.Constr *Awaiting Model Update*>,\n",
       " (3, 60): <gurobi.Constr *Awaiting Model Update*>,\n",
       " (3, 61): <gurobi.Constr *Awaiting Model Update*>,\n",
       " (3, 62): <gurobi.Constr *Awaiting Model Update*>,\n",
       " (3, 63): <gurobi.Constr *Awaiting Model Update*>,\n",
       " (3, 64): <gurobi.Constr *Awaiting Model Update*>,\n",
       " (3, 65): <gurobi.Constr *Awaiting Model Update*>,\n",
       " (3, 66): <gurobi.Constr *Awaiting Model Update*>,\n",
       " (3, 67): <gurobi.Constr *Awaiting Model Update*>,\n",
       " (3, 68): <gurobi.Constr *Awaiting Model Update*>,\n",
       " (3, 69): <gurobi.Constr *Awaiting Model Update*>,\n",
       " (3, 70): <gurobi.Constr *Awaiting Model Update*>,\n",
       " (3, 71): <gurobi.Constr *Awaiting Model Update*>,\n",
       " (3, 72): <gurobi.Constr *Awaiting Model Update*>,\n",
       " (3, 73): <gurobi.Constr *Awaiting Model Update*>,\n",
       " (3, 74): <gurobi.Constr *Awaiting Model Update*>,\n",
       " (3, 75): <gurobi.Constr *Awaiting Model Update*>,\n",
       " (3, 76): <gurobi.Constr *Awaiting Model Update*>,\n",
       " (3, 77): <gurobi.Constr *Awaiting Model Update*>,\n",
       " (3, 78): <gurobi.Constr *Awaiting Model Update*>,\n",
       " (3, 79): <gurobi.Constr *Awaiting Model Update*>,\n",
       " (3, 80): <gurobi.Constr *Awaiting Model Update*>,\n",
       " (3, 81): <gurobi.Constr *Awaiting Model Update*>,\n",
       " (3, 82): <gurobi.Constr *Awaiting Model Update*>,\n",
       " (3, 83): <gurobi.Constr *Awaiting Model Update*>,\n",
       " (3, 84): <gurobi.Constr *Awaiting Model Update*>,\n",
       " (3, 85): <gurobi.Constr *Awaiting Model Update*>,\n",
       " (3, 86): <gurobi.Constr *Awaiting Model Update*>,\n",
       " (3, 87): <gurobi.Constr *Awaiting Model Update*>,\n",
       " (3, 88): <gurobi.Constr *Awaiting Model Update*>,\n",
       " (3, 89): <gurobi.Constr *Awaiting Model Update*>,\n",
       " (3, 90): <gurobi.Constr *Awaiting Model Update*>,\n",
       " (3, 91): <gurobi.Constr *Awaiting Model Update*>,\n",
       " (3, 92): <gurobi.Constr *Awaiting Model Update*>,\n",
       " (3, 93): <gurobi.Constr *Awaiting Model Update*>,\n",
       " (3, 94): <gurobi.Constr *Awaiting Model Update*>,\n",
       " (3, 95): <gurobi.Constr *Awaiting Model Update*>,\n",
       " (3, 96): <gurobi.Constr *Awaiting Model Update*>,\n",
       " (3, 97): <gurobi.Constr *Awaiting Model Update*>,\n",
       " (3, 98): <gurobi.Constr *Awaiting Model Update*>,\n",
       " (3, 99): <gurobi.Constr *Awaiting Model Update*>,\n",
       " (4, 0): <gurobi.Constr *Awaiting Model Update*>,\n",
       " (4, 1): <gurobi.Constr *Awaiting Model Update*>,\n",
       " (4, 2): <gurobi.Constr *Awaiting Model Update*>,\n",
       " (4, 3): <gurobi.Constr *Awaiting Model Update*>,\n",
       " (4, 4): <gurobi.Constr *Awaiting Model Update*>,\n",
       " (4, 5): <gurobi.Constr *Awaiting Model Update*>,\n",
       " (4, 6): <gurobi.Constr *Awaiting Model Update*>,\n",
       " (4, 7): <gurobi.Constr *Awaiting Model Update*>,\n",
       " (4, 8): <gurobi.Constr *Awaiting Model Update*>,\n",
       " (4, 9): <gurobi.Constr *Awaiting Model Update*>,\n",
       " (4, 10): <gurobi.Constr *Awaiting Model Update*>,\n",
       " (4, 11): <gurobi.Constr *Awaiting Model Update*>,\n",
       " (4, 12): <gurobi.Constr *Awaiting Model Update*>,\n",
       " (4, 13): <gurobi.Constr *Awaiting Model Update*>,\n",
       " (4, 14): <gurobi.Constr *Awaiting Model Update*>,\n",
       " (4, 15): <gurobi.Constr *Awaiting Model Update*>,\n",
       " (4, 16): <gurobi.Constr *Awaiting Model Update*>,\n",
       " (4, 17): <gurobi.Constr *Awaiting Model Update*>,\n",
       " (4, 18): <gurobi.Constr *Awaiting Model Update*>,\n",
       " (4, 19): <gurobi.Constr *Awaiting Model Update*>,\n",
       " (4, 20): <gurobi.Constr *Awaiting Model Update*>,\n",
       " (4, 21): <gurobi.Constr *Awaiting Model Update*>,\n",
       " (4, 22): <gurobi.Constr *Awaiting Model Update*>,\n",
       " (4, 23): <gurobi.Constr *Awaiting Model Update*>,\n",
       " (4, 24): <gurobi.Constr *Awaiting Model Update*>,\n",
       " (4, 25): <gurobi.Constr *Awaiting Model Update*>,\n",
       " (4, 26): <gurobi.Constr *Awaiting Model Update*>,\n",
       " (4, 27): <gurobi.Constr *Awaiting Model Update*>,\n",
       " (4, 28): <gurobi.Constr *Awaiting Model Update*>,\n",
       " (4, 29): <gurobi.Constr *Awaiting Model Update*>,\n",
       " (4, 30): <gurobi.Constr *Awaiting Model Update*>,\n",
       " (4, 31): <gurobi.Constr *Awaiting Model Update*>,\n",
       " (4, 32): <gurobi.Constr *Awaiting Model Update*>,\n",
       " (4, 33): <gurobi.Constr *Awaiting Model Update*>,\n",
       " (4, 34): <gurobi.Constr *Awaiting Model Update*>,\n",
       " (4, 35): <gurobi.Constr *Awaiting Model Update*>,\n",
       " (4, 36): <gurobi.Constr *Awaiting Model Update*>,\n",
       " (4, 37): <gurobi.Constr *Awaiting Model Update*>,\n",
       " (4, 38): <gurobi.Constr *Awaiting Model Update*>,\n",
       " (4, 39): <gurobi.Constr *Awaiting Model Update*>,\n",
       " (4, 40): <gurobi.Constr *Awaiting Model Update*>,\n",
       " (4, 41): <gurobi.Constr *Awaiting Model Update*>,\n",
       " (4, 42): <gurobi.Constr *Awaiting Model Update*>,\n",
       " (4, 43): <gurobi.Constr *Awaiting Model Update*>,\n",
       " (4, 44): <gurobi.Constr *Awaiting Model Update*>,\n",
       " (4, 45): <gurobi.Constr *Awaiting Model Update*>,\n",
       " (4, 46): <gurobi.Constr *Awaiting Model Update*>,\n",
       " (4, 47): <gurobi.Constr *Awaiting Model Update*>,\n",
       " (4, 48): <gurobi.Constr *Awaiting Model Update*>,\n",
       " (4, 49): <gurobi.Constr *Awaiting Model Update*>,\n",
       " (4, 50): <gurobi.Constr *Awaiting Model Update*>,\n",
       " (4, 51): <gurobi.Constr *Awaiting Model Update*>,\n",
       " (4, 52): <gurobi.Constr *Awaiting Model Update*>,\n",
       " (4, 53): <gurobi.Constr *Awaiting Model Update*>,\n",
       " (4, 54): <gurobi.Constr *Awaiting Model Update*>,\n",
       " (4, 55): <gurobi.Constr *Awaiting Model Update*>,\n",
       " (4, 56): <gurobi.Constr *Awaiting Model Update*>,\n",
       " (4, 57): <gurobi.Constr *Awaiting Model Update*>,\n",
       " (4, 58): <gurobi.Constr *Awaiting Model Update*>,\n",
       " (4, 59): <gurobi.Constr *Awaiting Model Update*>,\n",
       " (4, 60): <gurobi.Constr *Awaiting Model Update*>,\n",
       " (4, 61): <gurobi.Constr *Awaiting Model Update*>,\n",
       " (4, 62): <gurobi.Constr *Awaiting Model Update*>,\n",
       " (4, 63): <gurobi.Constr *Awaiting Model Update*>,\n",
       " (4, 64): <gurobi.Constr *Awaiting Model Update*>,\n",
       " (4, 65): <gurobi.Constr *Awaiting Model Update*>,\n",
       " (4, 66): <gurobi.Constr *Awaiting Model Update*>,\n",
       " (4, 67): <gurobi.Constr *Awaiting Model Update*>,\n",
       " (4, 68): <gurobi.Constr *Awaiting Model Update*>,\n",
       " (4, 69): <gurobi.Constr *Awaiting Model Update*>,\n",
       " (4, 70): <gurobi.Constr *Awaiting Model Update*>,\n",
       " (4, 71): <gurobi.Constr *Awaiting Model Update*>,\n",
       " (4, 72): <gurobi.Constr *Awaiting Model Update*>,\n",
       " (4, 73): <gurobi.Constr *Awaiting Model Update*>,\n",
       " (4, 74): <gurobi.Constr *Awaiting Model Update*>,\n",
       " (4, 75): <gurobi.Constr *Awaiting Model Update*>,\n",
       " (4, 76): <gurobi.Constr *Awaiting Model Update*>,\n",
       " (4, 77): <gurobi.Constr *Awaiting Model Update*>,\n",
       " (4, 78): <gurobi.Constr *Awaiting Model Update*>,\n",
       " (4, 79): <gurobi.Constr *Awaiting Model Update*>,\n",
       " (4, 80): <gurobi.Constr *Awaiting Model Update*>,\n",
       " (4, 81): <gurobi.Constr *Awaiting Model Update*>,\n",
       " (4, 82): <gurobi.Constr *Awaiting Model Update*>,\n",
       " (4, 83): <gurobi.Constr *Awaiting Model Update*>,\n",
       " (4, 84): <gurobi.Constr *Awaiting Model Update*>,\n",
       " (4, 85): <gurobi.Constr *Awaiting Model Update*>,\n",
       " (4, 86): <gurobi.Constr *Awaiting Model Update*>,\n",
       " (4, 87): <gurobi.Constr *Awaiting Model Update*>,\n",
       " (4, 88): <gurobi.Constr *Awaiting Model Update*>,\n",
       " (4, 89): <gurobi.Constr *Awaiting Model Update*>,\n",
       " (4, 90): <gurobi.Constr *Awaiting Model Update*>,\n",
       " (4, 91): <gurobi.Constr *Awaiting Model Update*>,\n",
       " (4, 92): <gurobi.Constr *Awaiting Model Update*>,\n",
       " (4, 93): <gurobi.Constr *Awaiting Model Update*>,\n",
       " (4, 94): <gurobi.Constr *Awaiting Model Update*>,\n",
       " (4, 95): <gurobi.Constr *Awaiting Model Update*>,\n",
       " (4, 96): <gurobi.Constr *Awaiting Model Update*>,\n",
       " (4, 97): <gurobi.Constr *Awaiting Model Update*>,\n",
       " (4, 98): <gurobi.Constr *Awaiting Model Update*>,\n",
       " (4, 99): <gurobi.Constr *Awaiting Model Update*>,\n",
       " (5, 0): <gurobi.Constr *Awaiting Model Update*>,\n",
       " (5, 1): <gurobi.Constr *Awaiting Model Update*>,\n",
       " (5, 2): <gurobi.Constr *Awaiting Model Update*>,\n",
       " (5, 3): <gurobi.Constr *Awaiting Model Update*>,\n",
       " (5, 4): <gurobi.Constr *Awaiting Model Update*>,\n",
       " (5, 5): <gurobi.Constr *Awaiting Model Update*>,\n",
       " (5, 6): <gurobi.Constr *Awaiting Model Update*>,\n",
       " (5, 7): <gurobi.Constr *Awaiting Model Update*>,\n",
       " (5, 8): <gurobi.Constr *Awaiting Model Update*>,\n",
       " (5, 9): <gurobi.Constr *Awaiting Model Update*>,\n",
       " (5, 10): <gurobi.Constr *Awaiting Model Update*>,\n",
       " (5, 11): <gurobi.Constr *Awaiting Model Update*>,\n",
       " (5, 12): <gurobi.Constr *Awaiting Model Update*>,\n",
       " (5, 13): <gurobi.Constr *Awaiting Model Update*>,\n",
       " (5, 14): <gurobi.Constr *Awaiting Model Update*>,\n",
       " (5, 15): <gurobi.Constr *Awaiting Model Update*>,\n",
       " (5, 16): <gurobi.Constr *Awaiting Model Update*>,\n",
       " (5, 17): <gurobi.Constr *Awaiting Model Update*>,\n",
       " (5, 18): <gurobi.Constr *Awaiting Model Update*>,\n",
       " (5, 19): <gurobi.Constr *Awaiting Model Update*>,\n",
       " (5, 20): <gurobi.Constr *Awaiting Model Update*>,\n",
       " (5, 21): <gurobi.Constr *Awaiting Model Update*>,\n",
       " (5, 22): <gurobi.Constr *Awaiting Model Update*>,\n",
       " (5, 23): <gurobi.Constr *Awaiting Model Update*>,\n",
       " (5, 24): <gurobi.Constr *Awaiting Model Update*>,\n",
       " (5, 25): <gurobi.Constr *Awaiting Model Update*>,\n",
       " (5, 26): <gurobi.Constr *Awaiting Model Update*>,\n",
       " (5, 27): <gurobi.Constr *Awaiting Model Update*>,\n",
       " (5, 28): <gurobi.Constr *Awaiting Model Update*>,\n",
       " (5, 29): <gurobi.Constr *Awaiting Model Update*>,\n",
       " (5, 30): <gurobi.Constr *Awaiting Model Update*>,\n",
       " (5, 31): <gurobi.Constr *Awaiting Model Update*>,\n",
       " (5, 32): <gurobi.Constr *Awaiting Model Update*>,\n",
       " (5, 33): <gurobi.Constr *Awaiting Model Update*>,\n",
       " (5, 34): <gurobi.Constr *Awaiting Model Update*>,\n",
       " (5, 35): <gurobi.Constr *Awaiting Model Update*>,\n",
       " (5, 36): <gurobi.Constr *Awaiting Model Update*>,\n",
       " (5, 37): <gurobi.Constr *Awaiting Model Update*>,\n",
       " (5, 38): <gurobi.Constr *Awaiting Model Update*>,\n",
       " (5, 39): <gurobi.Constr *Awaiting Model Update*>,\n",
       " (5, 40): <gurobi.Constr *Awaiting Model Update*>,\n",
       " (5, 41): <gurobi.Constr *Awaiting Model Update*>,\n",
       " (5, 42): <gurobi.Constr *Awaiting Model Update*>,\n",
       " (5, 43): <gurobi.Constr *Awaiting Model Update*>,\n",
       " (5, 44): <gurobi.Constr *Awaiting Model Update*>,\n",
       " (5, 45): <gurobi.Constr *Awaiting Model Update*>,\n",
       " (5, 46): <gurobi.Constr *Awaiting Model Update*>,\n",
       " (5, 47): <gurobi.Constr *Awaiting Model Update*>,\n",
       " (5, 48): <gurobi.Constr *Awaiting Model Update*>,\n",
       " (5, 49): <gurobi.Constr *Awaiting Model Update*>,\n",
       " (5, 50): <gurobi.Constr *Awaiting Model Update*>,\n",
       " (5, 51): <gurobi.Constr *Awaiting Model Update*>,\n",
       " (5, 52): <gurobi.Constr *Awaiting Model Update*>,\n",
       " (5, 53): <gurobi.Constr *Awaiting Model Update*>,\n",
       " (5, 54): <gurobi.Constr *Awaiting Model Update*>,\n",
       " (5, 55): <gurobi.Constr *Awaiting Model Update*>,\n",
       " (5, 56): <gurobi.Constr *Awaiting Model Update*>,\n",
       " (5, 57): <gurobi.Constr *Awaiting Model Update*>,\n",
       " (5, 58): <gurobi.Constr *Awaiting Model Update*>,\n",
       " (5, 59): <gurobi.Constr *Awaiting Model Update*>,\n",
       " (5, 60): <gurobi.Constr *Awaiting Model Update*>,\n",
       " (5, 61): <gurobi.Constr *Awaiting Model Update*>,\n",
       " (5, 62): <gurobi.Constr *Awaiting Model Update*>,\n",
       " (5, 63): <gurobi.Constr *Awaiting Model Update*>,\n",
       " (5, 64): <gurobi.Constr *Awaiting Model Update*>,\n",
       " (5, 65): <gurobi.Constr *Awaiting Model Update*>,\n",
       " (5, 66): <gurobi.Constr *Awaiting Model Update*>,\n",
       " (5, 67): <gurobi.Constr *Awaiting Model Update*>,\n",
       " (5, 68): <gurobi.Constr *Awaiting Model Update*>,\n",
       " (5, 69): <gurobi.Constr *Awaiting Model Update*>,\n",
       " (5, 70): <gurobi.Constr *Awaiting Model Update*>,\n",
       " (5, 71): <gurobi.Constr *Awaiting Model Update*>,\n",
       " (5, 72): <gurobi.Constr *Awaiting Model Update*>,\n",
       " (5, 73): <gurobi.Constr *Awaiting Model Update*>,\n",
       " (5, 74): <gurobi.Constr *Awaiting Model Update*>,\n",
       " (5, 75): <gurobi.Constr *Awaiting Model Update*>,\n",
       " (5, 76): <gurobi.Constr *Awaiting Model Update*>,\n",
       " (5, 77): <gurobi.Constr *Awaiting Model Update*>,\n",
       " (5, 78): <gurobi.Constr *Awaiting Model Update*>,\n",
       " (5, 79): <gurobi.Constr *Awaiting Model Update*>,\n",
       " (5, 80): <gurobi.Constr *Awaiting Model Update*>,\n",
       " (5, 81): <gurobi.Constr *Awaiting Model Update*>,\n",
       " (5, 82): <gurobi.Constr *Awaiting Model Update*>,\n",
       " (5, 83): <gurobi.Constr *Awaiting Model Update*>,\n",
       " (5, 84): <gurobi.Constr *Awaiting Model Update*>,\n",
       " (5, 85): <gurobi.Constr *Awaiting Model Update*>,\n",
       " (5, 86): <gurobi.Constr *Awaiting Model Update*>,\n",
       " (5, 87): <gurobi.Constr *Awaiting Model Update*>,\n",
       " (5, 88): <gurobi.Constr *Awaiting Model Update*>,\n",
       " (5, 89): <gurobi.Constr *Awaiting Model Update*>,\n",
       " (5, 90): <gurobi.Constr *Awaiting Model Update*>,\n",
       " (5, 91): <gurobi.Constr *Awaiting Model Update*>,\n",
       " (5, 92): <gurobi.Constr *Awaiting Model Update*>,\n",
       " (5, 93): <gurobi.Constr *Awaiting Model Update*>,\n",
       " (5, 94): <gurobi.Constr *Awaiting Model Update*>,\n",
       " (5, 95): <gurobi.Constr *Awaiting Model Update*>,\n",
       " (5, 96): <gurobi.Constr *Awaiting Model Update*>,\n",
       " (5, 97): <gurobi.Constr *Awaiting Model Update*>,\n",
       " (5, 98): <gurobi.Constr *Awaiting Model Update*>,\n",
       " (5, 99): <gurobi.Constr *Awaiting Model Update*>,\n",
       " (6, 0): <gurobi.Constr *Awaiting Model Update*>,\n",
       " (6, 1): <gurobi.Constr *Awaiting Model Update*>,\n",
       " (6, 2): <gurobi.Constr *Awaiting Model Update*>,\n",
       " (6, 3): <gurobi.Constr *Awaiting Model Update*>,\n",
       " (6, 4): <gurobi.Constr *Awaiting Model Update*>,\n",
       " (6, 5): <gurobi.Constr *Awaiting Model Update*>,\n",
       " (6, 6): <gurobi.Constr *Awaiting Model Update*>,\n",
       " (6, 7): <gurobi.Constr *Awaiting Model Update*>,\n",
       " (6, 8): <gurobi.Constr *Awaiting Model Update*>,\n",
       " (6, 9): <gurobi.Constr *Awaiting Model Update*>,\n",
       " (6, 10): <gurobi.Constr *Awaiting Model Update*>,\n",
       " (6, 11): <gurobi.Constr *Awaiting Model Update*>,\n",
       " (6, 12): <gurobi.Constr *Awaiting Model Update*>,\n",
       " (6, 13): <gurobi.Constr *Awaiting Model Update*>,\n",
       " (6, 14): <gurobi.Constr *Awaiting Model Update*>,\n",
       " (6, 15): <gurobi.Constr *Awaiting Model Update*>,\n",
       " (6, 16): <gurobi.Constr *Awaiting Model Update*>,\n",
       " (6, 17): <gurobi.Constr *Awaiting Model Update*>,\n",
       " (6, 18): <gurobi.Constr *Awaiting Model Update*>,\n",
       " (6, 19): <gurobi.Constr *Awaiting Model Update*>,\n",
       " (6, 20): <gurobi.Constr *Awaiting Model Update*>,\n",
       " (6, 21): <gurobi.Constr *Awaiting Model Update*>,\n",
       " (6, 22): <gurobi.Constr *Awaiting Model Update*>,\n",
       " (6, 23): <gurobi.Constr *Awaiting Model Update*>,\n",
       " (6, 24): <gurobi.Constr *Awaiting Model Update*>,\n",
       " (6, 25): <gurobi.Constr *Awaiting Model Update*>,\n",
       " (6, 26): <gurobi.Constr *Awaiting Model Update*>,\n",
       " (6, 27): <gurobi.Constr *Awaiting Model Update*>,\n",
       " (6, 28): <gurobi.Constr *Awaiting Model Update*>,\n",
       " (6, 29): <gurobi.Constr *Awaiting Model Update*>,\n",
       " (6, 30): <gurobi.Constr *Awaiting Model Update*>,\n",
       " (6, 31): <gurobi.Constr *Awaiting Model Update*>,\n",
       " (6, 32): <gurobi.Constr *Awaiting Model Update*>,\n",
       " (6, 33): <gurobi.Constr *Awaiting Model Update*>,\n",
       " (6, 34): <gurobi.Constr *Awaiting Model Update*>,\n",
       " (6, 35): <gurobi.Constr *Awaiting Model Update*>,\n",
       " (6, 36): <gurobi.Constr *Awaiting Model Update*>,\n",
       " (6, 37): <gurobi.Constr *Awaiting Model Update*>,\n",
       " (6, 38): <gurobi.Constr *Awaiting Model Update*>,\n",
       " (6, 39): <gurobi.Constr *Awaiting Model Update*>,\n",
       " (6, 40): <gurobi.Constr *Awaiting Model Update*>,\n",
       " (6, 41): <gurobi.Constr *Awaiting Model Update*>,\n",
       " (6, 42): <gurobi.Constr *Awaiting Model Update*>,\n",
       " (6, 43): <gurobi.Constr *Awaiting Model Update*>,\n",
       " (6, 44): <gurobi.Constr *Awaiting Model Update*>,\n",
       " (6, 45): <gurobi.Constr *Awaiting Model Update*>,\n",
       " (6, 46): <gurobi.Constr *Awaiting Model Update*>,\n",
       " (6, 47): <gurobi.Constr *Awaiting Model Update*>,\n",
       " (6, 48): <gurobi.Constr *Awaiting Model Update*>,\n",
       " (6, 49): <gurobi.Constr *Awaiting Model Update*>,\n",
       " (6, 50): <gurobi.Constr *Awaiting Model Update*>,\n",
       " (6, 51): <gurobi.Constr *Awaiting Model Update*>,\n",
       " (6, 52): <gurobi.Constr *Awaiting Model Update*>,\n",
       " (6, 53): <gurobi.Constr *Awaiting Model Update*>,\n",
       " (6, 54): <gurobi.Constr *Awaiting Model Update*>,\n",
       " (6, 55): <gurobi.Constr *Awaiting Model Update*>,\n",
       " (6, 56): <gurobi.Constr *Awaiting Model Update*>,\n",
       " (6, 57): <gurobi.Constr *Awaiting Model Update*>,\n",
       " (6, 58): <gurobi.Constr *Awaiting Model Update*>,\n",
       " (6, 59): <gurobi.Constr *Awaiting Model Update*>,\n",
       " (6, 60): <gurobi.Constr *Awaiting Model Update*>,\n",
       " (6, 61): <gurobi.Constr *Awaiting Model Update*>,\n",
       " (6, 62): <gurobi.Constr *Awaiting Model Update*>,\n",
       " (6, 63): <gurobi.Constr *Awaiting Model Update*>,\n",
       " (6, 64): <gurobi.Constr *Awaiting Model Update*>,\n",
       " (6, 65): <gurobi.Constr *Awaiting Model Update*>,\n",
       " (6, 66): <gurobi.Constr *Awaiting Model Update*>,\n",
       " (6, 67): <gurobi.Constr *Awaiting Model Update*>,\n",
       " (6, 68): <gurobi.Constr *Awaiting Model Update*>,\n",
       " (6, 69): <gurobi.Constr *Awaiting Model Update*>,\n",
       " (6, 70): <gurobi.Constr *Awaiting Model Update*>,\n",
       " (6, 71): <gurobi.Constr *Awaiting Model Update*>,\n",
       " (6, 72): <gurobi.Constr *Awaiting Model Update*>,\n",
       " (6, 73): <gurobi.Constr *Awaiting Model Update*>,\n",
       " (6, 74): <gurobi.Constr *Awaiting Model Update*>,\n",
       " (6, 75): <gurobi.Constr *Awaiting Model Update*>,\n",
       " (6, 76): <gurobi.Constr *Awaiting Model Update*>,\n",
       " (6, 77): <gurobi.Constr *Awaiting Model Update*>,\n",
       " (6, 78): <gurobi.Constr *Awaiting Model Update*>,\n",
       " (6, 79): <gurobi.Constr *Awaiting Model Update*>,\n",
       " (6, 80): <gurobi.Constr *Awaiting Model Update*>,\n",
       " (6, 81): <gurobi.Constr *Awaiting Model Update*>,\n",
       " (6, 82): <gurobi.Constr *Awaiting Model Update*>,\n",
       " (6, 83): <gurobi.Constr *Awaiting Model Update*>,\n",
       " (6, 84): <gurobi.Constr *Awaiting Model Update*>,\n",
       " (6, 85): <gurobi.Constr *Awaiting Model Update*>,\n",
       " (6, 86): <gurobi.Constr *Awaiting Model Update*>,\n",
       " (6, 87): <gurobi.Constr *Awaiting Model Update*>,\n",
       " (6, 88): <gurobi.Constr *Awaiting Model Update*>,\n",
       " (6, 89): <gurobi.Constr *Awaiting Model Update*>,\n",
       " (6, 90): <gurobi.Constr *Awaiting Model Update*>,\n",
       " (6, 91): <gurobi.Constr *Awaiting Model Update*>,\n",
       " (6, 92): <gurobi.Constr *Awaiting Model Update*>,\n",
       " (6, 93): <gurobi.Constr *Awaiting Model Update*>,\n",
       " (6, 94): <gurobi.Constr *Awaiting Model Update*>,\n",
       " (6, 95): <gurobi.Constr *Awaiting Model Update*>,\n",
       " (6, 96): <gurobi.Constr *Awaiting Model Update*>,\n",
       " (6, 97): <gurobi.Constr *Awaiting Model Update*>,\n",
       " (6, 98): <gurobi.Constr *Awaiting Model Update*>,\n",
       " (6, 99): <gurobi.Constr *Awaiting Model Update*>,\n",
       " (7, 0): <gurobi.Constr *Awaiting Model Update*>,\n",
       " (7, 1): <gurobi.Constr *Awaiting Model Update*>,\n",
       " (7, 2): <gurobi.Constr *Awaiting Model Update*>,\n",
       " (7, 3): <gurobi.Constr *Awaiting Model Update*>,\n",
       " (7, 4): <gurobi.Constr *Awaiting Model Update*>,\n",
       " (7, 5): <gurobi.Constr *Awaiting Model Update*>,\n",
       " (7, 6): <gurobi.Constr *Awaiting Model Update*>,\n",
       " (7, 7): <gurobi.Constr *Awaiting Model Update*>,\n",
       " (7, 8): <gurobi.Constr *Awaiting Model Update*>,\n",
       " (7, 9): <gurobi.Constr *Awaiting Model Update*>,\n",
       " (7, 10): <gurobi.Constr *Awaiting Model Update*>,\n",
       " (7, 11): <gurobi.Constr *Awaiting Model Update*>,\n",
       " (7, 12): <gurobi.Constr *Awaiting Model Update*>,\n",
       " (7, 13): <gurobi.Constr *Awaiting Model Update*>,\n",
       " (7, 14): <gurobi.Constr *Awaiting Model Update*>,\n",
       " (7, 15): <gurobi.Constr *Awaiting Model Update*>,\n",
       " (7, 16): <gurobi.Constr *Awaiting Model Update*>,\n",
       " (7, 17): <gurobi.Constr *Awaiting Model Update*>,\n",
       " (7, 18): <gurobi.Constr *Awaiting Model Update*>,\n",
       " (7, 19): <gurobi.Constr *Awaiting Model Update*>,\n",
       " (7, 20): <gurobi.Constr *Awaiting Model Update*>,\n",
       " (7, 21): <gurobi.Constr *Awaiting Model Update*>,\n",
       " (7, 22): <gurobi.Constr *Awaiting Model Update*>,\n",
       " (7, 23): <gurobi.Constr *Awaiting Model Update*>,\n",
       " (7, 24): <gurobi.Constr *Awaiting Model Update*>,\n",
       " (7, 25): <gurobi.Constr *Awaiting Model Update*>,\n",
       " (7, 26): <gurobi.Constr *Awaiting Model Update*>,\n",
       " (7, 27): <gurobi.Constr *Awaiting Model Update*>,\n",
       " (7, 28): <gurobi.Constr *Awaiting Model Update*>,\n",
       " (7, 29): <gurobi.Constr *Awaiting Model Update*>,\n",
       " (7, 30): <gurobi.Constr *Awaiting Model Update*>,\n",
       " (7, 31): <gurobi.Constr *Awaiting Model Update*>,\n",
       " (7, 32): <gurobi.Constr *Awaiting Model Update*>,\n",
       " (7, 33): <gurobi.Constr *Awaiting Model Update*>,\n",
       " (7, 34): <gurobi.Constr *Awaiting Model Update*>,\n",
       " (7, 35): <gurobi.Constr *Awaiting Model Update*>,\n",
       " (7, 36): <gurobi.Constr *Awaiting Model Update*>,\n",
       " (7, 37): <gurobi.Constr *Awaiting Model Update*>,\n",
       " (7, 38): <gurobi.Constr *Awaiting Model Update*>,\n",
       " (7, 39): <gurobi.Constr *Awaiting Model Update*>,\n",
       " (7, 40): <gurobi.Constr *Awaiting Model Update*>,\n",
       " (7, 41): <gurobi.Constr *Awaiting Model Update*>,\n",
       " (7, 42): <gurobi.Constr *Awaiting Model Update*>,\n",
       " (7, 43): <gurobi.Constr *Awaiting Model Update*>,\n",
       " (7, 44): <gurobi.Constr *Awaiting Model Update*>,\n",
       " (7, 45): <gurobi.Constr *Awaiting Model Update*>,\n",
       " (7, 46): <gurobi.Constr *Awaiting Model Update*>,\n",
       " (7, 47): <gurobi.Constr *Awaiting Model Update*>,\n",
       " (7, 48): <gurobi.Constr *Awaiting Model Update*>,\n",
       " (7, 49): <gurobi.Constr *Awaiting Model Update*>,\n",
       " (7, 50): <gurobi.Constr *Awaiting Model Update*>,\n",
       " (7, 51): <gurobi.Constr *Awaiting Model Update*>,\n",
       " (7, 52): <gurobi.Constr *Awaiting Model Update*>,\n",
       " (7, 53): <gurobi.Constr *Awaiting Model Update*>,\n",
       " (7, 54): <gurobi.Constr *Awaiting Model Update*>,\n",
       " (7, 55): <gurobi.Constr *Awaiting Model Update*>,\n",
       " (7, 56): <gurobi.Constr *Awaiting Model Update*>,\n",
       " (7, 57): <gurobi.Constr *Awaiting Model Update*>,\n",
       " (7, 58): <gurobi.Constr *Awaiting Model Update*>,\n",
       " (7, 59): <gurobi.Constr *Awaiting Model Update*>,\n",
       " (7, 60): <gurobi.Constr *Awaiting Model Update*>,\n",
       " (7, 61): <gurobi.Constr *Awaiting Model Update*>,\n",
       " (7, 62): <gurobi.Constr *Awaiting Model Update*>,\n",
       " (7, 63): <gurobi.Constr *Awaiting Model Update*>,\n",
       " (7, 64): <gurobi.Constr *Awaiting Model Update*>,\n",
       " (7, 65): <gurobi.Constr *Awaiting Model Update*>,\n",
       " (7, 66): <gurobi.Constr *Awaiting Model Update*>,\n",
       " (7, 67): <gurobi.Constr *Awaiting Model Update*>,\n",
       " (7, 68): <gurobi.Constr *Awaiting Model Update*>,\n",
       " (7, 69): <gurobi.Constr *Awaiting Model Update*>,\n",
       " (7, 70): <gurobi.Constr *Awaiting Model Update*>,\n",
       " (7, 71): <gurobi.Constr *Awaiting Model Update*>,\n",
       " (7, 72): <gurobi.Constr *Awaiting Model Update*>,\n",
       " (7, 73): <gurobi.Constr *Awaiting Model Update*>,\n",
       " (7, 74): <gurobi.Constr *Awaiting Model Update*>,\n",
       " (7, 75): <gurobi.Constr *Awaiting Model Update*>,\n",
       " (7, 76): <gurobi.Constr *Awaiting Model Update*>,\n",
       " (7, 77): <gurobi.Constr *Awaiting Model Update*>,\n",
       " (7, 78): <gurobi.Constr *Awaiting Model Update*>,\n",
       " (7, 79): <gurobi.Constr *Awaiting Model Update*>,\n",
       " (7, 80): <gurobi.Constr *Awaiting Model Update*>,\n",
       " (7, 81): <gurobi.Constr *Awaiting Model Update*>,\n",
       " (7, 82): <gurobi.Constr *Awaiting Model Update*>,\n",
       " (7, 83): <gurobi.Constr *Awaiting Model Update*>,\n",
       " (7, 84): <gurobi.Constr *Awaiting Model Update*>,\n",
       " (7, 85): <gurobi.Constr *Awaiting Model Update*>,\n",
       " (7, 86): <gurobi.Constr *Awaiting Model Update*>,\n",
       " (7, 87): <gurobi.Constr *Awaiting Model Update*>,\n",
       " (7, 88): <gurobi.Constr *Awaiting Model Update*>,\n",
       " (7, 89): <gurobi.Constr *Awaiting Model Update*>,\n",
       " (7, 90): <gurobi.Constr *Awaiting Model Update*>,\n",
       " (7, 91): <gurobi.Constr *Awaiting Model Update*>,\n",
       " (7, 92): <gurobi.Constr *Awaiting Model Update*>,\n",
       " (7, 93): <gurobi.Constr *Awaiting Model Update*>,\n",
       " (7, 94): <gurobi.Constr *Awaiting Model Update*>,\n",
       " (7, 95): <gurobi.Constr *Awaiting Model Update*>,\n",
       " (7, 96): <gurobi.Constr *Awaiting Model Update*>,\n",
       " (7, 97): <gurobi.Constr *Awaiting Model Update*>,\n",
       " (7, 98): <gurobi.Constr *Awaiting Model Update*>,\n",
       " (7, 99): <gurobi.Constr *Awaiting Model Update*>,\n",
       " (8, 0): <gurobi.Constr *Awaiting Model Update*>,\n",
       " (8, 1): <gurobi.Constr *Awaiting Model Update*>,\n",
       " (8, 2): <gurobi.Constr *Awaiting Model Update*>,\n",
       " (8, 3): <gurobi.Constr *Awaiting Model Update*>,\n",
       " (8, 4): <gurobi.Constr *Awaiting Model Update*>,\n",
       " (8, 5): <gurobi.Constr *Awaiting Model Update*>,\n",
       " (8, 6): <gurobi.Constr *Awaiting Model Update*>,\n",
       " (8, 7): <gurobi.Constr *Awaiting Model Update*>,\n",
       " (8, 8): <gurobi.Constr *Awaiting Model Update*>,\n",
       " (8, 9): <gurobi.Constr *Awaiting Model Update*>,\n",
       " (8, 10): <gurobi.Constr *Awaiting Model Update*>,\n",
       " (8, 11): <gurobi.Constr *Awaiting Model Update*>,\n",
       " (8, 12): <gurobi.Constr *Awaiting Model Update*>,\n",
       " (8, 13): <gurobi.Constr *Awaiting Model Update*>,\n",
       " (8, 14): <gurobi.Constr *Awaiting Model Update*>,\n",
       " (8, 15): <gurobi.Constr *Awaiting Model Update*>,\n",
       " (8, 16): <gurobi.Constr *Awaiting Model Update*>,\n",
       " (8, 17): <gurobi.Constr *Awaiting Model Update*>,\n",
       " (8, 18): <gurobi.Constr *Awaiting Model Update*>,\n",
       " (8, 19): <gurobi.Constr *Awaiting Model Update*>,\n",
       " (8, 20): <gurobi.Constr *Awaiting Model Update*>,\n",
       " (8, 21): <gurobi.Constr *Awaiting Model Update*>,\n",
       " (8, 22): <gurobi.Constr *Awaiting Model Update*>,\n",
       " (8, 23): <gurobi.Constr *Awaiting Model Update*>,\n",
       " (8, 24): <gurobi.Constr *Awaiting Model Update*>,\n",
       " (8, 25): <gurobi.Constr *Awaiting Model Update*>,\n",
       " (8, 26): <gurobi.Constr *Awaiting Model Update*>,\n",
       " (8, 27): <gurobi.Constr *Awaiting Model Update*>,\n",
       " (8, 28): <gurobi.Constr *Awaiting Model Update*>,\n",
       " (8, 29): <gurobi.Constr *Awaiting Model Update*>,\n",
       " (8, 30): <gurobi.Constr *Awaiting Model Update*>,\n",
       " (8, 31): <gurobi.Constr *Awaiting Model Update*>,\n",
       " (8, 32): <gurobi.Constr *Awaiting Model Update*>,\n",
       " (8, 33): <gurobi.Constr *Awaiting Model Update*>,\n",
       " (8, 34): <gurobi.Constr *Awaiting Model Update*>,\n",
       " (8, 35): <gurobi.Constr *Awaiting Model Update*>,\n",
       " (8, 36): <gurobi.Constr *Awaiting Model Update*>,\n",
       " (8, 37): <gurobi.Constr *Awaiting Model Update*>,\n",
       " (8, 38): <gurobi.Constr *Awaiting Model Update*>,\n",
       " (8, 39): <gurobi.Constr *Awaiting Model Update*>,\n",
       " (8, 40): <gurobi.Constr *Awaiting Model Update*>,\n",
       " (8, 41): <gurobi.Constr *Awaiting Model Update*>,\n",
       " (8, 42): <gurobi.Constr *Awaiting Model Update*>,\n",
       " (8, 43): <gurobi.Constr *Awaiting Model Update*>,\n",
       " (8, 44): <gurobi.Constr *Awaiting Model Update*>,\n",
       " (8, 45): <gurobi.Constr *Awaiting Model Update*>,\n",
       " (8, 46): <gurobi.Constr *Awaiting Model Update*>,\n",
       " (8, 47): <gurobi.Constr *Awaiting Model Update*>,\n",
       " (8, 48): <gurobi.Constr *Awaiting Model Update*>,\n",
       " (8, 49): <gurobi.Constr *Awaiting Model Update*>,\n",
       " (8, 50): <gurobi.Constr *Awaiting Model Update*>,\n",
       " (8, 51): <gurobi.Constr *Awaiting Model Update*>,\n",
       " (8, 52): <gurobi.Constr *Awaiting Model Update*>,\n",
       " (8, 53): <gurobi.Constr *Awaiting Model Update*>,\n",
       " (8, 54): <gurobi.Constr *Awaiting Model Update*>,\n",
       " (8, 55): <gurobi.Constr *Awaiting Model Update*>,\n",
       " (8, 56): <gurobi.Constr *Awaiting Model Update*>,\n",
       " (8, 57): <gurobi.Constr *Awaiting Model Update*>,\n",
       " (8, 58): <gurobi.Constr *Awaiting Model Update*>,\n",
       " (8, 59): <gurobi.Constr *Awaiting Model Update*>,\n",
       " (8, 60): <gurobi.Constr *Awaiting Model Update*>,\n",
       " (8, 61): <gurobi.Constr *Awaiting Model Update*>,\n",
       " (8, 62): <gurobi.Constr *Awaiting Model Update*>,\n",
       " (8, 63): <gurobi.Constr *Awaiting Model Update*>,\n",
       " (8, 64): <gurobi.Constr *Awaiting Model Update*>,\n",
       " (8, 65): <gurobi.Constr *Awaiting Model Update*>,\n",
       " (8, 66): <gurobi.Constr *Awaiting Model Update*>,\n",
       " (8, 67): <gurobi.Constr *Awaiting Model Update*>,\n",
       " (8, 68): <gurobi.Constr *Awaiting Model Update*>,\n",
       " (8, 69): <gurobi.Constr *Awaiting Model Update*>,\n",
       " (8, 70): <gurobi.Constr *Awaiting Model Update*>,\n",
       " (8, 71): <gurobi.Constr *Awaiting Model Update*>,\n",
       " (8, 72): <gurobi.Constr *Awaiting Model Update*>,\n",
       " (8, 73): <gurobi.Constr *Awaiting Model Update*>,\n",
       " (8, 74): <gurobi.Constr *Awaiting Model Update*>,\n",
       " (8, 75): <gurobi.Constr *Awaiting Model Update*>,\n",
       " (8, 76): <gurobi.Constr *Awaiting Model Update*>,\n",
       " (8, 77): <gurobi.Constr *Awaiting Model Update*>,\n",
       " (8, 78): <gurobi.Constr *Awaiting Model Update*>,\n",
       " (8, 79): <gurobi.Constr *Awaiting Model Update*>,\n",
       " (8, 80): <gurobi.Constr *Awaiting Model Update*>,\n",
       " (8, 81): <gurobi.Constr *Awaiting Model Update*>,\n",
       " (8, 82): <gurobi.Constr *Awaiting Model Update*>,\n",
       " (8, 83): <gurobi.Constr *Awaiting Model Update*>,\n",
       " (8, 84): <gurobi.Constr *Awaiting Model Update*>,\n",
       " (8, 85): <gurobi.Constr *Awaiting Model Update*>,\n",
       " (8, 86): <gurobi.Constr *Awaiting Model Update*>,\n",
       " (8, 87): <gurobi.Constr *Awaiting Model Update*>,\n",
       " (8, 88): <gurobi.Constr *Awaiting Model Update*>,\n",
       " (8, 89): <gurobi.Constr *Awaiting Model Update*>,\n",
       " (8, 90): <gurobi.Constr *Awaiting Model Update*>,\n",
       " (8, 91): <gurobi.Constr *Awaiting Model Update*>,\n",
       " (8, 92): <gurobi.Constr *Awaiting Model Update*>,\n",
       " (8, 93): <gurobi.Constr *Awaiting Model Update*>,\n",
       " (8, 94): <gurobi.Constr *Awaiting Model Update*>,\n",
       " (8, 95): <gurobi.Constr *Awaiting Model Update*>,\n",
       " (8, 96): <gurobi.Constr *Awaiting Model Update*>,\n",
       " (8, 97): <gurobi.Constr *Awaiting Model Update*>,\n",
       " (8, 98): <gurobi.Constr *Awaiting Model Update*>,\n",
       " (8, 99): <gurobi.Constr *Awaiting Model Update*>,\n",
       " (9, 0): <gurobi.Constr *Awaiting Model Update*>,\n",
       " (9, 1): <gurobi.Constr *Awaiting Model Update*>,\n",
       " (9, 2): <gurobi.Constr *Awaiting Model Update*>,\n",
       " (9, 3): <gurobi.Constr *Awaiting Model Update*>,\n",
       " (9, 4): <gurobi.Constr *Awaiting Model Update*>,\n",
       " (9, 5): <gurobi.Constr *Awaiting Model Update*>,\n",
       " (9, 6): <gurobi.Constr *Awaiting Model Update*>,\n",
       " (9, 7): <gurobi.Constr *Awaiting Model Update*>,\n",
       " (9, 8): <gurobi.Constr *Awaiting Model Update*>,\n",
       " (9, 9): <gurobi.Constr *Awaiting Model Update*>,\n",
       " (9, 10): <gurobi.Constr *Awaiting Model Update*>,\n",
       " (9, 11): <gurobi.Constr *Awaiting Model Update*>,\n",
       " (9, 12): <gurobi.Constr *Awaiting Model Update*>,\n",
       " (9, 13): <gurobi.Constr *Awaiting Model Update*>,\n",
       " (9, 14): <gurobi.Constr *Awaiting Model Update*>,\n",
       " (9, 15): <gurobi.Constr *Awaiting Model Update*>,\n",
       " (9, 16): <gurobi.Constr *Awaiting Model Update*>,\n",
       " (9, 17): <gurobi.Constr *Awaiting Model Update*>,\n",
       " (9, 18): <gurobi.Constr *Awaiting Model Update*>,\n",
       " (9, 19): <gurobi.Constr *Awaiting Model Update*>,\n",
       " (9, 20): <gurobi.Constr *Awaiting Model Update*>,\n",
       " (9, 21): <gurobi.Constr *Awaiting Model Update*>,\n",
       " (9, 22): <gurobi.Constr *Awaiting Model Update*>,\n",
       " (9, 23): <gurobi.Constr *Awaiting Model Update*>,\n",
       " (9, 24): <gurobi.Constr *Awaiting Model Update*>,\n",
       " (9, 25): <gurobi.Constr *Awaiting Model Update*>,\n",
       " (9, 26): <gurobi.Constr *Awaiting Model Update*>,\n",
       " (9, 27): <gurobi.Constr *Awaiting Model Update*>,\n",
       " (9, 28): <gurobi.Constr *Awaiting Model Update*>,\n",
       " (9, 29): <gurobi.Constr *Awaiting Model Update*>,\n",
       " (9, 30): <gurobi.Constr *Awaiting Model Update*>,\n",
       " (9, 31): <gurobi.Constr *Awaiting Model Update*>,\n",
       " (9, 32): <gurobi.Constr *Awaiting Model Update*>,\n",
       " (9, 33): <gurobi.Constr *Awaiting Model Update*>,\n",
       " (9, 34): <gurobi.Constr *Awaiting Model Update*>,\n",
       " (9, 35): <gurobi.Constr *Awaiting Model Update*>,\n",
       " (9, 36): <gurobi.Constr *Awaiting Model Update*>,\n",
       " (9, 37): <gurobi.Constr *Awaiting Model Update*>,\n",
       " (9, 38): <gurobi.Constr *Awaiting Model Update*>,\n",
       " (9, 39): <gurobi.Constr *Awaiting Model Update*>,\n",
       " (9, 40): <gurobi.Constr *Awaiting Model Update*>,\n",
       " (9, 41): <gurobi.Constr *Awaiting Model Update*>,\n",
       " (9, 42): <gurobi.Constr *Awaiting Model Update*>,\n",
       " (9, 43): <gurobi.Constr *Awaiting Model Update*>,\n",
       " (9, 44): <gurobi.Constr *Awaiting Model Update*>,\n",
       " (9, 45): <gurobi.Constr *Awaiting Model Update*>,\n",
       " (9, 46): <gurobi.Constr *Awaiting Model Update*>,\n",
       " (9, 47): <gurobi.Constr *Awaiting Model Update*>,\n",
       " (9, 48): <gurobi.Constr *Awaiting Model Update*>,\n",
       " (9, 49): <gurobi.Constr *Awaiting Model Update*>,\n",
       " (9, 50): <gurobi.Constr *Awaiting Model Update*>,\n",
       " (9, 51): <gurobi.Constr *Awaiting Model Update*>,\n",
       " (9, 52): <gurobi.Constr *Awaiting Model Update*>,\n",
       " (9, 53): <gurobi.Constr *Awaiting Model Update*>,\n",
       " (9, 54): <gurobi.Constr *Awaiting Model Update*>,\n",
       " (9, 55): <gurobi.Constr *Awaiting Model Update*>,\n",
       " (9, 56): <gurobi.Constr *Awaiting Model Update*>,\n",
       " (9, 57): <gurobi.Constr *Awaiting Model Update*>,\n",
       " (9, 58): <gurobi.Constr *Awaiting Model Update*>,\n",
       " (9, 59): <gurobi.Constr *Awaiting Model Update*>,\n",
       " (9, 60): <gurobi.Constr *Awaiting Model Update*>,\n",
       " (9, 61): <gurobi.Constr *Awaiting Model Update*>,\n",
       " (9, 62): <gurobi.Constr *Awaiting Model Update*>,\n",
       " (9, 63): <gurobi.Constr *Awaiting Model Update*>,\n",
       " (9, 64): <gurobi.Constr *Awaiting Model Update*>,\n",
       " (9, 65): <gurobi.Constr *Awaiting Model Update*>,\n",
       " (9, 66): <gurobi.Constr *Awaiting Model Update*>,\n",
       " (9, 67): <gurobi.Constr *Awaiting Model Update*>,\n",
       " (9, 68): <gurobi.Constr *Awaiting Model Update*>,\n",
       " (9, 69): <gurobi.Constr *Awaiting Model Update*>,\n",
       " (9, 70): <gurobi.Constr *Awaiting Model Update*>,\n",
       " (9, 71): <gurobi.Constr *Awaiting Model Update*>,\n",
       " (9, 72): <gurobi.Constr *Awaiting Model Update*>,\n",
       " (9, 73): <gurobi.Constr *Awaiting Model Update*>,\n",
       " (9, 74): <gurobi.Constr *Awaiting Model Update*>,\n",
       " (9, 75): <gurobi.Constr *Awaiting Model Update*>,\n",
       " (9, 76): <gurobi.Constr *Awaiting Model Update*>,\n",
       " (9, 77): <gurobi.Constr *Awaiting Model Update*>,\n",
       " (9, 78): <gurobi.Constr *Awaiting Model Update*>,\n",
       " (9, 79): <gurobi.Constr *Awaiting Model Update*>,\n",
       " (9, 80): <gurobi.Constr *Awaiting Model Update*>,\n",
       " (9, 81): <gurobi.Constr *Awaiting Model Update*>,\n",
       " (9, 82): <gurobi.Constr *Awaiting Model Update*>,\n",
       " (9, 83): <gurobi.Constr *Awaiting Model Update*>,\n",
       " (9, 84): <gurobi.Constr *Awaiting Model Update*>,\n",
       " (9, 85): <gurobi.Constr *Awaiting Model Update*>,\n",
       " (9, 86): <gurobi.Constr *Awaiting Model Update*>,\n",
       " (9, 87): <gurobi.Constr *Awaiting Model Update*>,\n",
       " (9, 88): <gurobi.Constr *Awaiting Model Update*>,\n",
       " (9, 89): <gurobi.Constr *Awaiting Model Update*>,\n",
       " (9, 90): <gurobi.Constr *Awaiting Model Update*>,\n",
       " (9, 91): <gurobi.Constr *Awaiting Model Update*>,\n",
       " (9, 92): <gurobi.Constr *Awaiting Model Update*>,\n",
       " (9, 93): <gurobi.Constr *Awaiting Model Update*>,\n",
       " (9, 94): <gurobi.Constr *Awaiting Model Update*>,\n",
       " (9, 95): <gurobi.Constr *Awaiting Model Update*>,\n",
       " (9, 96): <gurobi.Constr *Awaiting Model Update*>,\n",
       " (9, 97): <gurobi.Constr *Awaiting Model Update*>,\n",
       " (9, 98): <gurobi.Constr *Awaiting Model Update*>,\n",
       " (9, 99): <gurobi.Constr *Awaiting Model Update*>}"
      ]
     },
     "execution_count": 1024,
     "metadata": {},
     "output_type": "execute_result"
    }
   ],
   "source": [
    "eg1b.addConstrs((quicksum(v[j] * r[i][j] for j in dcs) >= expected_daily_demand[i] for i in stores), \"demand_fulfillment\")\n",
    "eg1b.addConstrs((quicksum(z[i][j] for j in dcs) == 1 for i in stores), \"single sourcing1\")\n",
    "eg1b.addConstrs((quicksum(z[i][j] for j in dcs) <= v[j] for i in stores), \"single sourcing2\")\n",
    "eg1b.addConstrs((quicksum(v[j] * r[i][j] for i in stores) <= dc_maxscale[j] for j in dcs), \"dcCapacity\")\n",
    "eg1b.addConstrs((quicksum(v[j] * r[i][j] for i in stores) >= 0 for j in dcs), \"replenishment amount >= 0\")\n",
    "eg1b.addConstrs((wx[i][j] >= dc_xcoord[j] - store_xcoord[i] for i in stores for j in dcs), \"dis(dc-store), x-axis\")\n",
    "eg1b.addConstrs((wx[i][j] >= store_xcoord[i] - dc_xcoord[j] for j in dcs for i in stores), \"dis(store-dc), x-axis\")\n",
    "eg1b.addConstrs((wy[i][j] >= dc_ycoord[j] - store_ycoord[i] for i in stores for j in dcs), \"dis(dc-store), y-axis\")\n",
    "eg1b.addConstrs((wy[i][j] >= store_ycoord[i] - dc_ycoord[j] for j in dcs for i in stores), \"dis(store-dc), y-axis\")"
   ]
  },
  {
   "attachments": {},
   "cell_type": "markdown",
   "metadata": {},
   "source": [
    "##### Optimize"
   ]
  },
  {
   "cell_type": "code",
   "execution_count": 1025,
   "metadata": {},
   "outputs": [],
   "source": [
    "eg1b.optimize()"
   ]
  },
  {
   "attachments": {},
   "cell_type": "markdown",
   "metadata": {},
   "source": [
    "##### Results"
   ]
  },
  {
   "cell_type": "code",
   "execution_count": 1026,
   "metadata": {},
   "outputs": [
    {
     "name": "stdout",
     "output_type": "stream",
     "text": [
      "1(b) Results | Single sourcing: \n",
      "v1 = 1.0\n",
      "v2 = 1.0\n",
      "v3 = 1.0\n",
      "v4 = 1.0\n",
      "v5 = 1.0\n",
      "v6 = 1.0\n",
      "v7 = 1.0\n",
      "v8 = 0.0\n",
      "v9 = 1.0\n",
      "v10 = 1.0\n",
      "DC1 \t0.0 \t154.0 \t0.0 \t0.0 \t0.0 \t0.0 \t0.0 \t0.0 \t0.0 \t144.0 \t0.0 \t0.0 \t0.0 \t0.0 \t0.0 \t130.0 \t0.0 \t0.0 \t0.0 \t0.0 \t0.0 \t132.0 \t0.0 \t0.0 \t0.0 \t0.0 \t0.0 \t0.0 \t0.0 \t0.0 \t114.0 \t0.0 \t107.0 \t0.0 \t184.0 \t0.0 \t0.0 \t0.0 \t0.0 \t0.0 \t0.0 \t0.0 \t0.0 \t0.0 \t0.0 \t0.0 \t0.0 \t0.0 \t0.0 \t0.0 \t0.0 \t0.0 \t0.0 \t0.0 \t137.0 \t0.0 \t0.0 \t149.0 \t0.0 \t0.0 \t0.0 \t0.0 \t154.0 \t131.0 \t178.0 \t152.0 \t0.0 \t0.0 \t0.0 \t0.0 \t0.0 \t0.0 \t152.0 \t0.0 \t0.0 \t0.0 \t0.0 \t122.0 \t0.0 \t189.0 \t109.0 \t0.0 \t0.0 \t0.0 \t0.0 \t77.0 \t0.0 \t0.0 \t0.0 \t0.0 \t0.0 \t191.0 \t0.0 \t0.0 \t178.0 \t0.0 \t122.0 \t0.0 \t0.0 \t118.0 \t\n",
      "DC2 \t0.0 \t0.0 \t0.0 \t0.0 \t0.0 \t0.0 \t0.0 \t0.0 \t0.0 \t0.0 \t0.0 \t0.0 \t0.0 \t0.0 \t0.0 \t0.0 \t0.0 \t0.0 \t0.0 \t0.0 \t0.0 \t0.0 \t0.0 \t0.0 \t0.0 \t0.0 \t0.0 \t0.0 \t0.0 \t200.0 \t0.0 \t0.0 \t0.0 \t0.0 \t0.0 \t0.0 \t0.0 \t0.0 \t0.0 \t0.0 \t0.0 \t0.0 \t0.0 \t0.0 \t0.0 \t0.0 \t0.0 \t132.0 \t0.0 \t0.0 \t0.0 \t0.0 \t0.0 \t0.0 \t0.0 \t0.0 \t0.0 \t0.0 \t0.0 \t166.0 \t0.0 \t0.0 \t0.0 \t0.0 \t0.0 \t0.0 \t0.0 \t195.0 \t0.0 \t0.0 \t0.0 \t0.0 \t0.0 \t0.0 \t0.0 \t0.0 \t0.0 \t0.0 \t186.0 \t0.0 \t0.0 \t0.0 \t132.0 \t0.0 \t0.0 \t104.0 \t0.0 \t0.0 \t0.0 \t0.0 \t125.0 \t0.0 \t0.0 \t0.0 \t0.0 \t0.0 \t0.0 \t0.0 \t0.0 \t0.0 \t\n",
      "DC3 \t0.0 \t0.0 \t0.0 \t138.0 \t128.0 \t0.0 \t0.0 \t0.0 \t0.0 \t0.0 \t0.0 \t0.0 \t0.0 \t0.0 \t0.0 \t0.0 \t0.0 \t0.0 \t0.0 \t0.0 \t0.0 \t0.0 \t0.0 \t0.0 \t0.0 \t0.0 \t0.0 \t0.0 \t0.0 \t0.0 \t0.0 \t0.0 \t0.0 \t132.0 \t0.0 \t0.0 \t0.0 \t0.0 \t0.0 \t0.0 \t171.0 \t0.0 \t0.0 \t0.0 \t0.0 \t0.0 \t0.0 \t0.0 \t0.0 \t0.0 \t0.0 \t0.0 \t0.0 \t0.0 \t0.0 \t0.0 \t0.0 \t0.0 \t0.0 \t0.0 \t0.0 \t0.0 \t0.0 \t0.0 \t0.0 \t0.0 \t112.0 \t0.0 \t0.0 \t0.0 \t0.0 \t0.0 \t0.0 \t0.0 \t0.0 \t0.0 \t0.0 \t0.0 \t0.0 \t0.0 \t0.0 \t0.0 \t0.0 \t0.0 \t126.0 \t0.0 \t0.0 \t0.0 \t0.0 \t0.0 \t0.0 \t0.0 \t103.0 \t0.0 \t0.0 \t0.0 \t0.0 \t0.0 \t0.0 \t0.0 \t\n",
      "DC4 \t0.0 \t0.0 \t0.0 \t0.0 \t0.0 \t0.0 \t0.0 \t0.0 \t0.0 \t0.0 \t0.0 \t0.0 \t0.0 \t140.0 \t0.0 \t0.0 \t0.0 \t0.0 \t0.0 \t24.0 \t0.0 \t0.0 \t0.0 \t0.0 \t0.0 \t0.0 \t0.0 \t0.0 \t140.0 \t0.0 \t0.0 \t164.0 \t0.0 \t0.0 \t0.0 \t178.0 \t0.0 \t0.0 \t0.0 \t0.0 \t0.0 \t135.0 \t154.0 \t0.0 \t0.0 \t0.0 \t0.0 \t0.0 \t0.0 \t150.0 \t0.0 \t0.0 \t0.0 \t0.0 \t34.0 \t0.0 \t0.0 \t0.0 \t0.0 \t0.0 \t0.0 \t0.0 \t0.0 \t0.0 \t0.0 \t0.0 \t0.0 \t0.0 \t187.0 \t0.0 \t0.0 \t0.0 \t0.0 \t0.0 \t31.0 \t0.0 \t0.0 \t0.0 \t0.0 \t0.0 \t0.0 \t0.0 \t0.0 \t0.0 \t0.0 \t0.0 \t0.0 \t161.0 \t0.0 \t0.0 \t0.0 \t0.0 \t0.0 \t0.0 \t0.0 \t0.0 \t0.0 \t0.0 \t0.0 \t0.0 \t\n",
      "DC5 \t0.0 \t0.0 \t0.0 \t0.0 \t0.0 \t0.0 \t0.0 \t0.0 \t0.0 \t0.0 \t0.0 \t0.0 \t0.0 \t0.0 \t0.0 \t0.0 \t0.0 \t0.0 \t0.0 \t0.0 \t0.0 \t0.0 \t160.0 \t0.0 \t0.0 \t0.0 \t0.0 \t0.0 \t0.0 \t0.0 \t0.0 \t0.0 \t0.0 \t0.0 \t0.0 \t0.0 \t159.0 \t0.0 \t0.0 \t0.0 \t0.0 \t0.0 \t0.0 \t0.0 \t0.0 \t0.0 \t0.0 \t0.0 \t0.0 \t0.0 \t0.0 \t0.0 \t0.0 \t120.0 \t0.0 \t0.0 \t0.0 \t35.0 \t159.0 \t0.0 \t0.0 \t0.0 \t0.0 \t0.0 \t0.0 \t0.0 \t0.0 \t0.0 \t0.0 \t157.0 \t133.0 \t150.0 \t0.0 \t0.0 \t0.0 \t117.0 \t0.0 \t0.0 \t0.0 \t0.0 \t0.0 \t0.0 \t0.0 \t0.0 \t0.0 \t0.0 \t0.0 \t0.0 \t0.0 \t0.0 \t0.0 \t0.0 \t0.0 \t0.0 \t0.0 \t0.0 \t0.0 \t199.0 \t0.0 \t0.0 \t\n",
      "DC6 \t165.0 \t0.0 \t115.0 \t0.0 \t0.0 \t0.0 \t0.0 \t191.0 \t0.0 \t0.0 \t0.0 \t0.0 \t0.0 \t0.0 \t0.0 \t0.0 \t0.0 \t0.0 \t109.0 \t0.0 \t0.0 \t0.0 \t0.0 \t0.0 \t177.0 \t0.0 \t185.0 \t114.0 \t0.0 \t0.0 \t0.0 \t0.0 \t0.0 \t0.0 \t0.0 \t0.0 \t0.0 \t198.0 \t0.0 \t0.0 \t0.0 \t0.0 \t0.0 \t166.0 \t164.0 \t75.0 \t0.0 \t0.0 \t0.0 \t0.0 \t103.0 \t0.0 \t143.0 \t0.0 \t0.0 \t0.0 \t192.0 \t0.0 \t0.0 \t0.0 \t188.0 \t0.0 \t0.0 \t0.0 \t0.0 \t0.0 \t0.0 \t0.0 \t0.0 \t0.0 \t0.0 \t0.0 \t0.0 \t0.0 \t0.0 \t0.0 \t0.0 \t0.0 \t0.0 \t0.0 \t0.0 \t131.0 \t0.0 \t0.0 \t72.0 \t0.0 \t0.0 \t0.0 \t0.0 \t0.0 \t0.0 \t0.0 \t0.0 \t104.0 \t0.0 \t0.0 \t0.0 \t0.0 \t0.0 \t0.0 \t\n",
      "DC7 \t0.0 \t0.0 \t0.0 \t0.0 \t0.0 \t183.0 \t0.0 \t0.0 \t0.0 \t0.0 \t200.0 \t0.0 \t0.0 \t0.0 \t0.0 \t0.0 \t0.0 \t113.0 \t0.0 \t0.0 \t0.0 \t0.0 \t0.0 \t175.0 \t0.0 \t0.0 \t0.0 \t0.0 \t0.0 \t0.0 \t0.0 \t0.0 \t0.0 \t0.0 \t0.0 \t0.0 \t0.0 \t0.0 \t0.0 \t0.0 \t0.0 \t0.0 \t0.0 \t0.0 \t0.0 \t0.0 \t143.0 \t0.0 \t0.0 \t0.0 \t0.0 \t0.0 \t0.0 \t0.0 \t0.0 \t0.0 \t0.0 \t0.0 \t0.0 \t0.0 \t0.0 \t0.0 \t0.0 \t0.0 \t0.0 \t0.0 \t0.0 \t0.0 \t0.0 \t0.0 \t0.0 \t0.0 \t0.0 \t0.0 \t138.0 \t0.0 \t0.0 \t0.0 \t0.0 \t0.0 \t0.0 \t0.0 \t0.0 \t0.0 \t0.0 \t0.0 \t0.0 \t0.0 \t0.0 \t139.0 \t0.0 \t0.0 \t0.0 \t0.0 \t0.0 \t0.0 \t0.0 \t0.0 \t127.0 \t0.0 \t\n",
      "DC8 \t0.0 \t0.0 \t0.0 \t0.0 \t0.0 \t0.0 \t0.0 \t0.0 \t0.0 \t0.0 \t0.0 \t0.0 \t0.0 \t0.0 \t0.0 \t0.0 \t0.0 \t0.0 \t0.0 \t0.0 \t0.0 \t0.0 \t0.0 \t0.0 \t0.0 \t0.0 \t0.0 \t0.0 \t0.0 \t0.0 \t0.0 \t0.0 \t0.0 \t0.0 \t0.0 \t0.0 \t0.0 \t0.0 \t0.0 \t0.0 \t0.0 \t0.0 \t0.0 \t0.0 \t0.0 \t0.0 \t0.0 \t0.0 \t0.0 \t0.0 \t0.0 \t0.0 \t0.0 \t0.0 \t0.0 \t0.0 \t0.0 \t0.0 \t0.0 \t0.0 \t0.0 \t0.0 \t0.0 \t0.0 \t0.0 \t0.0 \t0.0 \t0.0 \t0.0 \t0.0 \t0.0 \t0.0 \t0.0 \t0.0 \t0.0 \t0.0 \t0.0 \t0.0 \t0.0 \t0.0 \t0.0 \t0.0 \t0.0 \t0.0 \t0.0 \t0.0 \t0.0 \t0.0 \t0.0 \t0.0 \t0.0 \t0.0 \t0.0 \t0.0 \t0.0 \t0.0 \t0.0 \t0.0 \t0.0 \t0.0 \t\n",
      "DC9 \t0.0 \t0.0 \t0.0 \t0.0 \t0.0 \t0.0 \t0.0 \t0.0 \t129.0 \t0.0 \t0.0 \t0.0 \t0.0 \t0.0 \t142.0 \t0.0 \t0.0 \t0.0 \t0.0 \t92.0 \t0.0 \t0.0 \t0.0 \t0.0 \t0.0 \t183.0 \t0.0 \t0.0 \t0.0 \t0.0 \t0.0 \t0.0 \t0.0 \t0.0 \t0.0 \t0.0 \t0.0 \t0.0 \t0.0 \t0.0 \t0.0 \t0.0 \t0.0 \t0.0 \t0.0 \t60.0 \t0.0 \t0.0 \t108.0 \t0.0 \t0.0 \t190.0 \t0.0 \t0.0 \t0.0 \t0.0 \t0.0 \t0.0 \t0.0 \t0.0 \t0.0 \t123.0 \t0.0 \t0.0 \t0.0 \t0.0 \t0.0 \t0.0 \t0.0 \t0.0 \t0.0 \t0.0 \t0.0 \t123.0 \t0.0 \t0.0 \t0.0 \t0.0 \t0.0 \t0.0 \t0.0 \t0.0 \t0.0 \t0.0 \t0.0 \t0.0 \t159.0 \t0.0 \t170.0 \t0.0 \t0.0 \t0.0 \t0.0 \t0.0 \t0.0 \t127.0 \t0.0 \t0.0 \t0.0 \t0.0 \t\n",
      "DC10 \t-0.0 \t-0.0 \t-0.0 \t-0.0 \t-0.0 \t-0.0 \t178.0 \t-0.0 \t-0.0 \t-0.0 \t-0.0 \t135.0 \t161.0 \t-0.0 \t-0.0 \t-0.0 \t187.0 \t-0.0 \t-0.0 \t-0.0 \t130.0 \t-0.0 \t-0.0 \t-0.0 \t-0.0 \t-0.0 \t-0.0 \t-0.0 \t-0.0 \t-0.0 \t-0.0 \t-0.0 \t-0.0 \t-0.0 \t-0.0 \t-0.0 \t-0.0 \t-0.0 \t150.0 \t174.0 \t-0.0 \t-0.0 \t-0.0 \t-0.0 \t-0.0 \t-0.0 \t-0.0 \t-0.0 \t-0.0 \t-0.0 \t-0.0 \t-0.0 \t-0.0 \t-0.0 \t-0.0 \t162.0 \t-0.0 \t-0.0 \t-0.0 \t-0.0 \t-0.0 \t-0.0 \t-0.0 \t-0.0 \t-0.0 \t-0.0 \t-0.0 \t-0.0 \t-0.0 \t-0.0 \t-0.0 \t-0.0 \t-0.0 \t69.0 \t-0.0 \t-0.0 \t132.0 \t-0.0 \t-0.0 \t-0.0 \t-0.0 \t-0.0 \t-0.0 \t106.0 \t-0.0 \t-0.0 \t-0.0 \t-0.0 \t-0.0 \t-0.0 \t-0.0 \t-0.0 \t-0.0 \t-0.0 \t-0.0 \t-0.0 \t-0.0 \t-0.0 \t-0.0 \t-0.0 \t\n",
      "DC's scale: \n",
      "DC1 \t3124\n",
      "DC2 \t1240\n",
      "DC3 \t910\n",
      "DC4 \t1498\n",
      "DC5 \t1389\n",
      "DC6 \t2592\n",
      "DC7 \t1218\n",
      "DC8 \t0\n",
      "DC9 \t1606\n",
      "DC10 \t1584\n",
      "z* =  486706.0\n"
     ]
    }
   ],
   "source": [
    "print(\"1(b) Results | Single sourcing: \")\n",
    "\n",
    "for j in dcs:\n",
    "    print(v[j].varName, '=', v[j].x)\n",
    "\n",
    "replenish_plan = []   \n",
    "for j in dcs:\n",
    "    print(\"DC\" + str(j+1), \"\\t\", end=\"\")\n",
    "    for i in stores:\n",
    "        if len(str(r[i][j].x)) < 11:\n",
    "            print(r[i][j].x, \"\\t\", end=\"\")\n",
    "        else:\n",
    "            print(r[i][j].x, \"\", end=\"\")\n",
    "    print(\"\")\n",
    "\n",
    "print(\"DC's scale: \")\n",
    "for j in dcs:\n",
    "    count = 0\n",
    "    print(\"DC\" + str(j+1), \"\\t\", end=\"\")\n",
    "    for i in stores:\n",
    "        count += int(r[i][j].x)\n",
    "    print(count)\n",
    "\n",
    "print(\"z* = \", eg1b.ObjVal)"
   ]
  },
  {
   "cell_type": "code",
   "execution_count": 1027,
   "metadata": {},
   "outputs": [
    {
     "data": {
      "application/vnd.jupyter.widget-view+json": {
       "model_id": "230a03a2e77c40748e6421d3ffc3ef0d",
       "version_major": 2,
       "version_minor": 0
      },
      "text/plain": [
       "interactive(children=(Dropdown(description='x', options=('Platform', 'Time', 'PhysicalCores', 'LogicalProcesso…"
      ]
     },
     "metadata": {},
     "output_type": "display_data"
    },
    {
     "data": {
      "application/vnd.plotly.v1+json": {
       "config": {
        "plotlyServerURL": "https://plot.ly"
       },
       "data": [
        {
         "hovertemplate": "index=%{x}<br>Runtime=%{y}<br>Seed=%{marker.color}<extra></extra>",
         "legendgroup": "",
         "marker": {
          "color": [
           0,
           0,
           0,
           0,
           0
          ],
          "coloraxis": "coloraxis",
          "symbol": "circle"
         },
         "mode": "markers",
         "name": "",
         "orientation": "v",
         "showlegend": false,
         "type": "scatter",
         "x": [
          0,
          1,
          2,
          3,
          4
         ],
         "xaxis": "x",
         "y": [
          0.21,
          0.19,
          0.18,
          0.2,
          null
         ],
         "yaxis": "y"
        }
       ],
       "layout": {
        "coloraxis": {
         "colorbar": {
          "title": {
           "text": "Seed"
          }
         },
         "colorscale": [
          [
           0,
           "#0d0887"
          ],
          [
           0.1111111111111111,
           "#46039f"
          ],
          [
           0.2222222222222222,
           "#7201a8"
          ],
          [
           0.3333333333333333,
           "#9c179e"
          ],
          [
           0.4444444444444444,
           "#bd3786"
          ],
          [
           0.5555555555555556,
           "#d8576b"
          ],
          [
           0.6666666666666666,
           "#ed7953"
          ],
          [
           0.7777777777777778,
           "#fb9f3a"
          ],
          [
           0.8888888888888888,
           "#fdca26"
          ],
          [
           1,
           "#f0f921"
          ]
         ]
        },
        "legend": {
         "tracegroupgap": 0
        },
        "margin": {
         "t": 60
        },
        "template": {
         "data": {
          "bar": [
           {
            "error_x": {
             "color": "#2a3f5f"
            },
            "error_y": {
             "color": "#2a3f5f"
            },
            "marker": {
             "line": {
              "color": "#E5ECF6",
              "width": 0.5
             },
             "pattern": {
              "fillmode": "overlay",
              "size": 10,
              "solidity": 0.2
             }
            },
            "type": "bar"
           }
          ],
          "barpolar": [
           {
            "marker": {
             "line": {
              "color": "#E5ECF6",
              "width": 0.5
             },
             "pattern": {
              "fillmode": "overlay",
              "size": 10,
              "solidity": 0.2
             }
            },
            "type": "barpolar"
           }
          ],
          "carpet": [
           {
            "aaxis": {
             "endlinecolor": "#2a3f5f",
             "gridcolor": "white",
             "linecolor": "white",
             "minorgridcolor": "white",
             "startlinecolor": "#2a3f5f"
            },
            "baxis": {
             "endlinecolor": "#2a3f5f",
             "gridcolor": "white",
             "linecolor": "white",
             "minorgridcolor": "white",
             "startlinecolor": "#2a3f5f"
            },
            "type": "carpet"
           }
          ],
          "choropleth": [
           {
            "colorbar": {
             "outlinewidth": 0,
             "ticks": ""
            },
            "type": "choropleth"
           }
          ],
          "contour": [
           {
            "colorbar": {
             "outlinewidth": 0,
             "ticks": ""
            },
            "colorscale": [
             [
              0,
              "#0d0887"
             ],
             [
              0.1111111111111111,
              "#46039f"
             ],
             [
              0.2222222222222222,
              "#7201a8"
             ],
             [
              0.3333333333333333,
              "#9c179e"
             ],
             [
              0.4444444444444444,
              "#bd3786"
             ],
             [
              0.5555555555555556,
              "#d8576b"
             ],
             [
              0.6666666666666666,
              "#ed7953"
             ],
             [
              0.7777777777777778,
              "#fb9f3a"
             ],
             [
              0.8888888888888888,
              "#fdca26"
             ],
             [
              1,
              "#f0f921"
             ]
            ],
            "type": "contour"
           }
          ],
          "contourcarpet": [
           {
            "colorbar": {
             "outlinewidth": 0,
             "ticks": ""
            },
            "type": "contourcarpet"
           }
          ],
          "heatmap": [
           {
            "colorbar": {
             "outlinewidth": 0,
             "ticks": ""
            },
            "colorscale": [
             [
              0,
              "#0d0887"
             ],
             [
              0.1111111111111111,
              "#46039f"
             ],
             [
              0.2222222222222222,
              "#7201a8"
             ],
             [
              0.3333333333333333,
              "#9c179e"
             ],
             [
              0.4444444444444444,
              "#bd3786"
             ],
             [
              0.5555555555555556,
              "#d8576b"
             ],
             [
              0.6666666666666666,
              "#ed7953"
             ],
             [
              0.7777777777777778,
              "#fb9f3a"
             ],
             [
              0.8888888888888888,
              "#fdca26"
             ],
             [
              1,
              "#f0f921"
             ]
            ],
            "type": "heatmap"
           }
          ],
          "heatmapgl": [
           {
            "colorbar": {
             "outlinewidth": 0,
             "ticks": ""
            },
            "colorscale": [
             [
              0,
              "#0d0887"
             ],
             [
              0.1111111111111111,
              "#46039f"
             ],
             [
              0.2222222222222222,
              "#7201a8"
             ],
             [
              0.3333333333333333,
              "#9c179e"
             ],
             [
              0.4444444444444444,
              "#bd3786"
             ],
             [
              0.5555555555555556,
              "#d8576b"
             ],
             [
              0.6666666666666666,
              "#ed7953"
             ],
             [
              0.7777777777777778,
              "#fb9f3a"
             ],
             [
              0.8888888888888888,
              "#fdca26"
             ],
             [
              1,
              "#f0f921"
             ]
            ],
            "type": "heatmapgl"
           }
          ],
          "histogram": [
           {
            "marker": {
             "pattern": {
              "fillmode": "overlay",
              "size": 10,
              "solidity": 0.2
             }
            },
            "type": "histogram"
           }
          ],
          "histogram2d": [
           {
            "colorbar": {
             "outlinewidth": 0,
             "ticks": ""
            },
            "colorscale": [
             [
              0,
              "#0d0887"
             ],
             [
              0.1111111111111111,
              "#46039f"
             ],
             [
              0.2222222222222222,
              "#7201a8"
             ],
             [
              0.3333333333333333,
              "#9c179e"
             ],
             [
              0.4444444444444444,
              "#bd3786"
             ],
             [
              0.5555555555555556,
              "#d8576b"
             ],
             [
              0.6666666666666666,
              "#ed7953"
             ],
             [
              0.7777777777777778,
              "#fb9f3a"
             ],
             [
              0.8888888888888888,
              "#fdca26"
             ],
             [
              1,
              "#f0f921"
             ]
            ],
            "type": "histogram2d"
           }
          ],
          "histogram2dcontour": [
           {
            "colorbar": {
             "outlinewidth": 0,
             "ticks": ""
            },
            "colorscale": [
             [
              0,
              "#0d0887"
             ],
             [
              0.1111111111111111,
              "#46039f"
             ],
             [
              0.2222222222222222,
              "#7201a8"
             ],
             [
              0.3333333333333333,
              "#9c179e"
             ],
             [
              0.4444444444444444,
              "#bd3786"
             ],
             [
              0.5555555555555556,
              "#d8576b"
             ],
             [
              0.6666666666666666,
              "#ed7953"
             ],
             [
              0.7777777777777778,
              "#fb9f3a"
             ],
             [
              0.8888888888888888,
              "#fdca26"
             ],
             [
              1,
              "#f0f921"
             ]
            ],
            "type": "histogram2dcontour"
           }
          ],
          "mesh3d": [
           {
            "colorbar": {
             "outlinewidth": 0,
             "ticks": ""
            },
            "type": "mesh3d"
           }
          ],
          "parcoords": [
           {
            "line": {
             "colorbar": {
              "outlinewidth": 0,
              "ticks": ""
             }
            },
            "type": "parcoords"
           }
          ],
          "pie": [
           {
            "automargin": true,
            "type": "pie"
           }
          ],
          "scatter": [
           {
            "fillpattern": {
             "fillmode": "overlay",
             "size": 10,
             "solidity": 0.2
            },
            "type": "scatter"
           }
          ],
          "scatter3d": [
           {
            "line": {
             "colorbar": {
              "outlinewidth": 0,
              "ticks": ""
             }
            },
            "marker": {
             "colorbar": {
              "outlinewidth": 0,
              "ticks": ""
             }
            },
            "type": "scatter3d"
           }
          ],
          "scattercarpet": [
           {
            "marker": {
             "colorbar": {
              "outlinewidth": 0,
              "ticks": ""
             }
            },
            "type": "scattercarpet"
           }
          ],
          "scattergeo": [
           {
            "marker": {
             "colorbar": {
              "outlinewidth": 0,
              "ticks": ""
             }
            },
            "type": "scattergeo"
           }
          ],
          "scattergl": [
           {
            "marker": {
             "colorbar": {
              "outlinewidth": 0,
              "ticks": ""
             }
            },
            "type": "scattergl"
           }
          ],
          "scattermapbox": [
           {
            "marker": {
             "colorbar": {
              "outlinewidth": 0,
              "ticks": ""
             }
            },
            "type": "scattermapbox"
           }
          ],
          "scatterpolar": [
           {
            "marker": {
             "colorbar": {
              "outlinewidth": 0,
              "ticks": ""
             }
            },
            "type": "scatterpolar"
           }
          ],
          "scatterpolargl": [
           {
            "marker": {
             "colorbar": {
              "outlinewidth": 0,
              "ticks": ""
             }
            },
            "type": "scatterpolargl"
           }
          ],
          "scatterternary": [
           {
            "marker": {
             "colorbar": {
              "outlinewidth": 0,
              "ticks": ""
             }
            },
            "type": "scatterternary"
           }
          ],
          "surface": [
           {
            "colorbar": {
             "outlinewidth": 0,
             "ticks": ""
            },
            "colorscale": [
             [
              0,
              "#0d0887"
             ],
             [
              0.1111111111111111,
              "#46039f"
             ],
             [
              0.2222222222222222,
              "#7201a8"
             ],
             [
              0.3333333333333333,
              "#9c179e"
             ],
             [
              0.4444444444444444,
              "#bd3786"
             ],
             [
              0.5555555555555556,
              "#d8576b"
             ],
             [
              0.6666666666666666,
              "#ed7953"
             ],
             [
              0.7777777777777778,
              "#fb9f3a"
             ],
             [
              0.8888888888888888,
              "#fdca26"
             ],
             [
              1,
              "#f0f921"
             ]
            ],
            "type": "surface"
           }
          ],
          "table": [
           {
            "cells": {
             "fill": {
              "color": "#EBF0F8"
             },
             "line": {
              "color": "white"
             }
            },
            "header": {
             "fill": {
              "color": "#C8D4E3"
             },
             "line": {
              "color": "white"
             }
            },
            "type": "table"
           }
          ]
         },
         "layout": {
          "annotationdefaults": {
           "arrowcolor": "#2a3f5f",
           "arrowhead": 0,
           "arrowwidth": 1
          },
          "autotypenumbers": "strict",
          "coloraxis": {
           "colorbar": {
            "outlinewidth": 0,
            "ticks": ""
           }
          },
          "colorscale": {
           "diverging": [
            [
             0,
             "#8e0152"
            ],
            [
             0.1,
             "#c51b7d"
            ],
            [
             0.2,
             "#de77ae"
            ],
            [
             0.3,
             "#f1b6da"
            ],
            [
             0.4,
             "#fde0ef"
            ],
            [
             0.5,
             "#f7f7f7"
            ],
            [
             0.6,
             "#e6f5d0"
            ],
            [
             0.7,
             "#b8e186"
            ],
            [
             0.8,
             "#7fbc41"
            ],
            [
             0.9,
             "#4d9221"
            ],
            [
             1,
             "#276419"
            ]
           ],
           "sequential": [
            [
             0,
             "#0d0887"
            ],
            [
             0.1111111111111111,
             "#46039f"
            ],
            [
             0.2222222222222222,
             "#7201a8"
            ],
            [
             0.3333333333333333,
             "#9c179e"
            ],
            [
             0.4444444444444444,
             "#bd3786"
            ],
            [
             0.5555555555555556,
             "#d8576b"
            ],
            [
             0.6666666666666666,
             "#ed7953"
            ],
            [
             0.7777777777777778,
             "#fb9f3a"
            ],
            [
             0.8888888888888888,
             "#fdca26"
            ],
            [
             1,
             "#f0f921"
            ]
           ],
           "sequentialminus": [
            [
             0,
             "#0d0887"
            ],
            [
             0.1111111111111111,
             "#46039f"
            ],
            [
             0.2222222222222222,
             "#7201a8"
            ],
            [
             0.3333333333333333,
             "#9c179e"
            ],
            [
             0.4444444444444444,
             "#bd3786"
            ],
            [
             0.5555555555555556,
             "#d8576b"
            ],
            [
             0.6666666666666666,
             "#ed7953"
            ],
            [
             0.7777777777777778,
             "#fb9f3a"
            ],
            [
             0.8888888888888888,
             "#fdca26"
            ],
            [
             1,
             "#f0f921"
            ]
           ]
          },
          "colorway": [
           "#636efa",
           "#EF553B",
           "#00cc96",
           "#ab63fa",
           "#FFA15A",
           "#19d3f3",
           "#FF6692",
           "#B6E880",
           "#FF97FF",
           "#FECB52"
          ],
          "font": {
           "color": "#2a3f5f"
          },
          "geo": {
           "bgcolor": "white",
           "lakecolor": "white",
           "landcolor": "#E5ECF6",
           "showlakes": true,
           "showland": true,
           "subunitcolor": "white"
          },
          "hoverlabel": {
           "align": "left"
          },
          "hovermode": "closest",
          "mapbox": {
           "style": "light"
          },
          "paper_bgcolor": "white",
          "plot_bgcolor": "#E5ECF6",
          "polar": {
           "angularaxis": {
            "gridcolor": "white",
            "linecolor": "white",
            "ticks": ""
           },
           "bgcolor": "#E5ECF6",
           "radialaxis": {
            "gridcolor": "white",
            "linecolor": "white",
            "ticks": ""
           }
          },
          "scene": {
           "xaxis": {
            "backgroundcolor": "#E5ECF6",
            "gridcolor": "white",
            "gridwidth": 2,
            "linecolor": "white",
            "showbackground": true,
            "ticks": "",
            "zerolinecolor": "white"
           },
           "yaxis": {
            "backgroundcolor": "#E5ECF6",
            "gridcolor": "white",
            "gridwidth": 2,
            "linecolor": "white",
            "showbackground": true,
            "ticks": "",
            "zerolinecolor": "white"
           },
           "zaxis": {
            "backgroundcolor": "#E5ECF6",
            "gridcolor": "white",
            "gridwidth": 2,
            "linecolor": "white",
            "showbackground": true,
            "ticks": "",
            "zerolinecolor": "white"
           }
          },
          "shapedefaults": {
           "line": {
            "color": "#2a3f5f"
           }
          },
          "ternary": {
           "aaxis": {
            "gridcolor": "white",
            "linecolor": "white",
            "ticks": ""
           },
           "baxis": {
            "gridcolor": "white",
            "linecolor": "white",
            "ticks": ""
           },
           "bgcolor": "#E5ECF6",
           "caxis": {
            "gridcolor": "white",
            "linecolor": "white",
            "ticks": ""
           }
          },
          "title": {
           "x": 0.05
          },
          "xaxis": {
           "automargin": true,
           "gridcolor": "white",
           "linecolor": "white",
           "ticks": "",
           "title": {
            "standoff": 15
           },
           "zerolinecolor": "white",
           "zerolinewidth": 2
          },
          "yaxis": {
           "automargin": true,
           "gridcolor": "white",
           "linecolor": "white",
           "ticks": "",
           "title": {
            "standoff": 15
           },
           "zerolinecolor": "white",
           "zerolinewidth": 2
          }
         }
        },
        "xaxis": {
         "anchor": "y",
         "domain": [
          0,
          1
         ],
         "title": {
          "text": "index"
         }
        },
        "yaxis": {
         "anchor": "x",
         "domain": [
          0,
          1
         ],
         "title": {
          "text": "Runtime"
         }
        }
       }
      }
     },
     "metadata": {},
     "output_type": "display_data"
    },
    {
     "data": {
      "application/vnd.plotly.v1+json": {
       "config": {
        "plotlyServerURL": "https://plot.ly"
       },
       "data": [
        {
         "hovertemplate": "index=%{x}<br>MIPGap=%{y}<br>Seed=%{marker.color}<extra></extra>",
         "legendgroup": "",
         "marker": {
          "color": [
           0,
           0,
           0,
           0,
           0
          ],
          "coloraxis": "coloraxis",
          "symbol": "circle"
         },
         "mode": "markers",
         "name": "",
         "orientation": "v",
         "showlegend": false,
         "type": "scatter",
         "x": [
          0,
          1,
          2,
          3,
          4
         ],
         "xaxis": "x",
         "y": [
          0,
          0,
          0,
          0,
          null
         ],
         "yaxis": "y"
        }
       ],
       "layout": {
        "coloraxis": {
         "colorbar": {
          "title": {
           "text": "Seed"
          }
         },
         "colorscale": [
          [
           0,
           "#0d0887"
          ],
          [
           0.1111111111111111,
           "#46039f"
          ],
          [
           0.2222222222222222,
           "#7201a8"
          ],
          [
           0.3333333333333333,
           "#9c179e"
          ],
          [
           0.4444444444444444,
           "#bd3786"
          ],
          [
           0.5555555555555556,
           "#d8576b"
          ],
          [
           0.6666666666666666,
           "#ed7953"
          ],
          [
           0.7777777777777778,
           "#fb9f3a"
          ],
          [
           0.8888888888888888,
           "#fdca26"
          ],
          [
           1,
           "#f0f921"
          ]
         ]
        },
        "legend": {
         "tracegroupgap": 0
        },
        "margin": {
         "t": 60
        },
        "template": {
         "data": {
          "bar": [
           {
            "error_x": {
             "color": "#2a3f5f"
            },
            "error_y": {
             "color": "#2a3f5f"
            },
            "marker": {
             "line": {
              "color": "#E5ECF6",
              "width": 0.5
             },
             "pattern": {
              "fillmode": "overlay",
              "size": 10,
              "solidity": 0.2
             }
            },
            "type": "bar"
           }
          ],
          "barpolar": [
           {
            "marker": {
             "line": {
              "color": "#E5ECF6",
              "width": 0.5
             },
             "pattern": {
              "fillmode": "overlay",
              "size": 10,
              "solidity": 0.2
             }
            },
            "type": "barpolar"
           }
          ],
          "carpet": [
           {
            "aaxis": {
             "endlinecolor": "#2a3f5f",
             "gridcolor": "white",
             "linecolor": "white",
             "minorgridcolor": "white",
             "startlinecolor": "#2a3f5f"
            },
            "baxis": {
             "endlinecolor": "#2a3f5f",
             "gridcolor": "white",
             "linecolor": "white",
             "minorgridcolor": "white",
             "startlinecolor": "#2a3f5f"
            },
            "type": "carpet"
           }
          ],
          "choropleth": [
           {
            "colorbar": {
             "outlinewidth": 0,
             "ticks": ""
            },
            "type": "choropleth"
           }
          ],
          "contour": [
           {
            "colorbar": {
             "outlinewidth": 0,
             "ticks": ""
            },
            "colorscale": [
             [
              0,
              "#0d0887"
             ],
             [
              0.1111111111111111,
              "#46039f"
             ],
             [
              0.2222222222222222,
              "#7201a8"
             ],
             [
              0.3333333333333333,
              "#9c179e"
             ],
             [
              0.4444444444444444,
              "#bd3786"
             ],
             [
              0.5555555555555556,
              "#d8576b"
             ],
             [
              0.6666666666666666,
              "#ed7953"
             ],
             [
              0.7777777777777778,
              "#fb9f3a"
             ],
             [
              0.8888888888888888,
              "#fdca26"
             ],
             [
              1,
              "#f0f921"
             ]
            ],
            "type": "contour"
           }
          ],
          "contourcarpet": [
           {
            "colorbar": {
             "outlinewidth": 0,
             "ticks": ""
            },
            "type": "contourcarpet"
           }
          ],
          "heatmap": [
           {
            "colorbar": {
             "outlinewidth": 0,
             "ticks": ""
            },
            "colorscale": [
             [
              0,
              "#0d0887"
             ],
             [
              0.1111111111111111,
              "#46039f"
             ],
             [
              0.2222222222222222,
              "#7201a8"
             ],
             [
              0.3333333333333333,
              "#9c179e"
             ],
             [
              0.4444444444444444,
              "#bd3786"
             ],
             [
              0.5555555555555556,
              "#d8576b"
             ],
             [
              0.6666666666666666,
              "#ed7953"
             ],
             [
              0.7777777777777778,
              "#fb9f3a"
             ],
             [
              0.8888888888888888,
              "#fdca26"
             ],
             [
              1,
              "#f0f921"
             ]
            ],
            "type": "heatmap"
           }
          ],
          "heatmapgl": [
           {
            "colorbar": {
             "outlinewidth": 0,
             "ticks": ""
            },
            "colorscale": [
             [
              0,
              "#0d0887"
             ],
             [
              0.1111111111111111,
              "#46039f"
             ],
             [
              0.2222222222222222,
              "#7201a8"
             ],
             [
              0.3333333333333333,
              "#9c179e"
             ],
             [
              0.4444444444444444,
              "#bd3786"
             ],
             [
              0.5555555555555556,
              "#d8576b"
             ],
             [
              0.6666666666666666,
              "#ed7953"
             ],
             [
              0.7777777777777778,
              "#fb9f3a"
             ],
             [
              0.8888888888888888,
              "#fdca26"
             ],
             [
              1,
              "#f0f921"
             ]
            ],
            "type": "heatmapgl"
           }
          ],
          "histogram": [
           {
            "marker": {
             "pattern": {
              "fillmode": "overlay",
              "size": 10,
              "solidity": 0.2
             }
            },
            "type": "histogram"
           }
          ],
          "histogram2d": [
           {
            "colorbar": {
             "outlinewidth": 0,
             "ticks": ""
            },
            "colorscale": [
             [
              0,
              "#0d0887"
             ],
             [
              0.1111111111111111,
              "#46039f"
             ],
             [
              0.2222222222222222,
              "#7201a8"
             ],
             [
              0.3333333333333333,
              "#9c179e"
             ],
             [
              0.4444444444444444,
              "#bd3786"
             ],
             [
              0.5555555555555556,
              "#d8576b"
             ],
             [
              0.6666666666666666,
              "#ed7953"
             ],
             [
              0.7777777777777778,
              "#fb9f3a"
             ],
             [
              0.8888888888888888,
              "#fdca26"
             ],
             [
              1,
              "#f0f921"
             ]
            ],
            "type": "histogram2d"
           }
          ],
          "histogram2dcontour": [
           {
            "colorbar": {
             "outlinewidth": 0,
             "ticks": ""
            },
            "colorscale": [
             [
              0,
              "#0d0887"
             ],
             [
              0.1111111111111111,
              "#46039f"
             ],
             [
              0.2222222222222222,
              "#7201a8"
             ],
             [
              0.3333333333333333,
              "#9c179e"
             ],
             [
              0.4444444444444444,
              "#bd3786"
             ],
             [
              0.5555555555555556,
              "#d8576b"
             ],
             [
              0.6666666666666666,
              "#ed7953"
             ],
             [
              0.7777777777777778,
              "#fb9f3a"
             ],
             [
              0.8888888888888888,
              "#fdca26"
             ],
             [
              1,
              "#f0f921"
             ]
            ],
            "type": "histogram2dcontour"
           }
          ],
          "mesh3d": [
           {
            "colorbar": {
             "outlinewidth": 0,
             "ticks": ""
            },
            "type": "mesh3d"
           }
          ],
          "parcoords": [
           {
            "line": {
             "colorbar": {
              "outlinewidth": 0,
              "ticks": ""
             }
            },
            "type": "parcoords"
           }
          ],
          "pie": [
           {
            "automargin": true,
            "type": "pie"
           }
          ],
          "scatter": [
           {
            "fillpattern": {
             "fillmode": "overlay",
             "size": 10,
             "solidity": 0.2
            },
            "type": "scatter"
           }
          ],
          "scatter3d": [
           {
            "line": {
             "colorbar": {
              "outlinewidth": 0,
              "ticks": ""
             }
            },
            "marker": {
             "colorbar": {
              "outlinewidth": 0,
              "ticks": ""
             }
            },
            "type": "scatter3d"
           }
          ],
          "scattercarpet": [
           {
            "marker": {
             "colorbar": {
              "outlinewidth": 0,
              "ticks": ""
             }
            },
            "type": "scattercarpet"
           }
          ],
          "scattergeo": [
           {
            "marker": {
             "colorbar": {
              "outlinewidth": 0,
              "ticks": ""
             }
            },
            "type": "scattergeo"
           }
          ],
          "scattergl": [
           {
            "marker": {
             "colorbar": {
              "outlinewidth": 0,
              "ticks": ""
             }
            },
            "type": "scattergl"
           }
          ],
          "scattermapbox": [
           {
            "marker": {
             "colorbar": {
              "outlinewidth": 0,
              "ticks": ""
             }
            },
            "type": "scattermapbox"
           }
          ],
          "scatterpolar": [
           {
            "marker": {
             "colorbar": {
              "outlinewidth": 0,
              "ticks": ""
             }
            },
            "type": "scatterpolar"
           }
          ],
          "scatterpolargl": [
           {
            "marker": {
             "colorbar": {
              "outlinewidth": 0,
              "ticks": ""
             }
            },
            "type": "scatterpolargl"
           }
          ],
          "scatterternary": [
           {
            "marker": {
             "colorbar": {
              "outlinewidth": 0,
              "ticks": ""
             }
            },
            "type": "scatterternary"
           }
          ],
          "surface": [
           {
            "colorbar": {
             "outlinewidth": 0,
             "ticks": ""
            },
            "colorscale": [
             [
              0,
              "#0d0887"
             ],
             [
              0.1111111111111111,
              "#46039f"
             ],
             [
              0.2222222222222222,
              "#7201a8"
             ],
             [
              0.3333333333333333,
              "#9c179e"
             ],
             [
              0.4444444444444444,
              "#bd3786"
             ],
             [
              0.5555555555555556,
              "#d8576b"
             ],
             [
              0.6666666666666666,
              "#ed7953"
             ],
             [
              0.7777777777777778,
              "#fb9f3a"
             ],
             [
              0.8888888888888888,
              "#fdca26"
             ],
             [
              1,
              "#f0f921"
             ]
            ],
            "type": "surface"
           }
          ],
          "table": [
           {
            "cells": {
             "fill": {
              "color": "#EBF0F8"
             },
             "line": {
              "color": "white"
             }
            },
            "header": {
             "fill": {
              "color": "#C8D4E3"
             },
             "line": {
              "color": "white"
             }
            },
            "type": "table"
           }
          ]
         },
         "layout": {
          "annotationdefaults": {
           "arrowcolor": "#2a3f5f",
           "arrowhead": 0,
           "arrowwidth": 1
          },
          "autotypenumbers": "strict",
          "coloraxis": {
           "colorbar": {
            "outlinewidth": 0,
            "ticks": ""
           }
          },
          "colorscale": {
           "diverging": [
            [
             0,
             "#8e0152"
            ],
            [
             0.1,
             "#c51b7d"
            ],
            [
             0.2,
             "#de77ae"
            ],
            [
             0.3,
             "#f1b6da"
            ],
            [
             0.4,
             "#fde0ef"
            ],
            [
             0.5,
             "#f7f7f7"
            ],
            [
             0.6,
             "#e6f5d0"
            ],
            [
             0.7,
             "#b8e186"
            ],
            [
             0.8,
             "#7fbc41"
            ],
            [
             0.9,
             "#4d9221"
            ],
            [
             1,
             "#276419"
            ]
           ],
           "sequential": [
            [
             0,
             "#0d0887"
            ],
            [
             0.1111111111111111,
             "#46039f"
            ],
            [
             0.2222222222222222,
             "#7201a8"
            ],
            [
             0.3333333333333333,
             "#9c179e"
            ],
            [
             0.4444444444444444,
             "#bd3786"
            ],
            [
             0.5555555555555556,
             "#d8576b"
            ],
            [
             0.6666666666666666,
             "#ed7953"
            ],
            [
             0.7777777777777778,
             "#fb9f3a"
            ],
            [
             0.8888888888888888,
             "#fdca26"
            ],
            [
             1,
             "#f0f921"
            ]
           ],
           "sequentialminus": [
            [
             0,
             "#0d0887"
            ],
            [
             0.1111111111111111,
             "#46039f"
            ],
            [
             0.2222222222222222,
             "#7201a8"
            ],
            [
             0.3333333333333333,
             "#9c179e"
            ],
            [
             0.4444444444444444,
             "#bd3786"
            ],
            [
             0.5555555555555556,
             "#d8576b"
            ],
            [
             0.6666666666666666,
             "#ed7953"
            ],
            [
             0.7777777777777778,
             "#fb9f3a"
            ],
            [
             0.8888888888888888,
             "#fdca26"
            ],
            [
             1,
             "#f0f921"
            ]
           ]
          },
          "colorway": [
           "#636efa",
           "#EF553B",
           "#00cc96",
           "#ab63fa",
           "#FFA15A",
           "#19d3f3",
           "#FF6692",
           "#B6E880",
           "#FF97FF",
           "#FECB52"
          ],
          "font": {
           "color": "#2a3f5f"
          },
          "geo": {
           "bgcolor": "white",
           "lakecolor": "white",
           "landcolor": "#E5ECF6",
           "showlakes": true,
           "showland": true,
           "subunitcolor": "white"
          },
          "hoverlabel": {
           "align": "left"
          },
          "hovermode": "closest",
          "mapbox": {
           "style": "light"
          },
          "paper_bgcolor": "white",
          "plot_bgcolor": "#E5ECF6",
          "polar": {
           "angularaxis": {
            "gridcolor": "white",
            "linecolor": "white",
            "ticks": ""
           },
           "bgcolor": "#E5ECF6",
           "radialaxis": {
            "gridcolor": "white",
            "linecolor": "white",
            "ticks": ""
           }
          },
          "scene": {
           "xaxis": {
            "backgroundcolor": "#E5ECF6",
            "gridcolor": "white",
            "gridwidth": 2,
            "linecolor": "white",
            "showbackground": true,
            "ticks": "",
            "zerolinecolor": "white"
           },
           "yaxis": {
            "backgroundcolor": "#E5ECF6",
            "gridcolor": "white",
            "gridwidth": 2,
            "linecolor": "white",
            "showbackground": true,
            "ticks": "",
            "zerolinecolor": "white"
           },
           "zaxis": {
            "backgroundcolor": "#E5ECF6",
            "gridcolor": "white",
            "gridwidth": 2,
            "linecolor": "white",
            "showbackground": true,
            "ticks": "",
            "zerolinecolor": "white"
           }
          },
          "shapedefaults": {
           "line": {
            "color": "#2a3f5f"
           }
          },
          "ternary": {
           "aaxis": {
            "gridcolor": "white",
            "linecolor": "white",
            "ticks": ""
           },
           "baxis": {
            "gridcolor": "white",
            "linecolor": "white",
            "ticks": ""
           },
           "bgcolor": "#E5ECF6",
           "caxis": {
            "gridcolor": "white",
            "linecolor": "white",
            "ticks": ""
           }
          },
          "title": {
           "x": 0.05
          },
          "xaxis": {
           "automargin": true,
           "gridcolor": "white",
           "linecolor": "white",
           "ticks": "",
           "title": {
            "standoff": 15
           },
           "zerolinecolor": "white",
           "zerolinewidth": 2
          },
          "yaxis": {
           "automargin": true,
           "gridcolor": "white",
           "linecolor": "white",
           "ticks": "",
           "title": {
            "standoff": 15
           },
           "zerolinecolor": "white",
           "zerolinewidth": 2
          }
         }
        },
        "xaxis": {
         "anchor": "y",
         "domain": [
          0,
          1
         ],
         "title": {
          "text": "index"
         }
        },
        "yaxis": {
         "anchor": "x",
         "domain": [
          0,
          1
         ],
         "title": {
          "text": "MIPGap"
         }
        }
       }
      }
     },
     "metadata": {},
     "output_type": "display_data"
    }
   ],
   "source": [
    "glt.plot(results.summary())"
   ]
  },
  {
   "attachments": {},
   "cell_type": "markdown",
   "metadata": {},
   "source": [
    "#### Model 2: min the maximum distance"
   ]
  },
  {
   "cell_type": "code",
   "execution_count": 1028,
   "metadata": {},
   "outputs": [],
   "source": [
    "eg2 = Model(\"eg2\")\n",
    "B = int #cost_constraint\n",
    "\n",
    "#-------- Add variables as a list ---------#\n",
    "\n",
    "# vj = 1 if a DC is built at loc j\n",
    "v = []\n",
    "for j in dcs:\n",
    "    v.append(eg2.addVar(lb=0, vtype = GRB.BINARY, name = \"v\" + str(j+1)))\n",
    "\n",
    "# rij = the amount of products replenished by DCj to store i\n",
    "r = []\n",
    "for i in stores:\n",
    "    r.append([])\n",
    "    for j in dcs:\n",
    "        r[i].append(eg2.addVar(lb = 0, vtype = GRB.INTEGER, name = \"r\" + str(i+1) + str(j+1)))\n",
    "        \n",
    "# zij = 1 if products are replenished by DCj to store i (rij>0)\n",
    "z = []\n",
    "for i in stores:\n",
    "    z.append([])\n",
    "    for j in dcs:\n",
    "        z[i].append(eg2.addVar(lb = 0, vtype = GRB.BINARY, name = \"z\" + str(i+1) + str(j+1)))\n",
    "\n",
    "# Manhattan distancebetween store i and DCj on x-axis\n",
    "wx = []\n",
    "for i in stores:\n",
    "    wx.append([])\n",
    "    for j in dcs:\n",
    "        wx[i].append(eg2.addVar(lb = 0, vtype = GRB.INTEGER, name = \"wx\" + str(i+1) + str(j+1)))\n",
    "# Manhattan distancebetween store i and DCj on y-axis\n",
    "wy = []\n",
    "for i in stores:\n",
    "    wy.append([])\n",
    "    for j in dcs:\n",
    "        wy[i].append(eg2.addVar(lb = 0, vtype = GRB.INTEGER, name = \"wy\" + str(i+1) + str(j+1)))\n",
    "\n",
    "\n",
    "# wij=1 if the DCj is the closest to store i\n",
    "w = []\n",
    "for i in stores:\n",
    "    w.append([])\n",
    "    for j in dcs:\n",
    "        w[i].append(eg2.addVar(lb = 0, vtype = GRB.BINARY, name = \"w\" + str(i+1) + str(j+1)))\n",
    "\n",
    "d = eg2.addVar(lb = 0, vtype = GRB.INTEGER, name = \"d\")\n",
    "B = eg2.addVar(lb = 0, vtype = GRB.INTEGER, name = \"B\")"
   ]
  },
  {
   "attachments": {},
   "cell_type": "markdown",
   "metadata": {},
   "source": [
    "##### Objective Function"
   ]
  },
  {
   "cell_type": "code",
   "execution_count": 1029,
   "metadata": {},
   "outputs": [],
   "source": [
    "eg2.setObjective(d,GRB.MINIMIZE)"
   ]
  },
  {
   "attachments": {},
   "cell_type": "markdown",
   "metadata": {},
   "source": [
    "##### Constraints"
   ]
  },
  {
   "cell_type": "code",
   "execution_count": 1030,
   "metadata": {},
   "outputs": [
    {
     "data": {
      "text/plain": [
       "{(0, 0): <gurobi.Constr *Awaiting Model Update*>,\n",
       " (0, 1): <gurobi.Constr *Awaiting Model Update*>,\n",
       " (0, 2): <gurobi.Constr *Awaiting Model Update*>,\n",
       " (0, 3): <gurobi.Constr *Awaiting Model Update*>,\n",
       " (0, 4): <gurobi.Constr *Awaiting Model Update*>,\n",
       " (0, 5): <gurobi.Constr *Awaiting Model Update*>,\n",
       " (0, 6): <gurobi.Constr *Awaiting Model Update*>,\n",
       " (0, 7): <gurobi.Constr *Awaiting Model Update*>,\n",
       " (0, 8): <gurobi.Constr *Awaiting Model Update*>,\n",
       " (0, 9): <gurobi.Constr *Awaiting Model Update*>,\n",
       " (0, 10): <gurobi.Constr *Awaiting Model Update*>,\n",
       " (0, 11): <gurobi.Constr *Awaiting Model Update*>,\n",
       " (0, 12): <gurobi.Constr *Awaiting Model Update*>,\n",
       " (0, 13): <gurobi.Constr *Awaiting Model Update*>,\n",
       " (0, 14): <gurobi.Constr *Awaiting Model Update*>,\n",
       " (0, 15): <gurobi.Constr *Awaiting Model Update*>,\n",
       " (0, 16): <gurobi.Constr *Awaiting Model Update*>,\n",
       " (0, 17): <gurobi.Constr *Awaiting Model Update*>,\n",
       " (0, 18): <gurobi.Constr *Awaiting Model Update*>,\n",
       " (0, 19): <gurobi.Constr *Awaiting Model Update*>,\n",
       " (0, 20): <gurobi.Constr *Awaiting Model Update*>,\n",
       " (0, 21): <gurobi.Constr *Awaiting Model Update*>,\n",
       " (0, 22): <gurobi.Constr *Awaiting Model Update*>,\n",
       " (0, 23): <gurobi.Constr *Awaiting Model Update*>,\n",
       " (0, 24): <gurobi.Constr *Awaiting Model Update*>,\n",
       " (0, 25): <gurobi.Constr *Awaiting Model Update*>,\n",
       " (0, 26): <gurobi.Constr *Awaiting Model Update*>,\n",
       " (0, 27): <gurobi.Constr *Awaiting Model Update*>,\n",
       " (0, 28): <gurobi.Constr *Awaiting Model Update*>,\n",
       " (0, 29): <gurobi.Constr *Awaiting Model Update*>,\n",
       " (0, 30): <gurobi.Constr *Awaiting Model Update*>,\n",
       " (0, 31): <gurobi.Constr *Awaiting Model Update*>,\n",
       " (0, 32): <gurobi.Constr *Awaiting Model Update*>,\n",
       " (0, 33): <gurobi.Constr *Awaiting Model Update*>,\n",
       " (0, 34): <gurobi.Constr *Awaiting Model Update*>,\n",
       " (0, 35): <gurobi.Constr *Awaiting Model Update*>,\n",
       " (0, 36): <gurobi.Constr *Awaiting Model Update*>,\n",
       " (0, 37): <gurobi.Constr *Awaiting Model Update*>,\n",
       " (0, 38): <gurobi.Constr *Awaiting Model Update*>,\n",
       " (0, 39): <gurobi.Constr *Awaiting Model Update*>,\n",
       " (0, 40): <gurobi.Constr *Awaiting Model Update*>,\n",
       " (0, 41): <gurobi.Constr *Awaiting Model Update*>,\n",
       " (0, 42): <gurobi.Constr *Awaiting Model Update*>,\n",
       " (0, 43): <gurobi.Constr *Awaiting Model Update*>,\n",
       " (0, 44): <gurobi.Constr *Awaiting Model Update*>,\n",
       " (0, 45): <gurobi.Constr *Awaiting Model Update*>,\n",
       " (0, 46): <gurobi.Constr *Awaiting Model Update*>,\n",
       " (0, 47): <gurobi.Constr *Awaiting Model Update*>,\n",
       " (0, 48): <gurobi.Constr *Awaiting Model Update*>,\n",
       " (0, 49): <gurobi.Constr *Awaiting Model Update*>,\n",
       " (0, 50): <gurobi.Constr *Awaiting Model Update*>,\n",
       " (0, 51): <gurobi.Constr *Awaiting Model Update*>,\n",
       " (0, 52): <gurobi.Constr *Awaiting Model Update*>,\n",
       " (0, 53): <gurobi.Constr *Awaiting Model Update*>,\n",
       " (0, 54): <gurobi.Constr *Awaiting Model Update*>,\n",
       " (0, 55): <gurobi.Constr *Awaiting Model Update*>,\n",
       " (0, 56): <gurobi.Constr *Awaiting Model Update*>,\n",
       " (0, 57): <gurobi.Constr *Awaiting Model Update*>,\n",
       " (0, 58): <gurobi.Constr *Awaiting Model Update*>,\n",
       " (0, 59): <gurobi.Constr *Awaiting Model Update*>,\n",
       " (0, 60): <gurobi.Constr *Awaiting Model Update*>,\n",
       " (0, 61): <gurobi.Constr *Awaiting Model Update*>,\n",
       " (0, 62): <gurobi.Constr *Awaiting Model Update*>,\n",
       " (0, 63): <gurobi.Constr *Awaiting Model Update*>,\n",
       " (0, 64): <gurobi.Constr *Awaiting Model Update*>,\n",
       " (0, 65): <gurobi.Constr *Awaiting Model Update*>,\n",
       " (0, 66): <gurobi.Constr *Awaiting Model Update*>,\n",
       " (0, 67): <gurobi.Constr *Awaiting Model Update*>,\n",
       " (0, 68): <gurobi.Constr *Awaiting Model Update*>,\n",
       " (0, 69): <gurobi.Constr *Awaiting Model Update*>,\n",
       " (0, 70): <gurobi.Constr *Awaiting Model Update*>,\n",
       " (0, 71): <gurobi.Constr *Awaiting Model Update*>,\n",
       " (0, 72): <gurobi.Constr *Awaiting Model Update*>,\n",
       " (0, 73): <gurobi.Constr *Awaiting Model Update*>,\n",
       " (0, 74): <gurobi.Constr *Awaiting Model Update*>,\n",
       " (0, 75): <gurobi.Constr *Awaiting Model Update*>,\n",
       " (0, 76): <gurobi.Constr *Awaiting Model Update*>,\n",
       " (0, 77): <gurobi.Constr *Awaiting Model Update*>,\n",
       " (0, 78): <gurobi.Constr *Awaiting Model Update*>,\n",
       " (0, 79): <gurobi.Constr *Awaiting Model Update*>,\n",
       " (0, 80): <gurobi.Constr *Awaiting Model Update*>,\n",
       " (0, 81): <gurobi.Constr *Awaiting Model Update*>,\n",
       " (0, 82): <gurobi.Constr *Awaiting Model Update*>,\n",
       " (0, 83): <gurobi.Constr *Awaiting Model Update*>,\n",
       " (0, 84): <gurobi.Constr *Awaiting Model Update*>,\n",
       " (0, 85): <gurobi.Constr *Awaiting Model Update*>,\n",
       " (0, 86): <gurobi.Constr *Awaiting Model Update*>,\n",
       " (0, 87): <gurobi.Constr *Awaiting Model Update*>,\n",
       " (0, 88): <gurobi.Constr *Awaiting Model Update*>,\n",
       " (0, 89): <gurobi.Constr *Awaiting Model Update*>,\n",
       " (0, 90): <gurobi.Constr *Awaiting Model Update*>,\n",
       " (0, 91): <gurobi.Constr *Awaiting Model Update*>,\n",
       " (0, 92): <gurobi.Constr *Awaiting Model Update*>,\n",
       " (0, 93): <gurobi.Constr *Awaiting Model Update*>,\n",
       " (0, 94): <gurobi.Constr *Awaiting Model Update*>,\n",
       " (0, 95): <gurobi.Constr *Awaiting Model Update*>,\n",
       " (0, 96): <gurobi.Constr *Awaiting Model Update*>,\n",
       " (0, 97): <gurobi.Constr *Awaiting Model Update*>,\n",
       " (0, 98): <gurobi.Constr *Awaiting Model Update*>,\n",
       " (0, 99): <gurobi.Constr *Awaiting Model Update*>,\n",
       " (1, 0): <gurobi.Constr *Awaiting Model Update*>,\n",
       " (1, 1): <gurobi.Constr *Awaiting Model Update*>,\n",
       " (1, 2): <gurobi.Constr *Awaiting Model Update*>,\n",
       " (1, 3): <gurobi.Constr *Awaiting Model Update*>,\n",
       " (1, 4): <gurobi.Constr *Awaiting Model Update*>,\n",
       " (1, 5): <gurobi.Constr *Awaiting Model Update*>,\n",
       " (1, 6): <gurobi.Constr *Awaiting Model Update*>,\n",
       " (1, 7): <gurobi.Constr *Awaiting Model Update*>,\n",
       " (1, 8): <gurobi.Constr *Awaiting Model Update*>,\n",
       " (1, 9): <gurobi.Constr *Awaiting Model Update*>,\n",
       " (1, 10): <gurobi.Constr *Awaiting Model Update*>,\n",
       " (1, 11): <gurobi.Constr *Awaiting Model Update*>,\n",
       " (1, 12): <gurobi.Constr *Awaiting Model Update*>,\n",
       " (1, 13): <gurobi.Constr *Awaiting Model Update*>,\n",
       " (1, 14): <gurobi.Constr *Awaiting Model Update*>,\n",
       " (1, 15): <gurobi.Constr *Awaiting Model Update*>,\n",
       " (1, 16): <gurobi.Constr *Awaiting Model Update*>,\n",
       " (1, 17): <gurobi.Constr *Awaiting Model Update*>,\n",
       " (1, 18): <gurobi.Constr *Awaiting Model Update*>,\n",
       " (1, 19): <gurobi.Constr *Awaiting Model Update*>,\n",
       " (1, 20): <gurobi.Constr *Awaiting Model Update*>,\n",
       " (1, 21): <gurobi.Constr *Awaiting Model Update*>,\n",
       " (1, 22): <gurobi.Constr *Awaiting Model Update*>,\n",
       " (1, 23): <gurobi.Constr *Awaiting Model Update*>,\n",
       " (1, 24): <gurobi.Constr *Awaiting Model Update*>,\n",
       " (1, 25): <gurobi.Constr *Awaiting Model Update*>,\n",
       " (1, 26): <gurobi.Constr *Awaiting Model Update*>,\n",
       " (1, 27): <gurobi.Constr *Awaiting Model Update*>,\n",
       " (1, 28): <gurobi.Constr *Awaiting Model Update*>,\n",
       " (1, 29): <gurobi.Constr *Awaiting Model Update*>,\n",
       " (1, 30): <gurobi.Constr *Awaiting Model Update*>,\n",
       " (1, 31): <gurobi.Constr *Awaiting Model Update*>,\n",
       " (1, 32): <gurobi.Constr *Awaiting Model Update*>,\n",
       " (1, 33): <gurobi.Constr *Awaiting Model Update*>,\n",
       " (1, 34): <gurobi.Constr *Awaiting Model Update*>,\n",
       " (1, 35): <gurobi.Constr *Awaiting Model Update*>,\n",
       " (1, 36): <gurobi.Constr *Awaiting Model Update*>,\n",
       " (1, 37): <gurobi.Constr *Awaiting Model Update*>,\n",
       " (1, 38): <gurobi.Constr *Awaiting Model Update*>,\n",
       " (1, 39): <gurobi.Constr *Awaiting Model Update*>,\n",
       " (1, 40): <gurobi.Constr *Awaiting Model Update*>,\n",
       " (1, 41): <gurobi.Constr *Awaiting Model Update*>,\n",
       " (1, 42): <gurobi.Constr *Awaiting Model Update*>,\n",
       " (1, 43): <gurobi.Constr *Awaiting Model Update*>,\n",
       " (1, 44): <gurobi.Constr *Awaiting Model Update*>,\n",
       " (1, 45): <gurobi.Constr *Awaiting Model Update*>,\n",
       " (1, 46): <gurobi.Constr *Awaiting Model Update*>,\n",
       " (1, 47): <gurobi.Constr *Awaiting Model Update*>,\n",
       " (1, 48): <gurobi.Constr *Awaiting Model Update*>,\n",
       " (1, 49): <gurobi.Constr *Awaiting Model Update*>,\n",
       " (1, 50): <gurobi.Constr *Awaiting Model Update*>,\n",
       " (1, 51): <gurobi.Constr *Awaiting Model Update*>,\n",
       " (1, 52): <gurobi.Constr *Awaiting Model Update*>,\n",
       " (1, 53): <gurobi.Constr *Awaiting Model Update*>,\n",
       " (1, 54): <gurobi.Constr *Awaiting Model Update*>,\n",
       " (1, 55): <gurobi.Constr *Awaiting Model Update*>,\n",
       " (1, 56): <gurobi.Constr *Awaiting Model Update*>,\n",
       " (1, 57): <gurobi.Constr *Awaiting Model Update*>,\n",
       " (1, 58): <gurobi.Constr *Awaiting Model Update*>,\n",
       " (1, 59): <gurobi.Constr *Awaiting Model Update*>,\n",
       " (1, 60): <gurobi.Constr *Awaiting Model Update*>,\n",
       " (1, 61): <gurobi.Constr *Awaiting Model Update*>,\n",
       " (1, 62): <gurobi.Constr *Awaiting Model Update*>,\n",
       " (1, 63): <gurobi.Constr *Awaiting Model Update*>,\n",
       " (1, 64): <gurobi.Constr *Awaiting Model Update*>,\n",
       " (1, 65): <gurobi.Constr *Awaiting Model Update*>,\n",
       " (1, 66): <gurobi.Constr *Awaiting Model Update*>,\n",
       " (1, 67): <gurobi.Constr *Awaiting Model Update*>,\n",
       " (1, 68): <gurobi.Constr *Awaiting Model Update*>,\n",
       " (1, 69): <gurobi.Constr *Awaiting Model Update*>,\n",
       " (1, 70): <gurobi.Constr *Awaiting Model Update*>,\n",
       " (1, 71): <gurobi.Constr *Awaiting Model Update*>,\n",
       " (1, 72): <gurobi.Constr *Awaiting Model Update*>,\n",
       " (1, 73): <gurobi.Constr *Awaiting Model Update*>,\n",
       " (1, 74): <gurobi.Constr *Awaiting Model Update*>,\n",
       " (1, 75): <gurobi.Constr *Awaiting Model Update*>,\n",
       " (1, 76): <gurobi.Constr *Awaiting Model Update*>,\n",
       " (1, 77): <gurobi.Constr *Awaiting Model Update*>,\n",
       " (1, 78): <gurobi.Constr *Awaiting Model Update*>,\n",
       " (1, 79): <gurobi.Constr *Awaiting Model Update*>,\n",
       " (1, 80): <gurobi.Constr *Awaiting Model Update*>,\n",
       " (1, 81): <gurobi.Constr *Awaiting Model Update*>,\n",
       " (1, 82): <gurobi.Constr *Awaiting Model Update*>,\n",
       " (1, 83): <gurobi.Constr *Awaiting Model Update*>,\n",
       " (1, 84): <gurobi.Constr *Awaiting Model Update*>,\n",
       " (1, 85): <gurobi.Constr *Awaiting Model Update*>,\n",
       " (1, 86): <gurobi.Constr *Awaiting Model Update*>,\n",
       " (1, 87): <gurobi.Constr *Awaiting Model Update*>,\n",
       " (1, 88): <gurobi.Constr *Awaiting Model Update*>,\n",
       " (1, 89): <gurobi.Constr *Awaiting Model Update*>,\n",
       " (1, 90): <gurobi.Constr *Awaiting Model Update*>,\n",
       " (1, 91): <gurobi.Constr *Awaiting Model Update*>,\n",
       " (1, 92): <gurobi.Constr *Awaiting Model Update*>,\n",
       " (1, 93): <gurobi.Constr *Awaiting Model Update*>,\n",
       " (1, 94): <gurobi.Constr *Awaiting Model Update*>,\n",
       " (1, 95): <gurobi.Constr *Awaiting Model Update*>,\n",
       " (1, 96): <gurobi.Constr *Awaiting Model Update*>,\n",
       " (1, 97): <gurobi.Constr *Awaiting Model Update*>,\n",
       " (1, 98): <gurobi.Constr *Awaiting Model Update*>,\n",
       " (1, 99): <gurobi.Constr *Awaiting Model Update*>,\n",
       " (2, 0): <gurobi.Constr *Awaiting Model Update*>,\n",
       " (2, 1): <gurobi.Constr *Awaiting Model Update*>,\n",
       " (2, 2): <gurobi.Constr *Awaiting Model Update*>,\n",
       " (2, 3): <gurobi.Constr *Awaiting Model Update*>,\n",
       " (2, 4): <gurobi.Constr *Awaiting Model Update*>,\n",
       " (2, 5): <gurobi.Constr *Awaiting Model Update*>,\n",
       " (2, 6): <gurobi.Constr *Awaiting Model Update*>,\n",
       " (2, 7): <gurobi.Constr *Awaiting Model Update*>,\n",
       " (2, 8): <gurobi.Constr *Awaiting Model Update*>,\n",
       " (2, 9): <gurobi.Constr *Awaiting Model Update*>,\n",
       " (2, 10): <gurobi.Constr *Awaiting Model Update*>,\n",
       " (2, 11): <gurobi.Constr *Awaiting Model Update*>,\n",
       " (2, 12): <gurobi.Constr *Awaiting Model Update*>,\n",
       " (2, 13): <gurobi.Constr *Awaiting Model Update*>,\n",
       " (2, 14): <gurobi.Constr *Awaiting Model Update*>,\n",
       " (2, 15): <gurobi.Constr *Awaiting Model Update*>,\n",
       " (2, 16): <gurobi.Constr *Awaiting Model Update*>,\n",
       " (2, 17): <gurobi.Constr *Awaiting Model Update*>,\n",
       " (2, 18): <gurobi.Constr *Awaiting Model Update*>,\n",
       " (2, 19): <gurobi.Constr *Awaiting Model Update*>,\n",
       " (2, 20): <gurobi.Constr *Awaiting Model Update*>,\n",
       " (2, 21): <gurobi.Constr *Awaiting Model Update*>,\n",
       " (2, 22): <gurobi.Constr *Awaiting Model Update*>,\n",
       " (2, 23): <gurobi.Constr *Awaiting Model Update*>,\n",
       " (2, 24): <gurobi.Constr *Awaiting Model Update*>,\n",
       " (2, 25): <gurobi.Constr *Awaiting Model Update*>,\n",
       " (2, 26): <gurobi.Constr *Awaiting Model Update*>,\n",
       " (2, 27): <gurobi.Constr *Awaiting Model Update*>,\n",
       " (2, 28): <gurobi.Constr *Awaiting Model Update*>,\n",
       " (2, 29): <gurobi.Constr *Awaiting Model Update*>,\n",
       " (2, 30): <gurobi.Constr *Awaiting Model Update*>,\n",
       " (2, 31): <gurobi.Constr *Awaiting Model Update*>,\n",
       " (2, 32): <gurobi.Constr *Awaiting Model Update*>,\n",
       " (2, 33): <gurobi.Constr *Awaiting Model Update*>,\n",
       " (2, 34): <gurobi.Constr *Awaiting Model Update*>,\n",
       " (2, 35): <gurobi.Constr *Awaiting Model Update*>,\n",
       " (2, 36): <gurobi.Constr *Awaiting Model Update*>,\n",
       " (2, 37): <gurobi.Constr *Awaiting Model Update*>,\n",
       " (2, 38): <gurobi.Constr *Awaiting Model Update*>,\n",
       " (2, 39): <gurobi.Constr *Awaiting Model Update*>,\n",
       " (2, 40): <gurobi.Constr *Awaiting Model Update*>,\n",
       " (2, 41): <gurobi.Constr *Awaiting Model Update*>,\n",
       " (2, 42): <gurobi.Constr *Awaiting Model Update*>,\n",
       " (2, 43): <gurobi.Constr *Awaiting Model Update*>,\n",
       " (2, 44): <gurobi.Constr *Awaiting Model Update*>,\n",
       " (2, 45): <gurobi.Constr *Awaiting Model Update*>,\n",
       " (2, 46): <gurobi.Constr *Awaiting Model Update*>,\n",
       " (2, 47): <gurobi.Constr *Awaiting Model Update*>,\n",
       " (2, 48): <gurobi.Constr *Awaiting Model Update*>,\n",
       " (2, 49): <gurobi.Constr *Awaiting Model Update*>,\n",
       " (2, 50): <gurobi.Constr *Awaiting Model Update*>,\n",
       " (2, 51): <gurobi.Constr *Awaiting Model Update*>,\n",
       " (2, 52): <gurobi.Constr *Awaiting Model Update*>,\n",
       " (2, 53): <gurobi.Constr *Awaiting Model Update*>,\n",
       " (2, 54): <gurobi.Constr *Awaiting Model Update*>,\n",
       " (2, 55): <gurobi.Constr *Awaiting Model Update*>,\n",
       " (2, 56): <gurobi.Constr *Awaiting Model Update*>,\n",
       " (2, 57): <gurobi.Constr *Awaiting Model Update*>,\n",
       " (2, 58): <gurobi.Constr *Awaiting Model Update*>,\n",
       " (2, 59): <gurobi.Constr *Awaiting Model Update*>,\n",
       " (2, 60): <gurobi.Constr *Awaiting Model Update*>,\n",
       " (2, 61): <gurobi.Constr *Awaiting Model Update*>,\n",
       " (2, 62): <gurobi.Constr *Awaiting Model Update*>,\n",
       " (2, 63): <gurobi.Constr *Awaiting Model Update*>,\n",
       " (2, 64): <gurobi.Constr *Awaiting Model Update*>,\n",
       " (2, 65): <gurobi.Constr *Awaiting Model Update*>,\n",
       " (2, 66): <gurobi.Constr *Awaiting Model Update*>,\n",
       " (2, 67): <gurobi.Constr *Awaiting Model Update*>,\n",
       " (2, 68): <gurobi.Constr *Awaiting Model Update*>,\n",
       " (2, 69): <gurobi.Constr *Awaiting Model Update*>,\n",
       " (2, 70): <gurobi.Constr *Awaiting Model Update*>,\n",
       " (2, 71): <gurobi.Constr *Awaiting Model Update*>,\n",
       " (2, 72): <gurobi.Constr *Awaiting Model Update*>,\n",
       " (2, 73): <gurobi.Constr *Awaiting Model Update*>,\n",
       " (2, 74): <gurobi.Constr *Awaiting Model Update*>,\n",
       " (2, 75): <gurobi.Constr *Awaiting Model Update*>,\n",
       " (2, 76): <gurobi.Constr *Awaiting Model Update*>,\n",
       " (2, 77): <gurobi.Constr *Awaiting Model Update*>,\n",
       " (2, 78): <gurobi.Constr *Awaiting Model Update*>,\n",
       " (2, 79): <gurobi.Constr *Awaiting Model Update*>,\n",
       " (2, 80): <gurobi.Constr *Awaiting Model Update*>,\n",
       " (2, 81): <gurobi.Constr *Awaiting Model Update*>,\n",
       " (2, 82): <gurobi.Constr *Awaiting Model Update*>,\n",
       " (2, 83): <gurobi.Constr *Awaiting Model Update*>,\n",
       " (2, 84): <gurobi.Constr *Awaiting Model Update*>,\n",
       " (2, 85): <gurobi.Constr *Awaiting Model Update*>,\n",
       " (2, 86): <gurobi.Constr *Awaiting Model Update*>,\n",
       " (2, 87): <gurobi.Constr *Awaiting Model Update*>,\n",
       " (2, 88): <gurobi.Constr *Awaiting Model Update*>,\n",
       " (2, 89): <gurobi.Constr *Awaiting Model Update*>,\n",
       " (2, 90): <gurobi.Constr *Awaiting Model Update*>,\n",
       " (2, 91): <gurobi.Constr *Awaiting Model Update*>,\n",
       " (2, 92): <gurobi.Constr *Awaiting Model Update*>,\n",
       " (2, 93): <gurobi.Constr *Awaiting Model Update*>,\n",
       " (2, 94): <gurobi.Constr *Awaiting Model Update*>,\n",
       " (2, 95): <gurobi.Constr *Awaiting Model Update*>,\n",
       " (2, 96): <gurobi.Constr *Awaiting Model Update*>,\n",
       " (2, 97): <gurobi.Constr *Awaiting Model Update*>,\n",
       " (2, 98): <gurobi.Constr *Awaiting Model Update*>,\n",
       " (2, 99): <gurobi.Constr *Awaiting Model Update*>,\n",
       " (3, 0): <gurobi.Constr *Awaiting Model Update*>,\n",
       " (3, 1): <gurobi.Constr *Awaiting Model Update*>,\n",
       " (3, 2): <gurobi.Constr *Awaiting Model Update*>,\n",
       " (3, 3): <gurobi.Constr *Awaiting Model Update*>,\n",
       " (3, 4): <gurobi.Constr *Awaiting Model Update*>,\n",
       " (3, 5): <gurobi.Constr *Awaiting Model Update*>,\n",
       " (3, 6): <gurobi.Constr *Awaiting Model Update*>,\n",
       " (3, 7): <gurobi.Constr *Awaiting Model Update*>,\n",
       " (3, 8): <gurobi.Constr *Awaiting Model Update*>,\n",
       " (3, 9): <gurobi.Constr *Awaiting Model Update*>,\n",
       " (3, 10): <gurobi.Constr *Awaiting Model Update*>,\n",
       " (3, 11): <gurobi.Constr *Awaiting Model Update*>,\n",
       " (3, 12): <gurobi.Constr *Awaiting Model Update*>,\n",
       " (3, 13): <gurobi.Constr *Awaiting Model Update*>,\n",
       " (3, 14): <gurobi.Constr *Awaiting Model Update*>,\n",
       " (3, 15): <gurobi.Constr *Awaiting Model Update*>,\n",
       " (3, 16): <gurobi.Constr *Awaiting Model Update*>,\n",
       " (3, 17): <gurobi.Constr *Awaiting Model Update*>,\n",
       " (3, 18): <gurobi.Constr *Awaiting Model Update*>,\n",
       " (3, 19): <gurobi.Constr *Awaiting Model Update*>,\n",
       " (3, 20): <gurobi.Constr *Awaiting Model Update*>,\n",
       " (3, 21): <gurobi.Constr *Awaiting Model Update*>,\n",
       " (3, 22): <gurobi.Constr *Awaiting Model Update*>,\n",
       " (3, 23): <gurobi.Constr *Awaiting Model Update*>,\n",
       " (3, 24): <gurobi.Constr *Awaiting Model Update*>,\n",
       " (3, 25): <gurobi.Constr *Awaiting Model Update*>,\n",
       " (3, 26): <gurobi.Constr *Awaiting Model Update*>,\n",
       " (3, 27): <gurobi.Constr *Awaiting Model Update*>,\n",
       " (3, 28): <gurobi.Constr *Awaiting Model Update*>,\n",
       " (3, 29): <gurobi.Constr *Awaiting Model Update*>,\n",
       " (3, 30): <gurobi.Constr *Awaiting Model Update*>,\n",
       " (3, 31): <gurobi.Constr *Awaiting Model Update*>,\n",
       " (3, 32): <gurobi.Constr *Awaiting Model Update*>,\n",
       " (3, 33): <gurobi.Constr *Awaiting Model Update*>,\n",
       " (3, 34): <gurobi.Constr *Awaiting Model Update*>,\n",
       " (3, 35): <gurobi.Constr *Awaiting Model Update*>,\n",
       " (3, 36): <gurobi.Constr *Awaiting Model Update*>,\n",
       " (3, 37): <gurobi.Constr *Awaiting Model Update*>,\n",
       " (3, 38): <gurobi.Constr *Awaiting Model Update*>,\n",
       " (3, 39): <gurobi.Constr *Awaiting Model Update*>,\n",
       " (3, 40): <gurobi.Constr *Awaiting Model Update*>,\n",
       " (3, 41): <gurobi.Constr *Awaiting Model Update*>,\n",
       " (3, 42): <gurobi.Constr *Awaiting Model Update*>,\n",
       " (3, 43): <gurobi.Constr *Awaiting Model Update*>,\n",
       " (3, 44): <gurobi.Constr *Awaiting Model Update*>,\n",
       " (3, 45): <gurobi.Constr *Awaiting Model Update*>,\n",
       " (3, 46): <gurobi.Constr *Awaiting Model Update*>,\n",
       " (3, 47): <gurobi.Constr *Awaiting Model Update*>,\n",
       " (3, 48): <gurobi.Constr *Awaiting Model Update*>,\n",
       " (3, 49): <gurobi.Constr *Awaiting Model Update*>,\n",
       " (3, 50): <gurobi.Constr *Awaiting Model Update*>,\n",
       " (3, 51): <gurobi.Constr *Awaiting Model Update*>,\n",
       " (3, 52): <gurobi.Constr *Awaiting Model Update*>,\n",
       " (3, 53): <gurobi.Constr *Awaiting Model Update*>,\n",
       " (3, 54): <gurobi.Constr *Awaiting Model Update*>,\n",
       " (3, 55): <gurobi.Constr *Awaiting Model Update*>,\n",
       " (3, 56): <gurobi.Constr *Awaiting Model Update*>,\n",
       " (3, 57): <gurobi.Constr *Awaiting Model Update*>,\n",
       " (3, 58): <gurobi.Constr *Awaiting Model Update*>,\n",
       " (3, 59): <gurobi.Constr *Awaiting Model Update*>,\n",
       " (3, 60): <gurobi.Constr *Awaiting Model Update*>,\n",
       " (3, 61): <gurobi.Constr *Awaiting Model Update*>,\n",
       " (3, 62): <gurobi.Constr *Awaiting Model Update*>,\n",
       " (3, 63): <gurobi.Constr *Awaiting Model Update*>,\n",
       " (3, 64): <gurobi.Constr *Awaiting Model Update*>,\n",
       " (3, 65): <gurobi.Constr *Awaiting Model Update*>,\n",
       " (3, 66): <gurobi.Constr *Awaiting Model Update*>,\n",
       " (3, 67): <gurobi.Constr *Awaiting Model Update*>,\n",
       " (3, 68): <gurobi.Constr *Awaiting Model Update*>,\n",
       " (3, 69): <gurobi.Constr *Awaiting Model Update*>,\n",
       " (3, 70): <gurobi.Constr *Awaiting Model Update*>,\n",
       " (3, 71): <gurobi.Constr *Awaiting Model Update*>,\n",
       " (3, 72): <gurobi.Constr *Awaiting Model Update*>,\n",
       " (3, 73): <gurobi.Constr *Awaiting Model Update*>,\n",
       " (3, 74): <gurobi.Constr *Awaiting Model Update*>,\n",
       " (3, 75): <gurobi.Constr *Awaiting Model Update*>,\n",
       " (3, 76): <gurobi.Constr *Awaiting Model Update*>,\n",
       " (3, 77): <gurobi.Constr *Awaiting Model Update*>,\n",
       " (3, 78): <gurobi.Constr *Awaiting Model Update*>,\n",
       " (3, 79): <gurobi.Constr *Awaiting Model Update*>,\n",
       " (3, 80): <gurobi.Constr *Awaiting Model Update*>,\n",
       " (3, 81): <gurobi.Constr *Awaiting Model Update*>,\n",
       " (3, 82): <gurobi.Constr *Awaiting Model Update*>,\n",
       " (3, 83): <gurobi.Constr *Awaiting Model Update*>,\n",
       " (3, 84): <gurobi.Constr *Awaiting Model Update*>,\n",
       " (3, 85): <gurobi.Constr *Awaiting Model Update*>,\n",
       " (3, 86): <gurobi.Constr *Awaiting Model Update*>,\n",
       " (3, 87): <gurobi.Constr *Awaiting Model Update*>,\n",
       " (3, 88): <gurobi.Constr *Awaiting Model Update*>,\n",
       " (3, 89): <gurobi.Constr *Awaiting Model Update*>,\n",
       " (3, 90): <gurobi.Constr *Awaiting Model Update*>,\n",
       " (3, 91): <gurobi.Constr *Awaiting Model Update*>,\n",
       " (3, 92): <gurobi.Constr *Awaiting Model Update*>,\n",
       " (3, 93): <gurobi.Constr *Awaiting Model Update*>,\n",
       " (3, 94): <gurobi.Constr *Awaiting Model Update*>,\n",
       " (3, 95): <gurobi.Constr *Awaiting Model Update*>,\n",
       " (3, 96): <gurobi.Constr *Awaiting Model Update*>,\n",
       " (3, 97): <gurobi.Constr *Awaiting Model Update*>,\n",
       " (3, 98): <gurobi.Constr *Awaiting Model Update*>,\n",
       " (3, 99): <gurobi.Constr *Awaiting Model Update*>,\n",
       " (4, 0): <gurobi.Constr *Awaiting Model Update*>,\n",
       " (4, 1): <gurobi.Constr *Awaiting Model Update*>,\n",
       " (4, 2): <gurobi.Constr *Awaiting Model Update*>,\n",
       " (4, 3): <gurobi.Constr *Awaiting Model Update*>,\n",
       " (4, 4): <gurobi.Constr *Awaiting Model Update*>,\n",
       " (4, 5): <gurobi.Constr *Awaiting Model Update*>,\n",
       " (4, 6): <gurobi.Constr *Awaiting Model Update*>,\n",
       " (4, 7): <gurobi.Constr *Awaiting Model Update*>,\n",
       " (4, 8): <gurobi.Constr *Awaiting Model Update*>,\n",
       " (4, 9): <gurobi.Constr *Awaiting Model Update*>,\n",
       " (4, 10): <gurobi.Constr *Awaiting Model Update*>,\n",
       " (4, 11): <gurobi.Constr *Awaiting Model Update*>,\n",
       " (4, 12): <gurobi.Constr *Awaiting Model Update*>,\n",
       " (4, 13): <gurobi.Constr *Awaiting Model Update*>,\n",
       " (4, 14): <gurobi.Constr *Awaiting Model Update*>,\n",
       " (4, 15): <gurobi.Constr *Awaiting Model Update*>,\n",
       " (4, 16): <gurobi.Constr *Awaiting Model Update*>,\n",
       " (4, 17): <gurobi.Constr *Awaiting Model Update*>,\n",
       " (4, 18): <gurobi.Constr *Awaiting Model Update*>,\n",
       " (4, 19): <gurobi.Constr *Awaiting Model Update*>,\n",
       " (4, 20): <gurobi.Constr *Awaiting Model Update*>,\n",
       " (4, 21): <gurobi.Constr *Awaiting Model Update*>,\n",
       " (4, 22): <gurobi.Constr *Awaiting Model Update*>,\n",
       " (4, 23): <gurobi.Constr *Awaiting Model Update*>,\n",
       " (4, 24): <gurobi.Constr *Awaiting Model Update*>,\n",
       " (4, 25): <gurobi.Constr *Awaiting Model Update*>,\n",
       " (4, 26): <gurobi.Constr *Awaiting Model Update*>,\n",
       " (4, 27): <gurobi.Constr *Awaiting Model Update*>,\n",
       " (4, 28): <gurobi.Constr *Awaiting Model Update*>,\n",
       " (4, 29): <gurobi.Constr *Awaiting Model Update*>,\n",
       " (4, 30): <gurobi.Constr *Awaiting Model Update*>,\n",
       " (4, 31): <gurobi.Constr *Awaiting Model Update*>,\n",
       " (4, 32): <gurobi.Constr *Awaiting Model Update*>,\n",
       " (4, 33): <gurobi.Constr *Awaiting Model Update*>,\n",
       " (4, 34): <gurobi.Constr *Awaiting Model Update*>,\n",
       " (4, 35): <gurobi.Constr *Awaiting Model Update*>,\n",
       " (4, 36): <gurobi.Constr *Awaiting Model Update*>,\n",
       " (4, 37): <gurobi.Constr *Awaiting Model Update*>,\n",
       " (4, 38): <gurobi.Constr *Awaiting Model Update*>,\n",
       " (4, 39): <gurobi.Constr *Awaiting Model Update*>,\n",
       " (4, 40): <gurobi.Constr *Awaiting Model Update*>,\n",
       " (4, 41): <gurobi.Constr *Awaiting Model Update*>,\n",
       " (4, 42): <gurobi.Constr *Awaiting Model Update*>,\n",
       " (4, 43): <gurobi.Constr *Awaiting Model Update*>,\n",
       " (4, 44): <gurobi.Constr *Awaiting Model Update*>,\n",
       " (4, 45): <gurobi.Constr *Awaiting Model Update*>,\n",
       " (4, 46): <gurobi.Constr *Awaiting Model Update*>,\n",
       " (4, 47): <gurobi.Constr *Awaiting Model Update*>,\n",
       " (4, 48): <gurobi.Constr *Awaiting Model Update*>,\n",
       " (4, 49): <gurobi.Constr *Awaiting Model Update*>,\n",
       " (4, 50): <gurobi.Constr *Awaiting Model Update*>,\n",
       " (4, 51): <gurobi.Constr *Awaiting Model Update*>,\n",
       " (4, 52): <gurobi.Constr *Awaiting Model Update*>,\n",
       " (4, 53): <gurobi.Constr *Awaiting Model Update*>,\n",
       " (4, 54): <gurobi.Constr *Awaiting Model Update*>,\n",
       " (4, 55): <gurobi.Constr *Awaiting Model Update*>,\n",
       " (4, 56): <gurobi.Constr *Awaiting Model Update*>,\n",
       " (4, 57): <gurobi.Constr *Awaiting Model Update*>,\n",
       " (4, 58): <gurobi.Constr *Awaiting Model Update*>,\n",
       " (4, 59): <gurobi.Constr *Awaiting Model Update*>,\n",
       " (4, 60): <gurobi.Constr *Awaiting Model Update*>,\n",
       " (4, 61): <gurobi.Constr *Awaiting Model Update*>,\n",
       " (4, 62): <gurobi.Constr *Awaiting Model Update*>,\n",
       " (4, 63): <gurobi.Constr *Awaiting Model Update*>,\n",
       " (4, 64): <gurobi.Constr *Awaiting Model Update*>,\n",
       " (4, 65): <gurobi.Constr *Awaiting Model Update*>,\n",
       " (4, 66): <gurobi.Constr *Awaiting Model Update*>,\n",
       " (4, 67): <gurobi.Constr *Awaiting Model Update*>,\n",
       " (4, 68): <gurobi.Constr *Awaiting Model Update*>,\n",
       " (4, 69): <gurobi.Constr *Awaiting Model Update*>,\n",
       " (4, 70): <gurobi.Constr *Awaiting Model Update*>,\n",
       " (4, 71): <gurobi.Constr *Awaiting Model Update*>,\n",
       " (4, 72): <gurobi.Constr *Awaiting Model Update*>,\n",
       " (4, 73): <gurobi.Constr *Awaiting Model Update*>,\n",
       " (4, 74): <gurobi.Constr *Awaiting Model Update*>,\n",
       " (4, 75): <gurobi.Constr *Awaiting Model Update*>,\n",
       " (4, 76): <gurobi.Constr *Awaiting Model Update*>,\n",
       " (4, 77): <gurobi.Constr *Awaiting Model Update*>,\n",
       " (4, 78): <gurobi.Constr *Awaiting Model Update*>,\n",
       " (4, 79): <gurobi.Constr *Awaiting Model Update*>,\n",
       " (4, 80): <gurobi.Constr *Awaiting Model Update*>,\n",
       " (4, 81): <gurobi.Constr *Awaiting Model Update*>,\n",
       " (4, 82): <gurobi.Constr *Awaiting Model Update*>,\n",
       " (4, 83): <gurobi.Constr *Awaiting Model Update*>,\n",
       " (4, 84): <gurobi.Constr *Awaiting Model Update*>,\n",
       " (4, 85): <gurobi.Constr *Awaiting Model Update*>,\n",
       " (4, 86): <gurobi.Constr *Awaiting Model Update*>,\n",
       " (4, 87): <gurobi.Constr *Awaiting Model Update*>,\n",
       " (4, 88): <gurobi.Constr *Awaiting Model Update*>,\n",
       " (4, 89): <gurobi.Constr *Awaiting Model Update*>,\n",
       " (4, 90): <gurobi.Constr *Awaiting Model Update*>,\n",
       " (4, 91): <gurobi.Constr *Awaiting Model Update*>,\n",
       " (4, 92): <gurobi.Constr *Awaiting Model Update*>,\n",
       " (4, 93): <gurobi.Constr *Awaiting Model Update*>,\n",
       " (4, 94): <gurobi.Constr *Awaiting Model Update*>,\n",
       " (4, 95): <gurobi.Constr *Awaiting Model Update*>,\n",
       " (4, 96): <gurobi.Constr *Awaiting Model Update*>,\n",
       " (4, 97): <gurobi.Constr *Awaiting Model Update*>,\n",
       " (4, 98): <gurobi.Constr *Awaiting Model Update*>,\n",
       " (4, 99): <gurobi.Constr *Awaiting Model Update*>,\n",
       " (5, 0): <gurobi.Constr *Awaiting Model Update*>,\n",
       " (5, 1): <gurobi.Constr *Awaiting Model Update*>,\n",
       " (5, 2): <gurobi.Constr *Awaiting Model Update*>,\n",
       " (5, 3): <gurobi.Constr *Awaiting Model Update*>,\n",
       " (5, 4): <gurobi.Constr *Awaiting Model Update*>,\n",
       " (5, 5): <gurobi.Constr *Awaiting Model Update*>,\n",
       " (5, 6): <gurobi.Constr *Awaiting Model Update*>,\n",
       " (5, 7): <gurobi.Constr *Awaiting Model Update*>,\n",
       " (5, 8): <gurobi.Constr *Awaiting Model Update*>,\n",
       " (5, 9): <gurobi.Constr *Awaiting Model Update*>,\n",
       " (5, 10): <gurobi.Constr *Awaiting Model Update*>,\n",
       " (5, 11): <gurobi.Constr *Awaiting Model Update*>,\n",
       " (5, 12): <gurobi.Constr *Awaiting Model Update*>,\n",
       " (5, 13): <gurobi.Constr *Awaiting Model Update*>,\n",
       " (5, 14): <gurobi.Constr *Awaiting Model Update*>,\n",
       " (5, 15): <gurobi.Constr *Awaiting Model Update*>,\n",
       " (5, 16): <gurobi.Constr *Awaiting Model Update*>,\n",
       " (5, 17): <gurobi.Constr *Awaiting Model Update*>,\n",
       " (5, 18): <gurobi.Constr *Awaiting Model Update*>,\n",
       " (5, 19): <gurobi.Constr *Awaiting Model Update*>,\n",
       " (5, 20): <gurobi.Constr *Awaiting Model Update*>,\n",
       " (5, 21): <gurobi.Constr *Awaiting Model Update*>,\n",
       " (5, 22): <gurobi.Constr *Awaiting Model Update*>,\n",
       " (5, 23): <gurobi.Constr *Awaiting Model Update*>,\n",
       " (5, 24): <gurobi.Constr *Awaiting Model Update*>,\n",
       " (5, 25): <gurobi.Constr *Awaiting Model Update*>,\n",
       " (5, 26): <gurobi.Constr *Awaiting Model Update*>,\n",
       " (5, 27): <gurobi.Constr *Awaiting Model Update*>,\n",
       " (5, 28): <gurobi.Constr *Awaiting Model Update*>,\n",
       " (5, 29): <gurobi.Constr *Awaiting Model Update*>,\n",
       " (5, 30): <gurobi.Constr *Awaiting Model Update*>,\n",
       " (5, 31): <gurobi.Constr *Awaiting Model Update*>,\n",
       " (5, 32): <gurobi.Constr *Awaiting Model Update*>,\n",
       " (5, 33): <gurobi.Constr *Awaiting Model Update*>,\n",
       " (5, 34): <gurobi.Constr *Awaiting Model Update*>,\n",
       " (5, 35): <gurobi.Constr *Awaiting Model Update*>,\n",
       " (5, 36): <gurobi.Constr *Awaiting Model Update*>,\n",
       " (5, 37): <gurobi.Constr *Awaiting Model Update*>,\n",
       " (5, 38): <gurobi.Constr *Awaiting Model Update*>,\n",
       " (5, 39): <gurobi.Constr *Awaiting Model Update*>,\n",
       " (5, 40): <gurobi.Constr *Awaiting Model Update*>,\n",
       " (5, 41): <gurobi.Constr *Awaiting Model Update*>,\n",
       " (5, 42): <gurobi.Constr *Awaiting Model Update*>,\n",
       " (5, 43): <gurobi.Constr *Awaiting Model Update*>,\n",
       " (5, 44): <gurobi.Constr *Awaiting Model Update*>,\n",
       " (5, 45): <gurobi.Constr *Awaiting Model Update*>,\n",
       " (5, 46): <gurobi.Constr *Awaiting Model Update*>,\n",
       " (5, 47): <gurobi.Constr *Awaiting Model Update*>,\n",
       " (5, 48): <gurobi.Constr *Awaiting Model Update*>,\n",
       " (5, 49): <gurobi.Constr *Awaiting Model Update*>,\n",
       " (5, 50): <gurobi.Constr *Awaiting Model Update*>,\n",
       " (5, 51): <gurobi.Constr *Awaiting Model Update*>,\n",
       " (5, 52): <gurobi.Constr *Awaiting Model Update*>,\n",
       " (5, 53): <gurobi.Constr *Awaiting Model Update*>,\n",
       " (5, 54): <gurobi.Constr *Awaiting Model Update*>,\n",
       " (5, 55): <gurobi.Constr *Awaiting Model Update*>,\n",
       " (5, 56): <gurobi.Constr *Awaiting Model Update*>,\n",
       " (5, 57): <gurobi.Constr *Awaiting Model Update*>,\n",
       " (5, 58): <gurobi.Constr *Awaiting Model Update*>,\n",
       " (5, 59): <gurobi.Constr *Awaiting Model Update*>,\n",
       " (5, 60): <gurobi.Constr *Awaiting Model Update*>,\n",
       " (5, 61): <gurobi.Constr *Awaiting Model Update*>,\n",
       " (5, 62): <gurobi.Constr *Awaiting Model Update*>,\n",
       " (5, 63): <gurobi.Constr *Awaiting Model Update*>,\n",
       " (5, 64): <gurobi.Constr *Awaiting Model Update*>,\n",
       " (5, 65): <gurobi.Constr *Awaiting Model Update*>,\n",
       " (5, 66): <gurobi.Constr *Awaiting Model Update*>,\n",
       " (5, 67): <gurobi.Constr *Awaiting Model Update*>,\n",
       " (5, 68): <gurobi.Constr *Awaiting Model Update*>,\n",
       " (5, 69): <gurobi.Constr *Awaiting Model Update*>,\n",
       " (5, 70): <gurobi.Constr *Awaiting Model Update*>,\n",
       " (5, 71): <gurobi.Constr *Awaiting Model Update*>,\n",
       " (5, 72): <gurobi.Constr *Awaiting Model Update*>,\n",
       " (5, 73): <gurobi.Constr *Awaiting Model Update*>,\n",
       " (5, 74): <gurobi.Constr *Awaiting Model Update*>,\n",
       " (5, 75): <gurobi.Constr *Awaiting Model Update*>,\n",
       " (5, 76): <gurobi.Constr *Awaiting Model Update*>,\n",
       " (5, 77): <gurobi.Constr *Awaiting Model Update*>,\n",
       " (5, 78): <gurobi.Constr *Awaiting Model Update*>,\n",
       " (5, 79): <gurobi.Constr *Awaiting Model Update*>,\n",
       " (5, 80): <gurobi.Constr *Awaiting Model Update*>,\n",
       " (5, 81): <gurobi.Constr *Awaiting Model Update*>,\n",
       " (5, 82): <gurobi.Constr *Awaiting Model Update*>,\n",
       " (5, 83): <gurobi.Constr *Awaiting Model Update*>,\n",
       " (5, 84): <gurobi.Constr *Awaiting Model Update*>,\n",
       " (5, 85): <gurobi.Constr *Awaiting Model Update*>,\n",
       " (5, 86): <gurobi.Constr *Awaiting Model Update*>,\n",
       " (5, 87): <gurobi.Constr *Awaiting Model Update*>,\n",
       " (5, 88): <gurobi.Constr *Awaiting Model Update*>,\n",
       " (5, 89): <gurobi.Constr *Awaiting Model Update*>,\n",
       " (5, 90): <gurobi.Constr *Awaiting Model Update*>,\n",
       " (5, 91): <gurobi.Constr *Awaiting Model Update*>,\n",
       " (5, 92): <gurobi.Constr *Awaiting Model Update*>,\n",
       " (5, 93): <gurobi.Constr *Awaiting Model Update*>,\n",
       " (5, 94): <gurobi.Constr *Awaiting Model Update*>,\n",
       " (5, 95): <gurobi.Constr *Awaiting Model Update*>,\n",
       " (5, 96): <gurobi.Constr *Awaiting Model Update*>,\n",
       " (5, 97): <gurobi.Constr *Awaiting Model Update*>,\n",
       " (5, 98): <gurobi.Constr *Awaiting Model Update*>,\n",
       " (5, 99): <gurobi.Constr *Awaiting Model Update*>,\n",
       " (6, 0): <gurobi.Constr *Awaiting Model Update*>,\n",
       " (6, 1): <gurobi.Constr *Awaiting Model Update*>,\n",
       " (6, 2): <gurobi.Constr *Awaiting Model Update*>,\n",
       " (6, 3): <gurobi.Constr *Awaiting Model Update*>,\n",
       " (6, 4): <gurobi.Constr *Awaiting Model Update*>,\n",
       " (6, 5): <gurobi.Constr *Awaiting Model Update*>,\n",
       " (6, 6): <gurobi.Constr *Awaiting Model Update*>,\n",
       " (6, 7): <gurobi.Constr *Awaiting Model Update*>,\n",
       " (6, 8): <gurobi.Constr *Awaiting Model Update*>,\n",
       " (6, 9): <gurobi.Constr *Awaiting Model Update*>,\n",
       " (6, 10): <gurobi.Constr *Awaiting Model Update*>,\n",
       " (6, 11): <gurobi.Constr *Awaiting Model Update*>,\n",
       " (6, 12): <gurobi.Constr *Awaiting Model Update*>,\n",
       " (6, 13): <gurobi.Constr *Awaiting Model Update*>,\n",
       " (6, 14): <gurobi.Constr *Awaiting Model Update*>,\n",
       " (6, 15): <gurobi.Constr *Awaiting Model Update*>,\n",
       " (6, 16): <gurobi.Constr *Awaiting Model Update*>,\n",
       " (6, 17): <gurobi.Constr *Awaiting Model Update*>,\n",
       " (6, 18): <gurobi.Constr *Awaiting Model Update*>,\n",
       " (6, 19): <gurobi.Constr *Awaiting Model Update*>,\n",
       " (6, 20): <gurobi.Constr *Awaiting Model Update*>,\n",
       " (6, 21): <gurobi.Constr *Awaiting Model Update*>,\n",
       " (6, 22): <gurobi.Constr *Awaiting Model Update*>,\n",
       " (6, 23): <gurobi.Constr *Awaiting Model Update*>,\n",
       " (6, 24): <gurobi.Constr *Awaiting Model Update*>,\n",
       " (6, 25): <gurobi.Constr *Awaiting Model Update*>,\n",
       " (6, 26): <gurobi.Constr *Awaiting Model Update*>,\n",
       " (6, 27): <gurobi.Constr *Awaiting Model Update*>,\n",
       " (6, 28): <gurobi.Constr *Awaiting Model Update*>,\n",
       " (6, 29): <gurobi.Constr *Awaiting Model Update*>,\n",
       " (6, 30): <gurobi.Constr *Awaiting Model Update*>,\n",
       " (6, 31): <gurobi.Constr *Awaiting Model Update*>,\n",
       " (6, 32): <gurobi.Constr *Awaiting Model Update*>,\n",
       " (6, 33): <gurobi.Constr *Awaiting Model Update*>,\n",
       " (6, 34): <gurobi.Constr *Awaiting Model Update*>,\n",
       " (6, 35): <gurobi.Constr *Awaiting Model Update*>,\n",
       " (6, 36): <gurobi.Constr *Awaiting Model Update*>,\n",
       " (6, 37): <gurobi.Constr *Awaiting Model Update*>,\n",
       " (6, 38): <gurobi.Constr *Awaiting Model Update*>,\n",
       " (6, 39): <gurobi.Constr *Awaiting Model Update*>,\n",
       " (6, 40): <gurobi.Constr *Awaiting Model Update*>,\n",
       " (6, 41): <gurobi.Constr *Awaiting Model Update*>,\n",
       " (6, 42): <gurobi.Constr *Awaiting Model Update*>,\n",
       " (6, 43): <gurobi.Constr *Awaiting Model Update*>,\n",
       " (6, 44): <gurobi.Constr *Awaiting Model Update*>,\n",
       " (6, 45): <gurobi.Constr *Awaiting Model Update*>,\n",
       " (6, 46): <gurobi.Constr *Awaiting Model Update*>,\n",
       " (6, 47): <gurobi.Constr *Awaiting Model Update*>,\n",
       " (6, 48): <gurobi.Constr *Awaiting Model Update*>,\n",
       " (6, 49): <gurobi.Constr *Awaiting Model Update*>,\n",
       " (6, 50): <gurobi.Constr *Awaiting Model Update*>,\n",
       " (6, 51): <gurobi.Constr *Awaiting Model Update*>,\n",
       " (6, 52): <gurobi.Constr *Awaiting Model Update*>,\n",
       " (6, 53): <gurobi.Constr *Awaiting Model Update*>,\n",
       " (6, 54): <gurobi.Constr *Awaiting Model Update*>,\n",
       " (6, 55): <gurobi.Constr *Awaiting Model Update*>,\n",
       " (6, 56): <gurobi.Constr *Awaiting Model Update*>,\n",
       " (6, 57): <gurobi.Constr *Awaiting Model Update*>,\n",
       " (6, 58): <gurobi.Constr *Awaiting Model Update*>,\n",
       " (6, 59): <gurobi.Constr *Awaiting Model Update*>,\n",
       " (6, 60): <gurobi.Constr *Awaiting Model Update*>,\n",
       " (6, 61): <gurobi.Constr *Awaiting Model Update*>,\n",
       " (6, 62): <gurobi.Constr *Awaiting Model Update*>,\n",
       " (6, 63): <gurobi.Constr *Awaiting Model Update*>,\n",
       " (6, 64): <gurobi.Constr *Awaiting Model Update*>,\n",
       " (6, 65): <gurobi.Constr *Awaiting Model Update*>,\n",
       " (6, 66): <gurobi.Constr *Awaiting Model Update*>,\n",
       " (6, 67): <gurobi.Constr *Awaiting Model Update*>,\n",
       " (6, 68): <gurobi.Constr *Awaiting Model Update*>,\n",
       " (6, 69): <gurobi.Constr *Awaiting Model Update*>,\n",
       " (6, 70): <gurobi.Constr *Awaiting Model Update*>,\n",
       " (6, 71): <gurobi.Constr *Awaiting Model Update*>,\n",
       " (6, 72): <gurobi.Constr *Awaiting Model Update*>,\n",
       " (6, 73): <gurobi.Constr *Awaiting Model Update*>,\n",
       " (6, 74): <gurobi.Constr *Awaiting Model Update*>,\n",
       " (6, 75): <gurobi.Constr *Awaiting Model Update*>,\n",
       " (6, 76): <gurobi.Constr *Awaiting Model Update*>,\n",
       " (6, 77): <gurobi.Constr *Awaiting Model Update*>,\n",
       " (6, 78): <gurobi.Constr *Awaiting Model Update*>,\n",
       " (6, 79): <gurobi.Constr *Awaiting Model Update*>,\n",
       " (6, 80): <gurobi.Constr *Awaiting Model Update*>,\n",
       " (6, 81): <gurobi.Constr *Awaiting Model Update*>,\n",
       " (6, 82): <gurobi.Constr *Awaiting Model Update*>,\n",
       " (6, 83): <gurobi.Constr *Awaiting Model Update*>,\n",
       " (6, 84): <gurobi.Constr *Awaiting Model Update*>,\n",
       " (6, 85): <gurobi.Constr *Awaiting Model Update*>,\n",
       " (6, 86): <gurobi.Constr *Awaiting Model Update*>,\n",
       " (6, 87): <gurobi.Constr *Awaiting Model Update*>,\n",
       " (6, 88): <gurobi.Constr *Awaiting Model Update*>,\n",
       " (6, 89): <gurobi.Constr *Awaiting Model Update*>,\n",
       " (6, 90): <gurobi.Constr *Awaiting Model Update*>,\n",
       " (6, 91): <gurobi.Constr *Awaiting Model Update*>,\n",
       " (6, 92): <gurobi.Constr *Awaiting Model Update*>,\n",
       " (6, 93): <gurobi.Constr *Awaiting Model Update*>,\n",
       " (6, 94): <gurobi.Constr *Awaiting Model Update*>,\n",
       " (6, 95): <gurobi.Constr *Awaiting Model Update*>,\n",
       " (6, 96): <gurobi.Constr *Awaiting Model Update*>,\n",
       " (6, 97): <gurobi.Constr *Awaiting Model Update*>,\n",
       " (6, 98): <gurobi.Constr *Awaiting Model Update*>,\n",
       " (6, 99): <gurobi.Constr *Awaiting Model Update*>,\n",
       " (7, 0): <gurobi.Constr *Awaiting Model Update*>,\n",
       " (7, 1): <gurobi.Constr *Awaiting Model Update*>,\n",
       " (7, 2): <gurobi.Constr *Awaiting Model Update*>,\n",
       " (7, 3): <gurobi.Constr *Awaiting Model Update*>,\n",
       " (7, 4): <gurobi.Constr *Awaiting Model Update*>,\n",
       " (7, 5): <gurobi.Constr *Awaiting Model Update*>,\n",
       " (7, 6): <gurobi.Constr *Awaiting Model Update*>,\n",
       " (7, 7): <gurobi.Constr *Awaiting Model Update*>,\n",
       " (7, 8): <gurobi.Constr *Awaiting Model Update*>,\n",
       " (7, 9): <gurobi.Constr *Awaiting Model Update*>,\n",
       " (7, 10): <gurobi.Constr *Awaiting Model Update*>,\n",
       " (7, 11): <gurobi.Constr *Awaiting Model Update*>,\n",
       " (7, 12): <gurobi.Constr *Awaiting Model Update*>,\n",
       " (7, 13): <gurobi.Constr *Awaiting Model Update*>,\n",
       " (7, 14): <gurobi.Constr *Awaiting Model Update*>,\n",
       " (7, 15): <gurobi.Constr *Awaiting Model Update*>,\n",
       " (7, 16): <gurobi.Constr *Awaiting Model Update*>,\n",
       " (7, 17): <gurobi.Constr *Awaiting Model Update*>,\n",
       " (7, 18): <gurobi.Constr *Awaiting Model Update*>,\n",
       " (7, 19): <gurobi.Constr *Awaiting Model Update*>,\n",
       " (7, 20): <gurobi.Constr *Awaiting Model Update*>,\n",
       " (7, 21): <gurobi.Constr *Awaiting Model Update*>,\n",
       " (7, 22): <gurobi.Constr *Awaiting Model Update*>,\n",
       " (7, 23): <gurobi.Constr *Awaiting Model Update*>,\n",
       " (7, 24): <gurobi.Constr *Awaiting Model Update*>,\n",
       " (7, 25): <gurobi.Constr *Awaiting Model Update*>,\n",
       " (7, 26): <gurobi.Constr *Awaiting Model Update*>,\n",
       " (7, 27): <gurobi.Constr *Awaiting Model Update*>,\n",
       " (7, 28): <gurobi.Constr *Awaiting Model Update*>,\n",
       " (7, 29): <gurobi.Constr *Awaiting Model Update*>,\n",
       " (7, 30): <gurobi.Constr *Awaiting Model Update*>,\n",
       " (7, 31): <gurobi.Constr *Awaiting Model Update*>,\n",
       " (7, 32): <gurobi.Constr *Awaiting Model Update*>,\n",
       " (7, 33): <gurobi.Constr *Awaiting Model Update*>,\n",
       " (7, 34): <gurobi.Constr *Awaiting Model Update*>,\n",
       " (7, 35): <gurobi.Constr *Awaiting Model Update*>,\n",
       " (7, 36): <gurobi.Constr *Awaiting Model Update*>,\n",
       " (7, 37): <gurobi.Constr *Awaiting Model Update*>,\n",
       " (7, 38): <gurobi.Constr *Awaiting Model Update*>,\n",
       " (7, 39): <gurobi.Constr *Awaiting Model Update*>,\n",
       " (7, 40): <gurobi.Constr *Awaiting Model Update*>,\n",
       " (7, 41): <gurobi.Constr *Awaiting Model Update*>,\n",
       " (7, 42): <gurobi.Constr *Awaiting Model Update*>,\n",
       " (7, 43): <gurobi.Constr *Awaiting Model Update*>,\n",
       " (7, 44): <gurobi.Constr *Awaiting Model Update*>,\n",
       " (7, 45): <gurobi.Constr *Awaiting Model Update*>,\n",
       " (7, 46): <gurobi.Constr *Awaiting Model Update*>,\n",
       " (7, 47): <gurobi.Constr *Awaiting Model Update*>,\n",
       " (7, 48): <gurobi.Constr *Awaiting Model Update*>,\n",
       " (7, 49): <gurobi.Constr *Awaiting Model Update*>,\n",
       " (7, 50): <gurobi.Constr *Awaiting Model Update*>,\n",
       " (7, 51): <gurobi.Constr *Awaiting Model Update*>,\n",
       " (7, 52): <gurobi.Constr *Awaiting Model Update*>,\n",
       " (7, 53): <gurobi.Constr *Awaiting Model Update*>,\n",
       " (7, 54): <gurobi.Constr *Awaiting Model Update*>,\n",
       " (7, 55): <gurobi.Constr *Awaiting Model Update*>,\n",
       " (7, 56): <gurobi.Constr *Awaiting Model Update*>,\n",
       " (7, 57): <gurobi.Constr *Awaiting Model Update*>,\n",
       " (7, 58): <gurobi.Constr *Awaiting Model Update*>,\n",
       " (7, 59): <gurobi.Constr *Awaiting Model Update*>,\n",
       " (7, 60): <gurobi.Constr *Awaiting Model Update*>,\n",
       " (7, 61): <gurobi.Constr *Awaiting Model Update*>,\n",
       " (7, 62): <gurobi.Constr *Awaiting Model Update*>,\n",
       " (7, 63): <gurobi.Constr *Awaiting Model Update*>,\n",
       " (7, 64): <gurobi.Constr *Awaiting Model Update*>,\n",
       " (7, 65): <gurobi.Constr *Awaiting Model Update*>,\n",
       " (7, 66): <gurobi.Constr *Awaiting Model Update*>,\n",
       " (7, 67): <gurobi.Constr *Awaiting Model Update*>,\n",
       " (7, 68): <gurobi.Constr *Awaiting Model Update*>,\n",
       " (7, 69): <gurobi.Constr *Awaiting Model Update*>,\n",
       " (7, 70): <gurobi.Constr *Awaiting Model Update*>,\n",
       " (7, 71): <gurobi.Constr *Awaiting Model Update*>,\n",
       " (7, 72): <gurobi.Constr *Awaiting Model Update*>,\n",
       " (7, 73): <gurobi.Constr *Awaiting Model Update*>,\n",
       " (7, 74): <gurobi.Constr *Awaiting Model Update*>,\n",
       " (7, 75): <gurobi.Constr *Awaiting Model Update*>,\n",
       " (7, 76): <gurobi.Constr *Awaiting Model Update*>,\n",
       " (7, 77): <gurobi.Constr *Awaiting Model Update*>,\n",
       " (7, 78): <gurobi.Constr *Awaiting Model Update*>,\n",
       " (7, 79): <gurobi.Constr *Awaiting Model Update*>,\n",
       " (7, 80): <gurobi.Constr *Awaiting Model Update*>,\n",
       " (7, 81): <gurobi.Constr *Awaiting Model Update*>,\n",
       " (7, 82): <gurobi.Constr *Awaiting Model Update*>,\n",
       " (7, 83): <gurobi.Constr *Awaiting Model Update*>,\n",
       " (7, 84): <gurobi.Constr *Awaiting Model Update*>,\n",
       " (7, 85): <gurobi.Constr *Awaiting Model Update*>,\n",
       " (7, 86): <gurobi.Constr *Awaiting Model Update*>,\n",
       " (7, 87): <gurobi.Constr *Awaiting Model Update*>,\n",
       " (7, 88): <gurobi.Constr *Awaiting Model Update*>,\n",
       " (7, 89): <gurobi.Constr *Awaiting Model Update*>,\n",
       " (7, 90): <gurobi.Constr *Awaiting Model Update*>,\n",
       " (7, 91): <gurobi.Constr *Awaiting Model Update*>,\n",
       " (7, 92): <gurobi.Constr *Awaiting Model Update*>,\n",
       " (7, 93): <gurobi.Constr *Awaiting Model Update*>,\n",
       " (7, 94): <gurobi.Constr *Awaiting Model Update*>,\n",
       " (7, 95): <gurobi.Constr *Awaiting Model Update*>,\n",
       " (7, 96): <gurobi.Constr *Awaiting Model Update*>,\n",
       " (7, 97): <gurobi.Constr *Awaiting Model Update*>,\n",
       " (7, 98): <gurobi.Constr *Awaiting Model Update*>,\n",
       " (7, 99): <gurobi.Constr *Awaiting Model Update*>,\n",
       " (8, 0): <gurobi.Constr *Awaiting Model Update*>,\n",
       " (8, 1): <gurobi.Constr *Awaiting Model Update*>,\n",
       " (8, 2): <gurobi.Constr *Awaiting Model Update*>,\n",
       " (8, 3): <gurobi.Constr *Awaiting Model Update*>,\n",
       " (8, 4): <gurobi.Constr *Awaiting Model Update*>,\n",
       " (8, 5): <gurobi.Constr *Awaiting Model Update*>,\n",
       " (8, 6): <gurobi.Constr *Awaiting Model Update*>,\n",
       " (8, 7): <gurobi.Constr *Awaiting Model Update*>,\n",
       " (8, 8): <gurobi.Constr *Awaiting Model Update*>,\n",
       " (8, 9): <gurobi.Constr *Awaiting Model Update*>,\n",
       " (8, 10): <gurobi.Constr *Awaiting Model Update*>,\n",
       " (8, 11): <gurobi.Constr *Awaiting Model Update*>,\n",
       " (8, 12): <gurobi.Constr *Awaiting Model Update*>,\n",
       " (8, 13): <gurobi.Constr *Awaiting Model Update*>,\n",
       " (8, 14): <gurobi.Constr *Awaiting Model Update*>,\n",
       " (8, 15): <gurobi.Constr *Awaiting Model Update*>,\n",
       " (8, 16): <gurobi.Constr *Awaiting Model Update*>,\n",
       " (8, 17): <gurobi.Constr *Awaiting Model Update*>,\n",
       " (8, 18): <gurobi.Constr *Awaiting Model Update*>,\n",
       " (8, 19): <gurobi.Constr *Awaiting Model Update*>,\n",
       " (8, 20): <gurobi.Constr *Awaiting Model Update*>,\n",
       " (8, 21): <gurobi.Constr *Awaiting Model Update*>,\n",
       " (8, 22): <gurobi.Constr *Awaiting Model Update*>,\n",
       " (8, 23): <gurobi.Constr *Awaiting Model Update*>,\n",
       " (8, 24): <gurobi.Constr *Awaiting Model Update*>,\n",
       " (8, 25): <gurobi.Constr *Awaiting Model Update*>,\n",
       " (8, 26): <gurobi.Constr *Awaiting Model Update*>,\n",
       " (8, 27): <gurobi.Constr *Awaiting Model Update*>,\n",
       " (8, 28): <gurobi.Constr *Awaiting Model Update*>,\n",
       " (8, 29): <gurobi.Constr *Awaiting Model Update*>,\n",
       " (8, 30): <gurobi.Constr *Awaiting Model Update*>,\n",
       " (8, 31): <gurobi.Constr *Awaiting Model Update*>,\n",
       " (8, 32): <gurobi.Constr *Awaiting Model Update*>,\n",
       " (8, 33): <gurobi.Constr *Awaiting Model Update*>,\n",
       " (8, 34): <gurobi.Constr *Awaiting Model Update*>,\n",
       " (8, 35): <gurobi.Constr *Awaiting Model Update*>,\n",
       " (8, 36): <gurobi.Constr *Awaiting Model Update*>,\n",
       " (8, 37): <gurobi.Constr *Awaiting Model Update*>,\n",
       " (8, 38): <gurobi.Constr *Awaiting Model Update*>,\n",
       " (8, 39): <gurobi.Constr *Awaiting Model Update*>,\n",
       " (8, 40): <gurobi.Constr *Awaiting Model Update*>,\n",
       " (8, 41): <gurobi.Constr *Awaiting Model Update*>,\n",
       " (8, 42): <gurobi.Constr *Awaiting Model Update*>,\n",
       " (8, 43): <gurobi.Constr *Awaiting Model Update*>,\n",
       " (8, 44): <gurobi.Constr *Awaiting Model Update*>,\n",
       " (8, 45): <gurobi.Constr *Awaiting Model Update*>,\n",
       " (8, 46): <gurobi.Constr *Awaiting Model Update*>,\n",
       " (8, 47): <gurobi.Constr *Awaiting Model Update*>,\n",
       " (8, 48): <gurobi.Constr *Awaiting Model Update*>,\n",
       " (8, 49): <gurobi.Constr *Awaiting Model Update*>,\n",
       " (8, 50): <gurobi.Constr *Awaiting Model Update*>,\n",
       " (8, 51): <gurobi.Constr *Awaiting Model Update*>,\n",
       " (8, 52): <gurobi.Constr *Awaiting Model Update*>,\n",
       " (8, 53): <gurobi.Constr *Awaiting Model Update*>,\n",
       " (8, 54): <gurobi.Constr *Awaiting Model Update*>,\n",
       " (8, 55): <gurobi.Constr *Awaiting Model Update*>,\n",
       " (8, 56): <gurobi.Constr *Awaiting Model Update*>,\n",
       " (8, 57): <gurobi.Constr *Awaiting Model Update*>,\n",
       " (8, 58): <gurobi.Constr *Awaiting Model Update*>,\n",
       " (8, 59): <gurobi.Constr *Awaiting Model Update*>,\n",
       " (8, 60): <gurobi.Constr *Awaiting Model Update*>,\n",
       " (8, 61): <gurobi.Constr *Awaiting Model Update*>,\n",
       " (8, 62): <gurobi.Constr *Awaiting Model Update*>,\n",
       " (8, 63): <gurobi.Constr *Awaiting Model Update*>,\n",
       " (8, 64): <gurobi.Constr *Awaiting Model Update*>,\n",
       " (8, 65): <gurobi.Constr *Awaiting Model Update*>,\n",
       " (8, 66): <gurobi.Constr *Awaiting Model Update*>,\n",
       " (8, 67): <gurobi.Constr *Awaiting Model Update*>,\n",
       " (8, 68): <gurobi.Constr *Awaiting Model Update*>,\n",
       " (8, 69): <gurobi.Constr *Awaiting Model Update*>,\n",
       " (8, 70): <gurobi.Constr *Awaiting Model Update*>,\n",
       " (8, 71): <gurobi.Constr *Awaiting Model Update*>,\n",
       " (8, 72): <gurobi.Constr *Awaiting Model Update*>,\n",
       " (8, 73): <gurobi.Constr *Awaiting Model Update*>,\n",
       " (8, 74): <gurobi.Constr *Awaiting Model Update*>,\n",
       " (8, 75): <gurobi.Constr *Awaiting Model Update*>,\n",
       " (8, 76): <gurobi.Constr *Awaiting Model Update*>,\n",
       " (8, 77): <gurobi.Constr *Awaiting Model Update*>,\n",
       " (8, 78): <gurobi.Constr *Awaiting Model Update*>,\n",
       " (8, 79): <gurobi.Constr *Awaiting Model Update*>,\n",
       " (8, 80): <gurobi.Constr *Awaiting Model Update*>,\n",
       " (8, 81): <gurobi.Constr *Awaiting Model Update*>,\n",
       " (8, 82): <gurobi.Constr *Awaiting Model Update*>,\n",
       " (8, 83): <gurobi.Constr *Awaiting Model Update*>,\n",
       " (8, 84): <gurobi.Constr *Awaiting Model Update*>,\n",
       " (8, 85): <gurobi.Constr *Awaiting Model Update*>,\n",
       " (8, 86): <gurobi.Constr *Awaiting Model Update*>,\n",
       " (8, 87): <gurobi.Constr *Awaiting Model Update*>,\n",
       " (8, 88): <gurobi.Constr *Awaiting Model Update*>,\n",
       " (8, 89): <gurobi.Constr *Awaiting Model Update*>,\n",
       " (8, 90): <gurobi.Constr *Awaiting Model Update*>,\n",
       " (8, 91): <gurobi.Constr *Awaiting Model Update*>,\n",
       " (8, 92): <gurobi.Constr *Awaiting Model Update*>,\n",
       " (8, 93): <gurobi.Constr *Awaiting Model Update*>,\n",
       " (8, 94): <gurobi.Constr *Awaiting Model Update*>,\n",
       " (8, 95): <gurobi.Constr *Awaiting Model Update*>,\n",
       " (8, 96): <gurobi.Constr *Awaiting Model Update*>,\n",
       " (8, 97): <gurobi.Constr *Awaiting Model Update*>,\n",
       " (8, 98): <gurobi.Constr *Awaiting Model Update*>,\n",
       " (8, 99): <gurobi.Constr *Awaiting Model Update*>,\n",
       " (9, 0): <gurobi.Constr *Awaiting Model Update*>,\n",
       " (9, 1): <gurobi.Constr *Awaiting Model Update*>,\n",
       " (9, 2): <gurobi.Constr *Awaiting Model Update*>,\n",
       " (9, 3): <gurobi.Constr *Awaiting Model Update*>,\n",
       " (9, 4): <gurobi.Constr *Awaiting Model Update*>,\n",
       " (9, 5): <gurobi.Constr *Awaiting Model Update*>,\n",
       " (9, 6): <gurobi.Constr *Awaiting Model Update*>,\n",
       " (9, 7): <gurobi.Constr *Awaiting Model Update*>,\n",
       " (9, 8): <gurobi.Constr *Awaiting Model Update*>,\n",
       " (9, 9): <gurobi.Constr *Awaiting Model Update*>,\n",
       " (9, 10): <gurobi.Constr *Awaiting Model Update*>,\n",
       " (9, 11): <gurobi.Constr *Awaiting Model Update*>,\n",
       " (9, 12): <gurobi.Constr *Awaiting Model Update*>,\n",
       " (9, 13): <gurobi.Constr *Awaiting Model Update*>,\n",
       " (9, 14): <gurobi.Constr *Awaiting Model Update*>,\n",
       " (9, 15): <gurobi.Constr *Awaiting Model Update*>,\n",
       " (9, 16): <gurobi.Constr *Awaiting Model Update*>,\n",
       " (9, 17): <gurobi.Constr *Awaiting Model Update*>,\n",
       " (9, 18): <gurobi.Constr *Awaiting Model Update*>,\n",
       " (9, 19): <gurobi.Constr *Awaiting Model Update*>,\n",
       " (9, 20): <gurobi.Constr *Awaiting Model Update*>,\n",
       " (9, 21): <gurobi.Constr *Awaiting Model Update*>,\n",
       " (9, 22): <gurobi.Constr *Awaiting Model Update*>,\n",
       " (9, 23): <gurobi.Constr *Awaiting Model Update*>,\n",
       " (9, 24): <gurobi.Constr *Awaiting Model Update*>,\n",
       " (9, 25): <gurobi.Constr *Awaiting Model Update*>,\n",
       " (9, 26): <gurobi.Constr *Awaiting Model Update*>,\n",
       " (9, 27): <gurobi.Constr *Awaiting Model Update*>,\n",
       " (9, 28): <gurobi.Constr *Awaiting Model Update*>,\n",
       " (9, 29): <gurobi.Constr *Awaiting Model Update*>,\n",
       " (9, 30): <gurobi.Constr *Awaiting Model Update*>,\n",
       " (9, 31): <gurobi.Constr *Awaiting Model Update*>,\n",
       " (9, 32): <gurobi.Constr *Awaiting Model Update*>,\n",
       " (9, 33): <gurobi.Constr *Awaiting Model Update*>,\n",
       " (9, 34): <gurobi.Constr *Awaiting Model Update*>,\n",
       " (9, 35): <gurobi.Constr *Awaiting Model Update*>,\n",
       " (9, 36): <gurobi.Constr *Awaiting Model Update*>,\n",
       " (9, 37): <gurobi.Constr *Awaiting Model Update*>,\n",
       " (9, 38): <gurobi.Constr *Awaiting Model Update*>,\n",
       " (9, 39): <gurobi.Constr *Awaiting Model Update*>,\n",
       " (9, 40): <gurobi.Constr *Awaiting Model Update*>,\n",
       " (9, 41): <gurobi.Constr *Awaiting Model Update*>,\n",
       " (9, 42): <gurobi.Constr *Awaiting Model Update*>,\n",
       " (9, 43): <gurobi.Constr *Awaiting Model Update*>,\n",
       " (9, 44): <gurobi.Constr *Awaiting Model Update*>,\n",
       " (9, 45): <gurobi.Constr *Awaiting Model Update*>,\n",
       " (9, 46): <gurobi.Constr *Awaiting Model Update*>,\n",
       " (9, 47): <gurobi.Constr *Awaiting Model Update*>,\n",
       " (9, 48): <gurobi.Constr *Awaiting Model Update*>,\n",
       " (9, 49): <gurobi.Constr *Awaiting Model Update*>,\n",
       " (9, 50): <gurobi.Constr *Awaiting Model Update*>,\n",
       " (9, 51): <gurobi.Constr *Awaiting Model Update*>,\n",
       " (9, 52): <gurobi.Constr *Awaiting Model Update*>,\n",
       " (9, 53): <gurobi.Constr *Awaiting Model Update*>,\n",
       " (9, 54): <gurobi.Constr *Awaiting Model Update*>,\n",
       " (9, 55): <gurobi.Constr *Awaiting Model Update*>,\n",
       " (9, 56): <gurobi.Constr *Awaiting Model Update*>,\n",
       " (9, 57): <gurobi.Constr *Awaiting Model Update*>,\n",
       " (9, 58): <gurobi.Constr *Awaiting Model Update*>,\n",
       " (9, 59): <gurobi.Constr *Awaiting Model Update*>,\n",
       " (9, 60): <gurobi.Constr *Awaiting Model Update*>,\n",
       " (9, 61): <gurobi.Constr *Awaiting Model Update*>,\n",
       " (9, 62): <gurobi.Constr *Awaiting Model Update*>,\n",
       " (9, 63): <gurobi.Constr *Awaiting Model Update*>,\n",
       " (9, 64): <gurobi.Constr *Awaiting Model Update*>,\n",
       " (9, 65): <gurobi.Constr *Awaiting Model Update*>,\n",
       " (9, 66): <gurobi.Constr *Awaiting Model Update*>,\n",
       " (9, 67): <gurobi.Constr *Awaiting Model Update*>,\n",
       " (9, 68): <gurobi.Constr *Awaiting Model Update*>,\n",
       " (9, 69): <gurobi.Constr *Awaiting Model Update*>,\n",
       " (9, 70): <gurobi.Constr *Awaiting Model Update*>,\n",
       " (9, 71): <gurobi.Constr *Awaiting Model Update*>,\n",
       " (9, 72): <gurobi.Constr *Awaiting Model Update*>,\n",
       " (9, 73): <gurobi.Constr *Awaiting Model Update*>,\n",
       " (9, 74): <gurobi.Constr *Awaiting Model Update*>,\n",
       " (9, 75): <gurobi.Constr *Awaiting Model Update*>,\n",
       " (9, 76): <gurobi.Constr *Awaiting Model Update*>,\n",
       " (9, 77): <gurobi.Constr *Awaiting Model Update*>,\n",
       " (9, 78): <gurobi.Constr *Awaiting Model Update*>,\n",
       " (9, 79): <gurobi.Constr *Awaiting Model Update*>,\n",
       " (9, 80): <gurobi.Constr *Awaiting Model Update*>,\n",
       " (9, 81): <gurobi.Constr *Awaiting Model Update*>,\n",
       " (9, 82): <gurobi.Constr *Awaiting Model Update*>,\n",
       " (9, 83): <gurobi.Constr *Awaiting Model Update*>,\n",
       " (9, 84): <gurobi.Constr *Awaiting Model Update*>,\n",
       " (9, 85): <gurobi.Constr *Awaiting Model Update*>,\n",
       " (9, 86): <gurobi.Constr *Awaiting Model Update*>,\n",
       " (9, 87): <gurobi.Constr *Awaiting Model Update*>,\n",
       " (9, 88): <gurobi.Constr *Awaiting Model Update*>,\n",
       " (9, 89): <gurobi.Constr *Awaiting Model Update*>,\n",
       " (9, 90): <gurobi.Constr *Awaiting Model Update*>,\n",
       " (9, 91): <gurobi.Constr *Awaiting Model Update*>,\n",
       " (9, 92): <gurobi.Constr *Awaiting Model Update*>,\n",
       " (9, 93): <gurobi.Constr *Awaiting Model Update*>,\n",
       " (9, 94): <gurobi.Constr *Awaiting Model Update*>,\n",
       " (9, 95): <gurobi.Constr *Awaiting Model Update*>,\n",
       " (9, 96): <gurobi.Constr *Awaiting Model Update*>,\n",
       " (9, 97): <gurobi.Constr *Awaiting Model Update*>,\n",
       " (9, 98): <gurobi.Constr *Awaiting Model Update*>,\n",
       " (9, 99): <gurobi.Constr *Awaiting Model Update*>}"
      ]
     },
     "execution_count": 1030,
     "metadata": {},
     "output_type": "execute_result"
    }
   ],
   "source": [
    "eg2.addConstrs((quicksum(v[j] * r[i][j] for j in dcs) >= expected_daily_demand[i] for i in stores), \"demand_fulfillment\")\n",
    "eg2.addConstrs((quicksum(v[j] * r[i][j] for i in stores) <= dc_maxscale[j] for j in dcs), \"dcCapacity\")\n",
    "#eg2.addConstrs((quicksum(construction_costs[j] + maintenance_costs[j] * r[i][j] for i in stores)for j in dcs) <= B, \"dcCapacity\")\n",
    "eg2.addConstrs((quicksum(r[i][j] for i in stores) >= 0 for j in dcs), \"replenishment amount >= 0\")\n",
    "eg2.addConstrs((quicksum(w[i][j] for j in dcs) == 1 for i in stores), \"每間store都有一個最近的DC\")\n",
    "eg2.addConstrs((w[i][j] <= v[j] for i in stores for j in dcs), \"要確定那間DC有蓋\")\n",
    "eg2.addConstrs((d >= quicksum(w[i][j] * (wx[i][j] + wy[i][j]) for j in dcs) for i in stores), \"每間store到最近的DC的最遠距離\")\n",
    "eg2.addConstrs((wx[i][j] >= dc_xcoord[j] - store_xcoord[i] for i in stores for j in dcs), \"dis(dc-store), x-axis\")\n",
    "eg2.addConstrs((wx[i][j] >= store_xcoord[i] - dc_xcoord[j] for j in dcs for i in stores), \"dis(store-dc), x-axis\")\n",
    "eg2.addConstrs((wy[i][j] >= dc_ycoord[j] - store_ycoord[i] for i in stores for j in dcs), \"dis(dc-store), y-axis\")\n",
    "eg2.addConstrs((wy[i][j] >= store_ycoord[i] - dc_ycoord[j] for j in dcs for i in stores), \"dis(store-dc), y-axis\")"
   ]
  },
  {
   "attachments": {},
   "cell_type": "markdown",
   "metadata": {},
   "source": [
    "##### Optimize"
   ]
  },
  {
   "cell_type": "code",
   "execution_count": 1031,
   "metadata": {},
   "outputs": [],
   "source": [
    "eg2.optimize()"
   ]
  },
  {
   "attachments": {},
   "cell_type": "markdown",
   "metadata": {},
   "source": [
    "##### Results"
   ]
  },
  {
   "cell_type": "code",
   "execution_count": 1032,
   "metadata": {},
   "outputs": [
    {
     "name": "stdout",
     "output_type": "stream",
     "text": [
      "3 Results | Multiple sourcing: \n",
      "v1 = 1.0\n",
      "v2 = 1.0\n",
      "v3 = 1.0\n",
      "v4 = 1.0\n",
      "v5 = 1.0\n",
      "v6 = 1.0\n",
      "v7 = 1.0\n",
      "v8 = 1.0\n",
      "v9 = 1.0\n",
      "v10 = 1.0\n",
      "DC1 \t0.0 \t154.0 \t115.0 \t0.0 \t0.0 \t0.0 \t0.0 \t0.0 \t0.0 \t144.0 \t0.0 \t135.0 \t161.0 \t0.0 \t142.0 \t130.0 \t0.0 \t0.0 \t0.0 \t0.0 \t0.0 \t0.0 \t160.0 \t0.0 \t0.0 \t0.0 \t0.0 \t114.0 \t0.0 \t0.0 \t114.0 \t164.0 \t0.0 \t0.0 \t0.0 \t0.0 \t0.0 \t0.0 \t150.0 \t0.0 \t0.0 \t135.0 \t0.0 \t0.0 \t164.0 \t135.0 \t0.0 \t0.0 \t0.0 \t0.0 \t0.0 \t0.0 \t143.0 \t0.0 \t0.0 \t0.0 \t0.0 \t0.0 \t0.0 \t157.0 \t0.0 \t0.0 \t154.0 \t0.0 \t0.0 \t0.0 \t0.0 \t0.0 \t0.0 \t0.0 \t0.0 \t0.0 \t0.0 \t0.0 \t0.0 \t0.0 \t0.0 \t122.0 \t0.0 \t0.0 \t0.0 \t0.0 \t0.0 \t106.0 \t0.0 \t0.0 \t0.0 \t0.0 \t0.0 \t0.0 \t0.0 \t0.0 \t103.0 \t104.0 \t0.0 \t0.0 \t0.0 \t0.0 \t0.0 \t118.0 \t\n",
      "DC2 \t0.0 \t0.0 \t0.0 \t0.0 \t0.0 \t0.0 \t178.0 \t0.0 \t0.0 \t0.0 \t0.0 \t0.0 \t0.0 \t0.0 \t0.0 \t0.0 \t0.0 \t0.0 \t0.0 \t0.0 \t0.0 \t132.0 \t0.0 \t0.0 \t0.0 \t0.0 \t0.0 \t0.0 \t0.0 \t0.0 \t0.0 \t0.0 \t0.0 \t0.0 \t0.0 \t0.0 \t0.0 \t0.0 \t0.0 \t0.0 \t0.0 \t0.0 \t0.0 \t0.0 \t0.0 \t0.0 \t0.0 \t0.0 \t0.0 \t0.0 \t0.0 \t0.0 \t0.0 \t0.0 \t171.0 \t0.0 \t0.0 \t184.0 \t0.0 \t0.0 \t0.0 \t0.0 \t0.0 \t0.0 \t178.0 \t0.0 \t0.0 \t0.0 \t0.0 \t0.0 \t0.0 \t0.0 \t0.0 \t0.0 \t0.0 \t0.0 \t0.0 \t0.0 \t0.0 \t88.0 \t0.0 \t131.0 \t0.0 \t0.0 \t0.0 \t0.0 \t0.0 \t0.0 \t0.0 \t0.0 \t0.0 \t0.0 \t0.0 \t0.0 \t178.0 \t0.0 \t0.0 \t0.0 \t0.0 \t0.0 \t\n",
      "DC3 \t0.0 \t0.0 \t0.0 \t0.0 \t0.0 \t0.0 \t0.0 \t0.0 \t0.0 \t0.0 \t0.0 \t0.0 \t0.0 \t0.0 \t0.0 \t0.0 \t0.0 \t113.0 \t0.0 \t0.0 \t0.0 \t0.0 \t0.0 \t127.0 \t0.0 \t0.0 \t0.0 \t0.0 \t0.0 \t0.0 \t0.0 \t0.0 \t0.0 \t0.0 \t0.0 \t0.0 \t0.0 \t0.0 \t0.0 \t0.0 \t0.0 \t0.0 \t0.0 \t166.0 \t0.0 \t0.0 \t0.0 \t0.0 \t0.0 \t0.0 \t0.0 \t190.0 \t0.0 \t0.0 \t0.0 \t0.0 \t192.0 \t0.0 \t0.0 \t0.0 \t0.0 \t0.0 \t0.0 \t0.0 \t0.0 \t0.0 \t0.0 \t21.0 \t0.0 \t0.0 \t0.0 \t0.0 \t0.0 \t0.0 \t0.0 \t0.0 \t0.0 \t0.0 \t0.0 \t101.0 \t0.0 \t0.0 \t0.0 \t0.0 \t0.0 \t0.0 \t0.0 \t0.0 \t0.0 \t0.0 \t0.0 \t0.0 \t0.0 \t0.0 \t0.0 \t0.0 \t0.0 \t0.0 \t0.0 \t0.0 \t\n",
      "DC4 \t0.0 \t0.0 \t0.0 \t0.0 \t0.0 \t183.0 \t0.0 \t0.0 \t0.0 \t0.0 \t0.0 \t0.0 \t0.0 \t0.0 \t0.0 \t0.0 \t187.0 \t0.0 \t0.0 \t0.0 \t0.0 \t0.0 \t0.0 \t0.0 \t0.0 \t0.0 \t0.0 \t0.0 \t0.0 \t200.0 \t0.0 \t0.0 \t0.0 \t0.0 \t0.0 \t0.0 \t0.0 \t198.0 \t0.0 \t0.0 \t0.0 \t0.0 \t0.0 \t0.0 \t0.0 \t0.0 \t0.0 \t0.0 \t0.0 \t0.0 \t0.0 \t0.0 \t0.0 \t0.0 \t0.0 \t0.0 \t0.0 \t0.0 \t0.0 \t0.0 \t0.0 \t0.0 \t0.0 \t0.0 \t0.0 \t0.0 \t0.0 \t174.0 \t0.0 \t157.0 \t0.0 \t0.0 \t0.0 \t0.0 \t0.0 \t0.0 \t0.0 \t0.0 \t0.0 \t0.0 \t0.0 \t0.0 \t0.0 \t0.0 \t198.0 \t0.0 \t0.0 \t0.0 \t0.0 \t0.0 \t0.0 \t0.0 \t0.0 \t0.0 \t0.0 \t0.0 \t0.0 \t0.0 \t0.0 \t0.0 \t\n",
      "DC5 \t0.0 \t0.0 \t0.0 \t0.0 \t128.0 \t0.0 \t0.0 \t0.0 \t129.0 \t0.0 \t0.0 \t0.0 \t0.0 \t0.0 \t0.0 \t0.0 \t0.0 \t0.0 \t109.0 \t0.0 \t0.0 \t0.0 \t0.0 \t48.0 \t0.0 \t0.0 \t0.0 \t0.0 \t0.0 \t0.0 \t0.0 \t0.0 \t0.0 \t0.0 \t0.0 \t0.0 \t0.0 \t0.0 \t0.0 \t174.0 \t171.0 \t0.0 \t0.0 \t0.0 \t0.0 \t0.0 \t0.0 \t0.0 \t108.0 \t0.0 \t0.0 \t0.0 \t0.0 \t0.0 \t0.0 \t0.0 \t0.0 \t0.0 \t0.0 \t0.0 \t0.0 \t0.0 \t0.0 \t131.0 \t0.0 \t0.0 \t0.0 \t0.0 \t0.0 \t0.0 \t0.0 \t0.0 \t0.0 \t0.0 \t169.0 \t0.0 \t0.0 \t0.0 \t0.0 \t0.0 \t0.0 \t0.0 \t0.0 \t0.0 \t0.0 \t0.0 \t159.0 \t0.0 \t0.0 \t0.0 \t0.0 \t0.0 \t0.0 \t0.0 \t0.0 \t0.0 \t122.0 \t0.0 \t0.0 \t0.0 \t\n",
      "DC6 \t0.0 \t0.0 \t0.0 \t0.0 \t0.0 \t0.0 \t0.0 \t191.0 \t0.0 \t0.0 \t0.0 \t0.0 \t0.0 \t0.0 \t0.0 \t0.0 \t0.0 \t0.0 \t0.0 \t116.0 \t0.0 \t0.0 \t0.0 \t0.0 \t177.0 \t0.0 \t0.0 \t0.0 \t0.0 \t0.0 \t0.0 \t0.0 \t0.0 \t0.0 \t0.0 \t0.0 \t159.0 \t0.0 \t0.0 \t0.0 \t0.0 \t0.0 \t0.0 \t0.0 \t0.0 \t0.0 \t0.0 \t0.0 \t0.0 \t0.0 \t0.0 \t0.0 \t0.0 \t120.0 \t0.0 \t0.0 \t0.0 \t0.0 \t0.0 \t0.0 \t188.0 \t0.0 \t0.0 \t0.0 \t0.0 \t0.0 \t0.0 \t0.0 \t187.0 \t0.0 \t0.0 \t0.0 \t0.0 \t0.0 \t0.0 \t0.0 \t0.0 \t0.0 \t0.0 \t0.0 \t109.0 \t0.0 \t0.0 \t0.0 \t0.0 \t181.0 \t0.0 \t0.0 \t170.0 \t0.0 \t125.0 \t0.0 \t0.0 \t0.0 \t0.0 \t127.0 \t0.0 \t199.0 \t127.0 \t0.0 \t\n",
      "DC7 \t0.0 \t0.0 \t0.0 \t0.0 \t0.0 \t0.0 \t0.0 \t0.0 \t0.0 \t0.0 \t200.0 \t0.0 \t0.0 \t0.0 \t0.0 \t0.0 \t0.0 \t0.0 \t0.0 \t0.0 \t0.0 \t0.0 \t0.0 \t0.0 \t0.0 \t0.0 \t185.0 \t0.0 \t0.0 \t0.0 \t0.0 \t0.0 \t0.0 \t0.0 \t30.0 \t0.0 \t0.0 \t0.0 \t0.0 \t0.0 \t0.0 \t0.0 \t0.0 \t0.0 \t0.0 \t0.0 \t0.0 \t0.0 \t0.0 \t0.0 \t0.0 \t0.0 \t0.0 \t0.0 \t0.0 \t0.0 \t0.0 \t0.0 \t0.0 \t9.0 \t0.0 \t0.0 \t0.0 \t0.0 \t0.0 \t0.0 \t0.0 \t0.0 \t0.0 \t0.0 \t133.0 \t0.0 \t0.0 \t192.0 \t0.0 \t0.0 \t0.0 \t0.0 \t186.0 \t0.0 \t0.0 \t0.0 \t0.0 \t0.0 \t0.0 \t0.0 \t0.0 \t0.0 \t0.0 \t0.0 \t0.0 \t191.0 \t0.0 \t0.0 \t0.0 \t0.0 \t0.0 \t0.0 \t0.0 \t0.0 \t\n",
      "DC8 \t3.0 \t0.0 \t0.0 \t0.0 \t0.0 \t0.0 \t0.0 \t0.0 \t0.0 \t0.0 \t0.0 \t0.0 \t0.0 \t0.0 \t0.0 \t0.0 \t0.0 \t0.0 \t0.0 \t0.0 \t0.0 \t0.0 \t0.0 \t0.0 \t0.0 \t183.0 \t0.0 \t0.0 \t0.0 \t0.0 \t0.0 \t0.0 \t0.0 \t0.0 \t154.0 \t178.0 \t0.0 \t0.0 \t0.0 \t0.0 \t0.0 \t0.0 \t0.0 \t0.0 \t0.0 \t0.0 \t0.0 \t0.0 \t0.0 \t0.0 \t0.0 \t0.0 \t0.0 \t0.0 \t0.0 \t0.0 \t0.0 \t0.0 \t0.0 \t0.0 \t0.0 \t0.0 \t0.0 \t0.0 \t0.0 \t0.0 \t0.0 \t0.0 \t0.0 \t0.0 \t0.0 \t0.0 \t0.0 \t0.0 \t0.0 \t0.0 \t0.0 \t0.0 \t0.0 \t0.0 \t0.0 \t0.0 \t132.0 \t0.0 \t0.0 \t0.0 \t0.0 \t0.0 \t0.0 \t0.0 \t0.0 \t0.0 \t0.0 \t0.0 \t0.0 \t0.0 \t0.0 \t0.0 \t0.0 \t0.0 \t\n",
      "DC9 \t162.0 \t0.0 \t0.0 \t138.0 \t0.0 \t0.0 \t0.0 \t0.0 \t0.0 \t0.0 \t0.0 \t0.0 \t0.0 \t140.0 \t0.0 \t0.0 \t0.0 \t0.0 \t0.0 \t0.0 \t0.0 \t0.0 \t0.0 \t0.0 \t0.0 \t0.0 \t0.0 \t0.0 \t0.0 \t0.0 \t0.0 \t0.0 \t0.0 \t0.0 \t0.0 \t0.0 \t0.0 \t0.0 \t0.0 \t0.0 \t0.0 \t0.0 \t154.0 \t0.0 \t0.0 \t0.0 \t0.0 \t132.0 \t0.0 \t0.0 \t0.0 \t0.0 \t0.0 \t0.0 \t0.0 \t162.0 \t0.0 \t0.0 \t159.0 \t0.0 \t0.0 \t0.0 \t0.0 \t0.0 \t0.0 \t114.0 \t0.0 \t0.0 \t0.0 \t0.0 \t0.0 \t0.0 \t152.0 \t0.0 \t0.0 \t0.0 \t132.0 \t0.0 \t0.0 \t0.0 \t0.0 \t0.0 \t0.0 \t0.0 \t0.0 \t0.0 \t0.0 \t161.0 \t0.0 \t0.0 \t0.0 \t0.0 \t0.0 \t0.0 \t0.0 \t0.0 \t0.0 \t0.0 \t0.0 \t0.0 \t\n",
      "DC10 \t0.0 \t0.0 \t0.0 \t0.0 \t0.0 \t0.0 \t0.0 \t0.0 \t0.0 \t0.0 \t0.0 \t0.0 \t0.0 \t0.0 \t0.0 \t0.0 \t0.0 \t0.0 \t0.0 \t0.0 \t130.0 \t0.0 \t0.0 \t0.0 \t0.0 \t0.0 \t0.0 \t0.0 \t140.0 \t0.0 \t0.0 \t0.0 \t107.0 \t132.0 \t0.0 \t0.0 \t0.0 \t0.0 \t0.0 \t0.0 \t0.0 \t0.0 \t0.0 \t0.0 \t0.0 \t0.0 \t143.0 \t0.0 \t0.0 \t150.0 \t103.0 \t0.0 \t0.0 \t0.0 \t0.0 \t0.0 \t0.0 \t0.0 \t0.0 \t0.0 \t0.0 \t123.0 \t0.0 \t0.0 \t0.0 \t38.0 \t112.0 \t0.0 \t0.0 \t0.0 \t0.0 \t150.0 \t0.0 \t0.0 \t0.0 \t117.0 \t0.0 \t0.0 \t0.0 \t0.0 \t0.0 \t0.0 \t0.0 \t0.0 \t0.0 \t0.0 \t0.0 \t0.0 \t0.0 \t139.0 \t0.0 \t0.0 \t0.0 \t0.0 \t0.0 \t0.0 \t0.0 \t0.0 \t0.0 \t0.0 \t\n",
      "DC's scale: \n",
      "DC1 \t3124\n",
      "DC2 \t1240\n",
      "DC3 \t910\n",
      "DC4 \t1297\n",
      "DC5 \t1448\n",
      "DC6 \t2176\n",
      "DC7 \t1126\n",
      "DC8 \t650\n",
      "DC9 \t1606\n",
      "DC10 \t1584\n",
      "z* =  51.0\n"
     ]
    }
   ],
   "source": [
    "print(\"3 Results | Multiple sourcing: \")\n",
    "\n",
    "for j in dcs:\n",
    "    print(v[j].varName, '=', v[j].x)\n",
    "\n",
    "replenish_plan = []   \n",
    "for j in dcs:\n",
    "    print(\"DC\" + str(j+1), \"\\t\", end=\"\")\n",
    "    for i in stores:\n",
    "        if len(str(r[i][j].x)) < 11:\n",
    "            print(r[i][j].x, \"\\t\", end=\"\")\n",
    "        else:\n",
    "            print(r[i][j].x, \"\", end=\"\")\n",
    "    print(\"\")\n",
    "\n",
    "print(\"DC's scale: \")\n",
    "for j in dcs:\n",
    "    count = 0\n",
    "    print(\"DC\" + str(j+1), \"\\t\", end=\"\")\n",
    "    for i in stores:\n",
    "        count += int(r[i][j].x)\n",
    "    print(count)\n",
    "\n",
    "print(\"z* = \", eg2.ObjVal)"
   ]
  },
  {
   "attachments": {},
   "cell_type": "markdown",
   "metadata": {},
   "source": [
    "#### Visualization"
   ]
  }
 ],
 "metadata": {
  "kernelspec": {
   "display_name": "Python 3",
   "language": "python",
   "name": "python3"
  },
  "language_info": {
   "codemirror_mode": {
    "name": "ipython",
    "version": 3
   },
   "file_extension": ".py",
   "mimetype": "text/x-python",
   "name": "python",
   "nbconvert_exporter": "python",
   "pygments_lexer": "ipython3",
   "version": "3.9.2"
  },
  "orig_nbformat": 4
 },
 "nbformat": 4,
 "nbformat_minor": 2
}
