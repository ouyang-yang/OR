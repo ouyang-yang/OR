{
 "cells": [
  {
   "attachments": {},
   "cell_type": "markdown",
   "metadata": {},
   "source": [
    "#### Packages"
   ]
  },
  {
   "cell_type": "code",
   "execution_count": 1,
   "metadata": {},
   "outputs": [],
   "source": [
    "from gurobipy import *\n",
    "import pandas as pd\n",
    "import numpy as np\n",
    "import grblogtools as glt"
   ]
  },
  {
   "attachments": {},
   "cell_type": "markdown",
   "metadata": {},
   "source": [
    "#### Read Data"
   ]
  },
  {
   "cell_type": "code",
   "execution_count": 2,
   "metadata": {},
   "outputs": [],
   "source": [
    "store_info = pd.read_excel('OR_hw01_data.xlsx', 'Store')\n",
    "stores = range(len(store_info['Store ID']))\n",
    "expected_daily_demand = store_info['Expected Daily Demand (unit)']\n",
    "store_xcoord = store_info['x-coordinate (km)']\n",
    "store_ycoord = store_info['y-coordinate (km)']\n",
    "\n",
    "dc_info = pd.read_excel('OR_hw01_data.xlsx', 'DC')\n",
    "dcs = range(len(dc_info['Location ID']))\n",
    "maintenance_costs = dc_info['Maintenance Cost ($/unit)']\n",
    "construction_costs = dc_info['Construction Cost ($)']\n",
    "dc_xcoord = dc_info['x-coordinate (km)']\n",
    "dc_ycoord = dc_info['y-coordinate (km)']\n",
    "dc_maxscale = dc_info['Maximum Scale (unit)']\n",
    "\n",
    "S = 1 # replenishment cost"
   ]
  },
  {
   "attachments": {},
   "cell_type": "markdown",
   "metadata": {},
   "source": [
    "#### Model 1(a): min TC (Multiple sourcing)"
   ]
  },
  {
   "cell_type": "code",
   "execution_count": 3,
   "metadata": {},
   "outputs": [
    {
     "name": "stdout",
     "output_type": "stream",
     "text": [
      "Set parameter Username\n",
      "Academic license - for non-commercial use only - expires 2024-02-29\n"
     ]
    }
   ],
   "source": [
    "eg1a = Model(\"eg1a\")\n",
    "\n",
    "#-------- Add variables as a list ---------#\n",
    "# vj = 1 if a DC is built at loc j\n",
    "v = []\n",
    "for j in dcs:\n",
    "    v.append(eg1a.addVar(lb=0, vtype = GRB.BINARY, name = \"v\" + str(j+1)))\n",
    "    \n",
    "# sj = the scale level of a DC built at loc j\n",
    "s = []\n",
    "for j in dcs:\n",
    "    s.append(eg1a.addVar(lb=0, vtype = GRB.INTEGER, name = \"s\" + str(j+1)))\n",
    "\n",
    "# rij = the amount of products replenished by DCj to store i\n",
    "r = []\n",
    "for i in stores:\n",
    "    r.append([])\n",
    "    for j in dcs:\n",
    "        r[i].append(eg1a.addVar(lb = 0, vtype = GRB.INTEGER, name = \"r\" + str(i+1) + str(j+1)))\n",
    "        \n",
    "\n",
    "# Manhattan distancebetween store i and DCj on x-axis\n",
    "wx = []\n",
    "for i in stores:\n",
    "    wx.append([])\n",
    "    for j in dcs:\n",
    "        wx[i].append(eg1a.addVar(lb = 0, vtype = GRB.INTEGER, name = \"wx\" + str(i+1) + str(j+1)))\n",
    "# Manhattan distancebetween store i and DCj on y-axis\n",
    "wy = []\n",
    "for i in stores:\n",
    "    wy.append([])\n",
    "    for j in dcs:\n",
    "        wy[i].append(eg1a.addVar(lb = 0, vtype = GRB.INTEGER, name = \"wy\" + str(i+1) + str(j+1)))"
   ]
  },
  {
   "attachments": {},
   "cell_type": "markdown",
   "metadata": {},
   "source": [
    "##### Objective Fucntion"
   ]
  },
  {
   "cell_type": "code",
   "execution_count": 4,
   "metadata": {},
   "outputs": [],
   "source": [
    "eg1a.setObjective(\n",
    "    quicksum(v[j] * construction_costs[j] for j in dcs) \\\n",
    "    + quicksum(v[j] * s[j] * maintenance_costs[j] for j in dcs) \\\n",
    "    + quicksum(quicksum(S * r[i][j] * (wx[i][j] + wy[i][j]) for j in dcs) for i in stores)\\\n",
    "    ,GRB.MINIMIZE\n",
    ")"
   ]
  },
  {
   "attachments": {},
   "cell_type": "markdown",
   "metadata": {},
   "source": [
    "##### Constraints"
   ]
  },
  {
   "cell_type": "code",
   "execution_count": null,
   "metadata": {},
   "outputs": [],
   "source": [
    "eg1a.addConstrs((quicksum(v[j] * r[i][j] for j in dcs) == expected_daily_demand[i] for i in stores), \"demand_fulfillment\")\n",
    "eg1a.addConstrs((quicksum(r[i][j] for i in stores) == s[j] for j in dcs), \"DC scale lv == its total replenishment q\")\n",
    "eg1a.addConstrs((s[j] <= v[j] * dc_maxscale[j] for j in dcs), \"DC scale lv <= its max scale lv\")\n",
    "eg1a.addConstrs((quicksum(r[i][j] for i in stores) >= 0 for j in dcs), \"replenishment >= 0\")\n",
    "\n",
    "#eg1a.addConstrs((quicksum(r[i][j] for i in stores) <= v[j] * 20000 for j in dcs), \"replenishment amount exists when vj=1\")\n",
    "eg1a.addConstrs((wx[i][j] >= dc_xcoord[j] - store_xcoord[i] for i in stores for j in dcs), \"dis(dc-store), x-axis\")\n",
    "eg1a.addConstrs((wx[i][j] >= store_xcoord[i] - dc_xcoord[j] for j in dcs for i in stores), \"dis(store-dc), x-axis\")\n",
    "eg1a.addConstrs((wy[i][j] >= dc_ycoord[j] - store_ycoord[i] for i in stores for j in dcs), \"dis(dc-store), y-axis\")\n",
    "eg1a.addConstrs((wy[i][j] >= store_ycoord[i] - dc_ycoord[j] for j in dcs for i in stores), \"dis(store-dc), y-axis\")"
   ]
  },
  {
   "attachments": {},
   "cell_type": "markdown",
   "metadata": {},
   "source": [
    "##### Optimize"
   ]
  },
  {
   "cell_type": "code",
   "execution_count": null,
   "metadata": {},
   "outputs": [],
   "source": [
    "eg1a.optimize()"
   ]
  },
  {
   "attachments": {},
   "cell_type": "markdown",
   "metadata": {},
   "source": [
    "##### 1(a) Results"
   ]
  },
  {
   "cell_type": "code",
   "execution_count": 7,
   "metadata": {},
   "outputs": [
    {
     "name": "stdout",
     "output_type": "stream",
     "text": [
      "1(a) Results | Multiple sourcing: \n",
      "v1 = 1\n",
      "v2 = 1\n",
      "v3 = 1\n",
      "v4 = 1\n",
      "v5 = 1\n",
      "v6 = 1\n",
      "v7 = 1\n",
      "v8 = 0\n",
      "v9 = 1\n",
      "v10 = 1\n",
      "DC's scale: \n",
      "DC1 \t3124\n",
      "DC2 \t1240\n",
      "DC3 \t910\n",
      "DC4 \t1498\n",
      "DC5 \t1389\n",
      "DC6 \t2592\n",
      "DC7 \t1218\n",
      "DC8 \t0\n",
      "DC9 \t1606\n",
      "DC10 \t1584\n",
      "z* =  486706.0\n"
     ]
    }
   ],
   "source": [
    "print(\"1(a) Results | Multiple sourcing: \")\n",
    "\n",
    "for j in dcs:\n",
    "    print(v[j].varName, '=', int(v[j].x))\n",
    "\n",
    "\"\"\"\n",
    "for j in dcs:\n",
    "    print(\"DC\" + str(j+1), \"\\t\", end=\"\")\n",
    "    for i in stores:\n",
    "        if len(str(r[i][j].x)) < 11:\n",
    "            print(int(r[i][j].x), \"\\t\", end=\"\")\n",
    "        else:\n",
    "            print(int(r[i][j].x), \"\", end=\"\")\n",
    "    print(\"\")\n",
    "\"\"\"\n",
    "\n",
    "print(\"DC's scale: \")\n",
    "for j in dcs:\n",
    "    count = 0\n",
    "    print(\"DC\" + str(j+1), \"\\t\", end=\"\")\n",
    "    for i in stores:\n",
    "        count += int(r[i][j].x)\n",
    "    print(count)\n",
    "\n",
    "print(\"z* = \", eg1a.ObjVal)"
   ]
  },
  {
   "attachments": {},
   "cell_type": "markdown",
   "metadata": {},
   "source": [
    "#### Model 1(b): min TC (Single sourcing)"
   ]
  },
  {
   "cell_type": "code",
   "execution_count": 8,
   "metadata": {},
   "outputs": [
    {
     "name": "stdout",
     "output_type": "stream",
     "text": [
      "Set parameter LogFile to value \"eg1b.log\"\n"
     ]
    }
   ],
   "source": [
    "eg1b = Model(\"eg1b\")\n",
    "eg1b.Params.LogFile = \"eg1b.log\" \n",
    "results = glt.parse(\"eg1b*.log\")\n",
    "summary = results.summary()\n",
    "nodelog_progress = results.progress(\"nodelog\")\n",
    "\n",
    "\n",
    "#-------- Add variables as a list ---------#\n",
    "# vj = 1 if a DC is built at loc j\n",
    "v = []\n",
    "for j in dcs:\n",
    "    v.append(eg1b.addVar(lb=0, vtype = GRB.BINARY, name = \"v\" + str(j+1)))\n",
    "\n",
    "# sj = the scale level of a DC built at loc j\n",
    "s = []\n",
    "for j in dcs:\n",
    "    s.append(eg1b.addVar(lb=0, vtype = GRB.INTEGER, name = \"s\" + str(j+1)))\n",
    "\n",
    "# rij = the amount of products replenished by DCj to store i\n",
    "r = []\n",
    "for i in stores:\n",
    "    r.append([])\n",
    "    for j in dcs:\n",
    "        r[i].append(eg1b.addVar(lb = 0, vtype = GRB.INTEGER, name = \"r\" + str(i+1) + str(j+1)))\n",
    "        \n",
    "# zij = 1 if products are replenished by DCj to store i (rij>0)\n",
    "z = []\n",
    "for i in stores:\n",
    "    z.append([])\n",
    "    for j in dcs:\n",
    "        z[i].append(eg1b.addVar(lb = 0, vtype = GRB.BINARY, name = \"z\" + str(i+1) + str(j+1)))\n",
    "\n",
    "# Manhattan distancebetween store i and DCj on x-axis\n",
    "wx = []\n",
    "for i in stores:\n",
    "    wx.append([])\n",
    "    for j in dcs:\n",
    "        wx[i].append(eg1b.addVar(lb = 0, vtype = GRB.INTEGER, name = \"wx\" + str(i+1) + str(j+1)))\n",
    "# Manhattan distancebetween store i and DCj on y-axis\n",
    "wy = []\n",
    "for i in stores:\n",
    "    wy.append([])\n",
    "    for j in dcs:\n",
    "        wy[i].append(eg1b.addVar(lb = 0, vtype = GRB.INTEGER, name = \"wy\" + str(i+1) + str(j+1)))"
   ]
  },
  {
   "attachments": {},
   "cell_type": "markdown",
   "metadata": {},
   "source": [
    "##### Objective Function"
   ]
  },
  {
   "cell_type": "code",
   "execution_count": 9,
   "metadata": {},
   "outputs": [],
   "source": [
    "eg1b.setObjective(\n",
    "    quicksum(v[j] * construction_costs[j] for j in dcs) \\\n",
    "    + quicksum(v[j] * s[j] * maintenance_costs[j] for j in dcs) \\\n",
    "    + quicksum(quicksum(r[i][j] * (wx[i][j] + wy[i][j]) for i in stores) for j in dcs)\\\n",
    "    ,GRB.MINIMIZE\n",
    ")"
   ]
  },
  {
   "attachments": {},
   "cell_type": "markdown",
   "metadata": {},
   "source": [
    "##### Constraints"
   ]
  },
  {
   "cell_type": "code",
   "execution_count": null,
   "metadata": {},
   "outputs": [],
   "source": [
    "eg1b.addConstrs((quicksum(z[i][j] * r[i][j] for j in dcs) == expected_daily_demand[i] for i in stores), \"demand_fulfillment\")\n",
    "eg1b.addConstrs((quicksum(z[i][j] for j in dcs) == 1 for i in stores), \"每間商店都只能被一個DC去補\")\n",
    "\n",
    "eg1b.addConstrs((quicksum(r[i][j] for i in stores) == s[j] for j in dcs), \"DC scale lv == its total replenishment q\")\n",
    "eg1b.addConstrs((s[j] <= v[j] * dc_maxscale[j] for j in dcs), \"DC scale lv <= its max scale lv\")\n",
    "eg1b.addConstrs((quicksum(r[i][j] for i in stores) >= 0 for j in dcs), \"replenishment amount >= 0\")\n",
    "\n",
    "eg1b.addConstrs((wx[i][j] >= dc_xcoord[j] - store_xcoord[i] for i in stores for j in dcs), \"dis(dc-store), x-axis\")\n",
    "eg1b.addConstrs((wx[i][j] >= store_xcoord[i] - dc_xcoord[j] for j in dcs for i in stores), \"dis(store-dc), x-axis\")\n",
    "eg1b.addConstrs((wy[i][j] >= dc_ycoord[j] - store_ycoord[i] for i in stores for j in dcs), \"dis(dc-store), y-axis\")\n",
    "eg1b.addConstrs((wy[i][j] >= store_ycoord[i] - dc_ycoord[j] for j in dcs for i in stores), \"dis(store-dc), y-axis\")"
   ]
  },
  {
   "attachments": {},
   "cell_type": "markdown",
   "metadata": {},
   "source": [
    "##### Optimize"
   ]
  },
  {
   "cell_type": "code",
   "execution_count": null,
   "metadata": {},
   "outputs": [],
   "source": [
    "eg1b.optimize()"
   ]
  },
  {
   "attachments": {},
   "cell_type": "markdown",
   "metadata": {},
   "source": [
    "##### Results"
   ]
  },
  {
   "cell_type": "code",
   "execution_count": 12,
   "metadata": {},
   "outputs": [
    {
     "name": "stdout",
     "output_type": "stream",
     "text": [
      "1(b) Results | Single sourcing: \n",
      "v1 = 1\n",
      "v2 = 1\n",
      "v3 = 1\n",
      "v4 = 1\n",
      "v5 = 1\n",
      "v6 = 1\n",
      "v7 = 1\n",
      "v8 = 0\n",
      "v9 = 1\n",
      "v10 = 1\n",
      "DC's scale: \n",
      "DC1 \t3119\n",
      "DC2 \t1234\n",
      "DC3 \t910\n",
      "DC4 \t1493\n",
      "DC5 \t1437\n",
      "DC6 \t2580\n",
      "DC7 \t1215\n",
      "DC8 \t0\n",
      "DC9 \t1598\n",
      "DC10 \t1575\n",
      "z* =  493168.0\n"
     ]
    }
   ],
   "source": [
    "print(\"1(b) Results | Single sourcing: \")\n",
    "\n",
    "for j in dcs:\n",
    "    print(v[j].varName, '=', int(v[j].x))\n",
    "\n",
    "\"\"\"\n",
    "replenish_plan = []   \n",
    "for j in dcs:\n",
    "    print(\"DC\" + str(j+1), \"\\t\", end=\"\")\n",
    "    for i in stores:\n",
    "        if len(str(r[i][j].x)) < 11:\n",
    "            print(int(r[i][j].x), \"\\t\", end=\"\")\n",
    "        else:\n",
    "            print(int(r[i][j].x), \"\", end=\"\")\n",
    "    print(\"\")\n",
    "\"\"\"\n",
    "\n",
    "print(\"DC's scale: \")\n",
    "for j in dcs:\n",
    "    count = 0\n",
    "    print(\"DC\" + str(j+1), \"\\t\", end=\"\")\n",
    "    for i in stores:\n",
    "        count += int(r[i][j].x)\n",
    "    print(count)\n",
    "\n",
    "print(\"z* = \", eg1b.ObjVal)"
   ]
  },
  {
   "attachments": {},
   "cell_type": "markdown",
   "metadata": {},
   "source": [
    "#### Model 2: min the maximum distance"
   ]
  },
  {
   "cell_type": "code",
   "execution_count": 13,
   "metadata": {},
   "outputs": [],
   "source": [
    "eg2 = Model(\"eg2\")\n",
    "B = int #cost_constraint\n",
    "\n",
    "#-------- Add variables as a list ---------#\n",
    "\n",
    "# vj = 1 if a DC is built at loc j\n",
    "v = []\n",
    "for j in dcs:\n",
    "    v.append(eg2.addVar(lb=0, vtype = GRB.BINARY, name = \"v\" + str(j+1)))\n",
    "\n",
    "# sj = the scale level of a DC built at loc j\n",
    "s = []\n",
    "for j in dcs:\n",
    "    s.append(eg2.addVar(lb=0, vtype = GRB.INTEGER, name = \"s\" + str(j+1)))\n",
    "\n",
    "# rij = the amount of products replenished by DCj to store i\n",
    "r = []\n",
    "for i in stores:\n",
    "    r.append([])\n",
    "    for j in dcs:\n",
    "        r[i].append(eg2.addVar(lb = 0, vtype = GRB.INTEGER, name = \"r\" + str(i+1) + str(j+1)))\n",
    "\n",
    "# Manhattan distancebetween store i and DCj on x-axis\n",
    "wx = []\n",
    "for i in stores:\n",
    "    wx.append([])\n",
    "    for j in dcs:\n",
    "        wx[i].append(eg2.addVar(lb = 0, vtype = GRB.INTEGER, name = \"wx\" + str(i+1) + str(j+1)))\n",
    "# Manhattan distancebetween store i and DCj on y-axis\n",
    "wy = []\n",
    "for i in stores:\n",
    "    wy.append([])\n",
    "    for j in dcs:\n",
    "        wy[i].append(eg2.addVar(lb = 0, vtype = GRB.INTEGER, name = \"wy\" + str(i+1) + str(j+1)))\n",
    "\n",
    "\n",
    "# wij=1 if the DCj is the closest to store i\n",
    "w = []\n",
    "for i in stores:\n",
    "    w.append([])\n",
    "    for j in dcs:\n",
    "        w[i].append(eg2.addVar(lb = 0, vtype = GRB.BINARY, name = \"w\" + str(i+1) + str(j+1)))\n",
    "\n",
    "d = []\n",
    "for i in stores:\n",
    "    d.append(eg2.addVar(lb = 0, vtype = GRB.INTEGER, name = \"d\"))\n",
    "B = eg2.addVar(lb = 0, vtype = GRB.INTEGER, name = \"B\")\n",
    "max_distance = eg2.addVar(lb = 0, vtype = GRB.INTEGER, name = \"max_distance\")"
   ]
  },
  {
   "attachments": {},
   "cell_type": "markdown",
   "metadata": {},
   "source": [
    "##### Objective Function"
   ]
  },
  {
   "cell_type": "code",
   "execution_count": 14,
   "metadata": {},
   "outputs": [],
   "source": [
    "eg2.setObjective(max_distance,GRB.MINIMIZE)"
   ]
  },
  {
   "attachments": {},
   "cell_type": "markdown",
   "metadata": {},
   "source": [
    "##### Constraints"
   ]
  },
  {
   "cell_type": "code",
   "execution_count": null,
   "metadata": {},
   "outputs": [],
   "source": [
    "eg2.addConstrs((quicksum(v[j] * r[i][j] for j in dcs) == expected_daily_demand[i] for i in stores), \"demand_fulfillment\")\n",
    "eg2.addConstrs((quicksum(r[i][j] for i in stores) == s[j] for j in dcs), \"DC scale lv == its total replenishment q\")\n",
    "eg2.addConstrs((s[j] <= v[j] * dc_maxscale[j] for j in dcs), \"DC scale lv <= its max scale lv\")\n",
    "eg2.addConstrs((quicksum(r[i][j] for i in stores) >= 0 for j in dcs), \"replenishment >= 0\")\n",
    "\n",
    "eg2.addConstr(quicksum(construction_costs[j] + maintenance_costs[j] * s[j] for j in dcs) <= B, \"TC cannot > B\")\n",
    "eg2.addConstrs((quicksum(w[i][j] for j in dcs) == 1 for i in stores), \"每間store都有一個最近的DC\")\n",
    "eg2.addConstrs((w[i][j] <= v[j] for i in stores for j in dcs), \"要確定那間DC有蓋\")\n",
    "eg2.addConstrs((max_distance >= quicksum(w[i][j] * (wx[i][j] + wy[i][j]) for j in dcs) for i in stores), \"每間store到最近的DC的最遠距離\")\n",
    "eg2.addConstrs((wx[i][j] >= dc_xcoord[j] - store_xcoord[i] for i in stores for j in dcs), \"dis(dc-store), x-axis\")\n",
    "eg2.addConstrs((wx[i][j] >= store_xcoord[i] - dc_xcoord[j] for j in dcs for i in stores), \"dis(store-dc), x-axis\")\n",
    "eg2.addConstrs((wy[i][j] >= dc_ycoord[j] - store_ycoord[i] for i in stores for j in dcs), \"dis(dc-store), y-axis\")\n",
    "eg2.addConstrs((wy[i][j] >= store_ycoord[i] - dc_ycoord[j] for j in dcs for i in stores), \"dis(store-dc), y-axis\")"
   ]
  },
  {
   "attachments": {},
   "cell_type": "markdown",
   "metadata": {},
   "source": [
    "##### Optimize"
   ]
  },
  {
   "cell_type": "code",
   "execution_count": null,
   "metadata": {},
   "outputs": [],
   "source": [
    "eg2.optimize()"
   ]
  },
  {
   "attachments": {},
   "cell_type": "markdown",
   "metadata": {},
   "source": [
    "##### Results"
   ]
  },
  {
   "cell_type": "code",
   "execution_count": 17,
   "metadata": {},
   "outputs": [
    {
     "name": "stdout",
     "output_type": "stream",
     "text": [
      "3 Results | Multiple sourcing: \n",
      "v1 = 1\n",
      "v2 = 1\n",
      "v3 = 1\n",
      "v4 = 1\n",
      "v5 = 1\n",
      "v6 = 1\n",
      "v7 = 1\n",
      "v8 = 1\n",
      "v9 = 1\n",
      "v10 = 1\n",
      "DC's scale: \n",
      "DC1 \t3124\n",
      "DC2 \t1240\n",
      "DC3 \t910\n",
      "DC4 \t1498\n",
      "DC5 \t1027\n",
      "DC6 \t2304\n",
      "DC7 \t1218\n",
      "DC8 \t650\n",
      "DC9 \t1606\n",
      "DC10 \t1584\n",
      "z* =  51.0\n"
     ]
    }
   ],
   "source": [
    "print(\"3 Results | Multiple sourcing: \")\n",
    "\n",
    "for j in dcs:\n",
    "    print(v[j].varName, '=', int(v[j].x))\n",
    "\n",
    "\"\"\"\n",
    "replenish_plan = []   \n",
    "for j in dcs:\n",
    "    print(\"DC\" + str(j+1), \"\\t\", end=\"\")\n",
    "    for i in stores:\n",
    "        if len(str(r[i][j].x)) < 11:\n",
    "            print(int(r[i][j].x), \"\\t\", end=\"\")\n",
    "        else:\n",
    "            print(int(r[i][j].x), \"\", end=\"\")\n",
    "    print(\"\")\n",
    "\"\"\"\n",
    "\n",
    "print(\"DC's scale: \")\n",
    "for j in dcs:\n",
    "    count = 0\n",
    "    print(\"DC\" + str(j+1), \"\\t\", end=\"\")\n",
    "    for i in stores:\n",
    "        count += int(r[i][j].x)\n",
    "    print(count)\n",
    "\n",
    "print(\"z* = \", eg2.ObjVal)"
   ]
  },
  {
   "attachments": {},
   "cell_type": "markdown",
   "metadata": {},
   "source": [
    "#### Model 3: Dual Sourcing"
   ]
  },
  {
   "cell_type": "code",
   "execution_count": 18,
   "metadata": {},
   "outputs": [],
   "source": [
    "eg3 = Model(\"eg3\")\n",
    "\n",
    "#-------- Add variables as a list ---------#\n",
    "# vj = 1 if a DC is built at loc j\n",
    "v = []\n",
    "for j in dcs:\n",
    "    v.append(eg3.addVar(lb=0, vtype = GRB.BINARY, name = \"v\" + str(j+1)))\n",
    "    \n",
    "# sj = the scale level of a DC built at loc j\n",
    "s = []\n",
    "for j in dcs:\n",
    "    s.append(eg3.addVar(lb=0, vtype = GRB.INTEGER, name = \"s\" + str(j+1)))\n",
    "\n",
    "# rij = the amount of products replenished by DCj to store i\n",
    "r = []\n",
    "for i in stores:\n",
    "    r.append([])\n",
    "    for j in dcs:\n",
    "        r[i].append(eg3.addVar(lb = 0, vtype = GRB.INTEGER, name = \"r\" + str(i+1) + str(j+1)))\n",
    "        \n",
    "# zij = 1 if products are replenished by DCj to store i (rij>0)\n",
    "z = []\n",
    "for i in stores:\n",
    "    z.append([])\n",
    "    for j in dcs:\n",
    "        z[i].append(eg3.addVar(lb = 0, vtype = GRB.BINARY, name = \"z\" + str(i+1) + str(j+1)))\n",
    "\n",
    "# Manhattan distancebetween store i and DCj on x-axis\n",
    "wx = []\n",
    "for i in stores:\n",
    "    wx.append([])\n",
    "    for j in dcs:\n",
    "        wx[i].append(eg3.addVar(lb = 0, vtype = GRB.INTEGER, name = \"wx\" + str(i+1) + str(j+1)))\n",
    "# Manhattan distancebetween store i and DCj on y-axis\n",
    "wy = []\n",
    "for i in stores:\n",
    "    wy.append([])\n",
    "    for j in dcs:\n",
    "        wy[i].append(eg3.addVar(lb = 0, vtype = GRB.INTEGER, name = \"wy\" + str(i+1) + str(j+1)))"
   ]
  },
  {
   "attachments": {},
   "cell_type": "markdown",
   "metadata": {},
   "source": [
    "##### Objective Function"
   ]
  },
  {
   "cell_type": "code",
   "execution_count": 19,
   "metadata": {},
   "outputs": [],
   "source": [
    "eg3.setObjective(\n",
    "    quicksum(v[j] * construction_costs[j] for j in dcs) \\\n",
    "    + quicksum(v[j] * s[j] * maintenance_costs[j] for j in dcs) \\\n",
    "    + quicksum(quicksum(S * r[i][j] * (wx[i][j] + wy[i][j]) for j in dcs) for i in stores)\\\n",
    "    ,GRB.MINIMIZE\n",
    ")"
   ]
  },
  {
   "attachments": {},
   "cell_type": "markdown",
   "metadata": {},
   "source": [
    "##### Constraints"
   ]
  },
  {
   "cell_type": "code",
   "execution_count": null,
   "metadata": {},
   "outputs": [],
   "source": [
    "eg3.addConstrs((quicksum(z[i][j] * r[i][j] for j in dcs) == expected_daily_demand[i] for i in stores), \"demand_fulfillment\")\n",
    "eg3.addConstrs((quicksum(z[i][j] for j in dcs) <= 2 for i in stores), \"每間商店都最多只能被2個DC去補\")\n",
    "eg3.addConstrs((quicksum(r[i][j] for i in stores) == s[j] for j in dcs), \"DC scale lv == its total replenishment q\")\n",
    "eg3.addConstrs((s[j] <= v[j] * dc_maxscale[j] for j in dcs), \"DC scale lv <= its max scale lv\")\n",
    "eg3.addConstrs((quicksum(r[i][j] for i in stores) >= 0 for j in dcs), \"replenishment >= 0\")\n",
    "\n",
    "#eg1a.addConstrs((quicksum(r[i][j] for i in stores) <= v[j] * 20000 for j in dcs), \"replenishment amount exists when vj=1\")\n",
    "eg3.addConstrs((wx[i][j] >= dc_xcoord[j] - store_xcoord[i] for i in stores for j in dcs), \"dis(dc-store), x-axis\")\n",
    "eg3.addConstrs((wx[i][j] >= store_xcoord[i] - dc_xcoord[j] for j in dcs for i in stores), \"dis(store-dc), x-axis\")\n",
    "eg3.addConstrs((wy[i][j] >= dc_ycoord[j] - store_ycoord[i] for i in stores for j in dcs), \"dis(dc-store), y-axis\")\n",
    "eg3.addConstrs((wy[i][j] >= store_ycoord[i] - dc_ycoord[j] for j in dcs for i in stores), \"dis(store-dc), y-axis\")"
   ]
  },
  {
   "attachments": {},
   "cell_type": "markdown",
   "metadata": {},
   "source": [
    "##### Optimize"
   ]
  },
  {
   "cell_type": "code",
   "execution_count": null,
   "metadata": {},
   "outputs": [],
   "source": [
    "eg3.optimize()"
   ]
  },
  {
   "attachments": {},
   "cell_type": "markdown",
   "metadata": {},
   "source": [
    "##### Results"
   ]
  },
  {
   "cell_type": "code",
   "execution_count": 22,
   "metadata": {},
   "outputs": [
    {
     "name": "stdout",
     "output_type": "stream",
     "text": [
      "4 Results | Dual sourcing: \n",
      "v1 = 1\n",
      "v2 = 1\n",
      "v3 = 1\n",
      "v4 = 1\n",
      "v5 = 1\n",
      "v6 = 1\n",
      "v7 = 1\n",
      "v8 = 0\n",
      "v9 = 1\n",
      "v10 = 1\n",
      "DC's scale: \n",
      "DC1 \t3123\n",
      "DC2 \t1240\n",
      "DC3 \t910\n",
      "DC4 \t1498\n",
      "DC5 \t1389\n",
      "DC6 \t2592\n",
      "DC7 \t1218\n",
      "DC8 \t0\n",
      "DC9 \t1606\n",
      "DC10 \t1584\n",
      "z* =  486706.0\n"
     ]
    }
   ],
   "source": [
    "print(\"4 Results | Dual sourcing: \")\n",
    "\n",
    "for j in dcs:\n",
    "    print(v[j].varName, '=', int(v[j].x))\n",
    "\n",
    "\"\"\"\n",
    "replenish_plan = []   \n",
    "for j in dcs:\n",
    "    print(\"DC\" + str(j+1), \"\\t\", end=\"\")\n",
    "    for i in stores:\n",
    "        if len(str(r[i][j].x)) < 11:\n",
    "            print(int(r[i][j].x), \"\\t\", end=\"\")\n",
    "        else:\n",
    "            print(int(r[i][j].x), \"\", end=\"\")\n",
    "    print(\"\")\n",
    "\"\"\"\n",
    "\n",
    "print(\"DC's scale: \")\n",
    "for j in dcs:\n",
    "    count = 0\n",
    "    print(\"DC\" + str(j+1), \"\\t\", end=\"\")\n",
    "    for i in stores:\n",
    "        count += int(r[i][j].x)\n",
    "    print(count)\n",
    "\n",
    "print(\"z* = \", eg3.ObjVal)"
   ]
  },
  {
   "attachments": {},
   "cell_type": "markdown",
   "metadata": {},
   "source": [
    "#### Visualization"
   ]
  },
  {
   "cell_type": "code",
   "execution_count": 23,
   "metadata": {},
   "outputs": [
    {
     "data": {
      "application/vnd.jupyter.widget-view+json": {
       "model_id": "54bebe6d896543ad913ec13f128a659a",
       "version_major": 2,
       "version_minor": 0
      },
      "text/plain": [
       "interactive(children=(Dropdown(description='x', options=('Platform', 'Time', 'PhysicalCores', 'LogicalProcesso…"
      ]
     },
     "metadata": {},
     "output_type": "display_data"
    }
   ],
   "source": [
    "glt.plot(results.summary())"
   ]
  }
 ],
 "metadata": {
  "kernelspec": {
   "display_name": "Python 3",
   "language": "python",
   "name": "python3"
  },
  "language_info": {
   "codemirror_mode": {
    "name": "ipython",
    "version": 3
   },
   "file_extension": ".py",
   "mimetype": "text/x-python",
   "name": "python",
   "nbconvert_exporter": "python",
   "pygments_lexer": "ipython3",
   "version": "3.9.2"
  },
  "orig_nbformat": 4
 },
 "nbformat": 4,
 "nbformat_minor": 2
}
