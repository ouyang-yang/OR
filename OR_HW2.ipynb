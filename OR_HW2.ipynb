{
 "cells": [
  {
   "attachments": {},
   "cell_type": "markdown",
   "metadata": {},
   "source": [
    "#### Pre-code process"
   ]
  },
  {
   "attachments": {},
   "cell_type": "markdown",
   "metadata": {},
   "source": [
    "##### Packages"
   ]
  },
  {
   "cell_type": "code",
   "execution_count": 7,
   "metadata": {},
   "outputs": [],
   "source": [
    "from gurobipy import *\n",
    "import pandas as pd\n",
    "import numpy as np\n",
    "import grblogtools as glt"
   ]
  },
  {
   "attachments": {},
   "cell_type": "markdown",
   "metadata": {},
   "source": [
    "##### Read data"
   ]
  },
  {
   "cell_type": "code",
   "execution_count": 8,
   "metadata": {},
   "outputs": [
    {
     "name": "stdout",
     "output_type": "stream",
     "text": [
      "     0    1    2    3    4    5    6    7    8    9    10   11   12   13   14   15   16   17   18   19   20   21   22   23   24   25   26   27   28   29   30   31   32   33   34   35   36   37   38   39   40   41   42   43   44   45   46   47   48   49   50   51   52   53   54   55   56   57   58   59\n",
      "0   220  216  340  266  232  281  277  233  219  233  317  301  228  238  277  223  220  272  307  245  267  240  227  215  217  226  223  240  272  242  223  269  234  217  258  227  289  300  216  328  299  323  236  215  258  273  216  310  260  216  324  233  227  230  215  230  219  221  284  269\n",
      "1    88   78  274  174  115  196  190  117   87  117  245  223  107  126  189   95   87  183  231  140  175  131  105   76   81  102   97  131  182  135   96  178  119   81  161  105  207  222   78  259  221  252  123   75  161  185   77  235  165   78  254  117  105  111   76  110   85   90  201  178\n",
      "2    77   66  271  169  107  191  186  109   76  109  241  219   98  119  185   85   77  178  228  133  170  124   96   64   69   93   87  124  177  128   86  173  111   69  155   96  203  218   66  256  217  249  116   62  155  180   64  231  160   66  251  109   96  103   63  102   74   79  196  173\n",
      "3    68   55  269  165  100  188  182  103   67  103  238  216   91  113  181   77   67  174  225  128  166  118   88   52   58   85   79  118  173  123   78  169  105   59  151   88  199  215   55  253  214  246  110   50  151  176   52  229  155   55  248  103   88   96   51   95   65   70  193  169\n",
      "4    51   30  265  158   89  182  176   92   49   92  234  211   79  103  175   62   50  168  220  120  159  109   76   25   37   72   65  109  167  114   64  162   94   37  144   76  194  210   31  249  209  242  100   21  144  170   26  224  148   30  244   92   76   85   24   84   46   53  187  162\n",
      "5   132  126  292  200  151  219  214  153  132  153  264  244  145  160  214  137  132  208  252  171  201  164  144  125  128  142  138  164  207  167  138  203  154  128  189  144  229  243  126  277  242  271  158  124  189  210  125  255  192  126  273  153  144  149  124  148  131  133  224  203\n",
      "6    83   72  273  171  111  194  188  113   82  113  243  221  103  122  187   90   82  181  230  137  172  127  100   70   75   98   92  127  180  132   91  175  115   76  158  100  205  220   73  257  219  251  120   69  158  183   71  233  162   72  253  113  100  107   70  106   80   85  198  175\n",
      "7   397  395  474  424  403  434  431  404  396  404  458  446  401  407  431  398  397  428  451  411  424  408  401  394  395  400  399  408  428  410  399  426  405  395  419  401  439  446  395  466  446  462  406  394  419  429  394  453  421  395  463  404  401  402  394  402  396  397  436  426\n",
      "8    57   40  266  161   93  184  178   96   56   96  235  213   83  107  177   67   56  170  222  123  162  112   81   37   45   77   70  112  169  117   69  165   98   46  146   81  196  212   41  250  211  243  104   34  146  172   38  226  151   40  245   96   81   89   36   88   53   60  189  165\n",
      "9   126  119  289  196  146  216  211  148  125  148  261  240  140  155  210  131  125  204  248  166  197  159  138  118  121  136  132  159  203  162  131  199  149  121  184  138  226  240  119  274  239  268  153  117  184  206  118  252  188  119  270  148  138  143  118  142  124  127  220  199\n",
      "10  107   99  281  185  130  205  200  132  107  132  252  231  123  140  199  113  107  193  240  153  185  144  121   98  102  119  115  144  192  148  114  188  134  102  172  121  216  230  100  266  230  260  138   97  172  195   98  243  176   99  262  132  121  127   98  126  105  109  210  188\n",
      "11   46   22  264  157   87  181  175   90   44   90  233  210   76  101  174   58   45  167  219  118  158  107   73   15   30   69   61  107  166  112   60  161   92   31  142   73  193  209   23  248  208  241   98    4  142  169   16  223  147   22  243   90   73   82   12   81   41   49  186  161\n",
      "12   75   63  271  168  105  190  185  108   74  108  240  218   96  117  184   83   74  177  227  132  169  122   94   61   66   91   85  122  176  127   84  171  109   67  154   94  202  217   63  255  216  248  114   59  154  179   61  231  158   63  250  108   94  101   60  100   72   77  195  171\n",
      "13  153  148  302  214  170  233  228  172  152  172  275  256  165  178  227  157  153  222  263  188  215  181  163  147  149  161  158  181  221  184  158  217  173  149  204  163  242  255  148  288  254  282  176  146  204  223  147  267  207  148  283  172  163  167  146  167  152  154  236  217\n",
      "14   60   45  267  162   95  185  179   98   59   98  236  214   85  108  178   70   60  171  222  124  163  114   83   41   49   79   72  114  171  119   72  166  100   50  147   83  197  213   45  251  212  244  105   39  147  173   42  226  152   45  246   98   83   91   41   90   57   63  190  166\n",
      "15   91   81  275  175  117  197  192  119   90  119  246  224  109  128  191   97   90  184  232  141  176  132  107   79   84  104   99  132  183  136   98  179  121   84  162  107  208  223   81  260  222  253  125   78  162  186   80  236  166   81  255  119  107  113   79  112   88   92  202  179\n",
      "16  264  261  371  304  274  317  313  275  264  275  349  334  271  279  313  266  264  309  340  286  304  281  270  260  262  269  267  281  308  283  267  306  276  262  296  270  324  334  261  359  333  355  278  260  296  310  260  343  299  261  356  275  270  273  260  272  263  265  320  306\n",
      "17  268  265  373  307  278  320  317  279  268  279  352  337  275  283  316  270  268  312  343  289  308  285  274  264  266  273  271  285  312  287  271  309  280  266  300  274  327  337  265  362  336  357  282  264  300  313  264  346  302  265  359  279  274  276  264  276  267  269  323  309\n",
      "18   80   70  272  170  109  193  187  112   79  112  242  220  101  121  186   88   80  180  229  135  171  126   98   67   72   95   90  126  179  130   89  174  113   73  157   98  204  219   70  257  218  250  118   66  157  181   68  233  161   70  252  112   98  105   67  104   78   82  197  174\n",
      "19  375  373  456  404  382  414  411  383  375  383  439  427  380  385  411  376  375  408  432  390  404  387  379  372  373  378  377  387  407  388  377  405  383  373  398  379  419  427  373  447  426  443  385  372  398  409  372  434  400  373  444  383  379  381  372  381  374  375  416  405\n",
      "(20, 60)\n"
     ]
    }
   ],
   "source": [
    "df = pd.read_csv('OR_hw02_data.csv', header=None)\n",
    "print(df.to_string()) \n",
    "\n",
    "p = 8 # build at most p parks\n",
    "n, m = df.shape\n",
    "print(df.shape) # (m=60, n=20)\n",
    "towns  = range(m)\n",
    "potential_locations = range(n)"
   ]
  },
  {
   "attachments": {},
   "cell_type": "markdown",
   "metadata": {},
   "source": [
    "#### Model"
   ]
  },
  {
   "cell_type": "code",
   "execution_count": 9,
   "metadata": {},
   "outputs": [],
   "source": [
    "eg4d = Model(\"eg4d\")\n",
    "\n",
    "#-------- Add variables as a list ---------#\n",
    "# xj = 1 if a park is built at loc j\n",
    "x = []\n",
    "for j in potential_locations:\n",
    "    x.append(eg4d.addVar(lb=0, vtype = GRB.BINARY, name = \"x\" + str(j+1)))\n",
    "\n",
    "# yij = 1 if the park in location j is the closest one for town i\n",
    "y = []\n",
    "for i in towns:\n",
    "    y.append([])\n",
    "    for j in potential_locations:\n",
    "        y[i].append(eg4d.addVar(lb = 0, vtype = GRB.BINARY, name = \"y\" + str(i+1) + str(j+1)))\n",
    "\n",
    "# dij = the distance between town i and location j\n",
    "d = []\n",
    "for i in towns:\n",
    "    d.append([])\n",
    "    for j in potential_locations:\n",
    "        d[i].append(eg4d.addVar(lb = df.iloc[j, i], vtype = GRB.INTEGER, name = \"d\" + str(i+1) + str(j+1)))\n",
    "        \n",
    "# build at most p parks in potential locations.\n",
    "p = eg4d.addVar(lb = 0, vtype = GRB.INTEGER, name = \"p\")\n",
    "\n",
    "# w = the maximum distance for each people to move to her/his closest park.\n",
    "w = eg4d.addVar(lb = 0, vtype = GRB.INTEGER, name = \"max_distance\")"
   ]
  },
  {
   "attachments": {},
   "cell_type": "markdown",
   "metadata": {},
   "source": [
    "##### Objective Function"
   ]
  },
  {
   "cell_type": "code",
   "execution_count": 10,
   "metadata": {},
   "outputs": [],
   "source": [
    "eg4d.setObjective(w,GRB.MINIMIZE)"
   ]
  },
  {
   "attachments": {},
   "cell_type": "markdown",
   "metadata": {},
   "source": [
    "##### Constraints"
   ]
  },
  {
   "cell_type": "code",
   "execution_count": null,
   "metadata": {},
   "outputs": [],
   "source": [
    "eg4d.addConstrs((quicksum(y[i][j] for j in potential_locations) == 1 for i in towns), \"每個town都有一個最近的park\")\n",
    "eg4d.addConstrs((y[i][j] <= x[j] for i in towns for j in potential_locations), \"要確定那個park有蓋\")\n",
    "eg4d.addConstr((quicksum(x[j] for j in potential_locations) <= p), \"最多蓋p個park\")\n",
    "eg4d.addConstrs((d[i][j] * y[i][j] <= w for i in towns for j in potential_locations), \"每個town到最近的park的最遠距離\")\n",
    "#eg4d.addConstrs((quicksum(d[i][j] * y[i][j] for j in potential_locations) <= w for i in towns), \"每個town到最近的park的最遠距離\")"
   ]
  },
  {
   "attachments": {},
   "cell_type": "markdown",
   "metadata": {},
   "source": [
    "##### Optimize"
   ]
  },
  {
   "cell_type": "code",
   "execution_count": 12,
   "metadata": {},
   "outputs": [
    {
     "name": "stdout",
     "output_type": "stream",
     "text": [
      "Gurobi Optimizer version 10.0.1 build v10.0.1rc0 (win64)\n",
      "\n",
      "CPU model: Intel(R) Core(TM) i5-1035G1 CPU @ 1.00GHz, instruction set [SSE2|AVX|AVX2|AVX512]\n",
      "Thread count: 4 physical cores, 8 logical processors, using up to 8 threads\n",
      "\n",
      "Optimize a model with 1261 rows, 2422 columns and 3621 nonzeros\n",
      "Model fingerprint: 0xfb78fc48\n",
      "Model has 1200 quadratic constraints\n",
      "Variable types: 0 continuous, 2422 integer (1220 binary)\n",
      "Coefficient statistics:\n",
      "  Matrix range     [1e+00, 1e+00]\n",
      "  QMatrix range    [1e+00, 1e+00]\n",
      "  QLMatrix range   [1e+00, 1e+00]\n",
      "  Objective range  [1e+00, 1e+00]\n",
      "  Bounds range     [1e+00, 5e+02]\n",
      "  RHS range        [1e+00, 1e+00]\n",
      "Presolve removed 1201 rows and 21 columns\n",
      "Presolve time: 0.01s\n",
      "Presolved: 3660 rows, 6001 columns, 9600 nonzeros\n",
      "Presolved model has 2400 SOS constraint(s)\n",
      "Variable types: 0 continuous, 6001 integer (2400 binary)\n",
      "Found heuristic solution: objective 456.0000000\n",
      "Found heuristic solution: objective 447.0000000\n",
      "Found heuristic solution: objective 340.0000000\n",
      "Found heuristic solution: objective 272.0000000\n",
      "\n",
      "Root relaxation: objective 0.000000e+00, 2182 iterations, 0.01 seconds (0.00 work units)\n",
      "\n",
      "    Nodes    |    Current Node    |     Objective Bounds      |     Work\n",
      " Expl Unexpl |  Obj  Depth IntInf | Incumbent    BestBd   Gap | It/Node Time\n",
      "\n",
      "     0     0    0.00000    0   60  272.00000    0.00000   100%     -    0s\n",
      "H    0     0                     267.0000000    0.00000   100%     -    0s\n",
      "H    0     0                     265.0000000    0.00000   100%     -    0s\n",
      "H    0     0                     264.0000000    0.00000   100%     -    0s\n",
      "\n",
      "Explored 1 nodes (2182 simplex iterations) in 0.34 seconds (0.09 work units)\n",
      "Thread count was 8 (of 8 available processors)\n",
      "\n",
      "Solution count 7: 264 265 267 ... 456\n",
      "\n",
      "Optimal solution found (tolerance 1.00e-04)\n",
      "Best objective 2.640000000000e+02, best bound 2.640000000000e+02, gap 0.0000%\n",
      "z* =  264.0\n"
     ]
    }
   ],
   "source": [
    "eg4d.optimize()\n",
    "print(\"z* = \", eg4d.ObjVal)"
   ]
  }
 ],
 "metadata": {
  "kernelspec": {
   "display_name": "Python 3",
   "language": "python",
   "name": "python3"
  },
  "language_info": {
   "codemirror_mode": {
    "name": "ipython",
    "version": 3
   },
   "file_extension": ".py",
   "mimetype": "text/x-python",
   "name": "python",
   "nbconvert_exporter": "python",
   "pygments_lexer": "ipython3",
   "version": "3.9.2"
  },
  "orig_nbformat": 4
 },
 "nbformat": 4,
 "nbformat_minor": 2
}
