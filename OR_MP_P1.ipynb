{
 "cells": [
  {
   "cell_type": "code",
   "execution_count": 140,
   "metadata": {},
   "outputs": [],
   "source": [
    "from gurobipy import *\n",
    "import pandas as pd\n",
    "import numpy as np\n",
    "import grblogtools as glt\n",
    "from scipy.spatial.distance import squareform, pdist\n",
    "import datetime\n",
    "import math"
   ]
  },
  {
   "cell_type": "code",
   "execution_count": 158,
   "metadata": {},
   "outputs": [
    {
     "name": "stdout",
     "output_type": "stream",
     "text": [
      "3 Car ID Level Initial station\n",
      "4      1     1               1\n",
      "5      2     2               1\n",
      "6      3     2               2\n",
      "8  Car level Hour rate\n",
      "9          1       200\n",
      "10         2       300\n",
      "  Order ID Level Pick-up station Return station      Pick-up time  \\\n",
      "0        1     1               2              1  2023/01/02 09:00   \n",
      "1        2     1               1              1  2023/01/01 00:30   \n",
      "2        3     1               2              1  2023/01/02 18:00   \n",
      "3        4     2               1              2  2023/01/01 08:30   \n",
      "4        5     2               2              1  2023/01/01 09:30   \n",
      "\n",
      "        Return time       Time span  Time units  Pick-up time (ordinal)  \\\n",
      "0  2023/01/03 12:00 1 days 03:00:00          54                      66   \n",
      "1  2023/01/02 10:30 1 days 10:00:00          68                       1   \n",
      "2  2023/01/03 02:00 0 days 08:00:00          16                      84   \n",
      "3  2023/01/02 14:30 1 days 06:00:00          60                      17   \n",
      "4  2023/01/02 02:30 0 days 17:00:00          34                      19   \n",
      "\n",
      "   Return time (ordinal) Hour rate  \n",
      "0                    120       200  \n",
      "1                     69       200  \n",
      "2                    100       200  \n",
      "3                     77       300  \n",
      "4                     53       300  \n",
      "To    1  2\n",
      "From      \n",
      "1     0  3\n",
      "2     3  0\n"
     ]
    }
   ],
   "source": [
    "df = pd.read_csv('data\\instance01.txt', header=None)\n",
    "n_S = int(df_main['n_S'])\n",
    "n_C = int(df_main['n_C'])\n",
    "n_L = int(df_main['n_L'])\n",
    "n_K = int(df_main['n_K'])\n",
    "n_D = int(df_main['n_D'])\n",
    "n_T = n_D * 48\n",
    "B = int(df_main['B'])//30\n",
    "\n",
    "df_main = df.iloc[:2,:]\n",
    "df_main.columns = df_main.iloc[0]\n",
    "df_main = df_main[1:]\n",
    "\n",
    "df_car =  df.iloc[3:n_C+4,:]\n",
    "df_car.columns = df_car.iloc[0]\n",
    "df_car = df_car.dropna(axis=1)\n",
    "df_car = df_car[1:]\n",
    "print(df_car)\n",
    "\n",
    "df_car_lv = df.iloc[n_C+5:n_C+n_L+6,:]\n",
    "df_car_lv.columns = df_car_lv.iloc[0]\n",
    "df_car_lv = df_car_lv.dropna(axis=1)\n",
    "df_car_lv = df_car_lv[1:]\n",
    "print(df_car_lv)\n",
    "\n",
    "df_order = df.iloc[n_C+n_L+7:n_C+n_L+n_K+8,:]\n",
    "df_order.columns = df_order.iloc[0]\n",
    "df_order = df_order.dropna(axis=1)\n",
    "df_order = df_order[1:]\n",
    "df_order['Time span'] = df_order.apply(lambda row: pd.to_datetime(row['Return time']) - pd.to_datetime(row['Pick-up time']), axis=1)\n",
    "df_order['Time units'] = df_order['Time span'].apply(lambda x: math.ceil(x.total_seconds() / 1800))\n",
    "first_period_start = pd.to_datetime('2023/01/01 00:00')\n",
    "time_unit = pd.Timedelta('30 minutes')\n",
    "df_order['Pick-up time (ordinal)'] = df_order.apply(lambda row: pd.to_datetime(row['Pick-up time']) - first_period_start, axis=1).apply(lambda x: math.ceil(x.total_seconds() / 1800))\n",
    "df_order['Return time (ordinal)'] = df_order.apply(lambda row: pd.to_datetime(row['Return time']) - first_period_start, axis=1).apply(lambda x: math.ceil(x.total_seconds() / 1800))\n",
    "df_order = pd.merge(df_order, df_car_lv, left_on='Level', right_on='Car level', how='left')\n",
    "df_order = df_order.drop(['Car level'], axis=1)\n",
    "print(df_order)\n",
    "\n",
    "df_distance = df.iloc[n_C+n_L+n_K+9:n_C+n_L+n_K+n_S**2+10,:]\n",
    "df_distance.columns = df_distance.iloc[0]\n",
    "df_distance = df_distance.dropna(axis=1)\n",
    "df_distance = df_distance[1:]\n",
    "distance = df_distance.pivot(index='From', columns='To', values='Distance')\n",
    "distance = distance.apply(pd.to_numeric, errors='coerce') // 30\n",
    "\n",
    "print(distance)"
   ]
  },
  {
   "cell_type": "code",
   "execution_count": 163,
   "metadata": {},
   "outputs": [],
   "source": [
    "eg1 = Model(\"eg1\")\n",
    "\n",
    "#-------- Add variables as a list ---------#\n",
    "# zimt = 1 if car m is at station i in period t\n",
    "z = []\n",
    "for i in range(n_S):\n",
    "    z.append([])\n",
    "    for m in range(n_C):\n",
    "        z[i].append([])\n",
    "        for t in range(n_T):\n",
    "            z[i][m].append(eg1.addVar(lb = 0, vtype = GRB.BINARY, name = \"z\" + str(i+1) + str(m+1) + str(t+1)))\n",
    "\n",
    "# xmk = 1 if order k is processed on car m\n",
    "x = []\n",
    "for m in range(n_C):\n",
    "    x.append([])\n",
    "    for k in range(n_K):\n",
    "        x[m].append(eg1.addVar(lb = 0, vtype = GRB.BINARY, name = \"x\" + str(m+1) + str(k+1)))\n",
    "\n",
    "# Rk = revenue of order k\n",
    "R = []\n",
    "for k in range(n_K):\n",
    "    time_units = int(df_order.loc[k, 'Time units'])\n",
    "    hour_rate = int(df_order.loc[k, 'Hour rate'])\n",
    "    R.append(eg1.addVar(lb=time_units*hour_rate, vtype=GRB.INTEGER, name=\"R\" + str(k+1)))\n",
    "\n",
    "# pk = processing time for order k\n",
    "p = []\n",
    "for k in range(n_K):\n",
    "    time_units = int(df_order.loc[k, 'Time units'])\n",
    "    p.append(eg1.addVar(lb=time_units, vtype=GRB.INTEGER, name=\"p\" + str(k+1)))\n",
    "\n",
    "# rtij = rearrangment time to move car from station i to station j\n",
    "rt = []\n",
    "for i in range(n_S):\n",
    "    rt.append([])\n",
    "    for j in range(n_S):\n",
    "        rt[i].append(eg1.addVar(lb=distance.iloc[j, i], vtype=GRB.INTEGER, name=\"rt\" + str(i+1) + str(j+1)))\n",
    "\n",
    "# Ck = completion time of order k\n",
    "C = []\n",
    "for k in range(n_K):\n",
    "    C.append(eg1.addVar(lb=0, vtype = GRB.INTEGER, name = \"C\" + str(k+1)))\n",
    "\n",
    "# Om = latest completion time of orders on car m\n",
    "O = []\n",
    "for m in range(n_C):\n",
    "    O.append(eg1.addVar(lb=0, vtype = GRB.INTEGER, name = \"O\" + str(m+1)))\n",
    "\n"
   ]
  },
  {
   "cell_type": "code",
   "execution_count": 152,
   "metadata": {},
   "outputs": [],
   "source": [
    "eg1.setObjective(\n",
    "    quicksum(R[k] for k in range(n_K))\\\n",
    "    ,GRB.MAXIMIZE\n",
    ")"
   ]
  },
  {
   "cell_type": "code",
   "execution_count": 150,
   "metadata": {},
   "outputs": [
    {
     "data": {
      "text/plain": [
       "{0: <gurobi.Constr *Awaiting Model Update*>,\n",
       " 1: <gurobi.Constr *Awaiting Model Update*>,\n",
       " 2: <gurobi.Constr *Awaiting Model Update*>,\n",
       " 3: <gurobi.Constr *Awaiting Model Update*>,\n",
       " 4: <gurobi.Constr *Awaiting Model Update*>,\n",
       " 5: <gurobi.Constr *Awaiting Model Update*>,\n",
       " 6: <gurobi.Constr *Awaiting Model Update*>,\n",
       " 7: <gurobi.Constr *Awaiting Model Update*>,\n",
       " 8: <gurobi.Constr *Awaiting Model Update*>,\n",
       " 9: <gurobi.Constr *Awaiting Model Update*>}"
      ]
     },
     "execution_count": 150,
     "metadata": {},
     "output_type": "execute_result"
    }
   ],
   "source": [
    "eg1.addConstrs((quicksum(x[m][k] for m in range(n_C)) <= 1 for k in range(n_K)), \"每份order對應到一台車(但也可以不接單)\")\n"
   ]
  },
  {
   "cell_type": "code",
   "execution_count": null,
   "metadata": {},
   "outputs": [],
   "source": []
  }
 ],
 "metadata": {
  "kernelspec": {
   "display_name": "Python 3",
   "language": "python",
   "name": "python3"
  },
  "language_info": {
   "codemirror_mode": {
    "name": "ipython",
    "version": 3
   },
   "file_extension": ".py",
   "mimetype": "text/x-python",
   "name": "python",
   "nbconvert_exporter": "python",
   "pygments_lexer": "ipython3",
   "version": "3.9.2"
  },
  "orig_nbformat": 4
 },
 "nbformat": 4,
 "nbformat_minor": 2
}
