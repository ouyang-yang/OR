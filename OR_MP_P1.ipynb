{
 "cells": [
  {
   "cell_type": "code",
   "execution_count": 69,
   "metadata": {},
   "outputs": [],
   "source": [
    "from gurobipy import *\n",
    "import pandas as pd\n",
    "import numpy as np\n",
    "import grblogtools as glt\n",
    "from scipy.spatial.distance import squareform, pdist"
   ]
  },
  {
   "cell_type": "code",
   "execution_count": 76,
   "metadata": {},
   "outputs": [
    {
     "name": "stdout",
     "output_type": "stream",
     "text": [
      "To      1   10    2    3    4    5    6    7    8    9\n",
      "From                                                  \n",
      "1       0  840  360  360  510  690  510  690  300  540\n",
      "10    840    0  480  540  330  270  450  630  600  480\n",
      "2     360  480    0  660  510  630  810  990  120  840\n",
      "3     360  540  660    0  210  390  210  330  660  240\n",
      "4     510  330  510  210    0  180  300  480  510  330\n",
      "5     690  270  630  390  180    0  180  360  630  210\n",
      "6     510  450  810  210  300  180    0  180  810   30\n",
      "7     690  630  990  330  480  360  180    0  990  150\n",
      "8     300  600  120  660  510  630  810  990    0  840\n",
      "9     540  480  840  240  330  210   30  150  840    0\n"
     ]
    }
   ],
   "source": [
    "df = pd.read_csv('data\\instance05.txt', header=None)\n",
    "\n",
    "df_main = df.iloc[:2,:]\n",
    "df_main.columns = df_main.iloc[0]\n",
    "df_main = df_main[1:]\n",
    "\n",
    "df_car =  df.iloc[3:int(df_main['n_C'])+4,:]\n",
    "df_car.columns = df_car.iloc[0]\n",
    "df_car = df_car.dropna(axis=1)\n",
    "df_car = df_car[1:]\n",
    "\n",
    "df_car_lv = df.iloc[int(df_main['n_C'])+5:int(df_main['n_C'])+int(df_main['n_L'])+6,:]\n",
    "df_car_lv.columns = df_car_lv.iloc[0]\n",
    "df_car_lv = df_car_lv.dropna(axis=1)\n",
    "df_car_lv = df_car_lv[1:]\n",
    "\n",
    "df_order = df.iloc[int(df_main['n_C'])+int(df_main['n_L'])+7:int(df_main['n_C'])+int(df_main['n_L'])+int(df_main['n_K'])+8,:]\n",
    "df_order.columns = df_order.iloc[0]\n",
    "df_order = df_order.dropna(axis=1)\n",
    "df_order = df_order[1:]\n",
    "\n",
    "df_distance = df.iloc[int(df_main['n_C'])+int(df_main['n_L'])+int(df_main['n_K'])+9:int(df_main['n_C'])+int(df_main['n_L'])+int(df_main['n_K'])+int(df_main['n_S'])**2+10,:]\n",
    "df_distance.columns = df_distance.iloc[0]\n",
    "df_distance = df_distance.dropna(axis=1)\n",
    "df_distance = df_distance[1:]\n",
    "distance = df_distance.pivot(index='From', columns='To', values='Distance')\n",
    "print(distance)"
   ]
  },
  {
   "cell_type": "code",
   "execution_count": null,
   "metadata": {},
   "outputs": [],
   "source": []
  }
 ],
 "metadata": {
  "kernelspec": {
   "display_name": "Python 3",
   "language": "python",
   "name": "python3"
  },
  "language_info": {
   "codemirror_mode": {
    "name": "ipython",
    "version": 3
   },
   "file_extension": ".py",
   "mimetype": "text/x-python",
   "name": "python",
   "nbconvert_exporter": "python",
   "pygments_lexer": "ipython3",
   "version": "3.9.2"
  },
  "orig_nbformat": 4
 },
 "nbformat": 4,
 "nbformat_minor": 2
}
