{
 "cells": [
  {
   "cell_type": "code",
   "execution_count": 69,
   "metadata": {},
   "outputs": [],
   "source": [
    "from gurobipy import *\n",
    "import pandas as pd\n",
    "import numpy as np\n",
    "import grblogtools as glt\n",
    "from scipy.spatial.distance import squareform, pdist\n",
    "import datetime\n",
    "import math"
   ]
  },
  {
   "cell_type": "code",
   "execution_count": 97,
   "metadata": {},
   "outputs": [
    {
     "name": "stdout",
     "output_type": "stream",
     "text": [
      "11 Car level Hour rate\n",
      "12         1       100\n",
      "13         2       400\n",
      "15 Order ID Level Pick-up station Return station      Pick-up time  \\\n",
      "16        1     1               1              6  2023/01/04 01:00   \n",
      "17        2     1               4              5  2023/01/01 16:00   \n",
      "18        3     1               5              1  2023/01/02 03:30   \n",
      "19        4     1               1              2  2023/01/03 12:00   \n",
      "20        5     2               6              6  2023/01/01 00:00   \n",
      "21        6     1               3              4  2023/01/04 23:00   \n",
      "22        7     2               2              1  2023/01/02 03:30   \n",
      "23        8     2               6              6  2023/01/05 04:30   \n",
      "24        9     2               3              4  2023/01/01 19:30   \n",
      "25       10     1               4              2  2023/01/01 06:00   \n",
      "\n",
      "15       Return time       Time span  Time units  Pick-up time (ordinal)  \\\n",
      "16  2023/01/04 20:00 0 days 19:00:00          38                     146   \n",
      "17  2023/01/03 00:00 1 days 08:00:00          64                      32   \n",
      "18  2023/01/04 11:30 2 days 08:00:00         112                      55   \n",
      "19  2023/01/05 15:00 2 days 03:00:00         102                     120   \n",
      "20  2023/01/04 20:00 3 days 20:00:00         184                       0   \n",
      "21  2023/01/05 14:00 0 days 15:00:00          30                     190   \n",
      "22  2023/01/04 23:30 2 days 20:00:00         136                      55   \n",
      "23  2023/01/05 14:30 0 days 10:00:00          20                     201   \n",
      "24  2023/01/04 15:30 2 days 20:00:00         136                      39   \n",
      "25  2023/01/05 06:00 4 days 00:00:00         192                      12   \n",
      "\n",
      "15  Return time (ordinal)  \n",
      "16                    184  \n",
      "17                     96  \n",
      "18                    167  \n",
      "19                    222  \n",
      "20                    184  \n",
      "21                    220  \n",
      "22                    191  \n",
      "23                    221  \n",
      "24                    175  \n",
      "25                    204  \n",
      "To     1   2   3   4   5   6\n",
      "From                        \n",
      "1      0   6  15  10  11   9\n",
      "2      6   0  11   8  10  12\n",
      "3     15  11   0   6   7   8\n",
      "4     10   8   6   0   4   5\n",
      "5     11  10   7   4   0   3\n",
      "6      9  12   8   5   3   0\n"
     ]
    }
   ],
   "source": [
    "df = pd.read_csv('data\\instance05.txt', header=None)\n",
    "n_S = int(df_main['n_S'])\n",
    "n_C = int(df_main['n_C'])\n",
    "n_L = int(df_main['n_L'])\n",
    "n_K = int(df_main['n_K'])\n",
    "n_D = int(df_main['n_D'])\n",
    "B = int(df_main['B'])\n",
    "\n",
    "df_main = df.iloc[:2,:]\n",
    "df_main.columns = df_main.iloc[0]\n",
    "df_main = df_main[1:]\n",
    "\n",
    "df_car =  df.iloc[3:n_C+4,:]\n",
    "df_car.columns = df_car.iloc[0]\n",
    "df_car = df_car.dropna(axis=1)\n",
    "df_car = df_car[1:]\n",
    "\n",
    "df_car_lv = df.iloc[n_C+5:n_C+n_L+6,:]\n",
    "df_car_lv.columns = df_car_lv.iloc[0]\n",
    "df_car_lv = df_car_lv.dropna(axis=1)\n",
    "df_car_lv = df_car_lv[1:]\n",
    "print(df_car_lv)\n",
    "\n",
    "df_order = df.iloc[n_C+n_L+7:n_C+n_L+n_K+8,:]\n",
    "df_order.columns = df_order.iloc[0]\n",
    "df_order = df_order.dropna(axis=1)\n",
    "df_order = df_order[1:]\n",
    "df_order['Time span'] = df_order.apply(lambda row: pd.to_datetime(row['Return time']) - pd.to_datetime(row['Pick-up time']), axis=1)\n",
    "df_order['Time units'] = df_order['Time span'].apply(lambda x: math.ceil(x.total_seconds() / 1800))\n",
    "first_period_start = pd.to_datetime('2023/01/01 00:00')\n",
    "time_unit = pd.Timedelta('30 minutes')\n",
    "df_order['Pick-up time (ordinal)'] = df_order.apply(lambda row: pd.to_datetime(row['Pick-up time']) - first_period_start, axis=1).apply(lambda x: math.ceil(x.total_seconds() / 1800))\n",
    "df_order['Return time (ordinal)'] = df_order.apply(lambda row: pd.to_datetime(row['Return time']) - first_period_start, axis=1).apply(lambda x: math.ceil(x.total_seconds() / 1800))\n",
    "print(df_order)\n",
    "\n",
    "df_distance = df.iloc[n_C+n_L+n_K+9:n_C+n_L+n_K+n_S**2+10,:]\n",
    "df_distance.columns = df_distance.iloc[0]\n",
    "df_distance = df_distance.dropna(axis=1)\n",
    "df_distance = df_distance[1:]\n",
    "distance = df_distance.pivot(index='From', columns='To', values='Distance')\n",
    "distance = distance.apply(pd.to_numeric, errors='coerce') // 30\n",
    "\n",
    "print(distance)"
   ]
  },
  {
   "cell_type": "code",
   "execution_count": null,
   "metadata": {},
   "outputs": [],
   "source": [
    "eg1 = Model(\"eg1\")\n",
    "\n",
    "#-------- Add variables as a list ---------#\n",
    "# xmk = 1 if order k is processed on car m\n",
    "x = []\n",
    "for m in n_C:\n",
    "    x.append([])\n",
    "    for k in n_K:\n",
    "        x[i].append(eg1.addVar(lb = 0, vtype = GRB.BINARY, name = \"x\" + str(m+1) + str(k+1)))\n",
    "\n",
    "# Om = latest completion time of orders on car m\n",
    "O = []\n",
    "for m in n_C:\n",
    "    O.append(eg1.addVar(lb=0, vtype = INTEGER, name = \"O\" + str(m+1)))\n",
    "\n",
    "B = eg1.addVar(lb = 0, vtype = GRB.INTEGER, name = \"max_rearrangement time\")\n"
   ]
  },
  {
   "cell_type": "code",
   "execution_count": null,
   "metadata": {},
   "outputs": [],
   "source": [
    "eg1.setObjective(\n",
    "    quicksum(R[k] for k in n_K)\\\n",
    "    ,GRB.MAXIMIZE\n",
    ")"
   ]
  },
  {
   "cell_type": "code",
   "execution_count": null,
   "metadata": {},
   "outputs": [],
   "source": []
  }
 ],
 "metadata": {
  "kernelspec": {
   "display_name": "Python 3",
   "language": "python",
   "name": "python3"
  },
  "language_info": {
   "codemirror_mode": {
    "name": "ipython",
    "version": 3
   },
   "file_extension": ".py",
   "mimetype": "text/x-python",
   "name": "python",
   "nbconvert_exporter": "python",
   "pygments_lexer": "ipython3",
   "version": "3.9.2"
  },
  "orig_nbformat": 4
 },
 "nbformat": 4,
 "nbformat_minor": 2
}
