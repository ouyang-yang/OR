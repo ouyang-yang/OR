{
  "cells": [
    {
      "cell_type": "code",
      "execution_count": 1,
      "metadata": {
        "colab": {
          "base_uri": "https://localhost:8080/"
        },
        "id": "rZbCJuabNqpW",
        "outputId": "76a6287a-0c10-4749-9087-a389b12668a3"
      },
      "outputs": [
        {
          "name": "stdout",
          "output_type": "stream",
          "text": [
            "Looking in indexes: https://pypi.org/simple, https://us-python.pkg.dev/colab-wheels/public/simple/\n",
            "Collecting gurobipy\n",
            "  Downloading gurobipy-10.0.1-cp39-cp39-manylinux2014_x86_64.whl (12.8 MB)\n",
            "\u001b[2K     \u001b[90m━━━━━━━━━━━━━━━━━━━━━━━━━━━━━━━━━━━━━━━━\u001b[0m \u001b[32m12.8/12.8 MB\u001b[0m \u001b[31m72.7 MB/s\u001b[0m eta \u001b[36m0:00:00\u001b[0m\n",
            "\u001b[?25hInstalling collected packages: gurobipy\n",
            "Successfully installed gurobipy-10.0.1\n"
          ]
        }
      ],
      "source": [
        "import gurobipy as gp  # import the installed package\n",
        "import csv"
      ]
    },
    {
      "cell_type": "code",
      "execution_count": 2,
      "metadata": {
        "colab": {
          "base_uri": "https://localhost:8080/"
        },
        "id": "XZ3pi9GXN1o1",
        "outputId": "ac1e1d38-8c7a-4341-af0a-d0eaf0af2f48"
      },
      "outputs": [
        {
          "name": "stdout",
          "output_type": "stream",
          "text": [
            "Set parameter WLSAccessID\n",
            "Set parameter WLSSecret\n",
            "Set parameter LicenseID to value 961362\n",
            "Academic license - for non-commercial use only - registered to b08607017@g.ntu.edu.tw\n"
          ]
        }
      ],
      "source": [
        "# Create the model within the Gurobi environment\n",
        "model = gp.Model(env=env)"
      ]
    },
    {
      "cell_type": "code",
      "execution_count": 9,
      "metadata": {
        "id": "gASFNFQBOSXr"
      },
      "outputs": [],
      "source": [
        "# Set parameters\n",
        "I = range(60)\n",
        "J = range(20)\n",
        "P = 8\n",
        "D = []\n",
        "\n",
        "# 開啟 CSV 檔案\n",
        "with open('/content/OR111-2_hw02_data.csv', newline='', encoding=\"utf-8-sig\") as csvfile:\n",
        "\n",
        "  # 讀取 CSV 檔案內容\n",
        "  rows = csv.reader(csvfile)\n",
        "\n",
        "  # 以迴圈輸出每一列\n",
        "  for row in rows:\n",
        "    _ = [ int(i) for i in row]\n",
        "    D.append(_)"
      ]
    },
    {
      "cell_type": "code",
      "execution_count": 10,
      "metadata": {
        "id": "pjleMn7JOilx"
      },
      "outputs": [],
      "source": [
        "# decision variables\n",
        "x = model.addVars(J, lb = 0, vtype = gp.GRB.BINARY, name = 'x')\n",
        "y = model.addVars(I, J, lb = 0, vtype = gp.GRB.CONTINUOUS, name = 'y')\n",
        "w = model.addVar(vtype = gp.GRB.CONTINUOUS, name = 'w')"
      ]
    },
    {
      "cell_type": "code",
      "execution_count": 11,
      "metadata": {
        "colab": {
          "base_uri": "https://localhost:8080/"
        },
        "id": "As0HoILuOw42",
        "outputId": "4386d590-0efc-4eaa-ce85-a4b4f08a91ff"
      },
      "outputs": [
        {
          "name": "stdout",
          "output_type": "stream",
          "text": [
            "Gurobi Optimizer version 10.0.1 build v10.0.1rc0 (linux64)\n",
            "\n",
            "CPU model: Intel(R) Xeon(R) CPU @ 2.20GHz, instruction set [SSE2|AVX|AVX2]\n",
            "Thread count: 1 physical cores, 2 logical processors, using up to 2 threads\n",
            "\n",
            "Academic license - for non-commercial use only - registered to b08607017@g.ntu.edu.tw\n",
            "Optimize a model with 2521 rows, 1221 columns and 6080 nonzeros\n",
            "Model fingerprint: 0x907b547f\n",
            "Variable types: 1201 continuous, 20 integer (20 binary)\n",
            "Coefficient statistics:\n",
            "  Matrix range     [1e+00, 5e+02]\n",
            "  Objective range  [1e+00, 1e+00]\n",
            "  Bounds range     [1e+00, 1e+00]\n",
            "  RHS range        [1e+00, 8e+00]\n",
            "Presolve removed 1376 rows and 160 columns\n",
            "Presolve time: 0.03s\n",
            "Presolved: 1145 rows, 1061 columns, 4180 nonzeros\n",
            "Variable types: 1041 continuous, 20 integer (20 binary)\n",
            "Found heuristic solution: objective 265.0000000\n",
            "Found heuristic solution: objective 264.0000000\n",
            "\n",
            "Explored 0 nodes (0 simplex iterations) in 0.06 seconds (0.01 work units)\n",
            "Thread count was 2 (of 2 available processors)\n",
            "\n",
            "Solution count 2: 264 265 \n",
            "\n",
            "Optimal solution found (tolerance 1.00e-04)\n",
            "Best objective 2.640000000000e+02, best bound 2.640000000000e+02, gap 0.0000%\n",
            "objective value = 264.0\n"
          ]
        }
      ],
      "source": [
        "# objective function\n",
        "model.setObjective(w, gp.GRB.MINIMIZE)\n",
        "\n",
        "# constraints\n",
        "model.addConstrs(gp.quicksum(y[i, j] for j in J) == 1 for i in I)\n",
        "model.addConstrs(y[i, j] <= x[j] for i in I for j in J)\n",
        "model.addConstr(gp.quicksum(x[j] for j in J) <= P)\n",
        "model.addConstrs(w >= gp.quicksum(y[i, j] * D[j][i] for j in J) for i in I)\n",
        "model.addConstrs(y[i, j] <= 1 for i in I for j in J)\n",
        "\n",
        "\n",
        "model.optimize()\n",
        "\n",
        "print('objective value =', model.objVal)"
      ]
    }
  ],
  "metadata": {
    "colab": {
      "provenance": []
    },
    "kernelspec": {
      "display_name": "Python 3",
      "name": "python3"
    },
    "language_info": {
      "name": "python"
    }
  },
  "nbformat": 4,
  "nbformat_minor": 0
}
