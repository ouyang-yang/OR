{
 "cells": [
  {
   "cell_type": "code",
   "execution_count": 21,
   "metadata": {},
   "outputs": [
    {
     "name": "stdout",
     "output_type": "stream",
     "text": [
      "d: 0\n",
      "3\n",
      "4\n",
      "5\n"
     ]
    }
   ],
   "source": [
    "n = int(input())\n",
    "a = list(map(int, input().split()))\n",
    "a.sort()\n",
    "\n",
    "lst = []\n",
    "b=0\n",
    "c=0\n",
    "for i in range(1, n):\n",
    "    lst.append(a[i]-a[i-1])\n",
    "for i in range(1, n):  \n",
    "    b+=i\n",
    "    \n",
    "total = a[n-1]-a[0]\n",
    "if(n%2==0):\n",
    "    c=int(total/n)\n",
    "else:\n",
    "    c=total/n\n",
    "\n",
    "if(n%2==0):\n",
    "    d = int((total-((n/2)-1)*c)/b)\n",
    "else:\n",
    "    d = int((total-(int(n/2))*c)/b)\n",
    "print(\"d:\",d)\n",
    "for i in range(1, n-1):\n",
    "    if (lst[i]-lst[i-1] != d):\n",
    "        print(i+2)"
   ]
  },
  {
   "cell_type": "code",
   "execution_count": 17,
   "metadata": {},
   "outputs": [
    {
     "name": "stdout",
     "output_type": "stream",
     "text": [
      "[3, 3, 4, 5]\n"
     ]
    }
   ],
   "source": [
    "from math import gcd\n",
    "def cleanMult(A):\n",
    "    divisors = []\n",
    "    for d in (1,-1):\n",
    "        seen = 1\n",
    "        for a in A[::d]:\n",
    "            if seen%a: seen = a*seen//gcd(a,seen)\n",
    "            else:      divisors.append(a)                    \n",
    "    return [a for a in A if all(d==a or a%d for d in divisors)]\n",
    "print(cleanMult(lst))"
   ]
  },
  {
   "cell_type": "code",
   "execution_count": null,
   "metadata": {},
   "outputs": [],
   "source": []
  }
 ],
 "metadata": {
  "kernelspec": {
   "display_name": "Python 3",
   "language": "python",
   "name": "python3"
  },
  "language_info": {
   "codemirror_mode": {
    "name": "ipython",
    "version": 3
   },
   "file_extension": ".py",
   "mimetype": "text/x-python",
   "name": "python",
   "nbconvert_exporter": "python",
   "pygments_lexer": "ipython3",
   "version": "3.9.2"
  },
  "orig_nbformat": 4
 },
 "nbformat": 4,
 "nbformat_minor": 2
}
