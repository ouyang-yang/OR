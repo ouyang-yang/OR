{
 "cells": [
  {
   "cell_type": "code",
   "execution_count": 8,
   "metadata": {},
   "outputs": [],
   "source": [
    "from gurobipy import *"
   ]
  },
  {
   "cell_type": "code",
   "execution_count": 9,
   "metadata": {},
   "outputs": [],
   "source": [
    "# build a new model , name it as \" eg1 \"\n",
    "eg1 = Model (\"eg1\")\n",
    "x1 = eg1 . addVar ( lb = 0, vtype = GRB . CONTINUOUS , name = \"x1\")\n",
    "x2 = eg1 . addVar ( lb = 0, vtype = GRB . CONTINUOUS , name = \"x2\")"
   ]
  },
  {
   "cell_type": "code",
   "execution_count": 10,
   "metadata": {},
   "outputs": [
    {
     "data": {
      "text/plain": [
       "<gurobi.Constr *Awaiting Model Update*>"
      ]
     },
     "execution_count": 10,
     "metadata": {},
     "output_type": "execute_result"
    }
   ],
   "source": [
    "# setting the objective function\n",
    "# use GRB. MAXIMIZE for a maximization problem\n",
    "eg1 . setObjective (700 * x1 + 900 * x2 , GRB . MAXIMIZE )\n",
    "\n",
    "# add constraints and name them\n",
    "eg1 . addConstr (3 * x1 + 5 * x2 <= 3600 , \" resource_wood \")\n",
    "eg1 . addConstr ( x1 + 2 * x2 <= 1600 , \" resource_labor \")\n",
    "eg1 . addConstr (50 * x1 + 20 * x2 <= 48000 , \" resource_machine \")"
   ]
  },
  {
   "cell_type": "code",
   "execution_count": 11,
   "metadata": {},
   "outputs": [
    {
     "name": "stdout",
     "output_type": "stream",
     "text": [
      "Gurobi Optimizer version 10.0.1 build v10.0.1rc0 (win64)\n",
      "\n",
      "CPU model: Intel(R) Core(TM) i5-1035G1 CPU @ 1.00GHz, instruction set [SSE2|AVX|AVX2|AVX512]\n",
      "Thread count: 4 physical cores, 8 logical processors, using up to 8 threads\n",
      "\n",
      "Optimize a model with 3 rows, 2 columns and 6 nonzeros\n",
      "Model fingerprint: 0xfc16a329\n",
      "Coefficient statistics:\n",
      "  Matrix range     [1e+00, 5e+01]\n",
      "  Objective range  [7e+02, 9e+02]\n",
      "  Bounds range     [0e+00, 0e+00]\n",
      "  RHS range        [2e+03, 5e+04]\n",
      "Presolve time: 0.01s\n",
      "Presolved: 3 rows, 2 columns, 6 nonzeros\n",
      "\n",
      "Iteration    Objective       Primal Inf.    Dual Inf.      Time\n",
      "       0    2.0000000e+32   3.593750e+30   2.000000e+02      0s\n",
      "       3    7.8947368e+05   0.000000e+00   0.000000e+00      0s\n",
      "\n",
      "Solved in 3 iterations and 0.01 seconds (0.00 work units)\n",
      "Optimal objective  7.894736842e+05\n"
     ]
    }
   ],
   "source": [
    "eg1 . optimize ()"
   ]
  },
  {
   "cell_type": "code",
   "execution_count": 14,
   "metadata": {},
   "outputs": [
    {
     "name": "stdout",
     "output_type": "stream",
     "text": [
      "x1 = 884.2105263157895\n",
      " objective value = 789473.6842105263\n",
      "x2 = 189.47368421052633\n",
      " objective value = 789473.6842105263\n"
     ]
    }
   ],
   "source": [
    "for var in eg1 . getVars () :\n",
    "    print ( var . varName , '=', var .x)\n",
    "    print (\" objective value =\", eg1 . objVal )\n"
   ]
  },
  {
   "cell_type": "code",
   "execution_count": 16,
   "metadata": {},
   "outputs": [
    {
     "name": "stdout",
     "output_type": "stream",
     "text": [
      "Gurobi Optimizer version 10.0.1 build v10.0.1rc0 (win64)\n",
      "\n",
      "CPU model: Intel(R) Core(TM) i5-1035G1 CPU @ 1.00GHz, instruction set [SSE2|AVX|AVX2|AVX512]\n",
      "Thread count: 4 physical cores, 8 logical processors, using up to 8 threads\n",
      "\n",
      "Optimize a model with 3 rows, 2 columns and 6 nonzeros\n",
      "Model fingerprint: 0xfc16a329\n",
      "Coefficient statistics:\n",
      "  Matrix range     [1e+00, 5e+01]\n",
      "  Objective range  [7e+02, 9e+02]\n",
      "  Bounds range     [0e+00, 0e+00]\n",
      "  RHS range        [2e+03, 5e+04]\n",
      "Presolve time: 0.01s\n",
      "Presolved: 3 rows, 2 columns, 6 nonzeros\n",
      "\n",
      "Iteration    Objective       Primal Inf.    Dual Inf.      Time\n",
      "       0    2.0000000e+32   3.593750e+30   2.000000e+02      0s\n",
      "       3    7.8947368e+05   0.000000e+00   0.000000e+00      0s\n",
      "\n",
      "Solved in 3 iterations and 0.01 seconds (0.00 work units)\n",
      "Optimal objective  7.894736842e+05\n",
      "x0 = 884.2105263157895\n",
      "objective value =  789473.6842105263\n",
      "x1 = 189.47368421052633\n",
      "objective value =  789473.6842105263\n"
     ]
    }
   ],
   "source": [
    "products = range (2) # 2 products\n",
    "resources = range (3) # 3 resources\n",
    "\n",
    "prices = [700 , 900]\n",
    "resource_consumptions = [[3 , 5 ],[1 , 2 ],[50 , 20]]\n",
    "resource_limitations = [3600 , 1600 , 48000]\n",
    "\n",
    "eg1_de = Model(\" eg1_decoupling \")\n",
    "x = []\n",
    "for i in products:\n",
    "    x.append(eg1_de.addVar( lb = 0, vtype = GRB.CONTINUOUS, name = 'x' + str (i)))\n",
    "\n",
    "eg1_de.setObjective(quicksum(prices[i] * x[i] for i in products), GRB.MAXIMIZE )\n",
    "eg1_de.addConstrs((quicksum(resource_consumptions [j][i] * x[i] for i in products) <= resource_limitations [j] for j in resources ), \"Resource_limitation\")\n",
    "\n",
    "eg1_de.optimize()\n",
    "for var in eg1_de.getVars ():\n",
    "    print(var.varName , '=', var .x)\n",
    "    print(\"objective value = \", eg1_de . objVal )\n"
   ]
  }
 ],
 "metadata": {
  "kernelspec": {
   "display_name": "Python 3",
   "language": "python",
   "name": "python3"
  },
  "language_info": {
   "codemirror_mode": {
    "name": "ipython",
    "version": 3
   },
   "file_extension": ".py",
   "mimetype": "text/x-python",
   "name": "python",
   "nbconvert_exporter": "python",
   "pygments_lexer": "ipython3",
   "version": "3.9.2 (tags/v3.9.2:1a79785, Feb 19 2021, 13:44:55) [MSC v.1928 64 bit (AMD64)]"
  },
  "orig_nbformat": 4,
  "vscode": {
   "interpreter": {
    "hash": "763f68cfa77970155ad89d3b4c80e7422a8146a69ef8ea19132efe5c9f58c579"
   }
  }
 },
 "nbformat": 4,
 "nbformat_minor": 2
}
