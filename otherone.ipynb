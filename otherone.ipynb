{
 "cells": [
  {
   "cell_type": "code",
   "execution_count": 1,
   "metadata": {},
   "outputs": [],
   "source": [
    "import pandas as pd\n",
    "import matplotlib.pyplot as plt"
   ]
  },
  {
   "cell_type": "code",
   "execution_count": 2,
   "metadata": {},
   "outputs": [
    {
     "name": "stdout",
     "output_type": "stream",
     "text": [
      "{'HW0': 509545, 'HW1': 22666983, 'HW2': 2892506, 'HW3': 7540248, 'HW4': 18124421, 'HW5': 11178457, 'HW6': 12861056}\n"
     ]
    }
   ],
   "source": [
    "df = pd.read_csv('submission_complete.csv', encoding='ISO-8859-1')\n",
    "\n",
    "dfdict = {'HW0': 0, 'HW1': 0, 'HW2': 0, 'HW3': 0, 'HW4': 0, 'HW5': 0, 'HW6': 0}\n",
    "for _, row in df.iterrows():\n",
    "    hw_title = row['challenge_title']\n",
    "    if hw_title in dfdict:\n",
    "        dfdict[hw_title] += int(row['submission_code_length'])\n",
    "\n",
    "print(dfdict)"
   ]
  },
  {
   "cell_type": "code",
   "execution_count": 4,
   "metadata": {},
   "outputs": [
    {
     "data": {
      "image/png": "[encoded data removed]",
      "text/plain": [
       "<Figure size 432x288 with 1 Axes>"
      ]
     },
     "metadata": {
      "needs_background": "light"
     },
     "output_type": "display_data"
    }
   ],
   "source": [
    "labels = list(dfdict.keys())\n",
    "values = list(dfdict.values())\n",
    "\n",
    "x_pos = range(len(labels))\n",
    "\n",
    "plt.bar(x_pos, values)\n",
    "plt.xlabel('Challenge')\n",
    "plt.ylabel('Submission Code Length')\n",
    "plt.title('Submission Code Length by Challenge')\n",
    "plt.xticks(x_pos, labels)  # Set x-axis tick positions and labels\n",
    "plt.show()"
   ]
  }
 ],
 "metadata": {
  "kernelspec": {
   "display_name": "Python 3",
   "language": "python",
   "name": "python3"
  },
  "language_info": {
   "codemirror_mode": {
    "name": "ipython",
    "version": 3
   },
   "file_extension": ".py",
   "mimetype": "text/x-python",
   "name": "python",
   "nbconvert_exporter": "python",
   "pygments_lexer": "ipython3",
   "version": "3.9.2"
  },
  "orig_nbformat": 4
 },
 "nbformat": 4,
 "nbformat_minor": 2
}
